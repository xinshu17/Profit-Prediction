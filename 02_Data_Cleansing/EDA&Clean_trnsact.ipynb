{
 "cells": [
  {
   "cell_type": "markdown",
   "metadata": {},
   "source": [
    "# MSiA 400 - Final Project\n",
    "## INITITAL EDA: TRNSACT Table\n",
    "### Team 12: Alejandra Lelo de Larrea Ibarra, Xin Shu, Yi Chen, Yiqing Chen\n",
    "\n",
    "This file shows our EDA for the SKUINFO & DEPTINFO tables on the original dataset (i.e. before cleaning).\n",
    "\n",
    "NOTE: To upload the data into Postgress database, we did some cleanning directly on the terminal. See *Clean_SKUINFO_TRNSACT* file for the corresponding code."
   ]
  },
  {
   "cell_type": "code",
   "execution_count": 1,
   "metadata": {},
   "outputs": [],
   "source": [
    "import pandas as pd\n",
    "import psycopg2\n",
    "from psycopg2 import Error\n",
    "import numpy as np\n",
    "import matplotlib.pyplot as plt\n",
    "from matplotlib.pyplot import figure\n",
    "import seaborn as sns"
   ]
  },
  {
   "cell_type": "code",
   "execution_count": 2,
   "metadata": {},
   "outputs": [],
   "source": [
    "# --- Variables on File---\n",
    "\n",
    "# Connection to db \n",
    "USER = \"YOUR USER HERE\"\n",
    "PSWD = \"YOUR PASSWORD HERE\"\n",
    "HOST = \"pg.analytics.northwestern.edu\"\n",
    "PORT = \"5432\"\n",
    "DB_NAME = \"2022-everything-team12\""
   ]
  },
  {
   "cell_type": "markdown",
   "metadata": {},
   "source": [
    "### Connect to database"
   ]
  },
  {
   "cell_type": "code",
   "execution_count": 3,
   "metadata": {},
   "outputs": [
    {
     "name": "stdout",
     "output_type": "stream",
     "text": [
      "You are connected to -  ('PostgreSQL 10.12 on x86_64-pc-linux-gnu, compiled by gcc (GCC) 4.8.5 20150623 (Red Hat 4.8.5-39), 64-bit',) \n",
      "\n"
     ]
    }
   ],
   "source": [
    "# Connect to postgress database\n",
    "try:\n",
    "    # Connect to an existing database\n",
    "    connection = psycopg2.connect(user = USER,\n",
    "                                  password = PSWD,\n",
    "                                  host = HOST,\n",
    "                                  port = PORT,\n",
    "                                  database = DB_NAME)\n",
    "\n",
    "    # Create a cursor to perform database operations\n",
    "    cursor = connection.cursor()\n",
    "    \n",
    "    # Print PostgreSQL details\n",
    "    cursor.execute(\"SELECT version();\")\n",
    "    \n",
    "    # Fetch result\n",
    "    record = cursor.fetchone()\n",
    "    \n",
    "    # Print succesfull connection\n",
    "    print(\"You are connected to - \", record, \"\\n\")\n",
    "    \n",
    "except (Exception, Error) as error:\n",
    "    # Print error conecting to ostgres\n",
    "    print(\"Error while connecting to PostgreSQL\", error)"
   ]
  },
  {
   "cell_type": "markdown",
   "metadata": {},
   "source": [
    "The trnsact database has 120,916,889 of observations. Thus, to do the EDA on this data we will extract 10,000,000 observations randomly. "
   ]
  },
  {
   "cell_type": "code",
   "execution_count": 4,
   "metadata": {},
   "outputs": [
    {
     "name": "stderr",
     "output_type": "stream",
     "text": [
      "/Users/alelli/opt/anaconda3/lib/python3.9/site-packages/pandas/io/sql.py:761: UserWarning: pandas only support SQLAlchemy connectable(engine/connection) ordatabase string URI or sqlite3 DBAPI2 connectionother DBAPI2 objects are not tested, please consider using SQLAlchemy\n",
      "  warnings.warn(\n"
     ]
    },
    {
     "data": {
      "text/html": [
       "<div>\n",
       "<style scoped>\n",
       "    .dataframe tbody tr th:only-of-type {\n",
       "        vertical-align: middle;\n",
       "    }\n",
       "\n",
       "    .dataframe tbody tr th {\n",
       "        vertical-align: top;\n",
       "    }\n",
       "\n",
       "    .dataframe thead th {\n",
       "        text-align: right;\n",
       "    }\n",
       "</style>\n",
       "<table border=\"1\" class=\"dataframe\">\n",
       "  <thead>\n",
       "    <tr style=\"text-align: right;\">\n",
       "      <th></th>\n",
       "      <th>SKU</th>\n",
       "      <th>STORE</th>\n",
       "      <th>REGISTER</th>\n",
       "      <th>TRANNUM</th>\n",
       "      <th>SEQ</th>\n",
       "      <th>SALEDATE</th>\n",
       "      <th>STYPE</th>\n",
       "      <th>QUANTITY</th>\n",
       "      <th>ORIGPRICE</th>\n",
       "      <th>AMT</th>\n",
       "      <th>INTID</th>\n",
       "      <th>MIC</th>\n",
       "      <th>EXTRACOL</th>\n",
       "    </tr>\n",
       "  </thead>\n",
       "  <tbody>\n",
       "    <tr>\n",
       "      <th>0</th>\n",
       "      <td>2366897</td>\n",
       "      <td>2207</td>\n",
       "      <td>840</td>\n",
       "      <td>03500</td>\n",
       "      <td>0</td>\n",
       "      <td>2005-04-02</td>\n",
       "      <td>P</td>\n",
       "      <td>1</td>\n",
       "      <td>18.50</td>\n",
       "      <td>18.50</td>\n",
       "      <td>763100052</td>\n",
       "      <td>281</td>\n",
       "      <td>0</td>\n",
       "    </tr>\n",
       "    <tr>\n",
       "      <th>1</th>\n",
       "      <td>5679400</td>\n",
       "      <td>4803</td>\n",
       "      <td>340</td>\n",
       "      <td>02500</td>\n",
       "      <td>0</td>\n",
       "      <td>2005-07-08</td>\n",
       "      <td>P</td>\n",
       "      <td>1</td>\n",
       "      <td>65.00</td>\n",
       "      <td>39.99</td>\n",
       "      <td>610500091</td>\n",
       "      <td>205</td>\n",
       "      <td>0</td>\n",
       "    </tr>\n",
       "    <tr>\n",
       "      <th>2</th>\n",
       "      <td>9026638</td>\n",
       "      <td>3307</td>\n",
       "      <td>450</td>\n",
       "      <td>02200</td>\n",
       "      <td>741904644</td>\n",
       "      <td>2004-10-02</td>\n",
       "      <td>P</td>\n",
       "      <td>1</td>\n",
       "      <td>22.00</td>\n",
       "      <td>22.00</td>\n",
       "      <td>819700285</td>\n",
       "      <td>025</td>\n",
       "      <td>0</td>\n",
       "    </tr>\n",
       "    <tr>\n",
       "      <th>3</th>\n",
       "      <td>1439165</td>\n",
       "      <td>9103</td>\n",
       "      <td>571</td>\n",
       "      <td>05400</td>\n",
       "      <td>762005701</td>\n",
       "      <td>2005-08-25</td>\n",
       "      <td>P</td>\n",
       "      <td>1</td>\n",
       "      <td>78.00</td>\n",
       "      <td>27.30</td>\n",
       "      <td>349500126</td>\n",
       "      <td>386</td>\n",
       "      <td>0</td>\n",
       "    </tr>\n",
       "    <tr>\n",
       "      <th>4</th>\n",
       "      <td>7449</td>\n",
       "      <td>3704</td>\n",
       "      <td>350</td>\n",
       "      <td>00900</td>\n",
       "      <td>0</td>\n",
       "      <td>2005-03-15</td>\n",
       "      <td>P</td>\n",
       "      <td>1</td>\n",
       "      <td>17.99</td>\n",
       "      <td>4.50</td>\n",
       "      <td>316300049</td>\n",
       "      <td>035</td>\n",
       "      <td>0</td>\n",
       "    </tr>\n",
       "    <tr>\n",
       "      <th>...</th>\n",
       "      <td>...</td>\n",
       "      <td>...</td>\n",
       "      <td>...</td>\n",
       "      <td>...</td>\n",
       "      <td>...</td>\n",
       "      <td>...</td>\n",
       "      <td>...</td>\n",
       "      <td>...</td>\n",
       "      <td>...</td>\n",
       "      <td>...</td>\n",
       "      <td>...</td>\n",
       "      <td>...</td>\n",
       "      <td>...</td>\n",
       "    </tr>\n",
       "    <tr>\n",
       "      <th>9999995</th>\n",
       "      <td>3681414</td>\n",
       "      <td>7603</td>\n",
       "      <td>430</td>\n",
       "      <td>00500</td>\n",
       "      <td>0</td>\n",
       "      <td>2005-08-07</td>\n",
       "      <td>P</td>\n",
       "      <td>1</td>\n",
       "      <td>5.00</td>\n",
       "      <td>5.00</td>\n",
       "      <td>303900014</td>\n",
       "      <td>452</td>\n",
       "      <td>0</td>\n",
       "    </tr>\n",
       "    <tr>\n",
       "      <th>9999996</th>\n",
       "      <td>8961313</td>\n",
       "      <td>8302</td>\n",
       "      <td>750</td>\n",
       "      <td>19700</td>\n",
       "      <td>0</td>\n",
       "      <td>2005-02-25</td>\n",
       "      <td>P</td>\n",
       "      <td>1</td>\n",
       "      <td>24.00</td>\n",
       "      <td>2.99</td>\n",
       "      <td>968100020</td>\n",
       "      <td>542</td>\n",
       "      <td>0</td>\n",
       "    </tr>\n",
       "    <tr>\n",
       "      <th>9999997</th>\n",
       "      <td>2313514</td>\n",
       "      <td>1302</td>\n",
       "      <td>390</td>\n",
       "      <td>01000</td>\n",
       "      <td>0</td>\n",
       "      <td>2005-05-17</td>\n",
       "      <td>P</td>\n",
       "      <td>1</td>\n",
       "      <td>16.00</td>\n",
       "      <td>16.00</td>\n",
       "      <td>948300011</td>\n",
       "      <td>643</td>\n",
       "      <td>0</td>\n",
       "    </tr>\n",
       "    <tr>\n",
       "      <th>9999998</th>\n",
       "      <td>8109699</td>\n",
       "      <td>1009</td>\n",
       "      <td>310</td>\n",
       "      <td>01700</td>\n",
       "      <td>46308651</td>\n",
       "      <td>2005-04-07</td>\n",
       "      <td>P</td>\n",
       "      <td>1</td>\n",
       "      <td>59.00</td>\n",
       "      <td>59.00</td>\n",
       "      <td>468800072</td>\n",
       "      <td>400</td>\n",
       "      <td>0</td>\n",
       "    </tr>\n",
       "    <tr>\n",
       "      <th>9999999</th>\n",
       "      <td>692316</td>\n",
       "      <td>8603</td>\n",
       "      <td>200</td>\n",
       "      <td>08000</td>\n",
       "      <td>26707388</td>\n",
       "      <td>2005-07-29</td>\n",
       "      <td>P</td>\n",
       "      <td>1</td>\n",
       "      <td>38.00</td>\n",
       "      <td>13.30</td>\n",
       "      <td>372600024</td>\n",
       "      <td>907</td>\n",
       "      <td>0</td>\n",
       "    </tr>\n",
       "  </tbody>\n",
       "</table>\n",
       "<p>10000000 rows × 13 columns</p>\n",
       "</div>"
      ],
      "text/plain": [
       "             SKU  STORE  REGISTER TRANNUM        SEQ    SALEDATE STYPE  \\\n",
       "0        2366897   2207       840   03500          0  2005-04-02     P   \n",
       "1        5679400   4803       340   02500          0  2005-07-08     P   \n",
       "2        9026638   3307       450   02200  741904644  2004-10-02     P   \n",
       "3        1439165   9103       571   05400  762005701  2005-08-25     P   \n",
       "4           7449   3704       350   00900          0  2005-03-15     P   \n",
       "...          ...    ...       ...     ...        ...         ...   ...   \n",
       "9999995  3681414   7603       430   00500          0  2005-08-07     P   \n",
       "9999996  8961313   8302       750   19700          0  2005-02-25     P   \n",
       "9999997  2313514   1302       390   01000          0  2005-05-17     P   \n",
       "9999998  8109699   1009       310   01700   46308651  2005-04-07     P   \n",
       "9999999   692316   8603       200   08000   26707388  2005-07-29     P   \n",
       "\n",
       "         QUANTITY  ORIGPRICE    AMT      INTID              MIC  EXTRACOL  \n",
       "0               1      18.50  18.50  763100052  281                     0  \n",
       "1               1      65.00  39.99  610500091  205                     0  \n",
       "2               1      22.00  22.00  819700285  025                     0  \n",
       "3               1      78.00  27.30  349500126  386                     0  \n",
       "4               1      17.99   4.50  316300049  035                     0  \n",
       "...           ...        ...    ...        ...              ...       ...  \n",
       "9999995         1       5.00   5.00  303900014  452                     0  \n",
       "9999996         1      24.00   2.99  968100020  542                     0  \n",
       "9999997         1      16.00  16.00  948300011  643                     0  \n",
       "9999998         1      59.00  59.00  468800072  400                     0  \n",
       "9999999         1      38.00  13.30  372600024  907                     0  \n",
       "\n",
       "[10000000 rows x 13 columns]"
      ]
     },
     "execution_count": 4,
     "metadata": {},
     "output_type": "execute_result"
    }
   ],
   "source": [
    "# Retrive a sample of the data\n",
    "df = pd.read_sql(\"select * from \\\"TRNSACT\\\"order by random() LIMIT 10000000\", connection);\n",
    "df"
   ]
  },
  {
   "cell_type": "code",
   "execution_count": 5,
   "metadata": {},
   "outputs": [
    {
     "name": "stdout",
     "output_type": "stream",
     "text": [
      "PostgreSQL connection is closed\n"
     ]
    }
   ],
   "source": [
    "# Close connection to db\n",
    "if (connection):\n",
    "    cursor.close()\n",
    "    connection.close()\n",
    "    print(\"PostgreSQL connection is closed\") \n"
   ]
  },
  {
   "cell_type": "markdown",
   "metadata": {},
   "source": [
    "### Analyzing TRNSACT table"
   ]
  },
  {
   "cell_type": "code",
   "execution_count": 20,
   "metadata": {},
   "outputs": [],
   "source": [
    "# Print head and tail of table\n",
    "df"
   ]
  },
  {
   "cell_type": "code",
   "execution_count": 21,
   "metadata": {},
   "outputs": [
    {
     "name": "stdout",
     "output_type": "stream",
     "text": [
      "<class 'pandas.core.frame.DataFrame'>\n",
      "RangeIndex: 10000000 entries, 0 to 9999999\n",
      "Data columns (total 13 columns):\n",
      " #   Column     Dtype  \n",
      "---  ------     -----  \n",
      " 0   SKU        int64  \n",
      " 1   STORE      int64  \n",
      " 2   REGISTER   int64  \n",
      " 3   TRANNUM    object \n",
      " 4   SEQ        int64  \n",
      " 5   SALEDATE   object \n",
      " 6   STYPE      object \n",
      " 7   QUANTITY   int64  \n",
      " 8   ORIGPRICE  float64\n",
      " 9   AMT        float64\n",
      " 10  INTID      int64  \n",
      " 11  MIC        object \n",
      " 12  EXTRACOL   int64  \n",
      "dtypes: float64(2), int64(7), object(4)\n",
      "memory usage: 991.8+ MB\n"
     ]
    }
   ],
   "source": [
    "# Check data types \n",
    "df.info()"
   ]
  },
  {
   "cell_type": "code",
   "execution_count": 23,
   "metadata": {},
   "outputs": [
    {
     "data": {
      "text/plain": [
       "SKU          0.0\n",
       "STORE        0.0\n",
       "REGISTER     0.0\n",
       "TRANNUM      0.0\n",
       "SEQ          0.0\n",
       "SALEDATE     0.0\n",
       "STYPE        0.0\n",
       "QUANTITY     0.0\n",
       "ORIGPRICE    0.0\n",
       "AMT          0.0\n",
       "INTID        0.0\n",
       "MIC          0.0\n",
       "EXTRACOL     0.0\n",
       "dtype: float64"
      ]
     },
     "execution_count": 23,
     "metadata": {},
     "output_type": "execute_result"
    }
   ],
   "source": [
    "# Check percentage of missing values per column\n",
    "df.isnull().sum()/df.shape[0]*100"
   ]
  },
  {
   "cell_type": "markdown",
   "metadata": {},
   "source": [
    "There are no missing values in the TRNSACT table. "
   ]
  },
  {
   "cell_type": "code",
   "execution_count": 24,
   "metadata": {},
   "outputs": [
    {
     "data": {
      "text/html": [
       "<div>\n",
       "<style scoped>\n",
       "    .dataframe tbody tr th:only-of-type {\n",
       "        vertical-align: middle;\n",
       "    }\n",
       "\n",
       "    .dataframe tbody tr th {\n",
       "        vertical-align: top;\n",
       "    }\n",
       "\n",
       "    .dataframe thead th {\n",
       "        text-align: right;\n",
       "    }\n",
       "</style>\n",
       "<table border=\"1\" class=\"dataframe\">\n",
       "  <thead>\n",
       "    <tr style=\"text-align: right;\">\n",
       "      <th></th>\n",
       "      <th>SKU</th>\n",
       "      <th>STORE</th>\n",
       "      <th>REGISTER</th>\n",
       "      <th>SEQ</th>\n",
       "      <th>QUANTITY</th>\n",
       "      <th>ORIGPRICE</th>\n",
       "      <th>AMT</th>\n",
       "      <th>INTID</th>\n",
       "      <th>EXTRACOL</th>\n",
       "    </tr>\n",
       "  </thead>\n",
       "  <tbody>\n",
       "    <tr>\n",
       "      <th>count</th>\n",
       "      <td>1.000000e+07</td>\n",
       "      <td>1.000000e+07</td>\n",
       "      <td>1.000000e+07</td>\n",
       "      <td>1.000000e+07</td>\n",
       "      <td>10000000.0</td>\n",
       "      <td>1.000000e+07</td>\n",
       "      <td>1.000000e+07</td>\n",
       "      <td>1.000000e+07</td>\n",
       "      <td>1.000000e+07</td>\n",
       "    </tr>\n",
       "    <tr>\n",
       "      <th>mean</th>\n",
       "      <td>4.973996e+06</td>\n",
       "      <td>4.441678e+03</td>\n",
       "      <td>4.003537e+02</td>\n",
       "      <td>1.902124e+08</td>\n",
       "      <td>1.0</td>\n",
       "      <td>3.678297e+01</td>\n",
       "      <td>2.462695e+01</td>\n",
       "      <td>4.993213e+08</td>\n",
       "      <td>2.108040e-02</td>\n",
       "    </tr>\n",
       "    <tr>\n",
       "      <th>std</th>\n",
       "      <td>2.836246e+06</td>\n",
       "      <td>2.846769e+03</td>\n",
       "      <td>2.530983e+02</td>\n",
       "      <td>3.007716e+08</td>\n",
       "      <td>0.0</td>\n",
       "      <td>4.036648e+01</td>\n",
       "      <td>2.723523e+01</td>\n",
       "      <td>2.884846e+08</td>\n",
       "      <td>1.436524e-01</td>\n",
       "    </tr>\n",
       "    <tr>\n",
       "      <th>min</th>\n",
       "      <td>3.000000e+00</td>\n",
       "      <td>1.020000e+02</td>\n",
       "      <td>1.000000e+00</td>\n",
       "      <td>0.000000e+00</td>\n",
       "      <td>1.0</td>\n",
       "      <td>0.000000e+00</td>\n",
       "      <td>0.000000e+00</td>\n",
       "      <td>2.000000e+00</td>\n",
       "      <td>0.000000e+00</td>\n",
       "    </tr>\n",
       "    <tr>\n",
       "      <th>25%</th>\n",
       "      <td>2.631188e+06</td>\n",
       "      <td>2.103000e+03</td>\n",
       "      <td>1.900000e+02</td>\n",
       "      <td>0.000000e+00</td>\n",
       "      <td>1.0</td>\n",
       "      <td>1.600000e+01</td>\n",
       "      <td>9.930000e+00</td>\n",
       "      <td>2.495000e+08</td>\n",
       "      <td>0.000000e+00</td>\n",
       "    </tr>\n",
       "    <tr>\n",
       "      <th>50%</th>\n",
       "      <td>4.859209e+06</td>\n",
       "      <td>4.103000e+03</td>\n",
       "      <td>3.700000e+02</td>\n",
       "      <td>0.000000e+00</td>\n",
       "      <td>1.0</td>\n",
       "      <td>2.800000e+01</td>\n",
       "      <td>1.800000e+01</td>\n",
       "      <td>4.987001e+08</td>\n",
       "      <td>0.000000e+00</td>\n",
       "    </tr>\n",
       "    <tr>\n",
       "      <th>75%</th>\n",
       "      <td>7.393222e+06</td>\n",
       "      <td>7.102000e+03</td>\n",
       "      <td>5.800000e+02</td>\n",
       "      <td>3.424088e+08</td>\n",
       "      <td>1.0</td>\n",
       "      <td>4.800000e+01</td>\n",
       "      <td>3.100000e+01</td>\n",
       "      <td>7.494000e+08</td>\n",
       "      <td>0.000000e+00</td>\n",
       "    </tr>\n",
       "    <tr>\n",
       "      <th>max</th>\n",
       "      <td>9.999997e+06</td>\n",
       "      <td>9.909000e+03</td>\n",
       "      <td>9.930000e+02</td>\n",
       "      <td>9.999100e+08</td>\n",
       "      <td>1.0</td>\n",
       "      <td>1.200000e+03</td>\n",
       "      <td>1.200000e+03</td>\n",
       "      <td>9.999004e+08</td>\n",
       "      <td>1.000000e+00</td>\n",
       "    </tr>\n",
       "  </tbody>\n",
       "</table>\n",
       "</div>"
      ],
      "text/plain": [
       "                SKU         STORE      REGISTER           SEQ    QUANTITY  \\\n",
       "count  1.000000e+07  1.000000e+07  1.000000e+07  1.000000e+07  10000000.0   \n",
       "mean   4.973996e+06  4.441678e+03  4.003537e+02  1.902124e+08         1.0   \n",
       "std    2.836246e+06  2.846769e+03  2.530983e+02  3.007716e+08         0.0   \n",
       "min    3.000000e+00  1.020000e+02  1.000000e+00  0.000000e+00         1.0   \n",
       "25%    2.631188e+06  2.103000e+03  1.900000e+02  0.000000e+00         1.0   \n",
       "50%    4.859209e+06  4.103000e+03  3.700000e+02  0.000000e+00         1.0   \n",
       "75%    7.393222e+06  7.102000e+03  5.800000e+02  3.424088e+08         1.0   \n",
       "max    9.999997e+06  9.909000e+03  9.930000e+02  9.999100e+08         1.0   \n",
       "\n",
       "          ORIGPRICE           AMT         INTID      EXTRACOL  \n",
       "count  1.000000e+07  1.000000e+07  1.000000e+07  1.000000e+07  \n",
       "mean   3.678297e+01  2.462695e+01  4.993213e+08  2.108040e-02  \n",
       "std    4.036648e+01  2.723523e+01  2.884846e+08  1.436524e-01  \n",
       "min    0.000000e+00  0.000000e+00  2.000000e+00  0.000000e+00  \n",
       "25%    1.600000e+01  9.930000e+00  2.495000e+08  0.000000e+00  \n",
       "50%    2.800000e+01  1.800000e+01  4.987001e+08  0.000000e+00  \n",
       "75%    4.800000e+01  3.100000e+01  7.494000e+08  0.000000e+00  \n",
       "max    1.200000e+03  1.200000e+03  9.999004e+08  1.000000e+00  "
      ]
     },
     "execution_count": 24,
     "metadata": {},
     "output_type": "execute_result"
    }
   ],
   "source": [
    "# Summary statistics\n",
    "df.describe()"
   ]
  },
  {
   "cell_type": "code",
   "execution_count": 16,
   "metadata": {},
   "outputs": [
    {
     "data": {
      "image/png": "[encoded data removed]",
      "text/plain": [
       "<Figure size 1600x800 with 2 Axes>"
      ]
     },
     "metadata": {
      "needs_background": "light"
     },
     "output_type": "display_data"
    }
   ],
   "source": [
    "# Correlation matrix\n",
    "plt.figure(figsize = (20, 10), dpi = 80)\n",
    "sns.heatmap(df_trnsact.corr(), annot=True, cmap = 'Reds', \n",
    "            annot_kws={\"fontsize\":12})\n",
    "plt.show()"
   ]
  },
  {
   "cell_type": "markdown",
   "metadata": {},
   "source": [
    "#### SKU"
   ]
  },
  {
   "cell_type": "markdown",
   "metadata": {},
   "source": [
    "#### STORE"
   ]
  },
  {
   "cell_type": "markdown",
   "metadata": {},
   "source": [
    "#### REGISTER"
   ]
  },
  {
   "cell_type": "markdown",
   "metadata": {},
   "source": [
    "#### TRANNUM"
   ]
  },
  {
   "cell_type": "markdown",
   "metadata": {},
   "source": [
    "#### SALEDATE"
   ]
  },
  {
   "cell_type": "markdown",
   "metadata": {},
   "source": [
    "#### SEQ"
   ]
  },
  {
   "cell_type": "markdown",
   "metadata": {},
   "source": [
    "#### INTERID"
   ]
  },
  {
   "cell_type": "markdown",
   "metadata": {},
   "source": [
    "#### STYPE"
   ]
  },
  {
   "cell_type": "markdown",
   "metadata": {},
   "source": [
    "#### QUANTITY"
   ]
  },
  {
   "cell_type": "code",
   "execution_count": 29,
   "metadata": {},
   "outputs": [
    {
     "data": {
      "image/png": "[encoded data removed]",
      "text/plain": [
       "<Figure size 432x288 with 1 Axes>"
      ]
     },
     "metadata": {
      "needs_background": "light"
     },
     "output_type": "display_data"
    }
   ],
   "source": [
    "ax = df.plot.scatter(x = 'ORIGPRICE',\n",
    "                      y = 'AMT',\n",
    "                      c = 'DarkBlue')"
   ]
  },
  {
   "cell_type": "code",
   "execution_count": 7,
   "metadata": {},
   "outputs": [
    {
     "data": {
      "text/plain": [
       "<AxesSubplot:ylabel='Frequency'>"
      ]
     },
     "execution_count": 7,
     "metadata": {},
     "output_type": "execute_result"
    },
    {
     "data": {
      "image/png": "[encoded data removed]",
      "text/plain": [
       "<Figure size 640x480 with 1 Axes>"
      ]
     },
     "metadata": {},
     "output_type": "display_data"
    },
    {
     "data": {
      "image/png": "[encoded data removed]",
      "text/plain": [
       "<Figure size 640x480 with 1 Axes>"
      ]
     },
     "metadata": {},
     "output_type": "display_data"
    }
   ],
   "source": [
    "\n",
    "df_trnsact[['price_difference']].plot.hist(bins=12, alpha=0.5)\n",
    "def filter_outlier(df, column):\n",
    "    q_low = df[column].quantile(0.01)\n",
    "    q_hi  = df[column].quantile(0.99)\n",
    "    df_filtered = df[(df[column] < q_hi) & (df[column] > q_low)]\n",
    "    return df_filtered\n",
    "df_filtered = filter_outlier(df_trnsact, 'price_difference')\n",
    "df_filtered[['price_difference']].plot.hist(bins=12, alpha=0.5)\n",
    "\n"
   ]
  }
 ],
 "metadata": {
  "kernelspec": {
   "display_name": "Python 3 (ipykernel)",
   "language": "python",
   "name": "python3"
  },
  "language_info": {
   "codemirror_mode": {
    "name": "ipython",
    "version": 3
   },
   "file_extension": ".py",
   "mimetype": "text/x-python",
   "name": "python",
   "nbconvert_exporter": "python",
   "pygments_lexer": "ipython3",
   "version": "3.9.12"
  },
  "vscode": {
   "interpreter": {
    "hash": "b0fa6594d8f4cbf19f97940f81e996739fb7646882a419484c72d19e05852a7e"
   }
  }
 },
 "nbformat": 4,
 "nbformat_minor": 2
}
