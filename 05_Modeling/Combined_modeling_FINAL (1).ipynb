{
 "cells": [
  {
   "cell_type": "markdown",
   "metadata": {
    "pycharm": {
     "name": "#%% md\n"
    }
   },
   "source": [
    "Import necessary packages ()"
   ]
  },
  {
   "cell_type": "code",
   "execution_count": 1,
   "metadata": {
    "pycharm": {
     "name": "#%%\n"
    }
   },
   "outputs": [],
   "source": [
    "import pandas as pd\n",
    "import psycopg2\n",
    "from psycopg2 import Error\n",
    "import numpy as np\n",
    "import matplotlib.pyplot as plt\n",
    "import seaborn as sns\n"
   ]
  },
  {
   "cell_type": "markdown",
   "metadata": {
    "pycharm": {
     "name": "#%% md\n"
    }
   },
   "source": [
    "Establish connections to the database"
   ]
  },
  {
   "cell_type": "code",
   "execution_count": 2,
   "metadata": {
    "pycharm": {
     "name": "#%%\n"
    }
   },
   "outputs": [
    {
     "name": "stdout",
     "output_type": "stream",
     "text": [
      "You are connected to -  ('PostgreSQL 10.12 on x86_64-pc-linux-gnu, compiled by gcc (GCC) 4.8.5 20150623 (Red Hat 4.8.5-39), 64-bit',) \n",
      "\n",
      "PostgreSQL connection is closed\n"
     ]
    },
    {
     "name": "stderr",
     "output_type": "stream",
     "text": [
      "/tmp/ipykernel_590841/86078971.py:18: UserWarning: pandas only supports SQLAlchemy connectable (engine/connection) or database string URI or sqlite3 DBAPI2 connection. Other DBAPI2 objects are not tested. Please consider using SQLAlchemy.\n",
      "  df = pd.read_sql(\"select * from \\\"aggtrnsactdaily\\\"\", connection);\n"
     ]
    }
   ],
   "source": [
    "try:\n",
    "    # Connect to an existing database\n",
    "    connection = psycopg2.connect(database=\"2022-everything-team12\", \n",
    "                            user='ycj6475', \n",
    "                            password='White001!', \n",
    "                            host='pg.analytics.northwestern.edu', \n",
    "                            port= '5432')\n",
    "\n",
    "    # Create a cursor to perform database operations\n",
    "    cursor = connection.cursor()\n",
    "    # Print PostgreSQL details\n",
    "    cursor.execute(\"SELECT version();\")\n",
    "    # Fetch result\n",
    "    record = cursor.fetchone()\n",
    "    print(\"You are connected to - \", record, \"\\n\")\n",
    "except (Exception, Error) as error:\n",
    "    print(\"Error while connecting to PostgreSQL\", error)\n",
    "df = pd.read_sql(\"select * from \\\"aggtrnsactdaily\\\"\", connection);\n",
    "if (connection):\n",
    "    cursor.close()\n",
    "    connection.close()\n",
    "    print(\"PostgreSQL connection is closed\") \n"
   ]
  },
  {
   "cell_type": "code",
   "execution_count": 3,
   "metadata": {
    "pycharm": {
     "name": "#%%\n"
    },
    "scrolled": true
   },
   "outputs": [
    {
     "data": {
      "text/plain": [
       "saledate              389\n",
       "nstores               389\n",
       "nsku                  389\n",
       "totalquantity         389\n",
       "avgquantity           389\n",
       "totalamt              389\n",
       "avgamt                389\n",
       "minamt                389\n",
       "maxamt                389\n",
       "totalorigprice        389\n",
       "avgorigprice          389\n",
       "minorigprice          389\n",
       "maxorigprice          389\n",
       "totalretail           389\n",
       "avgretail             389\n",
       "minretail             389\n",
       "maxretail             389\n",
       "avgretailtrnsact      389\n",
       "totalcost             389\n",
       "avgcost               389\n",
       "mincost               389\n",
       "maxcost               389\n",
       "avgcosttrnsact        389\n",
       "totaldiscount         389\n",
       "avgdiscounttrnsact    389\n",
       "mindiscount           389\n",
       "maxdiscount           389\n",
       "totalprofit           389\n",
       "avgprofittrnsact      389\n",
       "minprofit             389\n",
       "maxprofit             389\n",
       "nstore                389\n",
       "ncities               389\n",
       "ndept                 389\n",
       "nvendors              389\n",
       "avgvendorsstore       389\n",
       "dtype: int64"
      ]
     },
     "execution_count": 3,
     "metadata": {},
     "output_type": "execute_result"
    }
   ],
   "source": [
    "#--------------------\n",
    "# check null value counts\n",
    "df.notnull().sum()"
   ]
  },
  {
   "cell_type": "code",
   "execution_count": 4,
   "metadata": {},
   "outputs": [],
   "source": [
    "unemployee = pd.read_csv(\"UNRATE.csv\")\n",
    "cpi = pd.read_csv(\"cpi.csv\")\n",
    "dff = pd.read_csv(\"DFF.csv\")"
   ]
  },
  {
   "cell_type": "code",
   "execution_count": 5,
   "metadata": {},
   "outputs": [],
   "source": [
    "df['saledate']= pd.to_datetime(df['saledate'])\n",
    "cpi['DATE']= pd.to_datetime(cpi['DATE'])\n",
    "unemployee['DATE']= pd.to_datetime(unemployee['DATE'])\n",
    "dff['DATE']= pd.to_datetime(dff['DATE'])"
   ]
  },
  {
   "cell_type": "code",
   "execution_count": 6,
   "metadata": {},
   "outputs": [
    {
     "data": {
      "text/html": [
       "<div>\n",
       "<style scoped>\n",
       "    .dataframe tbody tr th:only-of-type {\n",
       "        vertical-align: middle;\n",
       "    }\n",
       "\n",
       "    .dataframe tbody tr th {\n",
       "        vertical-align: top;\n",
       "    }\n",
       "\n",
       "    .dataframe thead th {\n",
       "        text-align: right;\n",
       "    }\n",
       "</style>\n",
       "<table border=\"1\" class=\"dataframe\">\n",
       "  <thead>\n",
       "    <tr style=\"text-align: right;\">\n",
       "      <th></th>\n",
       "      <th>saledate</th>\n",
       "      <th>nstores</th>\n",
       "      <th>nsku</th>\n",
       "      <th>totalquantity</th>\n",
       "      <th>avgquantity</th>\n",
       "      <th>totalamt</th>\n",
       "      <th>avgamt</th>\n",
       "      <th>minamt</th>\n",
       "      <th>maxamt</th>\n",
       "      <th>totalorigprice</th>\n",
       "      <th>...</th>\n",
       "      <th>ndept</th>\n",
       "      <th>nvendors</th>\n",
       "      <th>avgvendorsstore</th>\n",
       "      <th>grouper</th>\n",
       "      <th>DATE_x</th>\n",
       "      <th>CORESTICKM159SFRBATL</th>\n",
       "      <th>DATE_y</th>\n",
       "      <th>UNRATE</th>\n",
       "      <th>DATE</th>\n",
       "      <th>DFF</th>\n",
       "    </tr>\n",
       "  </thead>\n",
       "  <tbody>\n",
       "    <tr>\n",
       "      <th>0</th>\n",
       "      <td>2004-08-01</td>\n",
       "      <td>323</td>\n",
       "      <td>61741</td>\n",
       "      <td>188073</td>\n",
       "      <td>783</td>\n",
       "      <td>6035654.36</td>\n",
       "      <td>25148.559833</td>\n",
       "      <td>0.0</td>\n",
       "      <td>895.0</td>\n",
       "      <td>4467905.60</td>\n",
       "      <td>...</td>\n",
       "      <td>58</td>\n",
       "      <td>852</td>\n",
       "      <td>2</td>\n",
       "      <td>2004-08-01</td>\n",
       "      <td>2004-08-01</td>\n",
       "      <td>2.257729</td>\n",
       "      <td>2004-08-01</td>\n",
       "      <td>5.4</td>\n",
       "      <td>2004-08-01</td>\n",
       "      <td>1.29</td>\n",
       "    </tr>\n",
       "    <tr>\n",
       "      <th>1</th>\n",
       "      <td>2004-08-02</td>\n",
       "      <td>324</td>\n",
       "      <td>59183</td>\n",
       "      <td>177143</td>\n",
       "      <td>208</td>\n",
       "      <td>5637192.49</td>\n",
       "      <td>6624.197991</td>\n",
       "      <td>0.0</td>\n",
       "      <td>1200.0</td>\n",
       "      <td>4174584.51</td>\n",
       "      <td>...</td>\n",
       "      <td>58</td>\n",
       "      <td>827</td>\n",
       "      <td>2</td>\n",
       "      <td>2004-08-02</td>\n",
       "      <td>2004-08-01</td>\n",
       "      <td>2.257729</td>\n",
       "      <td>2004-08-01</td>\n",
       "      <td>5.4</td>\n",
       "      <td>2004-08-02</td>\n",
       "      <td>1.28</td>\n",
       "    </tr>\n",
       "    <tr>\n",
       "      <th>2</th>\n",
       "      <td>2004-08-03</td>\n",
       "      <td>324</td>\n",
       "      <td>62593</td>\n",
       "      <td>212625</td>\n",
       "      <td>233</td>\n",
       "      <td>6569613.74</td>\n",
       "      <td>7219.355758</td>\n",
       "      <td>0.0</td>\n",
       "      <td>895.0</td>\n",
       "      <td>4833202.76</td>\n",
       "      <td>...</td>\n",
       "      <td>58</td>\n",
       "      <td>842</td>\n",
       "      <td>2</td>\n",
       "      <td>2004-08-03</td>\n",
       "      <td>2004-08-01</td>\n",
       "      <td>2.257729</td>\n",
       "      <td>2004-08-01</td>\n",
       "      <td>5.4</td>\n",
       "      <td>2004-08-03</td>\n",
       "      <td>1.24</td>\n",
       "    </tr>\n",
       "    <tr>\n",
       "      <th>3</th>\n",
       "      <td>2004-08-04</td>\n",
       "      <td>324</td>\n",
       "      <td>65689</td>\n",
       "      <td>218053</td>\n",
       "      <td>241</td>\n",
       "      <td>6874637.33</td>\n",
       "      <td>7604.687312</td>\n",
       "      <td>0.0</td>\n",
       "      <td>895.0</td>\n",
       "      <td>4974026.91</td>\n",
       "      <td>...</td>\n",
       "      <td>58</td>\n",
       "      <td>843</td>\n",
       "      <td>2</td>\n",
       "      <td>2004-08-04</td>\n",
       "      <td>2004-08-01</td>\n",
       "      <td>2.257729</td>\n",
       "      <td>2004-08-01</td>\n",
       "      <td>5.4</td>\n",
       "      <td>2004-08-04</td>\n",
       "      <td>1.22</td>\n",
       "    </tr>\n",
       "    <tr>\n",
       "      <th>4</th>\n",
       "      <td>2004-08-05</td>\n",
       "      <td>325</td>\n",
       "      <td>68941</td>\n",
       "      <td>225237</td>\n",
       "      <td>289</td>\n",
       "      <td>7913489.50</td>\n",
       "      <td>10184.671171</td>\n",
       "      <td>0.0</td>\n",
       "      <td>1200.0</td>\n",
       "      <td>5501540.60</td>\n",
       "      <td>...</td>\n",
       "      <td>58</td>\n",
       "      <td>870</td>\n",
       "      <td>2</td>\n",
       "      <td>2004-08-05</td>\n",
       "      <td>2004-08-01</td>\n",
       "      <td>2.257729</td>\n",
       "      <td>2004-08-01</td>\n",
       "      <td>5.4</td>\n",
       "      <td>2004-08-05</td>\n",
       "      <td>1.30</td>\n",
       "    </tr>\n",
       "    <tr>\n",
       "      <th>...</th>\n",
       "      <td>...</td>\n",
       "      <td>...</td>\n",
       "      <td>...</td>\n",
       "      <td>...</td>\n",
       "      <td>...</td>\n",
       "      <td>...</td>\n",
       "      <td>...</td>\n",
       "      <td>...</td>\n",
       "      <td>...</td>\n",
       "      <td>...</td>\n",
       "      <td>...</td>\n",
       "      <td>...</td>\n",
       "      <td>...</td>\n",
       "      <td>...</td>\n",
       "      <td>...</td>\n",
       "      <td>...</td>\n",
       "      <td>...</td>\n",
       "      <td>...</td>\n",
       "      <td>...</td>\n",
       "      <td>...</td>\n",
       "      <td>...</td>\n",
       "    </tr>\n",
       "    <tr>\n",
       "      <th>384</th>\n",
       "      <td>2005-08-23</td>\n",
       "      <td>325</td>\n",
       "      <td>84999</td>\n",
       "      <td>216712</td>\n",
       "      <td>226</td>\n",
       "      <td>7457004.46</td>\n",
       "      <td>7800.213870</td>\n",
       "      <td>0.0</td>\n",
       "      <td>1200.0</td>\n",
       "      <td>5141321.76</td>\n",
       "      <td>...</td>\n",
       "      <td>60</td>\n",
       "      <td>944</td>\n",
       "      <td>2</td>\n",
       "      <td>2005-08-23</td>\n",
       "      <td>2005-08-01</td>\n",
       "      <td>2.264406</td>\n",
       "      <td>2005-08-01</td>\n",
       "      <td>4.9</td>\n",
       "      <td>2005-08-23</td>\n",
       "      <td>3.49</td>\n",
       "    </tr>\n",
       "    <tr>\n",
       "      <th>385</th>\n",
       "      <td>2005-08-24</td>\n",
       "      <td>325</td>\n",
       "      <td>140901</td>\n",
       "      <td>466006</td>\n",
       "      <td>496</td>\n",
       "      <td>19248987.11</td>\n",
       "      <td>20521.308220</td>\n",
       "      <td>0.0</td>\n",
       "      <td>1200.0</td>\n",
       "      <td>8398192.33</td>\n",
       "      <td>...</td>\n",
       "      <td>60</td>\n",
       "      <td>1041</td>\n",
       "      <td>3</td>\n",
       "      <td>2005-08-24</td>\n",
       "      <td>2005-08-01</td>\n",
       "      <td>2.264406</td>\n",
       "      <td>2005-08-01</td>\n",
       "      <td>4.9</td>\n",
       "      <td>2005-08-24</td>\n",
       "      <td>3.50</td>\n",
       "    </tr>\n",
       "    <tr>\n",
       "      <th>386</th>\n",
       "      <td>2005-08-25</td>\n",
       "      <td>325</td>\n",
       "      <td>134977</td>\n",
       "      <td>422296</td>\n",
       "      <td>442</td>\n",
       "      <td>17062480.18</td>\n",
       "      <td>17885.199350</td>\n",
       "      <td>0.0</td>\n",
       "      <td>1200.0</td>\n",
       "      <td>7772270.13</td>\n",
       "      <td>...</td>\n",
       "      <td>60</td>\n",
       "      <td>1019</td>\n",
       "      <td>3</td>\n",
       "      <td>2005-08-25</td>\n",
       "      <td>2005-08-01</td>\n",
       "      <td>2.264406</td>\n",
       "      <td>2005-08-01</td>\n",
       "      <td>4.9</td>\n",
       "      <td>2005-08-25</td>\n",
       "      <td>3.55</td>\n",
       "    </tr>\n",
       "    <tr>\n",
       "      <th>387</th>\n",
       "      <td>2005-08-26</td>\n",
       "      <td>324</td>\n",
       "      <td>144548</td>\n",
       "      <td>482390</td>\n",
       "      <td>525</td>\n",
       "      <td>19215591.82</td>\n",
       "      <td>20932.017233</td>\n",
       "      <td>0.0</td>\n",
       "      <td>1200.0</td>\n",
       "      <td>8968694.40</td>\n",
       "      <td>...</td>\n",
       "      <td>60</td>\n",
       "      <td>1056</td>\n",
       "      <td>3</td>\n",
       "      <td>2005-08-26</td>\n",
       "      <td>2005-08-01</td>\n",
       "      <td>2.264406</td>\n",
       "      <td>2005-08-01</td>\n",
       "      <td>4.9</td>\n",
       "      <td>2005-08-26</td>\n",
       "      <td>3.54</td>\n",
       "    </tr>\n",
       "    <tr>\n",
       "      <th>388</th>\n",
       "      <td>2005-08-27</td>\n",
       "      <td>325</td>\n",
       "      <td>174635</td>\n",
       "      <td>726056</td>\n",
       "      <td>790</td>\n",
       "      <td>29404178.67</td>\n",
       "      <td>31995.841861</td>\n",
       "      <td>0.0</td>\n",
       "      <td>1200.0</td>\n",
       "      <td>14044552.29</td>\n",
       "      <td>...</td>\n",
       "      <td>60</td>\n",
       "      <td>1098</td>\n",
       "      <td>3</td>\n",
       "      <td>2005-08-27</td>\n",
       "      <td>2005-08-01</td>\n",
       "      <td>2.264406</td>\n",
       "      <td>2005-08-01</td>\n",
       "      <td>4.9</td>\n",
       "      <td>2005-08-27</td>\n",
       "      <td>3.54</td>\n",
       "    </tr>\n",
       "  </tbody>\n",
       "</table>\n",
       "<p>389 rows × 43 columns</p>\n",
       "</div>"
      ],
      "text/plain": [
       "      saledate  nstores    nsku  totalquantity  avgquantity     totalamt  \\\n",
       "0   2004-08-01      323   61741         188073          783   6035654.36   \n",
       "1   2004-08-02      324   59183         177143          208   5637192.49   \n",
       "2   2004-08-03      324   62593         212625          233   6569613.74   \n",
       "3   2004-08-04      324   65689         218053          241   6874637.33   \n",
       "4   2004-08-05      325   68941         225237          289   7913489.50   \n",
       "..         ...      ...     ...            ...          ...          ...   \n",
       "384 2005-08-23      325   84999         216712          226   7457004.46   \n",
       "385 2005-08-24      325  140901         466006          496  19248987.11   \n",
       "386 2005-08-25      325  134977         422296          442  17062480.18   \n",
       "387 2005-08-26      324  144548         482390          525  19215591.82   \n",
       "388 2005-08-27      325  174635         726056          790  29404178.67   \n",
       "\n",
       "           avgamt  minamt  maxamt  totalorigprice  ...  ndept  nvendors  \\\n",
       "0    25148.559833     0.0   895.0      4467905.60  ...     58       852   \n",
       "1     6624.197991     0.0  1200.0      4174584.51  ...     58       827   \n",
       "2     7219.355758     0.0   895.0      4833202.76  ...     58       842   \n",
       "3     7604.687312     0.0   895.0      4974026.91  ...     58       843   \n",
       "4    10184.671171     0.0  1200.0      5501540.60  ...     58       870   \n",
       "..            ...     ...     ...             ...  ...    ...       ...   \n",
       "384   7800.213870     0.0  1200.0      5141321.76  ...     60       944   \n",
       "385  20521.308220     0.0  1200.0      8398192.33  ...     60      1041   \n",
       "386  17885.199350     0.0  1200.0      7772270.13  ...     60      1019   \n",
       "387  20932.017233     0.0  1200.0      8968694.40  ...     60      1056   \n",
       "388  31995.841861     0.0  1200.0     14044552.29  ...     60      1098   \n",
       "\n",
       "     avgvendorsstore     grouper     DATE_x  CORESTICKM159SFRBATL     DATE_y  \\\n",
       "0                  2  2004-08-01 2004-08-01              2.257729 2004-08-01   \n",
       "1                  2  2004-08-02 2004-08-01              2.257729 2004-08-01   \n",
       "2                  2  2004-08-03 2004-08-01              2.257729 2004-08-01   \n",
       "3                  2  2004-08-04 2004-08-01              2.257729 2004-08-01   \n",
       "4                  2  2004-08-05 2004-08-01              2.257729 2004-08-01   \n",
       "..               ...         ...        ...                   ...        ...   \n",
       "384                2  2005-08-23 2005-08-01              2.264406 2005-08-01   \n",
       "385                3  2005-08-24 2005-08-01              2.264406 2005-08-01   \n",
       "386                3  2005-08-25 2005-08-01              2.264406 2005-08-01   \n",
       "387                3  2005-08-26 2005-08-01              2.264406 2005-08-01   \n",
       "388                3  2005-08-27 2005-08-01              2.264406 2005-08-01   \n",
       "\n",
       "     UNRATE       DATE   DFF  \n",
       "0       5.4 2004-08-01  1.29  \n",
       "1       5.4 2004-08-02  1.28  \n",
       "2       5.4 2004-08-03  1.24  \n",
       "3       5.4 2004-08-04  1.22  \n",
       "4       5.4 2004-08-05  1.30  \n",
       "..      ...        ...   ...  \n",
       "384     4.9 2005-08-23  3.49  \n",
       "385     4.9 2005-08-24  3.50  \n",
       "386     4.9 2005-08-25  3.55  \n",
       "387     4.9 2005-08-26  3.54  \n",
       "388     4.9 2005-08-27  3.54  \n",
       "\n",
       "[389 rows x 43 columns]"
      ]
     },
     "execution_count": 6,
     "metadata": {},
     "output_type": "execute_result"
    }
   ],
   "source": [
    "df_combined = pd.merge(df.assign(grouper=df['saledate'].dt.to_period('M')),\n",
    "               cpi.assign(grouper=cpi['DATE'].dt.to_period('M')),\n",
    "               how='left', on='grouper')\n",
    "\n",
    "df_combined = pd.merge(df_combined.assign(grouper=df_combined['saledate'].dt.to_period('M')),\n",
    "               unemployee.assign(grouper=unemployee['DATE'].dt.to_period('M')),\n",
    "               how='left', on='grouper')\n",
    "\n",
    "df_combined = pd.merge(df_combined.assign(grouper=df_combined['saledate'].dt.to_period('D')),\n",
    "               dff.assign(grouper=dff['DATE'].dt.to_period('D')),\n",
    "               how='left', on='grouper')\n",
    "\n",
    "df_combined"
   ]
  },
  {
   "cell_type": "code",
   "execution_count": 7,
   "metadata": {},
   "outputs": [
    {
     "data": {
      "text/plain": [
       "Index(['saledate', 'nstores', 'nsku', 'totalquantity', 'avgquantity',\n",
       "       'totalamt', 'avgamt', 'minamt', 'maxamt', 'totalorigprice',\n",
       "       'avgorigprice', 'minorigprice', 'maxorigprice', 'totalretail',\n",
       "       'avgretail', 'minretail', 'maxretail', 'avgretailtrnsact', 'totalcost',\n",
       "       'avgcost', 'mincost', 'maxcost', 'avgcosttrnsact', 'totaldiscount',\n",
       "       'avgdiscounttrnsact', 'mindiscount', 'maxdiscount', 'totalprofit',\n",
       "       'avgprofittrnsact', 'minprofit', 'maxprofit', 'nstore', 'ncities',\n",
       "       'ndept', 'nvendors', 'avgvendorsstore', 'grouper', 'DATE_x',\n",
       "       'CORESTICKM159SFRBATL', 'DATE_y', 'UNRATE', 'DATE', 'DFF'],\n",
       "      dtype='object')"
      ]
     },
     "execution_count": 7,
     "metadata": {},
     "output_type": "execute_result"
    }
   ],
   "source": [
    "df_combined.columns"
   ]
  },
  {
   "cell_type": "code",
   "execution_count": 8,
   "metadata": {},
   "outputs": [],
   "source": [
    "df_combined = df_combined.drop(columns = [\"grouper\",\"DATE_x\",\"DATE_y\",\"DATE\"])"
   ]
  },
  {
   "cell_type": "markdown",
   "metadata": {
    "pycharm": {
     "name": "#%% md\n"
    }
   },
   "source": [
    "check the shape of total revenue column, no trend oe seasonality found"
   ]
  },
  {
   "cell_type": "code",
   "execution_count": 9,
   "metadata": {
    "pycharm": {
     "name": "#%%\n"
    }
   },
   "outputs": [
    {
     "data": {
      "image/png": "[encoded data removed]",
      "text/plain": [
       "<Figure size 1080x360 with 1 Axes>"
      ]
     },
     "metadata": {
      "needs_background": "light"
     },
     "output_type": "display_data"
    }
   ],
   "source": [
    "df_groupyed = df_combined\n",
    "color_pal = sns.color_palette()\n",
    "# set df index as date\n",
    "df_ts = df_groupyed.set_index('saledate')\n",
    "df_ts.index = pd.to_datetime(df_ts.index)\n",
    "# check distribution of revenue (no pattern found)\n",
    "df_ts_draw = df_ts[\"totalprofit\"]\n",
    "df_ts_draw.plot(style='.',\n",
    "        figsize=(15, 5),\n",
    "        color=color_pal[0],\n",
    "        title='Number')\n",
    "plt.show()\n"
   ]
  },
  {
   "cell_type": "code",
   "execution_count": 10,
   "metadata": {
    "pycharm": {
     "name": "#%%\n"
    }
   },
   "outputs": [
    {
     "data": {
      "text/html": [
       "<div>\n",
       "<style scoped>\n",
       "    .dataframe tbody tr th:only-of-type {\n",
       "        vertical-align: middle;\n",
       "    }\n",
       "\n",
       "    .dataframe tbody tr th {\n",
       "        vertical-align: top;\n",
       "    }\n",
       "\n",
       "    .dataframe thead th {\n",
       "        text-align: right;\n",
       "    }\n",
       "</style>\n",
       "<table border=\"1\" class=\"dataframe\">\n",
       "  <thead>\n",
       "    <tr style=\"text-align: right;\">\n",
       "      <th></th>\n",
       "      <th>nstores</th>\n",
       "      <th>nsku</th>\n",
       "      <th>totalquantity</th>\n",
       "      <th>avgquantity</th>\n",
       "      <th>totalamt</th>\n",
       "      <th>avgamt</th>\n",
       "      <th>minamt</th>\n",
       "      <th>maxamt</th>\n",
       "      <th>totalorigprice</th>\n",
       "      <th>avgorigprice</th>\n",
       "      <th>...</th>\n",
       "      <th>avgvendorsstore</th>\n",
       "      <th>CORESTICKM159SFRBATL</th>\n",
       "      <th>UNRATE</th>\n",
       "      <th>DFF</th>\n",
       "      <th>hour</th>\n",
       "      <th>dayofweek</th>\n",
       "      <th>quarter</th>\n",
       "      <th>month</th>\n",
       "      <th>year</th>\n",
       "      <th>dayofmonth</th>\n",
       "    </tr>\n",
       "    <tr>\n",
       "      <th>saledate</th>\n",
       "      <th></th>\n",
       "      <th></th>\n",
       "      <th></th>\n",
       "      <th></th>\n",
       "      <th></th>\n",
       "      <th></th>\n",
       "      <th></th>\n",
       "      <th></th>\n",
       "      <th></th>\n",
       "      <th></th>\n",
       "      <th></th>\n",
       "      <th></th>\n",
       "      <th></th>\n",
       "      <th></th>\n",
       "      <th></th>\n",
       "      <th></th>\n",
       "      <th></th>\n",
       "      <th></th>\n",
       "      <th></th>\n",
       "      <th></th>\n",
       "      <th></th>\n",
       "    </tr>\n",
       "  </thead>\n",
       "  <tbody>\n",
       "    <tr>\n",
       "      <th>2004-08-01</th>\n",
       "      <td>323</td>\n",
       "      <td>61741</td>\n",
       "      <td>188073</td>\n",
       "      <td>783</td>\n",
       "      <td>6035654.36</td>\n",
       "      <td>25148.559833</td>\n",
       "      <td>0.0</td>\n",
       "      <td>895.0</td>\n",
       "      <td>4467905.60</td>\n",
       "      <td>23.756231</td>\n",
       "      <td>...</td>\n",
       "      <td>2</td>\n",
       "      <td>2.257729</td>\n",
       "      <td>5.4</td>\n",
       "      <td>1.29</td>\n",
       "      <td>0</td>\n",
       "      <td>6</td>\n",
       "      <td>3</td>\n",
       "      <td>8</td>\n",
       "      <td>2004</td>\n",
       "      <td>1</td>\n",
       "    </tr>\n",
       "    <tr>\n",
       "      <th>2004-08-02</th>\n",
       "      <td>324</td>\n",
       "      <td>59183</td>\n",
       "      <td>177143</td>\n",
       "      <td>208</td>\n",
       "      <td>5637192.49</td>\n",
       "      <td>6624.197991</td>\n",
       "      <td>0.0</td>\n",
       "      <td>1200.0</td>\n",
       "      <td>4174584.51</td>\n",
       "      <td>23.566184</td>\n",
       "      <td>...</td>\n",
       "      <td>2</td>\n",
       "      <td>2.257729</td>\n",
       "      <td>5.4</td>\n",
       "      <td>1.28</td>\n",
       "      <td>0</td>\n",
       "      <td>0</td>\n",
       "      <td>3</td>\n",
       "      <td>8</td>\n",
       "      <td>2004</td>\n",
       "      <td>2</td>\n",
       "    </tr>\n",
       "    <tr>\n",
       "      <th>2004-08-03</th>\n",
       "      <td>324</td>\n",
       "      <td>62593</td>\n",
       "      <td>212625</td>\n",
       "      <td>233</td>\n",
       "      <td>6569613.74</td>\n",
       "      <td>7219.355758</td>\n",
       "      <td>0.0</td>\n",
       "      <td>895.0</td>\n",
       "      <td>4833202.76</td>\n",
       "      <td>22.731112</td>\n",
       "      <td>...</td>\n",
       "      <td>2</td>\n",
       "      <td>2.257729</td>\n",
       "      <td>5.4</td>\n",
       "      <td>1.24</td>\n",
       "      <td>0</td>\n",
       "      <td>1</td>\n",
       "      <td>3</td>\n",
       "      <td>8</td>\n",
       "      <td>2004</td>\n",
       "      <td>3</td>\n",
       "    </tr>\n",
       "    <tr>\n",
       "      <th>2004-08-04</th>\n",
       "      <td>324</td>\n",
       "      <td>65689</td>\n",
       "      <td>218053</td>\n",
       "      <td>241</td>\n",
       "      <td>6874637.33</td>\n",
       "      <td>7604.687312</td>\n",
       "      <td>0.0</td>\n",
       "      <td>895.0</td>\n",
       "      <td>4974026.91</td>\n",
       "      <td>22.811091</td>\n",
       "      <td>...</td>\n",
       "      <td>2</td>\n",
       "      <td>2.257729</td>\n",
       "      <td>5.4</td>\n",
       "      <td>1.22</td>\n",
       "      <td>0</td>\n",
       "      <td>2</td>\n",
       "      <td>3</td>\n",
       "      <td>8</td>\n",
       "      <td>2004</td>\n",
       "      <td>4</td>\n",
       "    </tr>\n",
       "    <tr>\n",
       "      <th>2004-08-05</th>\n",
       "      <td>325</td>\n",
       "      <td>68941</td>\n",
       "      <td>225237</td>\n",
       "      <td>289</td>\n",
       "      <td>7913489.50</td>\n",
       "      <td>10184.671171</td>\n",
       "      <td>0.0</td>\n",
       "      <td>1200.0</td>\n",
       "      <td>5501540.60</td>\n",
       "      <td>24.425563</td>\n",
       "      <td>...</td>\n",
       "      <td>2</td>\n",
       "      <td>2.257729</td>\n",
       "      <td>5.4</td>\n",
       "      <td>1.30</td>\n",
       "      <td>0</td>\n",
       "      <td>3</td>\n",
       "      <td>3</td>\n",
       "      <td>8</td>\n",
       "      <td>2004</td>\n",
       "      <td>5</td>\n",
       "    </tr>\n",
       "    <tr>\n",
       "      <th>...</th>\n",
       "      <td>...</td>\n",
       "      <td>...</td>\n",
       "      <td>...</td>\n",
       "      <td>...</td>\n",
       "      <td>...</td>\n",
       "      <td>...</td>\n",
       "      <td>...</td>\n",
       "      <td>...</td>\n",
       "      <td>...</td>\n",
       "      <td>...</td>\n",
       "      <td>...</td>\n",
       "      <td>...</td>\n",
       "      <td>...</td>\n",
       "      <td>...</td>\n",
       "      <td>...</td>\n",
       "      <td>...</td>\n",
       "      <td>...</td>\n",
       "      <td>...</td>\n",
       "      <td>...</td>\n",
       "      <td>...</td>\n",
       "      <td>...</td>\n",
       "    </tr>\n",
       "    <tr>\n",
       "      <th>2005-08-23</th>\n",
       "      <td>325</td>\n",
       "      <td>84999</td>\n",
       "      <td>216712</td>\n",
       "      <td>226</td>\n",
       "      <td>7457004.46</td>\n",
       "      <td>7800.213870</td>\n",
       "      <td>0.0</td>\n",
       "      <td>1200.0</td>\n",
       "      <td>5141321.76</td>\n",
       "      <td>23.724214</td>\n",
       "      <td>...</td>\n",
       "      <td>2</td>\n",
       "      <td>2.264406</td>\n",
       "      <td>4.9</td>\n",
       "      <td>3.49</td>\n",
       "      <td>0</td>\n",
       "      <td>1</td>\n",
       "      <td>3</td>\n",
       "      <td>8</td>\n",
       "      <td>2005</td>\n",
       "      <td>23</td>\n",
       "    </tr>\n",
       "    <tr>\n",
       "      <th>2005-08-24</th>\n",
       "      <td>325</td>\n",
       "      <td>140901</td>\n",
       "      <td>466006</td>\n",
       "      <td>496</td>\n",
       "      <td>19248987.11</td>\n",
       "      <td>20521.308220</td>\n",
       "      <td>0.0</td>\n",
       "      <td>1200.0</td>\n",
       "      <td>8398192.33</td>\n",
       "      <td>18.021640</td>\n",
       "      <td>...</td>\n",
       "      <td>3</td>\n",
       "      <td>2.264406</td>\n",
       "      <td>4.9</td>\n",
       "      <td>3.50</td>\n",
       "      <td>0</td>\n",
       "      <td>2</td>\n",
       "      <td>3</td>\n",
       "      <td>8</td>\n",
       "      <td>2005</td>\n",
       "      <td>24</td>\n",
       "    </tr>\n",
       "    <tr>\n",
       "      <th>2005-08-25</th>\n",
       "      <td>325</td>\n",
       "      <td>134977</td>\n",
       "      <td>422296</td>\n",
       "      <td>442</td>\n",
       "      <td>17062480.18</td>\n",
       "      <td>17885.199350</td>\n",
       "      <td>0.0</td>\n",
       "      <td>1200.0</td>\n",
       "      <td>7772270.13</td>\n",
       "      <td>18.404792</td>\n",
       "      <td>...</td>\n",
       "      <td>3</td>\n",
       "      <td>2.264406</td>\n",
       "      <td>4.9</td>\n",
       "      <td>3.55</td>\n",
       "      <td>0</td>\n",
       "      <td>3</td>\n",
       "      <td>3</td>\n",
       "      <td>8</td>\n",
       "      <td>2005</td>\n",
       "      <td>25</td>\n",
       "    </tr>\n",
       "    <tr>\n",
       "      <th>2005-08-26</th>\n",
       "      <td>324</td>\n",
       "      <td>144548</td>\n",
       "      <td>482390</td>\n",
       "      <td>525</td>\n",
       "      <td>19215591.82</td>\n",
       "      <td>20932.017233</td>\n",
       "      <td>0.0</td>\n",
       "      <td>1200.0</td>\n",
       "      <td>8968694.40</td>\n",
       "      <td>18.592206</td>\n",
       "      <td>...</td>\n",
       "      <td>3</td>\n",
       "      <td>2.264406</td>\n",
       "      <td>4.9</td>\n",
       "      <td>3.54</td>\n",
       "      <td>0</td>\n",
       "      <td>4</td>\n",
       "      <td>3</td>\n",
       "      <td>8</td>\n",
       "      <td>2005</td>\n",
       "      <td>26</td>\n",
       "    </tr>\n",
       "    <tr>\n",
       "      <th>2005-08-27</th>\n",
       "      <td>325</td>\n",
       "      <td>174635</td>\n",
       "      <td>726056</td>\n",
       "      <td>790</td>\n",
       "      <td>29404178.67</td>\n",
       "      <td>31995.841861</td>\n",
       "      <td>0.0</td>\n",
       "      <td>1200.0</td>\n",
       "      <td>14044552.29</td>\n",
       "      <td>19.343621</td>\n",
       "      <td>...</td>\n",
       "      <td>3</td>\n",
       "      <td>2.264406</td>\n",
       "      <td>4.9</td>\n",
       "      <td>3.54</td>\n",
       "      <td>0</td>\n",
       "      <td>5</td>\n",
       "      <td>3</td>\n",
       "      <td>8</td>\n",
       "      <td>2005</td>\n",
       "      <td>27</td>\n",
       "    </tr>\n",
       "  </tbody>\n",
       "</table>\n",
       "<p>389 rows × 44 columns</p>\n",
       "</div>"
      ],
      "text/plain": [
       "            nstores    nsku  totalquantity  avgquantity     totalamt  \\\n",
       "saledate                                                               \n",
       "2004-08-01      323   61741         188073          783   6035654.36   \n",
       "2004-08-02      324   59183         177143          208   5637192.49   \n",
       "2004-08-03      324   62593         212625          233   6569613.74   \n",
       "2004-08-04      324   65689         218053          241   6874637.33   \n",
       "2004-08-05      325   68941         225237          289   7913489.50   \n",
       "...             ...     ...            ...          ...          ...   \n",
       "2005-08-23      325   84999         216712          226   7457004.46   \n",
       "2005-08-24      325  140901         466006          496  19248987.11   \n",
       "2005-08-25      325  134977         422296          442  17062480.18   \n",
       "2005-08-26      324  144548         482390          525  19215591.82   \n",
       "2005-08-27      325  174635         726056          790  29404178.67   \n",
       "\n",
       "                  avgamt  minamt  maxamt  totalorigprice  avgorigprice  ...  \\\n",
       "saledate                                                                ...   \n",
       "2004-08-01  25148.559833     0.0   895.0      4467905.60     23.756231  ...   \n",
       "2004-08-02   6624.197991     0.0  1200.0      4174584.51     23.566184  ...   \n",
       "2004-08-03   7219.355758     0.0   895.0      4833202.76     22.731112  ...   \n",
       "2004-08-04   7604.687312     0.0   895.0      4974026.91     22.811091  ...   \n",
       "2004-08-05  10184.671171     0.0  1200.0      5501540.60     24.425563  ...   \n",
       "...                  ...     ...     ...             ...           ...  ...   \n",
       "2005-08-23   7800.213870     0.0  1200.0      5141321.76     23.724214  ...   \n",
       "2005-08-24  20521.308220     0.0  1200.0      8398192.33     18.021640  ...   \n",
       "2005-08-25  17885.199350     0.0  1200.0      7772270.13     18.404792  ...   \n",
       "2005-08-26  20932.017233     0.0  1200.0      8968694.40     18.592206  ...   \n",
       "2005-08-27  31995.841861     0.0  1200.0     14044552.29     19.343621  ...   \n",
       "\n",
       "            avgvendorsstore  CORESTICKM159SFRBATL  UNRATE   DFF  hour  \\\n",
       "saledate                                                                \n",
       "2004-08-01                2              2.257729     5.4  1.29     0   \n",
       "2004-08-02                2              2.257729     5.4  1.28     0   \n",
       "2004-08-03                2              2.257729     5.4  1.24     0   \n",
       "2004-08-04                2              2.257729     5.4  1.22     0   \n",
       "2004-08-05                2              2.257729     5.4  1.30     0   \n",
       "...                     ...                   ...     ...   ...   ...   \n",
       "2005-08-23                2              2.264406     4.9  3.49     0   \n",
       "2005-08-24                3              2.264406     4.9  3.50     0   \n",
       "2005-08-25                3              2.264406     4.9  3.55     0   \n",
       "2005-08-26                3              2.264406     4.9  3.54     0   \n",
       "2005-08-27                3              2.264406     4.9  3.54     0   \n",
       "\n",
       "            dayofweek  quarter  month  year  dayofmonth  \n",
       "saledate                                                 \n",
       "2004-08-01          6        3      8  2004           1  \n",
       "2004-08-02          0        3      8  2004           2  \n",
       "2004-08-03          1        3      8  2004           3  \n",
       "2004-08-04          2        3      8  2004           4  \n",
       "2004-08-05          3        3      8  2004           5  \n",
       "...               ...      ...    ...   ...         ...  \n",
       "2005-08-23          1        3      8  2005          23  \n",
       "2005-08-24          2        3      8  2005          24  \n",
       "2005-08-25          3        3      8  2005          25  \n",
       "2005-08-26          4        3      8  2005          26  \n",
       "2005-08-27          5        3      8  2005          27  \n",
       "\n",
       "[389 rows x 44 columns]"
      ]
     },
     "execution_count": 10,
     "metadata": {},
     "output_type": "execute_result"
    }
   ],
   "source": [
    "def create_features(df):\n",
    "    \"\"\"\n",
    "    Create time series features based on time series index.\n",
    "    \"\"\"\n",
    "    df = df.copy()\n",
    "    df['hour'] = df.index.hour\n",
    "    df['dayofweek'] = df.index.dayofweek\n",
    "    df['quarter'] = df.index.quarter\n",
    "    df['month'] = df.index.month\n",
    "    df['year'] = df.index.year\n",
    "    df['dayofmonth'] = df.index.day\n",
    "    return df\n",
    "\n",
    "# create time series features\n",
    "df_ts = create_features(df_ts)\n",
    "df_ts"
   ]
  },
  {
   "cell_type": "code",
   "execution_count": 11,
   "metadata": {
    "pycharm": {
     "name": "#%%\n"
    }
   },
   "outputs": [
    {
     "data": {
      "text/plain": [
       "['nstores',\n",
       " 'nsku',\n",
       " 'totalquantity',\n",
       " 'avgquantity',\n",
       " 'totalamt',\n",
       " 'avgamt',\n",
       " 'minamt',\n",
       " 'maxamt',\n",
       " 'totalorigprice',\n",
       " 'avgorigprice',\n",
       " 'minorigprice',\n",
       " 'maxorigprice',\n",
       " 'totalretail',\n",
       " 'avgretail',\n",
       " 'minretail',\n",
       " 'maxretail',\n",
       " 'avgretailtrnsact',\n",
       " 'totalcost',\n",
       " 'avgcost',\n",
       " 'mincost',\n",
       " 'maxcost',\n",
       " 'avgcosttrnsact',\n",
       " 'totaldiscount',\n",
       " 'avgdiscounttrnsact',\n",
       " 'mindiscount',\n",
       " 'maxdiscount',\n",
       " 'totalprofit',\n",
       " 'avgprofittrnsact',\n",
       " 'minprofit',\n",
       " 'maxprofit',\n",
       " 'nstore',\n",
       " 'ncities',\n",
       " 'ndept',\n",
       " 'nvendors',\n",
       " 'avgvendorsstore']"
      ]
     },
     "execution_count": 11,
     "metadata": {},
     "output_type": "execute_result"
    }
   ],
   "source": [
    "orignal_features = list(df.columns)\n",
    "orignal_features.remove('saledate')\n",
    "orignal_features"
   ]
  },
  {
   "cell_type": "code",
   "execution_count": 12,
   "metadata": {
    "pycharm": {
     "name": "#%%\n"
    }
   },
   "outputs": [],
   "source": [
    "# TODO: add lags\n",
    "def create_lag_feature(df, column):\n",
    "    '''\n",
    "    Create time lagging features\n",
    "    '''\n",
    "    df = df.copy()\n",
    "    df[column + '_1'] = df[column].shift(1)\n",
    "    df[column + '_2'] = df[column].shift(2)\n",
    "    df[column + '_3'] = df[column].shift(3)\n",
    "    df[column + '_4'] = df[column].shift(4)\n",
    "    df[column + '_5'] = df[column].shift(5)\n",
    "    df[column + '_6'] = df[column].shift(6)\n",
    "    df[column + '_7'] = df[column].shift(7)\n",
    "    df[column + '_14'] = df[column].shift(14)\n",
    "    df[column + '_28'] = df[column].shift(28)\n",
    "    return df\n",
    "\n",
    "orignal_features = list(df.columns)\n",
    "orignal_features.remove('saledate')\n",
    "\n",
    "for col in orignal_features:\n",
    "    df_ts = create_lag_feature(df_ts, col)\n",
    "\n",
    "\n",
    "# df_model = pd.DataFrame(columns = df_ts.columns)\n",
    "# for state in df_ts['state'].drop_duplicates().tolist():\n",
    "#     df_part = df_ts[df_ts['state']==state]\n",
    "#     for col in orignal_features:\n",
    "#         df_part = create_lag_feature(df_part, col)\n",
    "#     df_model = pd.concat([df_model, df_part])\n",
    "# df_model\n",
    "\n",
    "\n"
   ]
  },
  {
   "cell_type": "code",
   "execution_count": 13,
   "metadata": {
    "collapsed": false,
    "jupyter": {
     "outputs_hidden": false
    },
    "pycharm": {
     "name": "#%%\n"
    }
   },
   "outputs": [
    {
     "data": {
      "text/html": [
       "<div>\n",
       "<style scoped>\n",
       "    .dataframe tbody tr th:only-of-type {\n",
       "        vertical-align: middle;\n",
       "    }\n",
       "\n",
       "    .dataframe tbody tr th {\n",
       "        vertical-align: top;\n",
       "    }\n",
       "\n",
       "    .dataframe thead th {\n",
       "        text-align: right;\n",
       "    }\n",
       "</style>\n",
       "<table border=\"1\" class=\"dataframe\">\n",
       "  <thead>\n",
       "    <tr style=\"text-align: right;\">\n",
       "      <th></th>\n",
       "      <th>totalprofit</th>\n",
       "      <th>CORESTICKM159SFRBATL</th>\n",
       "      <th>UNRATE</th>\n",
       "      <th>DFF</th>\n",
       "      <th>hour</th>\n",
       "      <th>dayofweek</th>\n",
       "      <th>quarter</th>\n",
       "      <th>month</th>\n",
       "      <th>year</th>\n",
       "      <th>dayofmonth</th>\n",
       "      <th>...</th>\n",
       "      <th>nvendors_28</th>\n",
       "      <th>avgvendorsstore_1</th>\n",
       "      <th>avgvendorsstore_2</th>\n",
       "      <th>avgvendorsstore_3</th>\n",
       "      <th>avgvendorsstore_4</th>\n",
       "      <th>avgvendorsstore_5</th>\n",
       "      <th>avgvendorsstore_6</th>\n",
       "      <th>avgvendorsstore_7</th>\n",
       "      <th>avgvendorsstore_14</th>\n",
       "      <th>avgvendorsstore_28</th>\n",
       "    </tr>\n",
       "    <tr>\n",
       "      <th>saledate</th>\n",
       "      <th></th>\n",
       "      <th></th>\n",
       "      <th></th>\n",
       "      <th></th>\n",
       "      <th></th>\n",
       "      <th></th>\n",
       "      <th></th>\n",
       "      <th></th>\n",
       "      <th></th>\n",
       "      <th></th>\n",
       "      <th></th>\n",
       "      <th></th>\n",
       "      <th></th>\n",
       "      <th></th>\n",
       "      <th></th>\n",
       "      <th></th>\n",
       "      <th></th>\n",
       "      <th></th>\n",
       "      <th></th>\n",
       "      <th></th>\n",
       "      <th></th>\n",
       "    </tr>\n",
       "  </thead>\n",
       "  <tbody>\n",
       "    <tr>\n",
       "      <th>2004-08-01</th>\n",
       "      <td>511060.0</td>\n",
       "      <td>2.257729</td>\n",
       "      <td>5.4</td>\n",
       "      <td>1.29</td>\n",
       "      <td>0</td>\n",
       "      <td>6</td>\n",
       "      <td>3</td>\n",
       "      <td>8</td>\n",
       "      <td>2004</td>\n",
       "      <td>1</td>\n",
       "      <td>...</td>\n",
       "      <td>NaN</td>\n",
       "      <td>NaN</td>\n",
       "      <td>NaN</td>\n",
       "      <td>NaN</td>\n",
       "      <td>NaN</td>\n",
       "      <td>NaN</td>\n",
       "      <td>NaN</td>\n",
       "      <td>NaN</td>\n",
       "      <td>NaN</td>\n",
       "      <td>NaN</td>\n",
       "    </tr>\n",
       "    <tr>\n",
       "      <th>2004-08-02</th>\n",
       "      <td>532033.0</td>\n",
       "      <td>2.257729</td>\n",
       "      <td>5.4</td>\n",
       "      <td>1.28</td>\n",
       "      <td>0</td>\n",
       "      <td>0</td>\n",
       "      <td>3</td>\n",
       "      <td>8</td>\n",
       "      <td>2004</td>\n",
       "      <td>2</td>\n",
       "      <td>...</td>\n",
       "      <td>NaN</td>\n",
       "      <td>2.0</td>\n",
       "      <td>NaN</td>\n",
       "      <td>NaN</td>\n",
       "      <td>NaN</td>\n",
       "      <td>NaN</td>\n",
       "      <td>NaN</td>\n",
       "      <td>NaN</td>\n",
       "      <td>NaN</td>\n",
       "      <td>NaN</td>\n",
       "    </tr>\n",
       "    <tr>\n",
       "      <th>2004-08-03</th>\n",
       "      <td>659895.0</td>\n",
       "      <td>2.257729</td>\n",
       "      <td>5.4</td>\n",
       "      <td>1.24</td>\n",
       "      <td>0</td>\n",
       "      <td>1</td>\n",
       "      <td>3</td>\n",
       "      <td>8</td>\n",
       "      <td>2004</td>\n",
       "      <td>3</td>\n",
       "      <td>...</td>\n",
       "      <td>NaN</td>\n",
       "      <td>2.0</td>\n",
       "      <td>2.0</td>\n",
       "      <td>NaN</td>\n",
       "      <td>NaN</td>\n",
       "      <td>NaN</td>\n",
       "      <td>NaN</td>\n",
       "      <td>NaN</td>\n",
       "      <td>NaN</td>\n",
       "      <td>NaN</td>\n",
       "    </tr>\n",
       "    <tr>\n",
       "      <th>2004-08-04</th>\n",
       "      <td>631430.0</td>\n",
       "      <td>2.257729</td>\n",
       "      <td>5.4</td>\n",
       "      <td>1.22</td>\n",
       "      <td>0</td>\n",
       "      <td>2</td>\n",
       "      <td>3</td>\n",
       "      <td>8</td>\n",
       "      <td>2004</td>\n",
       "      <td>4</td>\n",
       "      <td>...</td>\n",
       "      <td>NaN</td>\n",
       "      <td>2.0</td>\n",
       "      <td>2.0</td>\n",
       "      <td>2.0</td>\n",
       "      <td>NaN</td>\n",
       "      <td>NaN</td>\n",
       "      <td>NaN</td>\n",
       "      <td>NaN</td>\n",
       "      <td>NaN</td>\n",
       "      <td>NaN</td>\n",
       "    </tr>\n",
       "    <tr>\n",
       "      <th>2004-08-05</th>\n",
       "      <td>635209.0</td>\n",
       "      <td>2.257729</td>\n",
       "      <td>5.4</td>\n",
       "      <td>1.30</td>\n",
       "      <td>0</td>\n",
       "      <td>3</td>\n",
       "      <td>3</td>\n",
       "      <td>8</td>\n",
       "      <td>2004</td>\n",
       "      <td>5</td>\n",
       "      <td>...</td>\n",
       "      <td>NaN</td>\n",
       "      <td>2.0</td>\n",
       "      <td>2.0</td>\n",
       "      <td>2.0</td>\n",
       "      <td>2.0</td>\n",
       "      <td>NaN</td>\n",
       "      <td>NaN</td>\n",
       "      <td>NaN</td>\n",
       "      <td>NaN</td>\n",
       "      <td>NaN</td>\n",
       "    </tr>\n",
       "    <tr>\n",
       "      <th>...</th>\n",
       "      <td>...</td>\n",
       "      <td>...</td>\n",
       "      <td>...</td>\n",
       "      <td>...</td>\n",
       "      <td>...</td>\n",
       "      <td>...</td>\n",
       "      <td>...</td>\n",
       "      <td>...</td>\n",
       "      <td>...</td>\n",
       "      <td>...</td>\n",
       "      <td>...</td>\n",
       "      <td>...</td>\n",
       "      <td>...</td>\n",
       "      <td>...</td>\n",
       "      <td>...</td>\n",
       "      <td>...</td>\n",
       "      <td>...</td>\n",
       "      <td>...</td>\n",
       "      <td>...</td>\n",
       "      <td>...</td>\n",
       "      <td>...</td>\n",
       "    </tr>\n",
       "    <tr>\n",
       "      <th>2005-08-23</th>\n",
       "      <td>1477840.0</td>\n",
       "      <td>2.264406</td>\n",
       "      <td>4.9</td>\n",
       "      <td>3.49</td>\n",
       "      <td>0</td>\n",
       "      <td>1</td>\n",
       "      <td>3</td>\n",
       "      <td>8</td>\n",
       "      <td>2005</td>\n",
       "      <td>23</td>\n",
       "      <td>...</td>\n",
       "      <td>968.0</td>\n",
       "      <td>2.0</td>\n",
       "      <td>2.0</td>\n",
       "      <td>3.0</td>\n",
       "      <td>3.0</td>\n",
       "      <td>3.0</td>\n",
       "      <td>2.0</td>\n",
       "      <td>2.0</td>\n",
       "      <td>2.0</td>\n",
       "      <td>2.0</td>\n",
       "    </tr>\n",
       "    <tr>\n",
       "      <th>2005-08-24</th>\n",
       "      <td>1982620.0</td>\n",
       "      <td>2.264406</td>\n",
       "      <td>4.9</td>\n",
       "      <td>3.50</td>\n",
       "      <td>0</td>\n",
       "      <td>2</td>\n",
       "      <td>3</td>\n",
       "      <td>8</td>\n",
       "      <td>2005</td>\n",
       "      <td>24</td>\n",
       "      <td>...</td>\n",
       "      <td>1073.0</td>\n",
       "      <td>2.0</td>\n",
       "      <td>2.0</td>\n",
       "      <td>2.0</td>\n",
       "      <td>3.0</td>\n",
       "      <td>3.0</td>\n",
       "      <td>3.0</td>\n",
       "      <td>2.0</td>\n",
       "      <td>2.0</td>\n",
       "      <td>3.0</td>\n",
       "    </tr>\n",
       "    <tr>\n",
       "      <th>2005-08-25</th>\n",
       "      <td>1943150.0</td>\n",
       "      <td>2.264406</td>\n",
       "      <td>4.9</td>\n",
       "      <td>3.55</td>\n",
       "      <td>0</td>\n",
       "      <td>3</td>\n",
       "      <td>3</td>\n",
       "      <td>8</td>\n",
       "      <td>2005</td>\n",
       "      <td>25</td>\n",
       "      <td>...</td>\n",
       "      <td>1069.0</td>\n",
       "      <td>3.0</td>\n",
       "      <td>2.0</td>\n",
       "      <td>2.0</td>\n",
       "      <td>2.0</td>\n",
       "      <td>3.0</td>\n",
       "      <td>3.0</td>\n",
       "      <td>3.0</td>\n",
       "      <td>2.0</td>\n",
       "      <td>3.0</td>\n",
       "    </tr>\n",
       "    <tr>\n",
       "      <th>2005-08-26</th>\n",
       "      <td>2344460.0</td>\n",
       "      <td>2.264406</td>\n",
       "      <td>4.9</td>\n",
       "      <td>3.54</td>\n",
       "      <td>0</td>\n",
       "      <td>4</td>\n",
       "      <td>3</td>\n",
       "      <td>8</td>\n",
       "      <td>2005</td>\n",
       "      <td>26</td>\n",
       "      <td>...</td>\n",
       "      <td>1054.0</td>\n",
       "      <td>3.0</td>\n",
       "      <td>3.0</td>\n",
       "      <td>2.0</td>\n",
       "      <td>2.0</td>\n",
       "      <td>2.0</td>\n",
       "      <td>3.0</td>\n",
       "      <td>3.0</td>\n",
       "      <td>3.0</td>\n",
       "      <td>3.0</td>\n",
       "    </tr>\n",
       "    <tr>\n",
       "      <th>2005-08-27</th>\n",
       "      <td>3903930.0</td>\n",
       "      <td>2.264406</td>\n",
       "      <td>4.9</td>\n",
       "      <td>3.54</td>\n",
       "      <td>0</td>\n",
       "      <td>5</td>\n",
       "      <td>3</td>\n",
       "      <td>8</td>\n",
       "      <td>2005</td>\n",
       "      <td>27</td>\n",
       "      <td>...</td>\n",
       "      <td>1091.0</td>\n",
       "      <td>3.0</td>\n",
       "      <td>3.0</td>\n",
       "      <td>3.0</td>\n",
       "      <td>2.0</td>\n",
       "      <td>2.0</td>\n",
       "      <td>2.0</td>\n",
       "      <td>3.0</td>\n",
       "      <td>3.0</td>\n",
       "      <td>3.0</td>\n",
       "    </tr>\n",
       "  </tbody>\n",
       "</table>\n",
       "<p>389 rows × 325 columns</p>\n",
       "</div>"
      ],
      "text/plain": [
       "            totalprofit  CORESTICKM159SFRBATL  UNRATE   DFF  hour  dayofweek  \\\n",
       "saledate                                                                       \n",
       "2004-08-01     511060.0              2.257729     5.4  1.29     0          6   \n",
       "2004-08-02     532033.0              2.257729     5.4  1.28     0          0   \n",
       "2004-08-03     659895.0              2.257729     5.4  1.24     0          1   \n",
       "2004-08-04     631430.0              2.257729     5.4  1.22     0          2   \n",
       "2004-08-05     635209.0              2.257729     5.4  1.30     0          3   \n",
       "...                 ...                   ...     ...   ...   ...        ...   \n",
       "2005-08-23    1477840.0              2.264406     4.9  3.49     0          1   \n",
       "2005-08-24    1982620.0              2.264406     4.9  3.50     0          2   \n",
       "2005-08-25    1943150.0              2.264406     4.9  3.55     0          3   \n",
       "2005-08-26    2344460.0              2.264406     4.9  3.54     0          4   \n",
       "2005-08-27    3903930.0              2.264406     4.9  3.54     0          5   \n",
       "\n",
       "            quarter  month  year  dayofmonth  ...  nvendors_28  \\\n",
       "saledate                                      ...                \n",
       "2004-08-01        3      8  2004           1  ...          NaN   \n",
       "2004-08-02        3      8  2004           2  ...          NaN   \n",
       "2004-08-03        3      8  2004           3  ...          NaN   \n",
       "2004-08-04        3      8  2004           4  ...          NaN   \n",
       "2004-08-05        3      8  2004           5  ...          NaN   \n",
       "...             ...    ...   ...         ...  ...          ...   \n",
       "2005-08-23        3      8  2005          23  ...        968.0   \n",
       "2005-08-24        3      8  2005          24  ...       1073.0   \n",
       "2005-08-25        3      8  2005          25  ...       1069.0   \n",
       "2005-08-26        3      8  2005          26  ...       1054.0   \n",
       "2005-08-27        3      8  2005          27  ...       1091.0   \n",
       "\n",
       "            avgvendorsstore_1  avgvendorsstore_2  avgvendorsstore_3  \\\n",
       "saledate                                                              \n",
       "2004-08-01                NaN                NaN                NaN   \n",
       "2004-08-02                2.0                NaN                NaN   \n",
       "2004-08-03                2.0                2.0                NaN   \n",
       "2004-08-04                2.0                2.0                2.0   \n",
       "2004-08-05                2.0                2.0                2.0   \n",
       "...                       ...                ...                ...   \n",
       "2005-08-23                2.0                2.0                3.0   \n",
       "2005-08-24                2.0                2.0                2.0   \n",
       "2005-08-25                3.0                2.0                2.0   \n",
       "2005-08-26                3.0                3.0                2.0   \n",
       "2005-08-27                3.0                3.0                3.0   \n",
       "\n",
       "            avgvendorsstore_4  avgvendorsstore_5  avgvendorsstore_6  \\\n",
       "saledate                                                              \n",
       "2004-08-01                NaN                NaN                NaN   \n",
       "2004-08-02                NaN                NaN                NaN   \n",
       "2004-08-03                NaN                NaN                NaN   \n",
       "2004-08-04                NaN                NaN                NaN   \n",
       "2004-08-05                2.0                NaN                NaN   \n",
       "...                       ...                ...                ...   \n",
       "2005-08-23                3.0                3.0                2.0   \n",
       "2005-08-24                3.0                3.0                3.0   \n",
       "2005-08-25                2.0                3.0                3.0   \n",
       "2005-08-26                2.0                2.0                3.0   \n",
       "2005-08-27                2.0                2.0                2.0   \n",
       "\n",
       "            avgvendorsstore_7  avgvendorsstore_14  avgvendorsstore_28  \n",
       "saledate                                                               \n",
       "2004-08-01                NaN                 NaN                 NaN  \n",
       "2004-08-02                NaN                 NaN                 NaN  \n",
       "2004-08-03                NaN                 NaN                 NaN  \n",
       "2004-08-04                NaN                 NaN                 NaN  \n",
       "2004-08-05                NaN                 NaN                 NaN  \n",
       "...                       ...                 ...                 ...  \n",
       "2005-08-23                2.0                 2.0                 2.0  \n",
       "2005-08-24                2.0                 2.0                 3.0  \n",
       "2005-08-25                3.0                 2.0                 3.0  \n",
       "2005-08-26                3.0                 3.0                 3.0  \n",
       "2005-08-27                3.0                 3.0                 3.0  \n",
       "\n",
       "[389 rows x 325 columns]"
      ]
     },
     "execution_count": 13,
     "metadata": {},
     "output_type": "execute_result"
    }
   ],
   "source": [
    "orignal_features.remove('totalprofit')\n",
    "df_model = df_ts\n",
    "df_ts_lagged = df_model.drop(orignal_features, axis=1)\n",
    "df_ts_lagged"
   ]
  },
  {
   "cell_type": "code",
   "execution_count": 14,
   "metadata": {
    "pycharm": {
     "name": "#%%\n"
    }
   },
   "outputs": [
    {
     "name": "stdout",
     "output_type": "stream",
     "text": [
      "<class 'pandas.core.frame.DataFrame'>\n",
      "DatetimeIndex: 389 entries, 2004-08-01 to 2005-08-27\n",
      "Columns: 325 entries, totalprofit to avgvendorsstore_28\n",
      "dtypes: float64(319), int64(6)\n",
      "memory usage: 990.7 KB\n"
     ]
    }
   ],
   "source": [
    "# one hot encoding for state variable\n",
    "df_ts_lagged = pd.get_dummies(df_ts_lagged)\n",
    "df_ts_lagged.info()\n"
   ]
  },
  {
   "cell_type": "markdown",
   "metadata": {
    "pycharm": {
     "name": "#%% md\n"
    }
   },
   "source": [
    "# Modeling:"
   ]
  },
  {
   "cell_type": "code",
   "execution_count": 15,
   "metadata": {
    "pycharm": {
     "name": "#%%\n"
    }
   },
   "outputs": [
    {
     "data": {
      "image/png": "[encoded data removed]",
      "text/plain": [
       "<Figure size 1080x360 with 1 Axes>"
      ]
     },
     "metadata": {
      "needs_background": "light"
     },
     "output_type": "display_data"
    }
   ],
   "source": [
    "df_ts = df_ts_lagged\n",
    "# df_ts.loc['2005-07-30', 'totalprofit'] = df_ts.loc['2005-07-29', 'totalprofit']\n",
    "leftout = df_ts.loc[df_ts.index >= '08-01-2005']\n",
    "df_ts = df_ts.loc[df_ts.index < '08-01-2005']\n",
    "# train_test split\n",
    "train = df_ts.loc[df_ts.index < '07-01-2005']\n",
    "test = df_ts.loc[df_ts.index >= '07-01-2005']\n",
    "# plot the train test dataset\n",
    "train_ts_draw = train[\"totalprofit\"]\n",
    "test_ts_draw = test[\"totalprofit\"]\n",
    "fig, ax = plt.subplots(figsize=(15, 5))\n",
    "train_ts_draw.plot(ax=ax, label='Training Set', title='Data Train/Test Split')\n",
    "test_ts_draw.plot(ax=ax, label='Test Set')\n",
    "ax.legend(['Training Set', 'Test Set'])\n",
    "plt.show()"
   ]
  },
  {
   "cell_type": "markdown",
   "metadata": {
    "pycharm": {
     "name": "#%% md\n"
    }
   },
   "source": [
    "# Scaling Data"
   ]
  },
  {
   "cell_type": "code",
   "execution_count": 16,
   "metadata": {
    "pycharm": {
     "name": "#%%\n"
    }
   },
   "outputs": [],
   "source": [
    "# split the data with labels\n",
    "X_train = train.drop('totalprofit', axis = 1)\n",
    "y_train = train['totalprofit']\n",
    "X_test = test.drop('totalprofit', axis = 1)\n",
    "y_test = test['totalprofit']"
   ]
  },
  {
   "cell_type": "code",
   "execution_count": 17,
   "metadata": {
    "pycharm": {
     "name": "#%%\n"
    }
   },
   "outputs": [],
   "source": [
    "# standardlize data\n",
    "from sklearn.preprocessing import StandardScaler\n",
    "sc = StandardScaler()\n",
    "sc.fit(X_train)\n",
    "standardX_train = sc.transform(X_train)\n",
    "standardX_test = sc.transform(X_test)\n",
    "X_Train_standardlized = pd.DataFrame(standardX_train, columns = list(X_train.columns))\n",
    "X_Test_standardlized = pd.DataFrame(standardX_test, columns = list(X_test.columns))\n"
   ]
  },
  {
   "cell_type": "code",
   "execution_count": 18,
   "metadata": {
    "pycharm": {
     "name": "#%%\n"
    }
   },
   "outputs": [],
   "source": [
    "# minmaxScale the data\n",
    "from sklearn.preprocessing import MinMaxScaler\n",
    "mc = MinMaxScaler()\n",
    "mc.fit(X_train)\n",
    "minMaxX_train = mc.transform(X_train)\n",
    "minMaxX_test = mc.transform(X_test)\n",
    "X_Train_minmax = pd.DataFrame(minMaxX_train, columns = list(X_train.columns))\n",
    "X_Test_minmax = pd.DataFrame(minMaxX_test, columns = list(X_test.columns))\n"
   ]
  },
  {
   "cell_type": "markdown",
   "metadata": {
    "pycharm": {
     "name": "#%% md\n"
    }
   },
   "source": [
    "# XGboost Model"
   ]
  },
  {
   "cell_type": "code",
   "execution_count": 19,
   "metadata": {
    "collapsed": false,
    "jupyter": {
     "outputs_hidden": false
    },
    "pycharm": {
     "name": "#%%\n"
    }
   },
   "outputs": [],
   "source": [
    "# do time series train test split\n",
    "from sklearn.model_selection import TimeSeriesSplit\n",
    "cv = TimeSeriesSplit(gap=0, max_train_size=None, n_splits=5, test_size=None)\n",
    "\n",
    "import sklearn.metrics as metrics\n",
    "def show_results(y_true, y_pred):\n",
    "    # Regression metrics\n",
    "    explained_variance=metrics.explained_variance_score(y_true, y_pred)\n",
    "    mean_absolute_error=metrics.mean_absolute_error(y_true, y_pred) \n",
    "    mse=metrics.mean_squared_error(y_true, y_pred) \n",
    "    r2=metrics.r2_score(y_true, y_pred)\n",
    "    print('explained_variance: ', round(explained_variance,4))    \n",
    "    print('r2: ', round(r2,4))\n",
    "    print('MAE: ', round(mean_absolute_error,4))\n",
    "    print('MSE: ', round(mse,4))\n",
    "    print('RMSE: ', round(np.sqrt(mse),4))\n",
    "    "
   ]
  },
  {
   "cell_type": "code",
   "execution_count": 20,
   "metadata": {
    "collapsed": false,
    "jupyter": {
     "outputs_hidden": false
    },
    "pycharm": {
     "name": "#%%\n"
    }
   },
   "outputs": [
    {
     "name": "stdout",
     "output_type": "stream",
     "text": [
      "Fitting 5 folds for each of 100 candidates, totalling 500 fits\n"
     ]
    },
    {
     "data": {
      "text/html": [
       "<style>#sk-container-id-1 {color: black;background-color: white;}#sk-container-id-1 pre{padding: 0;}#sk-container-id-1 div.sk-toggleable {background-color: white;}#sk-container-id-1 label.sk-toggleable__label {cursor: pointer;display: block;width: 100%;margin-bottom: 0;padding: 0.3em;box-sizing: border-box;text-align: center;}#sk-container-id-1 label.sk-toggleable__label-arrow:before {content: \"▸\";float: left;margin-right: 0.25em;color: #696969;}#sk-container-id-1 label.sk-toggleable__label-arrow:hover:before {color: black;}#sk-container-id-1 div.sk-estimator:hover label.sk-toggleable__label-arrow:before {color: black;}#sk-container-id-1 div.sk-toggleable__content {max-height: 0;max-width: 0;overflow: hidden;text-align: left;background-color: #f0f8ff;}#sk-container-id-1 div.sk-toggleable__content pre {margin: 0.2em;color: black;border-radius: 0.25em;background-color: #f0f8ff;}#sk-container-id-1 input.sk-toggleable__control:checked~div.sk-toggleable__content {max-height: 200px;max-width: 100%;overflow: auto;}#sk-container-id-1 input.sk-toggleable__control:checked~label.sk-toggleable__label-arrow:before {content: \"▾\";}#sk-container-id-1 div.sk-estimator input.sk-toggleable__control:checked~label.sk-toggleable__label {background-color: #d4ebff;}#sk-container-id-1 div.sk-label input.sk-toggleable__control:checked~label.sk-toggleable__label {background-color: #d4ebff;}#sk-container-id-1 input.sk-hidden--visually {border: 0;clip: rect(1px 1px 1px 1px);clip: rect(1px, 1px, 1px, 1px);height: 1px;margin: -1px;overflow: hidden;padding: 0;position: absolute;width: 1px;}#sk-container-id-1 div.sk-estimator {font-family: monospace;background-color: #f0f8ff;border: 1px dotted black;border-radius: 0.25em;box-sizing: border-box;margin-bottom: 0.5em;}#sk-container-id-1 div.sk-estimator:hover {background-color: #d4ebff;}#sk-container-id-1 div.sk-parallel-item::after {content: \"\";width: 100%;border-bottom: 1px solid gray;flex-grow: 1;}#sk-container-id-1 div.sk-label:hover label.sk-toggleable__label {background-color: #d4ebff;}#sk-container-id-1 div.sk-serial::before {content: \"\";position: absolute;border-left: 1px solid gray;box-sizing: border-box;top: 0;bottom: 0;left: 50%;z-index: 0;}#sk-container-id-1 div.sk-serial {display: flex;flex-direction: column;align-items: center;background-color: white;padding-right: 0.2em;padding-left: 0.2em;position: relative;}#sk-container-id-1 div.sk-item {position: relative;z-index: 1;}#sk-container-id-1 div.sk-parallel {display: flex;align-items: stretch;justify-content: center;background-color: white;position: relative;}#sk-container-id-1 div.sk-item::before, #sk-container-id-1 div.sk-parallel-item::before {content: \"\";position: absolute;border-left: 1px solid gray;box-sizing: border-box;top: 0;bottom: 0;left: 50%;z-index: -1;}#sk-container-id-1 div.sk-parallel-item {display: flex;flex-direction: column;z-index: 1;position: relative;background-color: white;}#sk-container-id-1 div.sk-parallel-item:first-child::after {align-self: flex-end;width: 50%;}#sk-container-id-1 div.sk-parallel-item:last-child::after {align-self: flex-start;width: 50%;}#sk-container-id-1 div.sk-parallel-item:only-child::after {width: 0;}#sk-container-id-1 div.sk-dashed-wrapped {border: 1px dashed gray;margin: 0 0.4em 0.5em 0.4em;box-sizing: border-box;padding-bottom: 0.4em;background-color: white;}#sk-container-id-1 div.sk-label label {font-family: monospace;font-weight: bold;display: inline-block;line-height: 1.2em;}#sk-container-id-1 div.sk-label-container {text-align: center;}#sk-container-id-1 div.sk-container {/* jupyter's `normalize.less` sets `[hidden] { display: none; }` but bootstrap.min.css set `[hidden] { display: none !important; }` so we also need the `!important` here to be able to override the default hidden behavior on the sphinx rendered scikit-learn.org. See: https://github.com/scikit-learn/scikit-learn/issues/21755 */display: inline-block !important;position: relative;}#sk-container-id-1 div.sk-text-repr-fallback {display: none;}</style><div id=\"sk-container-id-1\" class=\"sk-top-container\"><div class=\"sk-text-repr-fallback\"><pre>RandomizedSearchCV(cv=TimeSeriesSplit(gap=0, max_train_size=None, n_splits=5, test_size=None),\n",
       "                   estimator=XGBRegressor(base_score=None, booster=None,\n",
       "                                          callbacks=None,\n",
       "                                          colsample_bylevel=None,\n",
       "                                          colsample_bynode=None,\n",
       "                                          colsample_bytree=None,\n",
       "                                          early_stopping_rounds=None,\n",
       "                                          enable_categorical=False,\n",
       "                                          eval_metric=None, feature_types=None,\n",
       "                                          gamma=None, gpu_id=None,\n",
       "                                          grow_policy=No...\n",
       "                                          min_child_weight=None, missing=nan,\n",
       "                                          monotone_constraints=None,\n",
       "                                          n_estimators=100, n_jobs=None,\n",
       "                                          num_parallel_tree=None,\n",
       "                                          predictor=None, random_state=None, ...),\n",
       "                   n_iter=100, n_jobs=-1,\n",
       "                   param_distributions={&#x27;learning_rate&#x27;: [0.1, 0.01, 0.01],\n",
       "                                        &#x27;max_depth&#x27;: range(3, 10, 2),\n",
       "                                        &#x27;min_child_weight&#x27;: range(1, 6, 2),\n",
       "                                        &#x27;n_estimators&#x27;: [100, 500, 1000]},\n",
       "                   random_state=1, scoring=&#x27;r2&#x27;, verbose=3)</pre><b>In a Jupyter environment, please rerun this cell to show the HTML representation or trust the notebook. <br />On GitHub, the HTML representation is unable to render, please try loading this page with nbviewer.org.</b></div><div class=\"sk-container\" hidden><div class=\"sk-item sk-dashed-wrapped\"><div class=\"sk-label-container\"><div class=\"sk-label sk-toggleable\"><input class=\"sk-toggleable__control sk-hidden--visually\" id=\"sk-estimator-id-1\" type=\"checkbox\" ><label for=\"sk-estimator-id-1\" class=\"sk-toggleable__label sk-toggleable__label-arrow\">RandomizedSearchCV</label><div class=\"sk-toggleable__content\"><pre>RandomizedSearchCV(cv=TimeSeriesSplit(gap=0, max_train_size=None, n_splits=5, test_size=None),\n",
       "                   estimator=XGBRegressor(base_score=None, booster=None,\n",
       "                                          callbacks=None,\n",
       "                                          colsample_bylevel=None,\n",
       "                                          colsample_bynode=None,\n",
       "                                          colsample_bytree=None,\n",
       "                                          early_stopping_rounds=None,\n",
       "                                          enable_categorical=False,\n",
       "                                          eval_metric=None, feature_types=None,\n",
       "                                          gamma=None, gpu_id=None,\n",
       "                                          grow_policy=No...\n",
       "                                          min_child_weight=None, missing=nan,\n",
       "                                          monotone_constraints=None,\n",
       "                                          n_estimators=100, n_jobs=None,\n",
       "                                          num_parallel_tree=None,\n",
       "                                          predictor=None, random_state=None, ...),\n",
       "                   n_iter=100, n_jobs=-1,\n",
       "                   param_distributions={&#x27;learning_rate&#x27;: [0.1, 0.01, 0.01],\n",
       "                                        &#x27;max_depth&#x27;: range(3, 10, 2),\n",
       "                                        &#x27;min_child_weight&#x27;: range(1, 6, 2),\n",
       "                                        &#x27;n_estimators&#x27;: [100, 500, 1000]},\n",
       "                   random_state=1, scoring=&#x27;r2&#x27;, verbose=3)</pre></div></div></div><div class=\"sk-parallel\"><div class=\"sk-parallel-item\"><div class=\"sk-item\"><div class=\"sk-label-container\"><div class=\"sk-label sk-toggleable\"><input class=\"sk-toggleable__control sk-hidden--visually\" id=\"sk-estimator-id-2\" type=\"checkbox\" ><label for=\"sk-estimator-id-2\" class=\"sk-toggleable__label sk-toggleable__label-arrow\">estimator: XGBRegressor</label><div class=\"sk-toggleable__content\"><pre>XGBRegressor(base_score=None, booster=None, callbacks=None,\n",
       "             colsample_bylevel=None, colsample_bynode=None,\n",
       "             colsample_bytree=None, early_stopping_rounds=None,\n",
       "             enable_categorical=False, eval_metric=None, feature_types=None,\n",
       "             gamma=None, gpu_id=None, grow_policy=None, importance_type=None,\n",
       "             interaction_constraints=None, learning_rate=None, max_bin=None,\n",
       "             max_cat_threshold=None, max_cat_to_onehot=None,\n",
       "             max_delta_step=None, max_depth=None, max_leaves=None,\n",
       "             min_child_weight=None, missing=nan, monotone_constraints=None,\n",
       "             n_estimators=100, n_jobs=None, num_parallel_tree=None,\n",
       "             predictor=None, random_state=None, ...)</pre></div></div></div><div class=\"sk-serial\"><div class=\"sk-item\"><div class=\"sk-estimator sk-toggleable\"><input class=\"sk-toggleable__control sk-hidden--visually\" id=\"sk-estimator-id-3\" type=\"checkbox\" ><label for=\"sk-estimator-id-3\" class=\"sk-toggleable__label sk-toggleable__label-arrow\">XGBRegressor</label><div class=\"sk-toggleable__content\"><pre>XGBRegressor(base_score=None, booster=None, callbacks=None,\n",
       "             colsample_bylevel=None, colsample_bynode=None,\n",
       "             colsample_bytree=None, early_stopping_rounds=None,\n",
       "             enable_categorical=False, eval_metric=None, feature_types=None,\n",
       "             gamma=None, gpu_id=None, grow_policy=None, importance_type=None,\n",
       "             interaction_constraints=None, learning_rate=None, max_bin=None,\n",
       "             max_cat_threshold=None, max_cat_to_onehot=None,\n",
       "             max_delta_step=None, max_depth=None, max_leaves=None,\n",
       "             min_child_weight=None, missing=nan, monotone_constraints=None,\n",
       "             n_estimators=100, n_jobs=None, num_parallel_tree=None,\n",
       "             predictor=None, random_state=None, ...)</pre></div></div></div></div></div></div></div></div></div></div>"
      ],
      "text/plain": [
       "RandomizedSearchCV(cv=TimeSeriesSplit(gap=0, max_train_size=None, n_splits=5, test_size=None),\n",
       "                   estimator=XGBRegressor(base_score=None, booster=None,\n",
       "                                          callbacks=None,\n",
       "                                          colsample_bylevel=None,\n",
       "                                          colsample_bynode=None,\n",
       "                                          colsample_bytree=None,\n",
       "                                          early_stopping_rounds=None,\n",
       "                                          enable_categorical=False,\n",
       "                                          eval_metric=None, feature_types=None,\n",
       "                                          gamma=None, gpu_id=None,\n",
       "                                          grow_policy=No...\n",
       "                                          min_child_weight=None, missing=nan,\n",
       "                                          monotone_constraints=None,\n",
       "                                          n_estimators=100, n_jobs=None,\n",
       "                                          num_parallel_tree=None,\n",
       "                                          predictor=None, random_state=None, ...),\n",
       "                   n_iter=100, n_jobs=-1,\n",
       "                   param_distributions={'learning_rate': [0.1, 0.01, 0.01],\n",
       "                                        'max_depth': range(3, 10, 2),\n",
       "                                        'min_child_weight': range(1, 6, 2),\n",
       "                                        'n_estimators': [100, 500, 1000]},\n",
       "                   random_state=1, scoring='r2', verbose=3)"
      ]
     },
     "execution_count": 20,
     "metadata": {},
     "output_type": "execute_result"
    }
   ],
   "source": [
    "# tune the XGBoost model\n",
    "import xgboost as xgb\n",
    "from sklearn.model_selection import RandomizedSearchCV\n",
    "from sklearn.model_selection import GridSearchCV\n",
    "\n",
    "# clf = GridSearchCV(estimator=xgbr,\n",
    "#                    param_grid=params,\n",
    "#                    cv=cv,\n",
    "#                    scoring='neg_mean_squared_error',\n",
    "#                    verbose=1)\n",
    "params = { 'max_depth': range(3,10,2),\n",
    "            'min_child_weight':range(1,6,2),\n",
    "           'learning_rate': [0.1,0.01,0.01],\n",
    "           'n_estimators': [100, 500, 1000],\n",
    "           }\n",
    "xgbr = xgb.XGBRegressor(seed = 400)\n",
    "clf = RandomizedSearchCV(xgbr, params, n_iter = 100, n_jobs=-1, scoring='r2',cv=cv, random_state=1,verbose = 3)\n",
    "clf.fit(X_train, y_train,verbose=100)"
   ]
  },
  {
   "cell_type": "code",
   "execution_count": null,
   "metadata": {
    "pycharm": {
     "name": "#%%\n"
    }
   },
   "outputs": [],
   "source": [
    "# use the tuned results to fit the xgboost regressor model\n",
    "reg_tuned = clf.best_estimator_\n",
    "reg_tuned.fit(X_train, y_train,\n",
    "        eval_set=[(X_train, y_train), (X_test, y_test)],\n",
    "        verbose=1)"
   ]
  },
  {
   "cell_type": "code",
   "execution_count": 22,
   "metadata": {
    "pycharm": {
     "name": "#%%\n"
    }
   },
   "outputs": [
    {
     "data": {
      "text/plain": [
       "<AxesSubplot: title={'center': 'Feature importance'}, xlabel='F score', ylabel='Features'>"
      ]
     },
     "execution_count": 22,
     "metadata": {},
     "output_type": "execute_result"
    },
    {
     "data": {
      "image/png": "[encoded data removed]",
      "text/plain": [
       "<Figure size 432x288 with 1 Axes>"
      ]
     },
     "metadata": {
      "needs_background": "light"
     },
     "output_type": "display_data"
    }
   ],
   "source": [
    "from xgboost import plot_importance, plot_tree\n",
    "# get the variable importance of XGboost model\n",
    "plot_importance(reg_tuned,max_num_features=10,height=0.9)\n",
    "\n"
   ]
  },
  {
   "cell_type": "code",
   "execution_count": 23,
   "metadata": {
    "pycharm": {
     "name": "#%%\n"
    }
   },
   "outputs": [],
   "source": [
    "# do the prediction\n",
    "y_pred = reg_tuned.predict(X_test)\n",
    "X_test['prediction'] = y_pred\n",
    "test_pred = pd.concat([X_test, X_train], sort=False)"
   ]
  },
  {
   "cell_type": "code",
   "execution_count": 24,
   "metadata": {
    "pycharm": {
     "name": "#%%\n"
    }
   },
   "outputs": [
    {
     "data": {
      "image/png": "[encoded data removed]",
      "text/plain": [
       "<Figure size 1080x360 with 1 Axes>"
      ]
     },
     "metadata": {
      "needs_background": "light"
     },
     "output_type": "display_data"
    }
   ],
   "source": [
    "# graph the distribution of prediction vs actual\n",
    "test_ts_draw = test[\"totalprofit\"]\n",
    "test_prediction = test_pred[\"prediction\"]\n",
    "fig, ax = plt.subplots(figsize=(15, 5))\n",
    "test_prediction.plot(ax=ax, label='prediction Set', title='Train_Test_comparison')\n",
    "test_ts_draw.plot(ax=ax, label='Test Set')\n",
    "ax.legend(['prediction Set', 'Test Set'])\n",
    "plt.show()"
   ]
  },
  {
   "cell_type": "code",
   "execution_count": 25,
   "metadata": {},
   "outputs": [
    {
     "data": {
      "image/png": "[encoded data removed]",
      "text/plain": [
       "<Figure size 1080x360 with 1 Axes>"
      ]
     },
     "metadata": {
      "needs_background": "light"
     },
     "output_type": "display_data"
    }
   ],
   "source": [
    "# graph the distribution of prediction vs actual\n",
    "train_ts_draw = train[\"totalprofit\"]\n",
    "test_ts_draw = test[\"totalprofit\"]\n",
    "test_prediction = test_pred[\"prediction\"]\n",
    "fig, ax = plt.subplots(figsize=(15, 5))\n",
    "train_ts_draw.plot(ax=ax, label='Training Set', title='Data Train/Test Split')\n",
    "test_ts_draw.plot(ax=ax, label='Test Set')\n",
    "test_prediction.plot(ax=ax, label='Predictions')\n",
    "ax.legend(['Training Set', 'Test Set','Predictions'])\n",
    "plt.show()"
   ]
  },
  {
   "cell_type": "code",
   "execution_count": 27,
   "metadata": {
    "pycharm": {
     "name": "#%%\n"
    }
   },
   "outputs": [
    {
     "name": "stdout",
     "output_type": "stream",
     "text": [
      "explained_variance:  0.3426\n",
      "r2:  0.1953\n",
      "MAE:  313892.9657\n",
      "MSE:  265609305525.304\n",
      "RMSE:  515372.9771\n"
     ]
    }
   ],
   "source": [
    "show_results(y_test, y_pred)"
   ]
  },
  {
   "cell_type": "code",
   "execution_count": 28,
   "metadata": {
    "collapsed": false,
    "jupyter": {
     "outputs_hidden": false
    },
    "pycharm": {
     "name": "#%%\n"
    }
   },
   "outputs": [
    {
     "data": {
      "text/html": [
       "<style>#sk-container-id-3 {color: black;background-color: white;}#sk-container-id-3 pre{padding: 0;}#sk-container-id-3 div.sk-toggleable {background-color: white;}#sk-container-id-3 label.sk-toggleable__label {cursor: pointer;display: block;width: 100%;margin-bottom: 0;padding: 0.3em;box-sizing: border-box;text-align: center;}#sk-container-id-3 label.sk-toggleable__label-arrow:before {content: \"▸\";float: left;margin-right: 0.25em;color: #696969;}#sk-container-id-3 label.sk-toggleable__label-arrow:hover:before {color: black;}#sk-container-id-3 div.sk-estimator:hover label.sk-toggleable__label-arrow:before {color: black;}#sk-container-id-3 div.sk-toggleable__content {max-height: 0;max-width: 0;overflow: hidden;text-align: left;background-color: #f0f8ff;}#sk-container-id-3 div.sk-toggleable__content pre {margin: 0.2em;color: black;border-radius: 0.25em;background-color: #f0f8ff;}#sk-container-id-3 input.sk-toggleable__control:checked~div.sk-toggleable__content {max-height: 200px;max-width: 100%;overflow: auto;}#sk-container-id-3 input.sk-toggleable__control:checked~label.sk-toggleable__label-arrow:before {content: \"▾\";}#sk-container-id-3 div.sk-estimator input.sk-toggleable__control:checked~label.sk-toggleable__label {background-color: #d4ebff;}#sk-container-id-3 div.sk-label input.sk-toggleable__control:checked~label.sk-toggleable__label {background-color: #d4ebff;}#sk-container-id-3 input.sk-hidden--visually {border: 0;clip: rect(1px 1px 1px 1px);clip: rect(1px, 1px, 1px, 1px);height: 1px;margin: -1px;overflow: hidden;padding: 0;position: absolute;width: 1px;}#sk-container-id-3 div.sk-estimator {font-family: monospace;background-color: #f0f8ff;border: 1px dotted black;border-radius: 0.25em;box-sizing: border-box;margin-bottom: 0.5em;}#sk-container-id-3 div.sk-estimator:hover {background-color: #d4ebff;}#sk-container-id-3 div.sk-parallel-item::after {content: \"\";width: 100%;border-bottom: 1px solid gray;flex-grow: 1;}#sk-container-id-3 div.sk-label:hover label.sk-toggleable__label {background-color: #d4ebff;}#sk-container-id-3 div.sk-serial::before {content: \"\";position: absolute;border-left: 1px solid gray;box-sizing: border-box;top: 0;bottom: 0;left: 50%;z-index: 0;}#sk-container-id-3 div.sk-serial {display: flex;flex-direction: column;align-items: center;background-color: white;padding-right: 0.2em;padding-left: 0.2em;position: relative;}#sk-container-id-3 div.sk-item {position: relative;z-index: 1;}#sk-container-id-3 div.sk-parallel {display: flex;align-items: stretch;justify-content: center;background-color: white;position: relative;}#sk-container-id-3 div.sk-item::before, #sk-container-id-3 div.sk-parallel-item::before {content: \"\";position: absolute;border-left: 1px solid gray;box-sizing: border-box;top: 0;bottom: 0;left: 50%;z-index: -1;}#sk-container-id-3 div.sk-parallel-item {display: flex;flex-direction: column;z-index: 1;position: relative;background-color: white;}#sk-container-id-3 div.sk-parallel-item:first-child::after {align-self: flex-end;width: 50%;}#sk-container-id-3 div.sk-parallel-item:last-child::after {align-self: flex-start;width: 50%;}#sk-container-id-3 div.sk-parallel-item:only-child::after {width: 0;}#sk-container-id-3 div.sk-dashed-wrapped {border: 1px dashed gray;margin: 0 0.4em 0.5em 0.4em;box-sizing: border-box;padding-bottom: 0.4em;background-color: white;}#sk-container-id-3 div.sk-label label {font-family: monospace;font-weight: bold;display: inline-block;line-height: 1.2em;}#sk-container-id-3 div.sk-label-container {text-align: center;}#sk-container-id-3 div.sk-container {/* jupyter's `normalize.less` sets `[hidden] { display: none; }` but bootstrap.min.css set `[hidden] { display: none !important; }` so we also need the `!important` here to be able to override the default hidden behavior on the sphinx rendered scikit-learn.org. See: https://github.com/scikit-learn/scikit-learn/issues/21755 */display: inline-block !important;position: relative;}#sk-container-id-3 div.sk-text-repr-fallback {display: none;}</style><div id=\"sk-container-id-3\" class=\"sk-top-container\"><div class=\"sk-text-repr-fallback\"><pre>RandomizedSearchCV(cv=TimeSeriesSplit(gap=0, max_train_size=None, n_splits=5, test_size=None),\n",
       "                   estimator=XGBRegressor(base_score=None, booster=None,\n",
       "                                          callbacks=None,\n",
       "                                          colsample_bylevel=None,\n",
       "                                          colsample_bynode=None,\n",
       "                                          colsample_bytree=None,\n",
       "                                          early_stopping_rounds=None,\n",
       "                                          enable_categorical=False,\n",
       "                                          eval_metric=None, feature_types=None,\n",
       "                                          gamma=None, gpu_id=None,\n",
       "                                          grow_policy=No...\n",
       "                                          max_leaves=None,\n",
       "                                          min_child_weight=None, missing=nan,\n",
       "                                          monotone_constraints=None,\n",
       "                                          n_estimators=100, n_jobs=None,\n",
       "                                          num_parallel_tree=None,\n",
       "                                          predictor=None, random_state=None, ...),\n",
       "                   n_iter=100, n_jobs=-1,\n",
       "                   param_distributions={&#x27;learning_rate&#x27;: [0.1, 0.01, 0.01],\n",
       "                                        &#x27;max_depth&#x27;: range(3, 10, 2),\n",
       "                                        &#x27;min_child_weight&#x27;: range(1, 6, 2),\n",
       "                                        &#x27;n_estimators&#x27;: [100, 500, 1000]},\n",
       "                   random_state=1, scoring=&#x27;r2&#x27;)</pre><b>In a Jupyter environment, please rerun this cell to show the HTML representation or trust the notebook. <br />On GitHub, the HTML representation is unable to render, please try loading this page with nbviewer.org.</b></div><div class=\"sk-container\" hidden><div class=\"sk-item sk-dashed-wrapped\"><div class=\"sk-label-container\"><div class=\"sk-label sk-toggleable\"><input class=\"sk-toggleable__control sk-hidden--visually\" id=\"sk-estimator-id-5\" type=\"checkbox\" ><label for=\"sk-estimator-id-5\" class=\"sk-toggleable__label sk-toggleable__label-arrow\">RandomizedSearchCV</label><div class=\"sk-toggleable__content\"><pre>RandomizedSearchCV(cv=TimeSeriesSplit(gap=0, max_train_size=None, n_splits=5, test_size=None),\n",
       "                   estimator=XGBRegressor(base_score=None, booster=None,\n",
       "                                          callbacks=None,\n",
       "                                          colsample_bylevel=None,\n",
       "                                          colsample_bynode=None,\n",
       "                                          colsample_bytree=None,\n",
       "                                          early_stopping_rounds=None,\n",
       "                                          enable_categorical=False,\n",
       "                                          eval_metric=None, feature_types=None,\n",
       "                                          gamma=None, gpu_id=None,\n",
       "                                          grow_policy=No...\n",
       "                                          max_leaves=None,\n",
       "                                          min_child_weight=None, missing=nan,\n",
       "                                          monotone_constraints=None,\n",
       "                                          n_estimators=100, n_jobs=None,\n",
       "                                          num_parallel_tree=None,\n",
       "                                          predictor=None, random_state=None, ...),\n",
       "                   n_iter=100, n_jobs=-1,\n",
       "                   param_distributions={&#x27;learning_rate&#x27;: [0.1, 0.01, 0.01],\n",
       "                                        &#x27;max_depth&#x27;: range(3, 10, 2),\n",
       "                                        &#x27;min_child_weight&#x27;: range(1, 6, 2),\n",
       "                                        &#x27;n_estimators&#x27;: [100, 500, 1000]},\n",
       "                   random_state=1, scoring=&#x27;r2&#x27;)</pre></div></div></div><div class=\"sk-parallel\"><div class=\"sk-parallel-item\"><div class=\"sk-item\"><div class=\"sk-label-container\"><div class=\"sk-label sk-toggleable\"><input class=\"sk-toggleable__control sk-hidden--visually\" id=\"sk-estimator-id-6\" type=\"checkbox\" ><label for=\"sk-estimator-id-6\" class=\"sk-toggleable__label sk-toggleable__label-arrow\">estimator: XGBRegressor</label><div class=\"sk-toggleable__content\"><pre>XGBRegressor(base_score=None, booster=None, callbacks=None,\n",
       "             colsample_bylevel=None, colsample_bynode=None,\n",
       "             colsample_bytree=None, early_stopping_rounds=None,\n",
       "             enable_categorical=False, eval_metric=None, feature_types=None,\n",
       "             gamma=None, gpu_id=None, grow_policy=None, importance_type=None,\n",
       "             interaction_constraints=None, learning_rate=None, max_bin=None,\n",
       "             max_cat_threshold=None, max_cat_to_onehot=None,\n",
       "             max_delta_step=None, max_depth=None, max_leaves=None,\n",
       "             min_child_weight=None, missing=nan, monotone_constraints=None,\n",
       "             n_estimators=100, n_jobs=None, num_parallel_tree=None,\n",
       "             predictor=None, random_state=None, ...)</pre></div></div></div><div class=\"sk-serial\"><div class=\"sk-item\"><div class=\"sk-estimator sk-toggleable\"><input class=\"sk-toggleable__control sk-hidden--visually\" id=\"sk-estimator-id-7\" type=\"checkbox\" ><label for=\"sk-estimator-id-7\" class=\"sk-toggleable__label sk-toggleable__label-arrow\">XGBRegressor</label><div class=\"sk-toggleable__content\"><pre>XGBRegressor(base_score=None, booster=None, callbacks=None,\n",
       "             colsample_bylevel=None, colsample_bynode=None,\n",
       "             colsample_bytree=None, early_stopping_rounds=None,\n",
       "             enable_categorical=False, eval_metric=None, feature_types=None,\n",
       "             gamma=None, gpu_id=None, grow_policy=None, importance_type=None,\n",
       "             interaction_constraints=None, learning_rate=None, max_bin=None,\n",
       "             max_cat_threshold=None, max_cat_to_onehot=None,\n",
       "             max_delta_step=None, max_depth=None, max_leaves=None,\n",
       "             min_child_weight=None, missing=nan, monotone_constraints=None,\n",
       "             n_estimators=100, n_jobs=None, num_parallel_tree=None,\n",
       "             predictor=None, random_state=None, ...)</pre></div></div></div></div></div></div></div></div></div></div>"
      ],
      "text/plain": [
       "RandomizedSearchCV(cv=TimeSeriesSplit(gap=0, max_train_size=None, n_splits=5, test_size=None),\n",
       "                   estimator=XGBRegressor(base_score=None, booster=None,\n",
       "                                          callbacks=None,\n",
       "                                          colsample_bylevel=None,\n",
       "                                          colsample_bynode=None,\n",
       "                                          colsample_bytree=None,\n",
       "                                          early_stopping_rounds=None,\n",
       "                                          enable_categorical=False,\n",
       "                                          eval_metric=None, feature_types=None,\n",
       "                                          gamma=None, gpu_id=None,\n",
       "                                          grow_policy=No...\n",
       "                                          max_leaves=None,\n",
       "                                          min_child_weight=None, missing=nan,\n",
       "                                          monotone_constraints=None,\n",
       "                                          n_estimators=100, n_jobs=None,\n",
       "                                          num_parallel_tree=None,\n",
       "                                          predictor=None, random_state=None, ...),\n",
       "                   n_iter=100, n_jobs=-1,\n",
       "                   param_distributions={'learning_rate': [0.1, 0.01, 0.01],\n",
       "                                        'max_depth': range(3, 10, 2),\n",
       "                                        'min_child_weight': range(1, 6, 2),\n",
       "                                        'n_estimators': [100, 500, 1000]},\n",
       "                   random_state=1, scoring='r2')"
      ]
     },
     "execution_count": 28,
     "metadata": {},
     "output_type": "execute_result"
    }
   ],
   "source": [
    "# training on the standardlized dataset\n",
    "# tune the XGBoost model\n",
    "from sklearn.model_selection import GridSearchCV\n",
    "params = { 'max_depth': range(3,10,2),\n",
    "            'min_child_weight':range(1,6,2),\n",
    "           'learning_rate': [0.1,0.01,0.01],\n",
    "           'n_estimators': [100, 500, 1000],\n",
    "           }\n",
    "xgbr = xgb.XGBRegressor(seed = 400)\n",
    "clf = RandomizedSearchCV(xgbr, params, n_iter = 100, n_jobs=-1, scoring='r2',cv=cv, random_state=1,verbose = 0)\n",
    "clf.fit(X_Train_standardlized, y_train,\n",
    "        eval_set=[(X_Train_standardlized, y_train), (X_Test_standardlized, y_test)],\n",
    "        verbose=0)\n",
    "\n"
   ]
  },
  {
   "cell_type": "code",
   "execution_count": 29,
   "metadata": {},
   "outputs": [
    {
     "name": "stdout",
     "output_type": "stream",
     "text": [
      "[0]\tvalidation_0-rmse:887256.94333\tvalidation_1-rmse:1482941.62715\n",
      "[100]\tvalidation_0-rmse:369843.50063\tvalidation_1-rmse:820484.69613\n",
      "[200]\tvalidation_0-rmse:187475.32736\tvalidation_1-rmse:613974.02075\n",
      "[300]\tvalidation_0-rmse:124192.48115\tvalidation_1-rmse:538266.89695\n",
      "[400]\tvalidation_0-rmse:98271.81441\tvalidation_1-rmse:528841.92465\n",
      "[500]\tvalidation_0-rmse:85521.44990\tvalidation_1-rmse:522135.40643\n",
      "[600]\tvalidation_0-rmse:75355.65004\tvalidation_1-rmse:518904.21142\n",
      "[700]\tvalidation_0-rmse:66946.54308\tvalidation_1-rmse:516978.58393\n",
      "[800]\tvalidation_0-rmse:59613.29103\tvalidation_1-rmse:515700.87864\n",
      "[900]\tvalidation_0-rmse:53243.90970\tvalidation_1-rmse:515413.14564\n",
      "[999]\tvalidation_0-rmse:47904.65117\tvalidation_1-rmse:515372.96468\n"
     ]
    },
    {
     "data": {
      "text/plain": [
       "<AxesSubplot: title={'center': 'Feature importance'}, xlabel='F score', ylabel='Features'>"
      ]
     },
     "execution_count": 29,
     "metadata": {},
     "output_type": "execute_result"
    },
    {
     "data": {
      "image/png": "[encoded data removed]",
      "text/plain": [
       "<Figure size 432x288 with 1 Axes>"
      ]
     },
     "metadata": {
      "needs_background": "light"
     },
     "output_type": "display_data"
    }
   ],
   "source": [
    "reg_tuned = clf.best_estimator_\n",
    "reg_tuned.fit(X_Train_standardlized, y_train,\n",
    "        eval_set=[(X_Train_standardlized, y_train), (X_Test_standardlized, y_test)],\n",
    "        verbose=100)\n",
    "\n",
    "from xgboost import plot_importance, plot_tree\n",
    "# get the variable importance of XGboost model\n",
    "plot_importance(reg_tuned,max_num_features=10,height=0.9)"
   ]
  },
  {
   "cell_type": "code",
   "execution_count": 30,
   "metadata": {
    "pycharm": {
     "name": "#%%\n"
    }
   },
   "outputs": [
    {
     "name": "stdout",
     "output_type": "stream",
     "text": [
      "explained_variance:  0.3426\n",
      "r2:  0.1953\n",
      "MAE:  313892.9657\n",
      "MSE:  265609305525.304\n",
      "RMSE:  515372.9771\n"
     ]
    }
   ],
   "source": [
    "y_pred = reg_tuned.predict(X_Test_standardlized)\n",
    "show_results(y_test, y_pred)"
   ]
  },
  {
   "cell_type": "code",
   "execution_count": 31,
   "metadata": {
    "pycharm": {
     "name": "#%%\n"
    }
   },
   "outputs": [
    {
     "name": "stdout",
     "output_type": "stream",
     "text": [
      "Fitting 5 folds for each of 100 candidates, totalling 500 fits\n",
      "[0]\tvalidation_0-rmse:887256.94333\tvalidation_1-rmse:1482941.62715\n",
      "[100]\tvalidation_0-rmse:369843.50063\tvalidation_1-rmse:820484.69613\n",
      "[200]\tvalidation_0-rmse:187475.32736\tvalidation_1-rmse:613974.02075\n",
      "[300]\tvalidation_0-rmse:124192.48115\tvalidation_1-rmse:538266.89695\n",
      "[400]\tvalidation_0-rmse:98271.81441\tvalidation_1-rmse:528841.92465\n",
      "[500]\tvalidation_0-rmse:85521.44990\tvalidation_1-rmse:522135.40643\n",
      "[600]\tvalidation_0-rmse:75355.65004\tvalidation_1-rmse:518904.21142\n",
      "[700]\tvalidation_0-rmse:66946.54308\tvalidation_1-rmse:516978.58393\n",
      "[800]\tvalidation_0-rmse:59613.29103\tvalidation_1-rmse:515700.87864\n",
      "[900]\tvalidation_0-rmse:53243.90970\tvalidation_1-rmse:515413.14564\n",
      "[999]\tvalidation_0-rmse:47904.65117\tvalidation_1-rmse:515372.96468\n"
     ]
    },
    {
     "data": {
      "text/plain": [
       "<AxesSubplot: title={'center': 'Feature importance'}, xlabel='F score', ylabel='Features'>"
      ]
     },
     "execution_count": 31,
     "metadata": {},
     "output_type": "execute_result"
    },
    {
     "data": {
      "image/png": "[encoded data removed]",
      "text/plain": [
       "<Figure size 432x288 with 1 Axes>"
      ]
     },
     "metadata": {
      "needs_background": "light"
     },
     "output_type": "display_data"
    }
   ],
   "source": [
    "# training on the min-max scaled dataset\n",
    "import xgboost as xgb\n",
    "# tune the XGBoost model\n",
    "from sklearn.model_selection import GridSearchCV\n",
    "params = { 'max_depth': range(3,10,2),\n",
    "            'min_child_weight':range(1,6,2),\n",
    "           'learning_rate': [0.1,0.01,0.01],\n",
    "           'n_estimators': [100, 500, 1000],\n",
    "           }\n",
    "xgbr = xgb.XGBRegressor(seed = 400)\n",
    "clf = RandomizedSearchCV(xgbr, params, n_iter = 100, n_jobs=-1, scoring='r2',cv=cv, random_state=1,verbose = 3)\n",
    "\n",
    "clf.fit(X_Train_minmax, y_train,verbose=100)\n",
    "reg_tuned = clf.best_estimator_\n",
    "reg_tuned.fit(X_Train_minmax, y_train,\n",
    "        eval_set=[(X_Train_minmax, y_train), (X_Test_minmax, y_test)],\n",
    "        verbose=100)\n",
    "\n",
    "from xgboost import plot_importance, plot_tree\n",
    "# get the variable importance of XGboost model\n",
    "plot_importance(reg_tuned,max_num_features=10,height=0.9)\n"
   ]
  },
  {
   "cell_type": "code",
   "execution_count": 32,
   "metadata": {
    "pycharm": {
     "name": "#%%\n"
    }
   },
   "outputs": [
    {
     "name": "stdout",
     "output_type": "stream",
     "text": [
      "explained_variance:  0.3426\n",
      "r2:  0.1953\n",
      "MAE:  313892.9657\n",
      "MSE:  265609305525.304\n",
      "RMSE:  515372.9771\n"
     ]
    }
   ],
   "source": [
    "y_pred = reg_tuned.predict(X_Test_minmax)\n",
    "# X_Test_standardlized['prediction'] = y_pred\n",
    "test_pred = pd.concat([X_Test_minmax, X_Train_minmax], sort=False)\n",
    "show_results(y_test, y_pred)\n"
   ]
  },
  {
   "cell_type": "markdown",
   "metadata": {
    "pycharm": {
     "name": "#%% md\n"
    }
   },
   "source": [
    "## Losso"
   ]
  },
  {
   "cell_type": "code",
   "execution_count": 20,
   "metadata": {
    "collapsed": false,
    "jupyter": {
     "outputs_hidden": false
    },
    "pycharm": {
     "name": "#%%\n"
    }
   },
   "outputs": [
    {
     "name": "stderr",
     "output_type": "stream",
     "text": [
      "/nfs/home/ycj6475/.local/lib/python3.9/site-packages/sklearn/linear_model/_coordinate_descent.py:1561: DataConversionWarning: A column-vector y was passed when a 1d array was expected. Please change the shape of y to (n_samples, ), for example using ravel().\n",
      "  y = column_or_1d(y, warn=True)\n",
      "/nfs/home/ycj6475/.local/lib/python3.9/site-packages/sklearn/linear_model/_coordinate_descent.py:634: ConvergenceWarning: Objective did not converge. You might want to increase the number of iterations, check the scale of the features or consider increasing regularisation. Duality gap: 3.910e+09, tolerance: 2.697e+09\n",
      "  model = cd_fast.enet_coordinate_descent(\n",
      "/nfs/home/ycj6475/.local/lib/python3.9/site-packages/sklearn/linear_model/_coordinate_descent.py:634: ConvergenceWarning: Objective did not converge. You might want to increase the number of iterations, check the scale of the features or consider increasing regularisation. Duality gap: 3.837e+09, tolerance: 1.709e+09\n",
      "  model = cd_fast.enet_coordinate_descent(\n",
      "/nfs/home/ycj6475/.local/lib/python3.9/site-packages/sklearn/linear_model/_coordinate_descent.py:634: ConvergenceWarning: Objective did not converge. You might want to increase the number of iterations, check the scale of the features or consider increasing regularisation. Duality gap: 1.883e+09, tolerance: 1.709e+09\n",
      "  model = cd_fast.enet_coordinate_descent(\n",
      "/nfs/home/ycj6475/.local/lib/python3.9/site-packages/sklearn/linear_model/_coordinate_descent.py:634: ConvergenceWarning: Objective did not converge. You might want to increase the number of iterations, check the scale of the features or consider increasing regularisation. Duality gap: 5.360e+09, tolerance: 2.697e+09\n",
      "  model = cd_fast.enet_coordinate_descent(\n",
      "/nfs/home/ycj6475/.local/lib/python3.9/site-packages/sklearn/linear_model/_coordinate_descent.py:634: ConvergenceWarning: Objective did not converge. You might want to increase the number of iterations, check the scale of the features or consider increasing regularisation. Duality gap: 4.881e+09, tolerance: 2.697e+09\n",
      "  model = cd_fast.enet_coordinate_descent(\n",
      "/nfs/home/ycj6475/.local/lib/python3.9/site-packages/sklearn/linear_model/_coordinate_descent.py:634: ConvergenceWarning: Objective did not converge. You might want to increase the number of iterations, check the scale of the features or consider increasing regularisation. Duality gap: 3.577e+09, tolerance: 2.697e+09\n",
      "  model = cd_fast.enet_coordinate_descent(\n",
      "/nfs/home/ycj6475/.local/lib/python3.9/site-packages/sklearn/linear_model/_coordinate_descent.py:634: ConvergenceWarning: Objective did not converge. You might want to increase the number of iterations, check the scale of the features or consider increasing regularisation. Duality gap: 1.950e+09, tolerance: 1.709e+09\n",
      "  model = cd_fast.enet_coordinate_descent(\n",
      "/nfs/home/ycj6475/.local/lib/python3.9/site-packages/sklearn/linear_model/_coordinate_descent.py:634: ConvergenceWarning: Objective did not converge. You might want to increase the number of iterations, check the scale of the features or consider increasing regularisation. Duality gap: 2.221e+09, tolerance: 1.709e+09\n",
      "  model = cd_fast.enet_coordinate_descent(\n",
      "/nfs/home/ycj6475/.local/lib/python3.9/site-packages/sklearn/linear_model/_coordinate_descent.py:634: ConvergenceWarning: Objective did not converge. You might want to increase the number of iterations, check the scale of the features or consider increasing regularisation. Duality gap: 6.104e+09, tolerance: 3.595e+09\n",
      "  model = cd_fast.enet_coordinate_descent(\n",
      "/nfs/home/ycj6475/.local/lib/python3.9/site-packages/sklearn/linear_model/_coordinate_descent.py:634: ConvergenceWarning: Objective did not converge. You might want to increase the number of iterations, check the scale of the features or consider increasing regularisation. Duality gap: 6.063e+09, tolerance: 2.697e+09\n",
      "  model = cd_fast.enet_coordinate_descent(\n",
      "/nfs/home/ycj6475/.local/lib/python3.9/site-packages/sklearn/linear_model/_coordinate_descent.py:634: ConvergenceWarning: Objective did not converge. You might want to increase the number of iterations, check the scale of the features or consider increasing regularisation. Duality gap: 2.829e+09, tolerance: 1.709e+09\n",
      "  model = cd_fast.enet_coordinate_descent(\n",
      "/nfs/home/ycj6475/.local/lib/python3.9/site-packages/sklearn/linear_model/_coordinate_descent.py:634: ConvergenceWarning: Objective did not converge. You might want to increase the number of iterations, check the scale of the features or consider increasing regularisation. Duality gap: 5.132e+09, tolerance: 2.697e+09\n",
      "  model = cd_fast.enet_coordinate_descent(\n",
      "/nfs/home/ycj6475/.local/lib/python3.9/site-packages/sklearn/linear_model/_coordinate_descent.py:634: ConvergenceWarning: Objective did not converge. You might want to increase the number of iterations, check the scale of the features or consider increasing regularisation. Duality gap: 4.010e+09, tolerance: 3.595e+09\n",
      "  model = cd_fast.enet_coordinate_descent(\n",
      "/nfs/home/ycj6475/.local/lib/python3.9/site-packages/sklearn/linear_model/_coordinate_descent.py:634: ConvergenceWarning: Objective did not converge. You might want to increase the number of iterations, check the scale of the features or consider increasing regularisation. Duality gap: 4.055e+09, tolerance: 1.709e+09\n",
      "  model = cd_fast.enet_coordinate_descent(\n",
      "/nfs/home/ycj6475/.local/lib/python3.9/site-packages/sklearn/linear_model/_coordinate_descent.py:634: ConvergenceWarning: Objective did not converge. You might want to increase the number of iterations, check the scale of the features or consider increasing regularisation. Duality gap: 4.798e+09, tolerance: 1.709e+09\n",
      "  model = cd_fast.enet_coordinate_descent(\n",
      "/nfs/home/ycj6475/.local/lib/python3.9/site-packages/sklearn/linear_model/_coordinate_descent.py:634: ConvergenceWarning: Objective did not converge. You might want to increase the number of iterations, check the scale of the features or consider increasing regularisation. Duality gap: 4.798e+09, tolerance: 2.697e+09\n",
      "  model = cd_fast.enet_coordinate_descent(\n",
      "/nfs/home/ycj6475/.local/lib/python3.9/site-packages/sklearn/linear_model/_coordinate_descent.py:634: ConvergenceWarning: Objective did not converge. You might want to increase the number of iterations, check the scale of the features or consider increasing regularisation. Duality gap: 3.951e+09, tolerance: 3.595e+09\n",
      "  model = cd_fast.enet_coordinate_descent(\n",
      "/nfs/home/ycj6475/.local/lib/python3.9/site-packages/sklearn/linear_model/_coordinate_descent.py:634: ConvergenceWarning: Objective did not converge. You might want to increase the number of iterations, check the scale of the features or consider increasing regularisation. Duality gap: 4.850e+09, tolerance: 1.709e+09\n",
      "  model = cd_fast.enet_coordinate_descent(\n",
      "/nfs/home/ycj6475/.local/lib/python3.9/site-packages/sklearn/linear_model/_coordinate_descent.py:634: ConvergenceWarning: Objective did not converge. You might want to increase the number of iterations, check the scale of the features or consider increasing regularisation. Duality gap: 6.283e+09, tolerance: 3.595e+09\n",
      "  model = cd_fast.enet_coordinate_descent(\n",
      "/nfs/home/ycj6475/.local/lib/python3.9/site-packages/sklearn/linear_model/_coordinate_descent.py:634: ConvergenceWarning: Objective did not converge. You might want to increase the number of iterations, check the scale of the features or consider increasing regularisation. Duality gap: 4.562e+09, tolerance: 2.697e+09\n",
      "  model = cd_fast.enet_coordinate_descent(\n",
      "/nfs/home/ycj6475/.local/lib/python3.9/site-packages/sklearn/linear_model/_coordinate_descent.py:634: ConvergenceWarning: Objective did not converge. You might want to increase the number of iterations, check the scale of the features or consider increasing regularisation. Duality gap: 4.917e+09, tolerance: 1.709e+09\n",
      "  model = cd_fast.enet_coordinate_descent(\n",
      "/nfs/home/ycj6475/.local/lib/python3.9/site-packages/sklearn/linear_model/_coordinate_descent.py:634: ConvergenceWarning: Objective did not converge. You might want to increase the number of iterations, check the scale of the features or consider increasing regularisation. Duality gap: 5.834e+09, tolerance: 1.709e+09\n",
      "  model = cd_fast.enet_coordinate_descent(\n",
      "/nfs/home/ycj6475/.local/lib/python3.9/site-packages/sklearn/linear_model/_coordinate_descent.py:634: ConvergenceWarning: Objective did not converge. You might want to increase the number of iterations, check the scale of the features or consider increasing regularisation. Duality gap: 7.295e+09, tolerance: 3.595e+09\n",
      "  model = cd_fast.enet_coordinate_descent(\n",
      "/nfs/home/ycj6475/.local/lib/python3.9/site-packages/sklearn/linear_model/_coordinate_descent.py:634: ConvergenceWarning: Objective did not converge. You might want to increase the number of iterations, check the scale of the features or consider increasing regularisation. Duality gap: 6.644e+09, tolerance: 2.697e+09\n",
      "  model = cd_fast.enet_coordinate_descent(\n",
      "/nfs/home/ycj6475/.local/lib/python3.9/site-packages/sklearn/linear_model/_coordinate_descent.py:634: ConvergenceWarning: Objective did not converge. You might want to increase the number of iterations, check the scale of the features or consider increasing regularisation. Duality gap: 5.638e+09, tolerance: 1.709e+09\n",
      "  model = cd_fast.enet_coordinate_descent(\n",
      "/nfs/home/ycj6475/.local/lib/python3.9/site-packages/sklearn/linear_model/_coordinate_descent.py:634: ConvergenceWarning: Objective did not converge. You might want to increase the number of iterations, check the scale of the features or consider increasing regularisation. Duality gap: 7.567e+09, tolerance: 1.709e+09\n",
      "  model = cd_fast.enet_coordinate_descent(\n",
      "/nfs/home/ycj6475/.local/lib/python3.9/site-packages/sklearn/linear_model/_coordinate_descent.py:634: ConvergenceWarning: Objective did not converge. You might want to increase the number of iterations, check the scale of the features or consider increasing regularisation. Duality gap: 1.393e+10, tolerance: 2.697e+09\n",
      "  model = cd_fast.enet_coordinate_descent(\n",
      "/nfs/home/ycj6475/.local/lib/python3.9/site-packages/sklearn/linear_model/_coordinate_descent.py:634: ConvergenceWarning: Objective did not converge. You might want to increase the number of iterations, check the scale of the features or consider increasing regularisation. Duality gap: 1.125e+10, tolerance: 3.595e+09\n",
      "  model = cd_fast.enet_coordinate_descent(\n",
      "/nfs/home/ycj6475/.local/lib/python3.9/site-packages/sklearn/linear_model/_coordinate_descent.py:634: ConvergenceWarning: Objective did not converge. You might want to increase the number of iterations, check the scale of the features or consider increasing regularisation. Duality gap: 8.024e+09, tolerance: 1.709e+09\n",
      "  model = cd_fast.enet_coordinate_descent(\n",
      "/nfs/home/ycj6475/.local/lib/python3.9/site-packages/sklearn/linear_model/_coordinate_descent.py:634: ConvergenceWarning: Objective did not converge. You might want to increase the number of iterations, check the scale of the features or consider increasing regularisation. Duality gap: 7.984e+09, tolerance: 1.709e+09\n",
      "  model = cd_fast.enet_coordinate_descent(\n",
      "/nfs/home/ycj6475/.local/lib/python3.9/site-packages/sklearn/linear_model/_coordinate_descent.py:634: ConvergenceWarning: Objective did not converge. You might want to increase the number of iterations, check the scale of the features or consider increasing regularisation. Duality gap: 1.104e+10, tolerance: 2.697e+09\n",
      "  model = cd_fast.enet_coordinate_descent(\n",
      "/nfs/home/ycj6475/.local/lib/python3.9/site-packages/sklearn/linear_model/_coordinate_descent.py:634: ConvergenceWarning: Objective did not converge. You might want to increase the number of iterations, check the scale of the features or consider increasing regularisation. Duality gap: 1.831e+10, tolerance: 3.595e+09\n",
      "  model = cd_fast.enet_coordinate_descent(\n",
      "/nfs/home/ycj6475/.local/lib/python3.9/site-packages/sklearn/linear_model/_coordinate_descent.py:634: ConvergenceWarning: Objective did not converge. You might want to increase the number of iterations, check the scale of the features or consider increasing regularisation. Duality gap: 1.955e+09, tolerance: 1.709e+09\n",
      "  model = cd_fast.enet_coordinate_descent(\n",
      "/nfs/home/ycj6475/.local/lib/python3.9/site-packages/sklearn/linear_model/_coordinate_descent.py:634: ConvergenceWarning: Objective did not converge. You might want to increase the number of iterations, check the scale of the features or consider increasing regularisation. Duality gap: 1.572e+10, tolerance: 2.697e+09\n",
      "  model = cd_fast.enet_coordinate_descent(\n",
      "/nfs/home/ycj6475/.local/lib/python3.9/site-packages/sklearn/linear_model/_coordinate_descent.py:634: ConvergenceWarning: Objective did not converge. You might want to increase the number of iterations, check the scale of the features or consider increasing regularisation. Duality gap: 6.689e+09, tolerance: 3.595e+09\n",
      "  model = cd_fast.enet_coordinate_descent(\n",
      "/nfs/home/ycj6475/.local/lib/python3.9/site-packages/sklearn/linear_model/_coordinate_descent.py:634: ConvergenceWarning: Objective did not converge. You might want to increase the number of iterations, check the scale of the features or consider increasing regularisation. Duality gap: 3.282e+09, tolerance: 1.709e+09\n",
      "  model = cd_fast.enet_coordinate_descent(\n",
      "/nfs/home/ycj6475/.local/lib/python3.9/site-packages/sklearn/linear_model/_coordinate_descent.py:634: ConvergenceWarning: Objective did not converge. You might want to increase the number of iterations, check the scale of the features or consider increasing regularisation. Duality gap: 6.312e+09, tolerance: 2.697e+09\n",
      "  model = cd_fast.enet_coordinate_descent(\n",
      "/nfs/home/ycj6475/.local/lib/python3.9/site-packages/sklearn/linear_model/_coordinate_descent.py:634: ConvergenceWarning: Objective did not converge. You might want to increase the number of iterations, check the scale of the features or consider increasing regularisation. Duality gap: 7.862e+09, tolerance: 3.595e+09\n",
      "  model = cd_fast.enet_coordinate_descent(\n",
      "/nfs/home/ycj6475/.local/lib/python3.9/site-packages/sklearn/linear_model/_coordinate_descent.py:634: ConvergenceWarning: Objective did not converge. You might want to increase the number of iterations, check the scale of the features or consider increasing regularisation. Duality gap: 4.166e+09, tolerance: 1.709e+09\n",
      "  model = cd_fast.enet_coordinate_descent(\n",
      "/nfs/home/ycj6475/.local/lib/python3.9/site-packages/sklearn/linear_model/_coordinate_descent.py:634: ConvergenceWarning: Objective did not converge. You might want to increase the number of iterations, check the scale of the features or consider increasing regularisation. Duality gap: 1.593e+10, tolerance: 2.697e+09\n",
      "  model = cd_fast.enet_coordinate_descent(\n",
      "/nfs/home/ycj6475/.local/lib/python3.9/site-packages/sklearn/linear_model/_coordinate_descent.py:634: ConvergenceWarning: Objective did not converge. You might want to increase the number of iterations, check the scale of the features or consider increasing regularisation. Duality gap: 1.019e+10, tolerance: 3.595e+09\n",
      "  model = cd_fast.enet_coordinate_descent(\n",
      "/nfs/home/ycj6475/.local/lib/python3.9/site-packages/sklearn/linear_model/_coordinate_descent.py:634: ConvergenceWarning: Objective did not converge. You might want to increase the number of iterations, check the scale of the features or consider increasing regularisation. Duality gap: 2.269e+10, tolerance: 2.697e+09\n",
      "  model = cd_fast.enet_coordinate_descent(\n",
      "/nfs/home/ycj6475/.local/lib/python3.9/site-packages/sklearn/linear_model/_coordinate_descent.py:634: ConvergenceWarning: Objective did not converge. You might want to increase the number of iterations, check the scale of the features or consider increasing regularisation. Duality gap: 1.270e+10, tolerance: 3.595e+09\n",
      "  model = cd_fast.enet_coordinate_descent(\n",
      "/nfs/home/ycj6475/.local/lib/python3.9/site-packages/sklearn/linear_model/_coordinate_descent.py:634: ConvergenceWarning: Objective did not converge. You might want to increase the number of iterations, check the scale of the features or consider increasing regularisation. Duality gap: 3.059e+10, tolerance: 2.697e+09\n",
      "  model = cd_fast.enet_coordinate_descent(\n",
      "/nfs/home/ycj6475/.local/lib/python3.9/site-packages/sklearn/linear_model/_coordinate_descent.py:634: ConvergenceWarning: Objective did not converge. You might want to increase the number of iterations, check the scale of the features or consider increasing regularisation. Duality gap: 1.263e+10, tolerance: 3.595e+09\n",
      "  model = cd_fast.enet_coordinate_descent(\n",
      "/nfs/home/ycj6475/.local/lib/python3.9/site-packages/sklearn/linear_model/_coordinate_descent.py:634: ConvergenceWarning: Objective did not converge. You might want to increase the number of iterations, check the scale of the features or consider increasing regularisation. Duality gap: 2.431e+10, tolerance: 2.697e+09\n",
      "  model = cd_fast.enet_coordinate_descent(\n",
      "/nfs/home/ycj6475/.local/lib/python3.9/site-packages/sklearn/linear_model/_coordinate_descent.py:634: ConvergenceWarning: Objective did not converge. You might want to increase the number of iterations, check the scale of the features or consider increasing regularisation. Duality gap: 1.715e+10, tolerance: 2.697e+09\n",
      "  model = cd_fast.enet_coordinate_descent(\n",
      "/nfs/home/ycj6475/.local/lib/python3.9/site-packages/sklearn/linear_model/_coordinate_descent.py:634: ConvergenceWarning: Objective did not converge. You might want to increase the number of iterations, check the scale of the features or consider increasing regularisation. Duality gap: 2.412e+10, tolerance: 3.595e+09\n",
      "  model = cd_fast.enet_coordinate_descent(\n",
      "/nfs/home/ycj6475/.local/lib/python3.9/site-packages/sklearn/linear_model/_coordinate_descent.py:634: ConvergenceWarning: Objective did not converge. You might want to increase the number of iterations, check the scale of the features or consider increasing regularisation. Duality gap: 2.200e+10, tolerance: 3.595e+09\n",
      "  model = cd_fast.enet_coordinate_descent(\n",
      "/nfs/home/ycj6475/.local/lib/python3.9/site-packages/sklearn/linear_model/_coordinate_descent.py:634: ConvergenceWarning: Objective did not converge. You might want to increase the number of iterations, check the scale of the features or consider increasing regularisation. Duality gap: 4.088e+10, tolerance: 3.595e+09\n",
      "  model = cd_fast.enet_coordinate_descent(\n",
      "/nfs/home/ycj6475/.local/lib/python3.9/site-packages/sklearn/linear_model/_coordinate_descent.py:634: ConvergenceWarning: Objective did not converge. You might want to increase the number of iterations, check the scale of the features or consider increasing regularisation. Duality gap: 5.615e+10, tolerance: 3.595e+09\n",
      "  model = cd_fast.enet_coordinate_descent(\n"
     ]
    },
    {
     "data": {
      "text/html": [
       "<style>#sk-container-id-1 {color: black;background-color: white;}#sk-container-id-1 pre{padding: 0;}#sk-container-id-1 div.sk-toggleable {background-color: white;}#sk-container-id-1 label.sk-toggleable__label {cursor: pointer;display: block;width: 100%;margin-bottom: 0;padding: 0.3em;box-sizing: border-box;text-align: center;}#sk-container-id-1 label.sk-toggleable__label-arrow:before {content: \"▸\";float: left;margin-right: 0.25em;color: #696969;}#sk-container-id-1 label.sk-toggleable__label-arrow:hover:before {color: black;}#sk-container-id-1 div.sk-estimator:hover label.sk-toggleable__label-arrow:before {color: black;}#sk-container-id-1 div.sk-toggleable__content {max-height: 0;max-width: 0;overflow: hidden;text-align: left;background-color: #f0f8ff;}#sk-container-id-1 div.sk-toggleable__content pre {margin: 0.2em;color: black;border-radius: 0.25em;background-color: #f0f8ff;}#sk-container-id-1 input.sk-toggleable__control:checked~div.sk-toggleable__content {max-height: 200px;max-width: 100%;overflow: auto;}#sk-container-id-1 input.sk-toggleable__control:checked~label.sk-toggleable__label-arrow:before {content: \"▾\";}#sk-container-id-1 div.sk-estimator input.sk-toggleable__control:checked~label.sk-toggleable__label {background-color: #d4ebff;}#sk-container-id-1 div.sk-label input.sk-toggleable__control:checked~label.sk-toggleable__label {background-color: #d4ebff;}#sk-container-id-1 input.sk-hidden--visually {border: 0;clip: rect(1px 1px 1px 1px);clip: rect(1px, 1px, 1px, 1px);height: 1px;margin: -1px;overflow: hidden;padding: 0;position: absolute;width: 1px;}#sk-container-id-1 div.sk-estimator {font-family: monospace;background-color: #f0f8ff;border: 1px dotted black;border-radius: 0.25em;box-sizing: border-box;margin-bottom: 0.5em;}#sk-container-id-1 div.sk-estimator:hover {background-color: #d4ebff;}#sk-container-id-1 div.sk-parallel-item::after {content: \"\";width: 100%;border-bottom: 1px solid gray;flex-grow: 1;}#sk-container-id-1 div.sk-label:hover label.sk-toggleable__label {background-color: #d4ebff;}#sk-container-id-1 div.sk-serial::before {content: \"\";position: absolute;border-left: 1px solid gray;box-sizing: border-box;top: 0;bottom: 0;left: 50%;z-index: 0;}#sk-container-id-1 div.sk-serial {display: flex;flex-direction: column;align-items: center;background-color: white;padding-right: 0.2em;padding-left: 0.2em;position: relative;}#sk-container-id-1 div.sk-item {position: relative;z-index: 1;}#sk-container-id-1 div.sk-parallel {display: flex;align-items: stretch;justify-content: center;background-color: white;position: relative;}#sk-container-id-1 div.sk-item::before, #sk-container-id-1 div.sk-parallel-item::before {content: \"\";position: absolute;border-left: 1px solid gray;box-sizing: border-box;top: 0;bottom: 0;left: 50%;z-index: -1;}#sk-container-id-1 div.sk-parallel-item {display: flex;flex-direction: column;z-index: 1;position: relative;background-color: white;}#sk-container-id-1 div.sk-parallel-item:first-child::after {align-self: flex-end;width: 50%;}#sk-container-id-1 div.sk-parallel-item:last-child::after {align-self: flex-start;width: 50%;}#sk-container-id-1 div.sk-parallel-item:only-child::after {width: 0;}#sk-container-id-1 div.sk-dashed-wrapped {border: 1px dashed gray;margin: 0 0.4em 0.5em 0.4em;box-sizing: border-box;padding-bottom: 0.4em;background-color: white;}#sk-container-id-1 div.sk-label label {font-family: monospace;font-weight: bold;display: inline-block;line-height: 1.2em;}#sk-container-id-1 div.sk-label-container {text-align: center;}#sk-container-id-1 div.sk-container {/* jupyter's `normalize.less` sets `[hidden] { display: none; }` but bootstrap.min.css set `[hidden] { display: none !important; }` so we also need the `!important` here to be able to override the default hidden behavior on the sphinx rendered scikit-learn.org. See: https://github.com/scikit-learn/scikit-learn/issues/21755 */display: inline-block !important;position: relative;}#sk-container-id-1 div.sk-text-repr-fallback {display: none;}</style><div id=\"sk-container-id-1\" class=\"sk-top-container\"><div class=\"sk-text-repr-fallback\"><pre>LassoCV(cv=TimeSeriesSplit(gap=0, max_train_size=None, n_splits=5, test_size=None),\n",
       "        n_jobs=-1)</pre><b>In a Jupyter environment, please rerun this cell to show the HTML representation or trust the notebook. <br />On GitHub, the HTML representation is unable to render, please try loading this page with nbviewer.org.</b></div><div class=\"sk-container\" hidden><div class=\"sk-item\"><div class=\"sk-estimator sk-toggleable\"><input class=\"sk-toggleable__control sk-hidden--visually\" id=\"sk-estimator-id-1\" type=\"checkbox\" checked><label for=\"sk-estimator-id-1\" class=\"sk-toggleable__label sk-toggleable__label-arrow\">LassoCV</label><div class=\"sk-toggleable__content\"><pre>LassoCV(cv=TimeSeriesSplit(gap=0, max_train_size=None, n_splits=5, test_size=None),\n",
       "        n_jobs=-1)</pre></div></div></div></div></div>"
      ],
      "text/plain": [
       "LassoCV(cv=TimeSeriesSplit(gap=0, max_train_size=None, n_splits=5, test_size=None),\n",
       "        n_jobs=-1)"
      ]
     },
     "execution_count": 20,
     "metadata": {},
     "output_type": "execute_result"
    }
   ],
   "source": [
    "# train the regression model\n",
    "from sklearn.linear_model import LassoCV\n",
    "from sklearn import linear_model\n",
    "cv = TimeSeriesSplit(gap=0, max_train_size=None, n_splits=5, test_size=None)\n",
    "clf = linear_model.Lasso()\n",
    "model = LassoCV(cv=cv, n_jobs=-1)\n",
    "y_train = pd.DataFrame(y_train)\n",
    "def inpute_missing_mean(df):\n",
    "    df = df.copy()\n",
    "    for i in df.columns[df.isnull().any(axis=0)]:\n",
    "        df[i].fillna(df[i].mean(),inplace=True)\n",
    "    return df\n",
    "X_Train_standardlized_lasso = inpute_missing_mean(X_Train_standardlized)\n",
    "y_train_lasso = inpute_missing_mean(y_train)\n",
    "model.fit(X_Train_standardlized_lasso, y_train_lasso)\n"
   ]
  },
  {
   "cell_type": "code",
   "execution_count": 21,
   "metadata": {
    "collapsed": false,
    "jupyter": {
     "outputs_hidden": false
    },
    "pycharm": {
     "name": "#%%\n"
    }
   },
   "outputs": [
    {
     "data": {
      "text/plain": [
       "(331, 324)"
      ]
     },
     "execution_count": 21,
     "metadata": {},
     "output_type": "execute_result"
    }
   ],
   "source": [
    "X_Train_standardlized.shape"
   ]
  },
  {
   "cell_type": "code",
   "execution_count": 22,
   "metadata": {
    "collapsed": false,
    "jupyter": {
     "outputs_hidden": false
    },
    "pycharm": {
     "name": "#%%\n"
    }
   },
   "outputs": [
    {
     "name": "stdout",
     "output_type": "stream",
     "text": [
      "explained_variance:  0.7444\n",
      "r2:  0.6341\n",
      "MAE:  229247.8052\n",
      "MSE:  120768141812.6792\n",
      "RMSE:  347517.1101\n"
     ]
    }
   ],
   "source": [
    "X_Test_standardlized_lasso = inpute_missing_mean(X_Test_standardlized)\n",
    "y_pred = model.predict(X_Test_standardlized_lasso)\n",
    "show_results(y_test, y_pred)"
   ]
  },
  {
   "cell_type": "code",
   "execution_count": 23,
   "metadata": {},
   "outputs": [],
   "source": [
    "X_Test_standardlized['prediction'] = y_pred\n",
    "test_pred = pd.concat([X_Test_standardlized, X_Train_standardlized], sort=False)\n"
   ]
  },
  {
   "cell_type": "code",
   "execution_count": 24,
   "metadata": {},
   "outputs": [
    {
     "data": {
      "image/png": "[encoded data removed]",
      "text/plain": [
       "<Figure size 1080x360 with 1 Axes>"
      ]
     },
     "metadata": {
      "needs_background": "light"
     },
     "output_type": "display_data"
    }
   ],
   "source": [
    "X_test['prediction'] = y_pred\n",
    "test_pred = pd.concat([X_test, X_train], sort=False)\n",
    "test_ts_draw = test[\"totalprofit\"]\n",
    "test_prediction = test_pred[\"prediction\"]\n",
    "fig, ax = plt.subplots(figsize=(15, 5))\n",
    "test_prediction.plot(ax=ax, label='prediction Set', title='Train_Test_comparison')\n",
    "test_ts_draw.plot(ax=ax, label='Test Set')\n",
    "ax.legend(['prediction Set', 'Test Set'])\n",
    "plt.show()\n"
   ]
  },
  {
   "cell_type": "code",
   "execution_count": 25,
   "metadata": {},
   "outputs": [
    {
     "data": {
      "text/html": [
       "<div>\n",
       "<style scoped>\n",
       "    .dataframe tbody tr th:only-of-type {\n",
       "        vertical-align: middle;\n",
       "    }\n",
       "\n",
       "    .dataframe tbody tr th {\n",
       "        vertical-align: top;\n",
       "    }\n",
       "\n",
       "    .dataframe thead th {\n",
       "        text-align: right;\n",
       "    }\n",
       "</style>\n",
       "<table border=\"1\" class=\"dataframe\">\n",
       "  <thead>\n",
       "    <tr style=\"text-align: right;\">\n",
       "      <th></th>\n",
       "      <th>Coef</th>\n",
       "    </tr>\n",
       "  </thead>\n",
       "  <tbody>\n",
       "    <tr>\n",
       "      <th>totalprofit_1</th>\n",
       "      <td>139315.943075</td>\n",
       "    </tr>\n",
       "    <tr>\n",
       "      <th>avgprofittrnsact_6</th>\n",
       "      <td>118071.438457</td>\n",
       "    </tr>\n",
       "    <tr>\n",
       "      <th>maxprofit_5</th>\n",
       "      <td>37323.649390</td>\n",
       "    </tr>\n",
       "    <tr>\n",
       "      <th>maxcost_7</th>\n",
       "      <td>36456.571364</td>\n",
       "    </tr>\n",
       "    <tr>\n",
       "      <th>avgquantity_7</th>\n",
       "      <td>35030.333950</td>\n",
       "    </tr>\n",
       "    <tr>\n",
       "      <th>avgvendorsstore_7</th>\n",
       "      <td>34690.248612</td>\n",
       "    </tr>\n",
       "    <tr>\n",
       "      <th>nvendors_7</th>\n",
       "      <td>33439.493031</td>\n",
       "    </tr>\n",
       "    <tr>\n",
       "      <th>avgorigprice_1</th>\n",
       "      <td>29659.944625</td>\n",
       "    </tr>\n",
       "    <tr>\n",
       "      <th>totalprofit_7</th>\n",
       "      <td>28251.697840</td>\n",
       "    </tr>\n",
       "    <tr>\n",
       "      <th>maxdiscount_5</th>\n",
       "      <td>27713.867506</td>\n",
       "    </tr>\n",
       "  </tbody>\n",
       "</table>\n",
       "</div>"
      ],
      "text/plain": [
       "                             Coef\n",
       "totalprofit_1       139315.943075\n",
       "avgprofittrnsact_6  118071.438457\n",
       "maxprofit_5          37323.649390\n",
       "maxcost_7            36456.571364\n",
       "avgquantity_7        35030.333950\n",
       "avgvendorsstore_7    34690.248612\n",
       "nvendors_7           33439.493031\n",
       "avgorigprice_1       29659.944625\n",
       "totalprofit_7        28251.697840\n",
       "maxdiscount_5        27713.867506"
      ]
     },
     "execution_count": 25,
     "metadata": {},
     "output_type": "execute_result"
    }
   ],
   "source": [
    "features = X_Train_standardlized.columns\n",
    "importance = np.abs(model.coef_)\n",
    "feature_importance_lasso = pd.DataFrame(importance, features, columns = ['Coef'])\n",
    "feature_importance_lasso.sort_values(by=['Coef'], ascending = False).head(10)"
   ]
  },
  {
   "cell_type": "markdown",
   "metadata": {},
   "source": [
    "Test Lasso on the final left data"
   ]
  },
  {
   "cell_type": "code",
   "execution_count": 26,
   "metadata": {},
   "outputs": [],
   "source": [
    "final_train = df_ts\n",
    "final_test = leftout\n",
    "# split the data with labels\n",
    "X_train = final_train.drop('totalprofit', axis = 1)\n",
    "y_train = final_train['totalprofit']\n",
    "X_test = final_test.drop('totalprofit', axis = 1)\n",
    "y_test = final_test['totalprofit']"
   ]
  },
  {
   "cell_type": "code",
   "execution_count": 27,
   "metadata": {},
   "outputs": [],
   "source": [
    "# standardlize data\n",
    "sc = StandardScaler()\n",
    "sc.fit(X_train)\n",
    "standardX_train = sc.transform(X_train)\n",
    "standardX_test = sc.transform(X_test)\n",
    "X_Train_standardlized = pd.DataFrame(standardX_train, columns = list(X_train.columns))\n",
    "X_Test_standardlized = pd.DataFrame(standardX_test, columns = list(X_test.columns))\n"
   ]
  },
  {
   "cell_type": "code",
   "execution_count": 28,
   "metadata": {},
   "outputs": [],
   "source": [
    "# train the regression model\n",
    "cv = TimeSeriesSplit(gap=0, max_train_size=None, n_splits=5, test_size=None)\n",
    "clf = linear_model.Lasso()\n",
    "model = LassoCV(cv=cv, n_jobs=-1)\n",
    "y_train = pd.DataFrame(y_train)\n",
    "def inpute_missing_mean(df):\n",
    "    df = df.copy()\n",
    "    for i in df.columns[df.isnull().any(axis=0)]:\n",
    "        df[i].fillna(df[i].mean(),inplace=True)\n",
    "    return df\n",
    "X_Train_standardlized_lasso = inpute_missing_mean(X_Train_standardlized)\n",
    "y_train_lasso = inpute_missing_mean(y_train)\n"
   ]
  },
  {
   "cell_type": "code",
   "execution_count": 29,
   "metadata": {},
   "outputs": [
    {
     "name": "stderr",
     "output_type": "stream",
     "text": [
      "/nfs/home/ycj6475/.local/lib/python3.9/site-packages/sklearn/linear_model/_coordinate_descent.py:1561: DataConversionWarning: A column-vector y was passed when a 1d array was expected. Please change the shape of y to (n_samples, ), for example using ravel().\n",
      "  y = column_or_1d(y, warn=True)\n",
      "/nfs/home/ycj6475/.local/lib/python3.9/site-packages/sklearn/linear_model/_coordinate_descent.py:634: ConvergenceWarning: Objective did not converge. You might want to increase the number of iterations, check the scale of the features or consider increasing regularisation. Duality gap: 5.010e+09, tolerance: 1.849e+09\n",
      "  model = cd_fast.enet_coordinate_descent(\n",
      "/nfs/home/ycj6475/.local/lib/python3.9/site-packages/sklearn/linear_model/_coordinate_descent.py:634: ConvergenceWarning: Objective did not converge. You might want to increase the number of iterations, check the scale of the features or consider increasing regularisation. Duality gap: 6.487e+09, tolerance: 1.849e+09\n",
      "  model = cd_fast.enet_coordinate_descent(\n",
      "/nfs/home/ycj6475/.local/lib/python3.9/site-packages/sklearn/linear_model/_coordinate_descent.py:634: ConvergenceWarning: Objective did not converge. You might want to increase the number of iterations, check the scale of the features or consider increasing regularisation. Duality gap: 8.066e+08, tolerance: 6.924e+08\n",
      "  model = cd_fast.enet_coordinate_descent(\n",
      "/nfs/home/ycj6475/.local/lib/python3.9/site-packages/sklearn/linear_model/_coordinate_descent.py:634: ConvergenceWarning: Objective did not converge. You might want to increase the number of iterations, check the scale of the features or consider increasing regularisation. Duality gap: 2.476e+09, tolerance: 1.849e+09\n",
      "  model = cd_fast.enet_coordinate_descent(\n",
      "/nfs/home/ycj6475/.local/lib/python3.9/site-packages/sklearn/linear_model/_coordinate_descent.py:634: ConvergenceWarning: Objective did not converge. You might want to increase the number of iterations, check the scale of the features or consider increasing regularisation. Duality gap: 2.068e+09, tolerance: 1.849e+09\n",
      "  model = cd_fast.enet_coordinate_descent(\n",
      "/nfs/home/ycj6475/.local/lib/python3.9/site-packages/sklearn/linear_model/_coordinate_descent.py:634: ConvergenceWarning: Objective did not converge. You might want to increase the number of iterations, check the scale of the features or consider increasing regularisation. Duality gap: 7.251e+08, tolerance: 6.924e+08\n",
      "  model = cd_fast.enet_coordinate_descent(\n",
      "/nfs/home/ycj6475/.local/lib/python3.9/site-packages/sklearn/linear_model/_coordinate_descent.py:634: ConvergenceWarning: Objective did not converge. You might want to increase the number of iterations, check the scale of the features or consider increasing regularisation. Duality gap: 4.504e+09, tolerance: 1.849e+09\n",
      "  model = cd_fast.enet_coordinate_descent(\n",
      "/nfs/home/ycj6475/.local/lib/python3.9/site-packages/sklearn/linear_model/_coordinate_descent.py:634: ConvergenceWarning: Objective did not converge. You might want to increase the number of iterations, check the scale of the features or consider increasing regularisation. Duality gap: 3.330e+09, tolerance: 1.849e+09\n",
      "  model = cd_fast.enet_coordinate_descent(\n",
      "/nfs/home/ycj6475/.local/lib/python3.9/site-packages/sklearn/linear_model/_coordinate_descent.py:634: ConvergenceWarning: Objective did not converge. You might want to increase the number of iterations, check the scale of the features or consider increasing regularisation. Duality gap: 4.602e+09, tolerance: 1.849e+09\n",
      "  model = cd_fast.enet_coordinate_descent(\n",
      "/nfs/home/ycj6475/.local/lib/python3.9/site-packages/sklearn/linear_model/_coordinate_descent.py:634: ConvergenceWarning: Objective did not converge. You might want to increase the number of iterations, check the scale of the features or consider increasing regularisation. Duality gap: 2.424e+09, tolerance: 1.849e+09\n",
      "  model = cd_fast.enet_coordinate_descent(\n",
      "/nfs/home/ycj6475/.local/lib/python3.9/site-packages/sklearn/linear_model/_coordinate_descent.py:634: ConvergenceWarning: Objective did not converge. You might want to increase the number of iterations, check the scale of the features or consider increasing regularisation. Duality gap: 6.256e+09, tolerance: 1.849e+09\n",
      "  model = cd_fast.enet_coordinate_descent(\n",
      "/nfs/home/ycj6475/.local/lib/python3.9/site-packages/sklearn/linear_model/_coordinate_descent.py:634: ConvergenceWarning: Objective did not converge. You might want to increase the number of iterations, check the scale of the features or consider increasing regularisation. Duality gap: 6.788e+09, tolerance: 1.849e+09\n",
      "  model = cd_fast.enet_coordinate_descent(\n",
      "/nfs/home/ycj6475/.local/lib/python3.9/site-packages/sklearn/linear_model/_coordinate_descent.py:634: ConvergenceWarning: Objective did not converge. You might want to increase the number of iterations, check the scale of the features or consider increasing regularisation. Duality gap: 7.250e+09, tolerance: 1.849e+09\n",
      "  model = cd_fast.enet_coordinate_descent(\n",
      "/nfs/home/ycj6475/.local/lib/python3.9/site-packages/sklearn/linear_model/_coordinate_descent.py:634: ConvergenceWarning: Objective did not converge. You might want to increase the number of iterations, check the scale of the features or consider increasing regularisation. Duality gap: 1.257e+10, tolerance: 1.849e+09\n",
      "  model = cd_fast.enet_coordinate_descent(\n",
      "/nfs/home/ycj6475/.local/lib/python3.9/site-packages/sklearn/linear_model/_coordinate_descent.py:634: ConvergenceWarning: Objective did not converge. You might want to increase the number of iterations, check the scale of the features or consider increasing regularisation. Duality gap: 6.948e+08, tolerance: 6.924e+08\n",
      "  model = cd_fast.enet_coordinate_descent(\n",
      "/nfs/home/ycj6475/.local/lib/python3.9/site-packages/sklearn/linear_model/_coordinate_descent.py:634: ConvergenceWarning: Objective did not converge. You might want to increase the number of iterations, check the scale of the features or consider increasing regularisation. Duality gap: 3.301e+09, tolerance: 2.914e+09\n",
      "  model = cd_fast.enet_coordinate_descent(\n",
      "/nfs/home/ycj6475/.local/lib/python3.9/site-packages/sklearn/linear_model/_coordinate_descent.py:634: ConvergenceWarning: Objective did not converge. You might want to increase the number of iterations, check the scale of the features or consider increasing regularisation. Duality gap: 9.622e+09, tolerance: 2.914e+09\n",
      "  model = cd_fast.enet_coordinate_descent(\n",
      "/nfs/home/ycj6475/.local/lib/python3.9/site-packages/sklearn/linear_model/_coordinate_descent.py:634: ConvergenceWarning: Objective did not converge. You might want to increase the number of iterations, check the scale of the features or consider increasing regularisation. Duality gap: 3.296e+09, tolerance: 2.914e+09\n",
      "  model = cd_fast.enet_coordinate_descent(\n",
      "/nfs/home/ycj6475/.local/lib/python3.9/site-packages/sklearn/linear_model/_coordinate_descent.py:634: ConvergenceWarning: Objective did not converge. You might want to increase the number of iterations, check the scale of the features or consider increasing regularisation. Duality gap: 5.706e+09, tolerance: 4.057e+09\n",
      "  model = cd_fast.enet_coordinate_descent(\n",
      "/nfs/home/ycj6475/.local/lib/python3.9/site-packages/sklearn/linear_model/_coordinate_descent.py:634: ConvergenceWarning: Objective did not converge. You might want to increase the number of iterations, check the scale of the features or consider increasing regularisation. Duality gap: 1.177e+10, tolerance: 2.914e+09\n",
      "  model = cd_fast.enet_coordinate_descent(\n",
      "/nfs/home/ycj6475/.local/lib/python3.9/site-packages/sklearn/linear_model/_coordinate_descent.py:634: ConvergenceWarning: Objective did not converge. You might want to increase the number of iterations, check the scale of the features or consider increasing regularisation. Duality gap: 7.596e+09, tolerance: 4.057e+09\n",
      "  model = cd_fast.enet_coordinate_descent(\n",
      "/nfs/home/ycj6475/.local/lib/python3.9/site-packages/sklearn/linear_model/_coordinate_descent.py:634: ConvergenceWarning: Objective did not converge. You might want to increase the number of iterations, check the scale of the features or consider increasing regularisation. Duality gap: 8.007e+09, tolerance: 2.914e+09\n",
      "  model = cd_fast.enet_coordinate_descent(\n",
      "/nfs/home/ycj6475/.local/lib/python3.9/site-packages/sklearn/linear_model/_coordinate_descent.py:634: ConvergenceWarning: Objective did not converge. You might want to increase the number of iterations, check the scale of the features or consider increasing regularisation. Duality gap: 6.864e+09, tolerance: 2.914e+09\n",
      "  model = cd_fast.enet_coordinate_descent(\n",
      "/nfs/home/ycj6475/.local/lib/python3.9/site-packages/sklearn/linear_model/_coordinate_descent.py:634: ConvergenceWarning: Objective did not converge. You might want to increase the number of iterations, check the scale of the features or consider increasing regularisation. Duality gap: 7.625e+09, tolerance: 4.057e+09\n",
      "  model = cd_fast.enet_coordinate_descent(\n",
      "/nfs/home/ycj6475/.local/lib/python3.9/site-packages/sklearn/linear_model/_coordinate_descent.py:634: ConvergenceWarning: Objective did not converge. You might want to increase the number of iterations, check the scale of the features or consider increasing regularisation. Duality gap: 4.745e+09, tolerance: 2.914e+09\n",
      "  model = cd_fast.enet_coordinate_descent(\n",
      "/nfs/home/ycj6475/.local/lib/python3.9/site-packages/sklearn/linear_model/_coordinate_descent.py:634: ConvergenceWarning: Objective did not converge. You might want to increase the number of iterations, check the scale of the features or consider increasing regularisation. Duality gap: 8.732e+09, tolerance: 4.057e+09\n",
      "  model = cd_fast.enet_coordinate_descent(\n",
      "/nfs/home/ycj6475/.local/lib/python3.9/site-packages/sklearn/linear_model/_coordinate_descent.py:634: ConvergenceWarning: Objective did not converge. You might want to increase the number of iterations, check the scale of the features or consider increasing regularisation. Duality gap: 1.432e+10, tolerance: 2.914e+09\n",
      "  model = cd_fast.enet_coordinate_descent(\n",
      "/nfs/home/ycj6475/.local/lib/python3.9/site-packages/sklearn/linear_model/_coordinate_descent.py:634: ConvergenceWarning: Objective did not converge. You might want to increase the number of iterations, check the scale of the features or consider increasing regularisation. Duality gap: 1.494e+10, tolerance: 2.914e+09\n",
      "  model = cd_fast.enet_coordinate_descent(\n",
      "/nfs/home/ycj6475/.local/lib/python3.9/site-packages/sklearn/linear_model/_coordinate_descent.py:634: ConvergenceWarning: Objective did not converge. You might want to increase the number of iterations, check the scale of the features or consider increasing regularisation. Duality gap: 1.305e+10, tolerance: 4.057e+09\n",
      "  model = cd_fast.enet_coordinate_descent(\n",
      "/nfs/home/ycj6475/.local/lib/python3.9/site-packages/sklearn/linear_model/_coordinate_descent.py:634: ConvergenceWarning: Objective did not converge. You might want to increase the number of iterations, check the scale of the features or consider increasing regularisation. Duality gap: 2.210e+10, tolerance: 2.914e+09\n",
      "  model = cd_fast.enet_coordinate_descent(\n",
      "/nfs/home/ycj6475/.local/lib/python3.9/site-packages/sklearn/linear_model/_coordinate_descent.py:634: ConvergenceWarning: Objective did not converge. You might want to increase the number of iterations, check the scale of the features or consider increasing regularisation. Duality gap: 1.680e+10, tolerance: 4.057e+09\n",
      "  model = cd_fast.enet_coordinate_descent(\n",
      "/nfs/home/ycj6475/.local/lib/python3.9/site-packages/sklearn/linear_model/_coordinate_descent.py:634: ConvergenceWarning: Objective did not converge. You might want to increase the number of iterations, check the scale of the features or consider increasing regularisation. Duality gap: 2.778e+10, tolerance: 2.914e+09\n",
      "  model = cd_fast.enet_coordinate_descent(\n",
      "/nfs/home/ycj6475/.local/lib/python3.9/site-packages/sklearn/linear_model/_coordinate_descent.py:634: ConvergenceWarning: Objective did not converge. You might want to increase the number of iterations, check the scale of the features or consider increasing regularisation. Duality gap: 3.915e+10, tolerance: 2.914e+09\n",
      "  model = cd_fast.enet_coordinate_descent(\n"
     ]
    },
    {
     "data": {
      "text/html": [
       "<style>#sk-container-id-2 {color: black;background-color: white;}#sk-container-id-2 pre{padding: 0;}#sk-container-id-2 div.sk-toggleable {background-color: white;}#sk-container-id-2 label.sk-toggleable__label {cursor: pointer;display: block;width: 100%;margin-bottom: 0;padding: 0.3em;box-sizing: border-box;text-align: center;}#sk-container-id-2 label.sk-toggleable__label-arrow:before {content: \"▸\";float: left;margin-right: 0.25em;color: #696969;}#sk-container-id-2 label.sk-toggleable__label-arrow:hover:before {color: black;}#sk-container-id-2 div.sk-estimator:hover label.sk-toggleable__label-arrow:before {color: black;}#sk-container-id-2 div.sk-toggleable__content {max-height: 0;max-width: 0;overflow: hidden;text-align: left;background-color: #f0f8ff;}#sk-container-id-2 div.sk-toggleable__content pre {margin: 0.2em;color: black;border-radius: 0.25em;background-color: #f0f8ff;}#sk-container-id-2 input.sk-toggleable__control:checked~div.sk-toggleable__content {max-height: 200px;max-width: 100%;overflow: auto;}#sk-container-id-2 input.sk-toggleable__control:checked~label.sk-toggleable__label-arrow:before {content: \"▾\";}#sk-container-id-2 div.sk-estimator input.sk-toggleable__control:checked~label.sk-toggleable__label {background-color: #d4ebff;}#sk-container-id-2 div.sk-label input.sk-toggleable__control:checked~label.sk-toggleable__label {background-color: #d4ebff;}#sk-container-id-2 input.sk-hidden--visually {border: 0;clip: rect(1px 1px 1px 1px);clip: rect(1px, 1px, 1px, 1px);height: 1px;margin: -1px;overflow: hidden;padding: 0;position: absolute;width: 1px;}#sk-container-id-2 div.sk-estimator {font-family: monospace;background-color: #f0f8ff;border: 1px dotted black;border-radius: 0.25em;box-sizing: border-box;margin-bottom: 0.5em;}#sk-container-id-2 div.sk-estimator:hover {background-color: #d4ebff;}#sk-container-id-2 div.sk-parallel-item::after {content: \"\";width: 100%;border-bottom: 1px solid gray;flex-grow: 1;}#sk-container-id-2 div.sk-label:hover label.sk-toggleable__label {background-color: #d4ebff;}#sk-container-id-2 div.sk-serial::before {content: \"\";position: absolute;border-left: 1px solid gray;box-sizing: border-box;top: 0;bottom: 0;left: 50%;z-index: 0;}#sk-container-id-2 div.sk-serial {display: flex;flex-direction: column;align-items: center;background-color: white;padding-right: 0.2em;padding-left: 0.2em;position: relative;}#sk-container-id-2 div.sk-item {position: relative;z-index: 1;}#sk-container-id-2 div.sk-parallel {display: flex;align-items: stretch;justify-content: center;background-color: white;position: relative;}#sk-container-id-2 div.sk-item::before, #sk-container-id-2 div.sk-parallel-item::before {content: \"\";position: absolute;border-left: 1px solid gray;box-sizing: border-box;top: 0;bottom: 0;left: 50%;z-index: -1;}#sk-container-id-2 div.sk-parallel-item {display: flex;flex-direction: column;z-index: 1;position: relative;background-color: white;}#sk-container-id-2 div.sk-parallel-item:first-child::after {align-self: flex-end;width: 50%;}#sk-container-id-2 div.sk-parallel-item:last-child::after {align-self: flex-start;width: 50%;}#sk-container-id-2 div.sk-parallel-item:only-child::after {width: 0;}#sk-container-id-2 div.sk-dashed-wrapped {border: 1px dashed gray;margin: 0 0.4em 0.5em 0.4em;box-sizing: border-box;padding-bottom: 0.4em;background-color: white;}#sk-container-id-2 div.sk-label label {font-family: monospace;font-weight: bold;display: inline-block;line-height: 1.2em;}#sk-container-id-2 div.sk-label-container {text-align: center;}#sk-container-id-2 div.sk-container {/* jupyter's `normalize.less` sets `[hidden] { display: none; }` but bootstrap.min.css set `[hidden] { display: none !important; }` so we also need the `!important` here to be able to override the default hidden behavior on the sphinx rendered scikit-learn.org. See: https://github.com/scikit-learn/scikit-learn/issues/21755 */display: inline-block !important;position: relative;}#sk-container-id-2 div.sk-text-repr-fallback {display: none;}</style><div id=\"sk-container-id-2\" class=\"sk-top-container\"><div class=\"sk-text-repr-fallback\"><pre>LassoCV(cv=TimeSeriesSplit(gap=0, max_train_size=None, n_splits=5, test_size=None),\n",
       "        n_jobs=-1)</pre><b>In a Jupyter environment, please rerun this cell to show the HTML representation or trust the notebook. <br />On GitHub, the HTML representation is unable to render, please try loading this page with nbviewer.org.</b></div><div class=\"sk-container\" hidden><div class=\"sk-item\"><div class=\"sk-estimator sk-toggleable\"><input class=\"sk-toggleable__control sk-hidden--visually\" id=\"sk-estimator-id-2\" type=\"checkbox\" checked><label for=\"sk-estimator-id-2\" class=\"sk-toggleable__label sk-toggleable__label-arrow\">LassoCV</label><div class=\"sk-toggleable__content\"><pre>LassoCV(cv=TimeSeriesSplit(gap=0, max_train_size=None, n_splits=5, test_size=None),\n",
       "        n_jobs=-1)</pre></div></div></div></div></div>"
      ],
      "text/plain": [
       "LassoCV(cv=TimeSeriesSplit(gap=0, max_train_size=None, n_splits=5, test_size=None),\n",
       "        n_jobs=-1)"
      ]
     },
     "execution_count": 29,
     "metadata": {},
     "output_type": "execute_result"
    }
   ],
   "source": [
    "model.fit(X_Train_standardlized_lasso, y_train_lasso)\n"
   ]
  },
  {
   "cell_type": "code",
   "execution_count": 30,
   "metadata": {},
   "outputs": [
    {
     "name": "stdout",
     "output_type": "stream",
     "text": [
      "explained_variance:  0.7203\n",
      "r2:  0.6626\n",
      "MAE:  257986.1354\n",
      "MSE:  174609949168.7626\n",
      "RMSE:  417863.5533\n"
     ]
    }
   ],
   "source": [
    "X_Test_standardlized_lasso = inpute_missing_mean(X_Test_standardlized)\n",
    "y_pred = model.predict(X_Test_standardlized_lasso)\n",
    "show_results(y_test, y_pred)"
   ]
  },
  {
   "cell_type": "code",
   "execution_count": 31,
   "metadata": {},
   "outputs": [
    {
     "data": {
      "image/png": "[encoded data removed]",
      "text/plain": [
       "<Figure size 1080x360 with 1 Axes>"
      ]
     },
     "metadata": {
      "needs_background": "light"
     },
     "output_type": "display_data"
    }
   ],
   "source": [
    "X_test['prediction'] = y_pred\n",
    "test_pred = pd.concat([X_test, X_train], sort=False)\n",
    "test_ts_draw = final_test[\"totalprofit\"]\n",
    "test_prediction = test_pred[\"prediction\"]\n",
    "fig, ax = plt.subplots(figsize=(15, 5))\n",
    "test_prediction.plot(ax=ax, label='prediction Set', title='Train_Test_comparison')\n",
    "test_ts_draw.plot(ax=ax, label='Test Set')\n",
    "ax.legend(['prediction Set', 'Test Set'])\n",
    "plt.show()\n"
   ]
  },
  {
   "cell_type": "code",
   "execution_count": 32,
   "metadata": {},
   "outputs": [
    {
     "data": {
      "text/html": [
       "<div>\n",
       "<style scoped>\n",
       "    .dataframe tbody tr th:only-of-type {\n",
       "        vertical-align: middle;\n",
       "    }\n",
       "\n",
       "    .dataframe tbody tr th {\n",
       "        vertical-align: top;\n",
       "    }\n",
       "\n",
       "    .dataframe thead th {\n",
       "        text-align: right;\n",
       "    }\n",
       "</style>\n",
       "<table border=\"1\" class=\"dataframe\">\n",
       "  <thead>\n",
       "    <tr style=\"text-align: right;\">\n",
       "      <th></th>\n",
       "      <th>Coef</th>\n",
       "    </tr>\n",
       "  </thead>\n",
       "  <tbody>\n",
       "    <tr>\n",
       "      <th>totalprofit_1</th>\n",
       "      <td>164473.565852</td>\n",
       "    </tr>\n",
       "    <tr>\n",
       "      <th>avgprofittrnsact_6</th>\n",
       "      <td>151969.488872</td>\n",
       "    </tr>\n",
       "    <tr>\n",
       "      <th>avgprofittrnsact_14</th>\n",
       "      <td>47988.344349</td>\n",
       "    </tr>\n",
       "    <tr>\n",
       "      <th>totalprofit_7</th>\n",
       "      <td>42951.591581</td>\n",
       "    </tr>\n",
       "    <tr>\n",
       "      <th>avgvendorsstore_7</th>\n",
       "      <td>40899.894392</td>\n",
       "    </tr>\n",
       "    <tr>\n",
       "      <th>maxprofit_5</th>\n",
       "      <td>39673.124548</td>\n",
       "    </tr>\n",
       "    <tr>\n",
       "      <th>maxcost_7</th>\n",
       "      <td>36778.401586</td>\n",
       "    </tr>\n",
       "    <tr>\n",
       "      <th>nvendors_3</th>\n",
       "      <td>29473.171503</td>\n",
       "    </tr>\n",
       "    <tr>\n",
       "      <th>maxdiscount_5</th>\n",
       "      <td>26160.423525</td>\n",
       "    </tr>\n",
       "    <tr>\n",
       "      <th>quarter</th>\n",
       "      <td>25004.709064</td>\n",
       "    </tr>\n",
       "  </tbody>\n",
       "</table>\n",
       "</div>"
      ],
      "text/plain": [
       "                              Coef\n",
       "totalprofit_1        164473.565852\n",
       "avgprofittrnsact_6   151969.488872\n",
       "avgprofittrnsact_14   47988.344349\n",
       "totalprofit_7         42951.591581\n",
       "avgvendorsstore_7     40899.894392\n",
       "maxprofit_5           39673.124548\n",
       "maxcost_7             36778.401586\n",
       "nvendors_3            29473.171503\n",
       "maxdiscount_5         26160.423525\n",
       "quarter               25004.709064"
      ]
     },
     "execution_count": 32,
     "metadata": {},
     "output_type": "execute_result"
    }
   ],
   "source": [
    "features = X_Train_standardlized.columns\n",
    "importance = np.abs(model.coef_)\n",
    "feature_importance_lasso = pd.DataFrame(importance, features, columns = ['Coef'])\n",
    "feature_importance_lasso.sort_values(by=['Coef'], ascending = False).head(10)"
   ]
  },
  {
   "cell_type": "code",
   "execution_count": 33,
   "metadata": {},
   "outputs": [
    {
     "data": {
      "text/plain": [
       "51270190.4917618"
      ]
     },
     "execution_count": 33,
     "metadata": {},
     "output_type": "execute_result"
    }
   ],
   "source": [
    "# final money amount for August \n",
    "sum(y_pred)"
   ]
  },
  {
   "cell_type": "code",
   "execution_count": null,
   "metadata": {},
   "outputs": [],
   "source": []
  }
 ],
 "metadata": {
  "kernelspec": {
   "display_name": "Python 3 (ipykernel)",
   "language": "python",
   "name": "python3"
  },
  "language_info": {
   "codemirror_mode": {
    "name": "ipython",
    "version": 3
   },
   "file_extension": ".py",
   "mimetype": "text/x-python",
   "name": "python",
   "nbconvert_exporter": "python",
   "pygments_lexer": "ipython3",
   "version": "3.9.7"
  },
  "vscode": {
   "interpreter": {
    "hash": "b0fa6594d8f4cbf19f97940f81e996739fb7646882a419484c72d19e05852a7e"
   }
  }
 },
 "nbformat": 4,
 "nbformat_minor": 4
}
