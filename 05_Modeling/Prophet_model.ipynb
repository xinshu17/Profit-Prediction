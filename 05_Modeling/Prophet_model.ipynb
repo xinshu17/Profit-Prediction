{
 "cells": [
  {
   "cell_type": "code",
   "execution_count": 1,
   "id": "56a3608c",
   "metadata": {},
   "outputs": [
    {
     "name": "stderr",
     "output_type": "stream",
     "text": [
      "Importing plotly failed. Interactive plots will not work.\n"
     ]
    }
   ],
   "source": [
    "import pandas as pd\n",
    "import psycopg2\n",
    "from psycopg2 import Error\n",
    "import numpy as np\n",
    "import matplotlib.pyplot as plt\n",
    "import seaborn as sns\n",
    "from prophet import Prophet\n",
    "import math"
   ]
  },
  {
   "cell_type": "code",
   "execution_count": 3,
   "id": "ca94c3f3",
   "metadata": {},
   "outputs": [
    {
     "name": "stdout",
     "output_type": "stream",
     "text": [
      "You are connected to -  ('PostgreSQL 10.12 on x86_64-pc-linux-gnu, compiled by gcc (GCC) 4.8.5 20150623 (Red Hat 4.8.5-39), 64-bit',) \n",
      "\n",
      "PostgreSQL connection is closed\n"
     ]
    }
   ],
   "source": [
    "try:\n",
    "    # Connect to an existing database\n",
    "    connection = psycopg2.connect(database=\"2022-everything-team12\", \n",
    "                            user='ycm3076', \n",
    "                            password='C13655814908y!', \n",
    "                            host='pg.analytics.northwestern.edu', \n",
    "                            port= '5432')\n",
    "\n",
    "    # Create a cursor to perform database operations\n",
    "    cursor = connection.cursor()\n",
    "    # Print PostgreSQL details\n",
    "    cursor.execute(\"SELECT version();\")\n",
    "    # Fetch result\n",
    "    record = cursor.fetchone()\n",
    "    print(\"You are connected to - \", record, \"\\n\")\n",
    "except (Exception, Error) as error:\n",
    "    print(\"Error while connecting to PostgreSQL\", error)\n",
    "df = pd.read_sql(\"select * from \\\"aggtrnsactdaily2\\\"\", connection);\n",
    "if (connection):\n",
    "    cursor.close()\n",
    "    connection.close()\n",
    "    print(\"PostgreSQL connection is closed\") \n"
   ]
  },
  {
   "cell_type": "markdown",
   "id": "e764618c",
   "metadata": {},
   "source": [
    "## Construct Dataset"
   ]
  },
  {
   "cell_type": "code",
   "execution_count": 4,
   "id": "fa5fc9e5",
   "metadata": {},
   "outputs": [
    {
     "data": {
      "text/html": [
       "<div>\n",
       "<style scoped>\n",
       "    .dataframe tbody tr th:only-of-type {\n",
       "        vertical-align: middle;\n",
       "    }\n",
       "\n",
       "    .dataframe tbody tr th {\n",
       "        vertical-align: top;\n",
       "    }\n",
       "\n",
       "    .dataframe thead th {\n",
       "        text-align: right;\n",
       "    }\n",
       "</style>\n",
       "<table border=\"1\" class=\"dataframe\">\n",
       "  <thead>\n",
       "    <tr style=\"text-align: right;\">\n",
       "      <th></th>\n",
       "      <th>saledate</th>\n",
       "      <th>nstores</th>\n",
       "      <th>nsku</th>\n",
       "      <th>totalquantity</th>\n",
       "      <th>avgquantity</th>\n",
       "      <th>totalamt</th>\n",
       "      <th>avgamt</th>\n",
       "      <th>minamt</th>\n",
       "      <th>maxamt</th>\n",
       "      <th>totalorigprice</th>\n",
       "      <th>...</th>\n",
       "      <th>maxdiscount</th>\n",
       "      <th>totalprofit</th>\n",
       "      <th>avgprofittrnsact</th>\n",
       "      <th>minprofit</th>\n",
       "      <th>maxprofit</th>\n",
       "      <th>nstore</th>\n",
       "      <th>ncities</th>\n",
       "      <th>ndept</th>\n",
       "      <th>nvendors</th>\n",
       "      <th>avgvendorsstore</th>\n",
       "    </tr>\n",
       "  </thead>\n",
       "  <tbody>\n",
       "    <tr>\n",
       "      <th>384</th>\n",
       "      <td>2005-08-26</td>\n",
       "      <td>324</td>\n",
       "      <td>144548</td>\n",
       "      <td>482390</td>\n",
       "      <td>525</td>\n",
       "      <td>19215591.82</td>\n",
       "      <td>20932.017233</td>\n",
       "      <td>0.0</td>\n",
       "      <td>1200.0</td>\n",
       "      <td>8968694.40</td>\n",
       "      <td>...</td>\n",
       "      <td>490.88</td>\n",
       "      <td>2344460.0</td>\n",
       "      <td>2553.876089</td>\n",
       "      <td>0.0</td>\n",
       "      <td>450.00</td>\n",
       "      <td>324</td>\n",
       "      <td>263</td>\n",
       "      <td>60</td>\n",
       "      <td>1056</td>\n",
       "      <td>3</td>\n",
       "    </tr>\n",
       "    <tr>\n",
       "      <th>385</th>\n",
       "      <td>2005-08-27</td>\n",
       "      <td>325</td>\n",
       "      <td>174635</td>\n",
       "      <td>726056</td>\n",
       "      <td>790</td>\n",
       "      <td>29404178.67</td>\n",
       "      <td>31995.841861</td>\n",
       "      <td>0.0</td>\n",
       "      <td>1200.0</td>\n",
       "      <td>14044552.29</td>\n",
       "      <td>...</td>\n",
       "      <td>540.00</td>\n",
       "      <td>3903930.0</td>\n",
       "      <td>4248.019859</td>\n",
       "      <td>0.0</td>\n",
       "      <td>555.29</td>\n",
       "      <td>325</td>\n",
       "      <td>264</td>\n",
       "      <td>60</td>\n",
       "      <td>1098</td>\n",
       "      <td>3</td>\n",
       "    </tr>\n",
       "    <tr>\n",
       "      <th>386</th>\n",
       "      <td>2005-02-23</td>\n",
       "      <td>324</td>\n",
       "      <td>154375</td>\n",
       "      <td>818303</td>\n",
       "      <td>739</td>\n",
       "      <td>36239176.72</td>\n",
       "      <td>32736.383668</td>\n",
       "      <td>0.0</td>\n",
       "      <td>1298.0</td>\n",
       "      <td>10507344.52</td>\n",
       "      <td>...</td>\n",
       "      <td>843.70</td>\n",
       "      <td>0.0</td>\n",
       "      <td>0.000000</td>\n",
       "      <td>0.0</td>\n",
       "      <td>780.00</td>\n",
       "      <td>324</td>\n",
       "      <td>263</td>\n",
       "      <td>58</td>\n",
       "      <td>1035</td>\n",
       "      <td>3</td>\n",
       "    </tr>\n",
       "    <tr>\n",
       "      <th>387</th>\n",
       "      <td>2005-02-24</td>\n",
       "      <td>324</td>\n",
       "      <td>155570</td>\n",
       "      <td>839153</td>\n",
       "      <td>735</td>\n",
       "      <td>35454568.88</td>\n",
       "      <td>31073.241788</td>\n",
       "      <td>0.0</td>\n",
       "      <td>1200.0</td>\n",
       "      <td>10844948.29</td>\n",
       "      <td>...</td>\n",
       "      <td>596.25</td>\n",
       "      <td>0.0</td>\n",
       "      <td>0.000000</td>\n",
       "      <td>0.0</td>\n",
       "      <td>495.00</td>\n",
       "      <td>324</td>\n",
       "      <td>263</td>\n",
       "      <td>58</td>\n",
       "      <td>1059</td>\n",
       "      <td>3</td>\n",
       "    </tr>\n",
       "    <tr>\n",
       "      <th>388</th>\n",
       "      <td>2005-02-25</td>\n",
       "      <td>324</td>\n",
       "      <td>163112</td>\n",
       "      <td>892854</td>\n",
       "      <td>774</td>\n",
       "      <td>37062627.79</td>\n",
       "      <td>32144.516730</td>\n",
       "      <td>0.0</td>\n",
       "      <td>1200.0</td>\n",
       "      <td>12367866.48</td>\n",
       "      <td>...</td>\n",
       "      <td>521.25</td>\n",
       "      <td>0.0</td>\n",
       "      <td>0.000000</td>\n",
       "      <td>0.0</td>\n",
       "      <td>500.00</td>\n",
       "      <td>324</td>\n",
       "      <td>263</td>\n",
       "      <td>58</td>\n",
       "      <td>1088</td>\n",
       "      <td>3</td>\n",
       "    </tr>\n",
       "  </tbody>\n",
       "</table>\n",
       "<p>5 rows × 36 columns</p>\n",
       "</div>"
      ],
      "text/plain": [
       "       saledate  nstores    nsku  totalquantity  avgquantity     totalamt  \\\n",
       "384  2005-08-26      324  144548         482390          525  19215591.82   \n",
       "385  2005-08-27      325  174635         726056          790  29404178.67   \n",
       "386  2005-02-23      324  154375         818303          739  36239176.72   \n",
       "387  2005-02-24      324  155570         839153          735  35454568.88   \n",
       "388  2005-02-25      324  163112         892854          774  37062627.79   \n",
       "\n",
       "           avgamt  minamt  maxamt  totalorigprice  ...  maxdiscount  \\\n",
       "384  20932.017233     0.0  1200.0      8968694.40  ...       490.88   \n",
       "385  31995.841861     0.0  1200.0     14044552.29  ...       540.00   \n",
       "386  32736.383668     0.0  1298.0     10507344.52  ...       843.70   \n",
       "387  31073.241788     0.0  1200.0     10844948.29  ...       596.25   \n",
       "388  32144.516730     0.0  1200.0     12367866.48  ...       521.25   \n",
       "\n",
       "     totalprofit  avgprofittrnsact  minprofit  maxprofit  nstore  ncities  \\\n",
       "384    2344460.0       2553.876089        0.0     450.00     324      263   \n",
       "385    3903930.0       4248.019859        0.0     555.29     325      264   \n",
       "386          0.0          0.000000        0.0     780.00     324      263   \n",
       "387          0.0          0.000000        0.0     495.00     324      263   \n",
       "388          0.0          0.000000        0.0     500.00     324      263   \n",
       "\n",
       "     ndept  nvendors  avgvendorsstore  \n",
       "384     60      1056                3  \n",
       "385     60      1098                3  \n",
       "386     58      1035                3  \n",
       "387     58      1059                3  \n",
       "388     58      1088                3  \n",
       "\n",
       "[5 rows x 36 columns]"
      ]
     },
     "execution_count": 4,
     "metadata": {},
     "output_type": "execute_result"
    }
   ],
   "source": [
    "df.tail()"
   ]
  },
  {
   "cell_type": "code",
   "execution_count": 5,
   "id": "76e185aa",
   "metadata": {},
   "outputs": [
    {
     "data": {
      "text/html": [
       "<div>\n",
       "<style scoped>\n",
       "    .dataframe tbody tr th:only-of-type {\n",
       "        vertical-align: middle;\n",
       "    }\n",
       "\n",
       "    .dataframe tbody tr th {\n",
       "        vertical-align: top;\n",
       "    }\n",
       "\n",
       "    .dataframe thead th {\n",
       "        text-align: right;\n",
       "    }\n",
       "</style>\n",
       "<table border=\"1\" class=\"dataframe\">\n",
       "  <thead>\n",
       "    <tr style=\"text-align: right;\">\n",
       "      <th></th>\n",
       "      <th>saledate</th>\n",
       "      <th>nstores</th>\n",
       "      <th>nsku</th>\n",
       "      <th>totalquantity</th>\n",
       "      <th>avgquantity</th>\n",
       "      <th>totalamt</th>\n",
       "      <th>avgamt</th>\n",
       "      <th>minamt</th>\n",
       "      <th>maxamt</th>\n",
       "      <th>totalorigprice</th>\n",
       "      <th>...</th>\n",
       "      <th>maxdiscount</th>\n",
       "      <th>totalprofit</th>\n",
       "      <th>avgprofittrnsact</th>\n",
       "      <th>minprofit</th>\n",
       "      <th>maxprofit</th>\n",
       "      <th>nstore</th>\n",
       "      <th>ncities</th>\n",
       "      <th>ndept</th>\n",
       "      <th>nvendors</th>\n",
       "      <th>avgvendorsstore</th>\n",
       "    </tr>\n",
       "  </thead>\n",
       "  <tbody>\n",
       "    <tr>\n",
       "      <th>381</th>\n",
       "      <td>2005-08-23</td>\n",
       "      <td>325</td>\n",
       "      <td>84999</td>\n",
       "      <td>216712</td>\n",
       "      <td>226</td>\n",
       "      <td>7457004.46</td>\n",
       "      <td>7800.213870</td>\n",
       "      <td>0.0</td>\n",
       "      <td>1200.0</td>\n",
       "      <td>5141321.76</td>\n",
       "      <td>...</td>\n",
       "      <td>347.50</td>\n",
       "      <td>1477840.0</td>\n",
       "      <td>1545.861402</td>\n",
       "      <td>0.0</td>\n",
       "      <td>768.75</td>\n",
       "      <td>325</td>\n",
       "      <td>264</td>\n",
       "      <td>60</td>\n",
       "      <td>944</td>\n",
       "      <td>2</td>\n",
       "    </tr>\n",
       "    <tr>\n",
       "      <th>382</th>\n",
       "      <td>2005-08-24</td>\n",
       "      <td>325</td>\n",
       "      <td>140901</td>\n",
       "      <td>466006</td>\n",
       "      <td>496</td>\n",
       "      <td>19248987.11</td>\n",
       "      <td>20521.308220</td>\n",
       "      <td>0.0</td>\n",
       "      <td>1200.0</td>\n",
       "      <td>8398192.33</td>\n",
       "      <td>...</td>\n",
       "      <td>476.00</td>\n",
       "      <td>1982620.0</td>\n",
       "      <td>2113.670176</td>\n",
       "      <td>0.0</td>\n",
       "      <td>555.29</td>\n",
       "      <td>325</td>\n",
       "      <td>264</td>\n",
       "      <td>60</td>\n",
       "      <td>1041</td>\n",
       "      <td>3</td>\n",
       "    </tr>\n",
       "    <tr>\n",
       "      <th>383</th>\n",
       "      <td>2005-08-25</td>\n",
       "      <td>325</td>\n",
       "      <td>134977</td>\n",
       "      <td>422296</td>\n",
       "      <td>442</td>\n",
       "      <td>17062480.18</td>\n",
       "      <td>17885.199350</td>\n",
       "      <td>0.0</td>\n",
       "      <td>1200.0</td>\n",
       "      <td>7772270.13</td>\n",
       "      <td>...</td>\n",
       "      <td>581.75</td>\n",
       "      <td>1943150.0</td>\n",
       "      <td>2036.842243</td>\n",
       "      <td>0.0</td>\n",
       "      <td>500.00</td>\n",
       "      <td>325</td>\n",
       "      <td>264</td>\n",
       "      <td>60</td>\n",
       "      <td>1019</td>\n",
       "      <td>3</td>\n",
       "    </tr>\n",
       "    <tr>\n",
       "      <th>384</th>\n",
       "      <td>2005-08-26</td>\n",
       "      <td>324</td>\n",
       "      <td>144548</td>\n",
       "      <td>482390</td>\n",
       "      <td>525</td>\n",
       "      <td>19215591.82</td>\n",
       "      <td>20932.017233</td>\n",
       "      <td>0.0</td>\n",
       "      <td>1200.0</td>\n",
       "      <td>8968694.40</td>\n",
       "      <td>...</td>\n",
       "      <td>490.88</td>\n",
       "      <td>2344460.0</td>\n",
       "      <td>2553.876089</td>\n",
       "      <td>0.0</td>\n",
       "      <td>450.00</td>\n",
       "      <td>324</td>\n",
       "      <td>263</td>\n",
       "      <td>60</td>\n",
       "      <td>1056</td>\n",
       "      <td>3</td>\n",
       "    </tr>\n",
       "    <tr>\n",
       "      <th>385</th>\n",
       "      <td>2005-08-27</td>\n",
       "      <td>325</td>\n",
       "      <td>174635</td>\n",
       "      <td>726056</td>\n",
       "      <td>790</td>\n",
       "      <td>29404178.67</td>\n",
       "      <td>31995.841861</td>\n",
       "      <td>0.0</td>\n",
       "      <td>1200.0</td>\n",
       "      <td>14044552.29</td>\n",
       "      <td>...</td>\n",
       "      <td>540.00</td>\n",
       "      <td>3903930.0</td>\n",
       "      <td>4248.019859</td>\n",
       "      <td>0.0</td>\n",
       "      <td>555.29</td>\n",
       "      <td>325</td>\n",
       "      <td>264</td>\n",
       "      <td>60</td>\n",
       "      <td>1098</td>\n",
       "      <td>3</td>\n",
       "    </tr>\n",
       "  </tbody>\n",
       "</table>\n",
       "<p>5 rows × 36 columns</p>\n",
       "</div>"
      ],
      "text/plain": [
       "       saledate  nstores    nsku  totalquantity  avgquantity     totalamt  \\\n",
       "381  2005-08-23      325   84999         216712          226   7457004.46   \n",
       "382  2005-08-24      325  140901         466006          496  19248987.11   \n",
       "383  2005-08-25      325  134977         422296          442  17062480.18   \n",
       "384  2005-08-26      324  144548         482390          525  19215591.82   \n",
       "385  2005-08-27      325  174635         726056          790  29404178.67   \n",
       "\n",
       "           avgamt  minamt  maxamt  totalorigprice  ...  maxdiscount  \\\n",
       "381   7800.213870     0.0  1200.0      5141321.76  ...       347.50   \n",
       "382  20521.308220     0.0  1200.0      8398192.33  ...       476.00   \n",
       "383  17885.199350     0.0  1200.0      7772270.13  ...       581.75   \n",
       "384  20932.017233     0.0  1200.0      8968694.40  ...       490.88   \n",
       "385  31995.841861     0.0  1200.0     14044552.29  ...       540.00   \n",
       "\n",
       "     totalprofit  avgprofittrnsact  minprofit  maxprofit  nstore  ncities  \\\n",
       "381    1477840.0       1545.861402        0.0     768.75     325      264   \n",
       "382    1982620.0       2113.670176        0.0     555.29     325      264   \n",
       "383    1943150.0       2036.842243        0.0     500.00     325      264   \n",
       "384    2344460.0       2553.876089        0.0     450.00     324      263   \n",
       "385    3903930.0       4248.019859        0.0     555.29     325      264   \n",
       "\n",
       "     ndept  nvendors  avgvendorsstore  \n",
       "381     60       944                2  \n",
       "382     60      1041                3  \n",
       "383     60      1019                3  \n",
       "384     60      1056                3  \n",
       "385     60      1098                3  \n",
       "\n",
       "[5 rows x 36 columns]"
      ]
     },
     "execution_count": 5,
     "metadata": {},
     "output_type": "execute_result"
    }
   ],
   "source": [
    "# check the data\n",
    "df = df.sort_values(by=['saledate'])\n",
    "df.tail()"
   ]
  },
  {
   "cell_type": "code",
   "execution_count": 6,
   "id": "00747497",
   "metadata": {},
   "outputs": [
    {
     "data": {
      "text/plain": [
       "Index(['saledate', 'nstores', 'nsku', 'totalquantity', 'avgquantity',\n",
       "       'totalamt', 'avgamt', 'minamt', 'maxamt', 'totalorigprice',\n",
       "       'avgorigprice', 'minorigprice', 'maxorigprice', 'totalretail',\n",
       "       'avgretail', 'minretail', 'maxretail', 'avgretailtrnsact', 'totalcost',\n",
       "       'avgcost', 'mincost', 'maxcost', 'avgcosttrnsact', 'totaldiscount',\n",
       "       'avgdiscounttrnsact', 'mindiscount', 'maxdiscount', 'totalprofit',\n",
       "       'avgprofittrnsact', 'minprofit', 'maxprofit', 'nstore', 'ncities',\n",
       "       'ndept', 'nvendors', 'avgvendorsstore'],\n",
       "      dtype='object')"
      ]
     },
     "execution_count": 6,
     "metadata": {},
     "output_type": "execute_result"
    }
   ],
   "source": [
    "df.columns"
   ]
  },
  {
   "cell_type": "code",
   "execution_count": 7,
   "id": "c57a6d54",
   "metadata": {},
   "outputs": [
    {
     "data": {
      "text/plain": [
       "saledate              389\n",
       "nstores               389\n",
       "nsku                  389\n",
       "totalquantity         389\n",
       "avgquantity           389\n",
       "totalamt              389\n",
       "avgamt                389\n",
       "minamt                389\n",
       "maxamt                389\n",
       "totalorigprice        389\n",
       "avgorigprice          389\n",
       "minorigprice          389\n",
       "maxorigprice          389\n",
       "totalretail           389\n",
       "avgretail             389\n",
       "minretail             389\n",
       "maxretail             389\n",
       "avgretailtrnsact      389\n",
       "totalcost             389\n",
       "avgcost               389\n",
       "mincost               389\n",
       "maxcost               389\n",
       "avgcosttrnsact        389\n",
       "totaldiscount         389\n",
       "avgdiscounttrnsact    389\n",
       "mindiscount           389\n",
       "maxdiscount           389\n",
       "totalprofit           389\n",
       "avgprofittrnsact      389\n",
       "minprofit             389\n",
       "maxprofit             389\n",
       "nstore                389\n",
       "ncities               389\n",
       "ndept                 389\n",
       "nvendors              389\n",
       "avgvendorsstore       389\n",
       "dtype: int64"
      ]
     },
     "execution_count": 7,
     "metadata": {},
     "output_type": "execute_result"
    }
   ],
   "source": [
    "# check null value counts\n",
    "df.notnull().sum()"
   ]
  },
  {
   "cell_type": "code",
   "execution_count": 8,
   "id": "145acf27",
   "metadata": {},
   "outputs": [
    {
     "data": {
      "image/png": "[encoded data removed]",
      "text/plain": [
       "<Figure size 1080x360 with 1 Axes>"
      ]
     },
     "metadata": {
      "needs_background": "light"
     },
     "output_type": "display_data"
    }
   ],
   "source": [
    "df_groupyed = df\n",
    "color_pal = sns.color_palette()\n",
    "# set df index as date\n",
    "df_ts = df_groupyed.set_index('saledate')\n",
    "df_ts.index = pd.to_datetime(df_ts.index)\n",
    "# check distribution of amount (no pattern found)\n",
    "df_ts_draw = df_ts[\"totalprofit\"]\n",
    "df_ts_draw.plot(style='.',\n",
    "        figsize=(15, 5),\n",
    "        color=color_pal[0],\n",
    "        title='Number')\n",
    "plt.show()"
   ]
  },
  {
   "cell_type": "code",
   "execution_count": 19,
   "id": "9d6b7e31",
   "metadata": {},
   "outputs": [
    {
     "data": {
      "text/html": [
       "<div>\n",
       "<style scoped>\n",
       "    .dataframe tbody tr th:only-of-type {\n",
       "        vertical-align: middle;\n",
       "    }\n",
       "\n",
       "    .dataframe tbody tr th {\n",
       "        vertical-align: top;\n",
       "    }\n",
       "\n",
       "    .dataframe thead th {\n",
       "        text-align: right;\n",
       "    }\n",
       "</style>\n",
       "<table border=\"1\" class=\"dataframe\">\n",
       "  <thead>\n",
       "    <tr style=\"text-align: right;\">\n",
       "      <th></th>\n",
       "      <th>nstores</th>\n",
       "      <th>nsku</th>\n",
       "      <th>totalquantity</th>\n",
       "      <th>avgquantity</th>\n",
       "      <th>totalamt</th>\n",
       "      <th>avgamt</th>\n",
       "      <th>minamt</th>\n",
       "      <th>maxamt</th>\n",
       "      <th>totalorigprice</th>\n",
       "      <th>avgorigprice</th>\n",
       "      <th>...</th>\n",
       "      <th>nstore</th>\n",
       "      <th>ncities</th>\n",
       "      <th>ndept</th>\n",
       "      <th>nvendors</th>\n",
       "      <th>avgvendorsstore</th>\n",
       "      <th>dayofweek</th>\n",
       "      <th>quarter</th>\n",
       "      <th>month</th>\n",
       "      <th>year</th>\n",
       "      <th>dayofmonth</th>\n",
       "    </tr>\n",
       "    <tr>\n",
       "      <th>saledate</th>\n",
       "      <th></th>\n",
       "      <th></th>\n",
       "      <th></th>\n",
       "      <th></th>\n",
       "      <th></th>\n",
       "      <th></th>\n",
       "      <th></th>\n",
       "      <th></th>\n",
       "      <th></th>\n",
       "      <th></th>\n",
       "      <th></th>\n",
       "      <th></th>\n",
       "      <th></th>\n",
       "      <th></th>\n",
       "      <th></th>\n",
       "      <th></th>\n",
       "      <th></th>\n",
       "      <th></th>\n",
       "      <th></th>\n",
       "      <th></th>\n",
       "      <th></th>\n",
       "    </tr>\n",
       "  </thead>\n",
       "  <tbody>\n",
       "    <tr>\n",
       "      <th>2004-08-01</th>\n",
       "      <td>323</td>\n",
       "      <td>61741</td>\n",
       "      <td>188073</td>\n",
       "      <td>783</td>\n",
       "      <td>6035654.36</td>\n",
       "      <td>25148.559833</td>\n",
       "      <td>0.0</td>\n",
       "      <td>895.0</td>\n",
       "      <td>4467905.60</td>\n",
       "      <td>23.756231</td>\n",
       "      <td>...</td>\n",
       "      <td>323</td>\n",
       "      <td>262</td>\n",
       "      <td>58</td>\n",
       "      <td>852</td>\n",
       "      <td>2</td>\n",
       "      <td>6</td>\n",
       "      <td>3</td>\n",
       "      <td>8</td>\n",
       "      <td>2004</td>\n",
       "      <td>1</td>\n",
       "    </tr>\n",
       "    <tr>\n",
       "      <th>2004-08-02</th>\n",
       "      <td>324</td>\n",
       "      <td>59183</td>\n",
       "      <td>177143</td>\n",
       "      <td>208</td>\n",
       "      <td>5637192.49</td>\n",
       "      <td>6624.197991</td>\n",
       "      <td>0.0</td>\n",
       "      <td>1200.0</td>\n",
       "      <td>4174584.51</td>\n",
       "      <td>23.566184</td>\n",
       "      <td>...</td>\n",
       "      <td>324</td>\n",
       "      <td>263</td>\n",
       "      <td>58</td>\n",
       "      <td>827</td>\n",
       "      <td>2</td>\n",
       "      <td>0</td>\n",
       "      <td>3</td>\n",
       "      <td>8</td>\n",
       "      <td>2004</td>\n",
       "      <td>2</td>\n",
       "    </tr>\n",
       "    <tr>\n",
       "      <th>2004-08-03</th>\n",
       "      <td>324</td>\n",
       "      <td>62593</td>\n",
       "      <td>212625</td>\n",
       "      <td>233</td>\n",
       "      <td>6569613.74</td>\n",
       "      <td>7219.355758</td>\n",
       "      <td>0.0</td>\n",
       "      <td>895.0</td>\n",
       "      <td>4833202.76</td>\n",
       "      <td>22.731112</td>\n",
       "      <td>...</td>\n",
       "      <td>324</td>\n",
       "      <td>263</td>\n",
       "      <td>58</td>\n",
       "      <td>842</td>\n",
       "      <td>2</td>\n",
       "      <td>1</td>\n",
       "      <td>3</td>\n",
       "      <td>8</td>\n",
       "      <td>2004</td>\n",
       "      <td>3</td>\n",
       "    </tr>\n",
       "    <tr>\n",
       "      <th>2004-08-04</th>\n",
       "      <td>324</td>\n",
       "      <td>65689</td>\n",
       "      <td>218053</td>\n",
       "      <td>241</td>\n",
       "      <td>6874637.33</td>\n",
       "      <td>7604.687312</td>\n",
       "      <td>0.0</td>\n",
       "      <td>895.0</td>\n",
       "      <td>4974026.91</td>\n",
       "      <td>22.811091</td>\n",
       "      <td>...</td>\n",
       "      <td>324</td>\n",
       "      <td>263</td>\n",
       "      <td>58</td>\n",
       "      <td>843</td>\n",
       "      <td>2</td>\n",
       "      <td>2</td>\n",
       "      <td>3</td>\n",
       "      <td>8</td>\n",
       "      <td>2004</td>\n",
       "      <td>4</td>\n",
       "    </tr>\n",
       "    <tr>\n",
       "      <th>2004-08-05</th>\n",
       "      <td>325</td>\n",
       "      <td>68941</td>\n",
       "      <td>225237</td>\n",
       "      <td>289</td>\n",
       "      <td>7913489.50</td>\n",
       "      <td>10184.671171</td>\n",
       "      <td>0.0</td>\n",
       "      <td>1200.0</td>\n",
       "      <td>5501540.60</td>\n",
       "      <td>24.425563</td>\n",
       "      <td>...</td>\n",
       "      <td>325</td>\n",
       "      <td>263</td>\n",
       "      <td>58</td>\n",
       "      <td>870</td>\n",
       "      <td>2</td>\n",
       "      <td>3</td>\n",
       "      <td>3</td>\n",
       "      <td>8</td>\n",
       "      <td>2004</td>\n",
       "      <td>5</td>\n",
       "    </tr>\n",
       "    <tr>\n",
       "      <th>...</th>\n",
       "      <td>...</td>\n",
       "      <td>...</td>\n",
       "      <td>...</td>\n",
       "      <td>...</td>\n",
       "      <td>...</td>\n",
       "      <td>...</td>\n",
       "      <td>...</td>\n",
       "      <td>...</td>\n",
       "      <td>...</td>\n",
       "      <td>...</td>\n",
       "      <td>...</td>\n",
       "      <td>...</td>\n",
       "      <td>...</td>\n",
       "      <td>...</td>\n",
       "      <td>...</td>\n",
       "      <td>...</td>\n",
       "      <td>...</td>\n",
       "      <td>...</td>\n",
       "      <td>...</td>\n",
       "      <td>...</td>\n",
       "      <td>...</td>\n",
       "    </tr>\n",
       "    <tr>\n",
       "      <th>2005-08-23</th>\n",
       "      <td>325</td>\n",
       "      <td>84999</td>\n",
       "      <td>216712</td>\n",
       "      <td>226</td>\n",
       "      <td>7457004.46</td>\n",
       "      <td>7800.213870</td>\n",
       "      <td>0.0</td>\n",
       "      <td>1200.0</td>\n",
       "      <td>5141321.76</td>\n",
       "      <td>23.724214</td>\n",
       "      <td>...</td>\n",
       "      <td>325</td>\n",
       "      <td>264</td>\n",
       "      <td>60</td>\n",
       "      <td>944</td>\n",
       "      <td>2</td>\n",
       "      <td>1</td>\n",
       "      <td>3</td>\n",
       "      <td>8</td>\n",
       "      <td>2005</td>\n",
       "      <td>23</td>\n",
       "    </tr>\n",
       "    <tr>\n",
       "      <th>2005-08-24</th>\n",
       "      <td>325</td>\n",
       "      <td>140901</td>\n",
       "      <td>466006</td>\n",
       "      <td>496</td>\n",
       "      <td>19248987.11</td>\n",
       "      <td>20521.308220</td>\n",
       "      <td>0.0</td>\n",
       "      <td>1200.0</td>\n",
       "      <td>8398192.33</td>\n",
       "      <td>18.021640</td>\n",
       "      <td>...</td>\n",
       "      <td>325</td>\n",
       "      <td>264</td>\n",
       "      <td>60</td>\n",
       "      <td>1041</td>\n",
       "      <td>3</td>\n",
       "      <td>2</td>\n",
       "      <td>3</td>\n",
       "      <td>8</td>\n",
       "      <td>2005</td>\n",
       "      <td>24</td>\n",
       "    </tr>\n",
       "    <tr>\n",
       "      <th>2005-08-25</th>\n",
       "      <td>325</td>\n",
       "      <td>134977</td>\n",
       "      <td>422296</td>\n",
       "      <td>442</td>\n",
       "      <td>17062480.18</td>\n",
       "      <td>17885.199350</td>\n",
       "      <td>0.0</td>\n",
       "      <td>1200.0</td>\n",
       "      <td>7772270.13</td>\n",
       "      <td>18.404792</td>\n",
       "      <td>...</td>\n",
       "      <td>325</td>\n",
       "      <td>264</td>\n",
       "      <td>60</td>\n",
       "      <td>1019</td>\n",
       "      <td>3</td>\n",
       "      <td>3</td>\n",
       "      <td>3</td>\n",
       "      <td>8</td>\n",
       "      <td>2005</td>\n",
       "      <td>25</td>\n",
       "    </tr>\n",
       "    <tr>\n",
       "      <th>2005-08-26</th>\n",
       "      <td>324</td>\n",
       "      <td>144548</td>\n",
       "      <td>482390</td>\n",
       "      <td>525</td>\n",
       "      <td>19215591.82</td>\n",
       "      <td>20932.017233</td>\n",
       "      <td>0.0</td>\n",
       "      <td>1200.0</td>\n",
       "      <td>8968694.40</td>\n",
       "      <td>18.592206</td>\n",
       "      <td>...</td>\n",
       "      <td>324</td>\n",
       "      <td>263</td>\n",
       "      <td>60</td>\n",
       "      <td>1056</td>\n",
       "      <td>3</td>\n",
       "      <td>4</td>\n",
       "      <td>3</td>\n",
       "      <td>8</td>\n",
       "      <td>2005</td>\n",
       "      <td>26</td>\n",
       "    </tr>\n",
       "    <tr>\n",
       "      <th>2005-08-27</th>\n",
       "      <td>325</td>\n",
       "      <td>174635</td>\n",
       "      <td>726056</td>\n",
       "      <td>790</td>\n",
       "      <td>29404178.67</td>\n",
       "      <td>31995.841861</td>\n",
       "      <td>0.0</td>\n",
       "      <td>1200.0</td>\n",
       "      <td>14044552.29</td>\n",
       "      <td>19.343621</td>\n",
       "      <td>...</td>\n",
       "      <td>325</td>\n",
       "      <td>264</td>\n",
       "      <td>60</td>\n",
       "      <td>1098</td>\n",
       "      <td>3</td>\n",
       "      <td>5</td>\n",
       "      <td>3</td>\n",
       "      <td>8</td>\n",
       "      <td>2005</td>\n",
       "      <td>27</td>\n",
       "    </tr>\n",
       "  </tbody>\n",
       "</table>\n",
       "<p>389 rows × 40 columns</p>\n",
       "</div>"
      ],
      "text/plain": [
       "            nstores    nsku  totalquantity  avgquantity     totalamt  \\\n",
       "saledate                                                               \n",
       "2004-08-01      323   61741         188073          783   6035654.36   \n",
       "2004-08-02      324   59183         177143          208   5637192.49   \n",
       "2004-08-03      324   62593         212625          233   6569613.74   \n",
       "2004-08-04      324   65689         218053          241   6874637.33   \n",
       "2004-08-05      325   68941         225237          289   7913489.50   \n",
       "...             ...     ...            ...          ...          ...   \n",
       "2005-08-23      325   84999         216712          226   7457004.46   \n",
       "2005-08-24      325  140901         466006          496  19248987.11   \n",
       "2005-08-25      325  134977         422296          442  17062480.18   \n",
       "2005-08-26      324  144548         482390          525  19215591.82   \n",
       "2005-08-27      325  174635         726056          790  29404178.67   \n",
       "\n",
       "                  avgamt  minamt  maxamt  totalorigprice  avgorigprice  ...  \\\n",
       "saledate                                                                ...   \n",
       "2004-08-01  25148.559833     0.0   895.0      4467905.60     23.756231  ...   \n",
       "2004-08-02   6624.197991     0.0  1200.0      4174584.51     23.566184  ...   \n",
       "2004-08-03   7219.355758     0.0   895.0      4833202.76     22.731112  ...   \n",
       "2004-08-04   7604.687312     0.0   895.0      4974026.91     22.811091  ...   \n",
       "2004-08-05  10184.671171     0.0  1200.0      5501540.60     24.425563  ...   \n",
       "...                  ...     ...     ...             ...           ...  ...   \n",
       "2005-08-23   7800.213870     0.0  1200.0      5141321.76     23.724214  ...   \n",
       "2005-08-24  20521.308220     0.0  1200.0      8398192.33     18.021640  ...   \n",
       "2005-08-25  17885.199350     0.0  1200.0      7772270.13     18.404792  ...   \n",
       "2005-08-26  20932.017233     0.0  1200.0      8968694.40     18.592206  ...   \n",
       "2005-08-27  31995.841861     0.0  1200.0     14044552.29     19.343621  ...   \n",
       "\n",
       "            nstore  ncities  ndept  nvendors  avgvendorsstore  dayofweek  \\\n",
       "saledate                                                                   \n",
       "2004-08-01     323      262     58       852                2          6   \n",
       "2004-08-02     324      263     58       827                2          0   \n",
       "2004-08-03     324      263     58       842                2          1   \n",
       "2004-08-04     324      263     58       843                2          2   \n",
       "2004-08-05     325      263     58       870                2          3   \n",
       "...            ...      ...    ...       ...              ...        ...   \n",
       "2005-08-23     325      264     60       944                2          1   \n",
       "2005-08-24     325      264     60      1041                3          2   \n",
       "2005-08-25     325      264     60      1019                3          3   \n",
       "2005-08-26     324      263     60      1056                3          4   \n",
       "2005-08-27     325      264     60      1098                3          5   \n",
       "\n",
       "            quarter  month  year  dayofmonth  \n",
       "saledate                                      \n",
       "2004-08-01        3      8  2004           1  \n",
       "2004-08-02        3      8  2004           2  \n",
       "2004-08-03        3      8  2004           3  \n",
       "2004-08-04        3      8  2004           4  \n",
       "2004-08-05        3      8  2004           5  \n",
       "...             ...    ...   ...         ...  \n",
       "2005-08-23        3      8  2005          23  \n",
       "2005-08-24        3      8  2005          24  \n",
       "2005-08-25        3      8  2005          25  \n",
       "2005-08-26        3      8  2005          26  \n",
       "2005-08-27        3      8  2005          27  \n",
       "\n",
       "[389 rows x 40 columns]"
      ]
     },
     "execution_count": 19,
     "metadata": {},
     "output_type": "execute_result"
    }
   ],
   "source": [
    "def create_features(df):\n",
    "    \"\"\"\n",
    "    Create time series features based on time series index.\n",
    "    \"\"\"\n",
    "    df = df.copy()\n",
    "    df['dayofweek'] = df.index.dayofweek\n",
    "    df['quarter'] = df.index.quarter\n",
    "    df['month'] = df.index.month\n",
    "    df['year'] = df.index.year\n",
    "    df['dayofmonth'] = df.index.day\n",
    "    return df\n",
    "# create time series features\n",
    "df_ts = create_features(df_ts)\n",
    "df_ts"
   ]
  },
  {
   "cell_type": "code",
   "execution_count": 20,
   "id": "6adee4cf",
   "metadata": {
    "scrolled": true
   },
   "outputs": [
    {
     "data": {
      "text/plain": [
       "['nstores',\n",
       " 'nsku',\n",
       " 'totalquantity',\n",
       " 'avgquantity',\n",
       " 'totalamt',\n",
       " 'avgamt',\n",
       " 'minamt',\n",
       " 'maxamt',\n",
       " 'totalorigprice',\n",
       " 'avgorigprice',\n",
       " 'minorigprice',\n",
       " 'maxorigprice',\n",
       " 'totalretail',\n",
       " 'avgretail',\n",
       " 'minretail',\n",
       " 'maxretail',\n",
       " 'avgretailtrnsact',\n",
       " 'totalcost',\n",
       " 'avgcost',\n",
       " 'mincost',\n",
       " 'maxcost',\n",
       " 'avgcosttrnsact',\n",
       " 'totaldiscount',\n",
       " 'avgdiscounttrnsact',\n",
       " 'mindiscount',\n",
       " 'maxdiscount',\n",
       " 'totalprofit',\n",
       " 'avgprofittrnsact',\n",
       " 'minprofit',\n",
       " 'maxprofit',\n",
       " 'nstore',\n",
       " 'ncities',\n",
       " 'ndept',\n",
       " 'nvendors',\n",
       " 'avgvendorsstore']"
      ]
     },
     "execution_count": 20,
     "metadata": {},
     "output_type": "execute_result"
    }
   ],
   "source": [
    "orignal_features = list(df.columns)\n",
    "orignal_features.remove('saledate')\n",
    "orignal_features"
   ]
  },
  {
   "cell_type": "code",
   "execution_count": 21,
   "id": "ca5d0792",
   "metadata": {
    "scrolled": true
   },
   "outputs": [
    {
     "data": {
      "text/html": [
       "<div>\n",
       "<style scoped>\n",
       "    .dataframe tbody tr th:only-of-type {\n",
       "        vertical-align: middle;\n",
       "    }\n",
       "\n",
       "    .dataframe tbody tr th {\n",
       "        vertical-align: top;\n",
       "    }\n",
       "\n",
       "    .dataframe thead th {\n",
       "        text-align: right;\n",
       "    }\n",
       "</style>\n",
       "<table border=\"1\" class=\"dataframe\">\n",
       "  <thead>\n",
       "    <tr style=\"text-align: right;\">\n",
       "      <th></th>\n",
       "      <th>totalprofit</th>\n",
       "      <th>dayofweek</th>\n",
       "      <th>quarter</th>\n",
       "      <th>month</th>\n",
       "      <th>year</th>\n",
       "      <th>dayofmonth</th>\n",
       "      <th>nstores_1</th>\n",
       "      <th>nstores_2</th>\n",
       "      <th>nstores_3</th>\n",
       "      <th>nstores_4</th>\n",
       "      <th>...</th>\n",
       "      <th>nvendors_28</th>\n",
       "      <th>avgvendorsstore_1</th>\n",
       "      <th>avgvendorsstore_2</th>\n",
       "      <th>avgvendorsstore_3</th>\n",
       "      <th>avgvendorsstore_4</th>\n",
       "      <th>avgvendorsstore_5</th>\n",
       "      <th>avgvendorsstore_6</th>\n",
       "      <th>avgvendorsstore_7</th>\n",
       "      <th>avgvendorsstore_14</th>\n",
       "      <th>avgvendorsstore_28</th>\n",
       "    </tr>\n",
       "    <tr>\n",
       "      <th>saledate</th>\n",
       "      <th></th>\n",
       "      <th></th>\n",
       "      <th></th>\n",
       "      <th></th>\n",
       "      <th></th>\n",
       "      <th></th>\n",
       "      <th></th>\n",
       "      <th></th>\n",
       "      <th></th>\n",
       "      <th></th>\n",
       "      <th></th>\n",
       "      <th></th>\n",
       "      <th></th>\n",
       "      <th></th>\n",
       "      <th></th>\n",
       "      <th></th>\n",
       "      <th></th>\n",
       "      <th></th>\n",
       "      <th></th>\n",
       "      <th></th>\n",
       "      <th></th>\n",
       "    </tr>\n",
       "  </thead>\n",
       "  <tbody>\n",
       "    <tr>\n",
       "      <th>2004-08-01</th>\n",
       "      <td>511060.0</td>\n",
       "      <td>6</td>\n",
       "      <td>3</td>\n",
       "      <td>8</td>\n",
       "      <td>2004</td>\n",
       "      <td>1</td>\n",
       "      <td>323.701799</td>\n",
       "      <td>323.701799</td>\n",
       "      <td>323.701799</td>\n",
       "      <td>323.701799</td>\n",
       "      <td>...</td>\n",
       "      <td>931.768638</td>\n",
       "      <td>2.233933</td>\n",
       "      <td>2.233933</td>\n",
       "      <td>2.233933</td>\n",
       "      <td>2.233933</td>\n",
       "      <td>2.233933</td>\n",
       "      <td>2.233933</td>\n",
       "      <td>2.233933</td>\n",
       "      <td>2.233933</td>\n",
       "      <td>2.233933</td>\n",
       "    </tr>\n",
       "    <tr>\n",
       "      <th>2004-08-02</th>\n",
       "      <td>532033.0</td>\n",
       "      <td>0</td>\n",
       "      <td>3</td>\n",
       "      <td>8</td>\n",
       "      <td>2004</td>\n",
       "      <td>2</td>\n",
       "      <td>323.000000</td>\n",
       "      <td>323.701799</td>\n",
       "      <td>323.701799</td>\n",
       "      <td>323.701799</td>\n",
       "      <td>...</td>\n",
       "      <td>931.768638</td>\n",
       "      <td>2.000000</td>\n",
       "      <td>2.233933</td>\n",
       "      <td>2.233933</td>\n",
       "      <td>2.233933</td>\n",
       "      <td>2.233933</td>\n",
       "      <td>2.233933</td>\n",
       "      <td>2.233933</td>\n",
       "      <td>2.233933</td>\n",
       "      <td>2.233933</td>\n",
       "    </tr>\n",
       "    <tr>\n",
       "      <th>2004-08-03</th>\n",
       "      <td>659895.0</td>\n",
       "      <td>1</td>\n",
       "      <td>3</td>\n",
       "      <td>8</td>\n",
       "      <td>2004</td>\n",
       "      <td>3</td>\n",
       "      <td>324.000000</td>\n",
       "      <td>323.000000</td>\n",
       "      <td>323.701799</td>\n",
       "      <td>323.701799</td>\n",
       "      <td>...</td>\n",
       "      <td>931.768638</td>\n",
       "      <td>2.000000</td>\n",
       "      <td>2.000000</td>\n",
       "      <td>2.233933</td>\n",
       "      <td>2.233933</td>\n",
       "      <td>2.233933</td>\n",
       "      <td>2.233933</td>\n",
       "      <td>2.233933</td>\n",
       "      <td>2.233933</td>\n",
       "      <td>2.233933</td>\n",
       "    </tr>\n",
       "    <tr>\n",
       "      <th>2004-08-04</th>\n",
       "      <td>631430.0</td>\n",
       "      <td>2</td>\n",
       "      <td>3</td>\n",
       "      <td>8</td>\n",
       "      <td>2004</td>\n",
       "      <td>4</td>\n",
       "      <td>324.000000</td>\n",
       "      <td>324.000000</td>\n",
       "      <td>323.000000</td>\n",
       "      <td>323.701799</td>\n",
       "      <td>...</td>\n",
       "      <td>931.768638</td>\n",
       "      <td>2.000000</td>\n",
       "      <td>2.000000</td>\n",
       "      <td>2.000000</td>\n",
       "      <td>2.233933</td>\n",
       "      <td>2.233933</td>\n",
       "      <td>2.233933</td>\n",
       "      <td>2.233933</td>\n",
       "      <td>2.233933</td>\n",
       "      <td>2.233933</td>\n",
       "    </tr>\n",
       "    <tr>\n",
       "      <th>2004-08-05</th>\n",
       "      <td>635209.0</td>\n",
       "      <td>3</td>\n",
       "      <td>3</td>\n",
       "      <td>8</td>\n",
       "      <td>2004</td>\n",
       "      <td>5</td>\n",
       "      <td>324.000000</td>\n",
       "      <td>324.000000</td>\n",
       "      <td>324.000000</td>\n",
       "      <td>323.000000</td>\n",
       "      <td>...</td>\n",
       "      <td>931.768638</td>\n",
       "      <td>2.000000</td>\n",
       "      <td>2.000000</td>\n",
       "      <td>2.000000</td>\n",
       "      <td>2.000000</td>\n",
       "      <td>2.233933</td>\n",
       "      <td>2.233933</td>\n",
       "      <td>2.233933</td>\n",
       "      <td>2.233933</td>\n",
       "      <td>2.233933</td>\n",
       "    </tr>\n",
       "    <tr>\n",
       "      <th>...</th>\n",
       "      <td>...</td>\n",
       "      <td>...</td>\n",
       "      <td>...</td>\n",
       "      <td>...</td>\n",
       "      <td>...</td>\n",
       "      <td>...</td>\n",
       "      <td>...</td>\n",
       "      <td>...</td>\n",
       "      <td>...</td>\n",
       "      <td>...</td>\n",
       "      <td>...</td>\n",
       "      <td>...</td>\n",
       "      <td>...</td>\n",
       "      <td>...</td>\n",
       "      <td>...</td>\n",
       "      <td>...</td>\n",
       "      <td>...</td>\n",
       "      <td>...</td>\n",
       "      <td>...</td>\n",
       "      <td>...</td>\n",
       "      <td>...</td>\n",
       "    </tr>\n",
       "    <tr>\n",
       "      <th>2005-08-23</th>\n",
       "      <td>1477840.0</td>\n",
       "      <td>1</td>\n",
       "      <td>3</td>\n",
       "      <td>8</td>\n",
       "      <td>2005</td>\n",
       "      <td>23</td>\n",
       "      <td>325.000000</td>\n",
       "      <td>325.000000</td>\n",
       "      <td>325.000000</td>\n",
       "      <td>325.000000</td>\n",
       "      <td>...</td>\n",
       "      <td>968.000000</td>\n",
       "      <td>2.000000</td>\n",
       "      <td>2.000000</td>\n",
       "      <td>3.000000</td>\n",
       "      <td>3.000000</td>\n",
       "      <td>3.000000</td>\n",
       "      <td>2.000000</td>\n",
       "      <td>2.000000</td>\n",
       "      <td>2.000000</td>\n",
       "      <td>2.000000</td>\n",
       "    </tr>\n",
       "    <tr>\n",
       "      <th>2005-08-24</th>\n",
       "      <td>1982620.0</td>\n",
       "      <td>2</td>\n",
       "      <td>3</td>\n",
       "      <td>8</td>\n",
       "      <td>2005</td>\n",
       "      <td>24</td>\n",
       "      <td>325.000000</td>\n",
       "      <td>325.000000</td>\n",
       "      <td>325.000000</td>\n",
       "      <td>325.000000</td>\n",
       "      <td>...</td>\n",
       "      <td>1073.000000</td>\n",
       "      <td>2.000000</td>\n",
       "      <td>2.000000</td>\n",
       "      <td>2.000000</td>\n",
       "      <td>3.000000</td>\n",
       "      <td>3.000000</td>\n",
       "      <td>3.000000</td>\n",
       "      <td>2.000000</td>\n",
       "      <td>2.000000</td>\n",
       "      <td>3.000000</td>\n",
       "    </tr>\n",
       "    <tr>\n",
       "      <th>2005-08-25</th>\n",
       "      <td>1943150.0</td>\n",
       "      <td>3</td>\n",
       "      <td>3</td>\n",
       "      <td>8</td>\n",
       "      <td>2005</td>\n",
       "      <td>25</td>\n",
       "      <td>325.000000</td>\n",
       "      <td>325.000000</td>\n",
       "      <td>325.000000</td>\n",
       "      <td>325.000000</td>\n",
       "      <td>...</td>\n",
       "      <td>1069.000000</td>\n",
       "      <td>3.000000</td>\n",
       "      <td>2.000000</td>\n",
       "      <td>2.000000</td>\n",
       "      <td>2.000000</td>\n",
       "      <td>3.000000</td>\n",
       "      <td>3.000000</td>\n",
       "      <td>3.000000</td>\n",
       "      <td>2.000000</td>\n",
       "      <td>3.000000</td>\n",
       "    </tr>\n",
       "    <tr>\n",
       "      <th>2005-08-26</th>\n",
       "      <td>2344460.0</td>\n",
       "      <td>4</td>\n",
       "      <td>3</td>\n",
       "      <td>8</td>\n",
       "      <td>2005</td>\n",
       "      <td>26</td>\n",
       "      <td>325.000000</td>\n",
       "      <td>325.000000</td>\n",
       "      <td>325.000000</td>\n",
       "      <td>325.000000</td>\n",
       "      <td>...</td>\n",
       "      <td>1054.000000</td>\n",
       "      <td>3.000000</td>\n",
       "      <td>3.000000</td>\n",
       "      <td>2.000000</td>\n",
       "      <td>2.000000</td>\n",
       "      <td>2.000000</td>\n",
       "      <td>3.000000</td>\n",
       "      <td>3.000000</td>\n",
       "      <td>3.000000</td>\n",
       "      <td>3.000000</td>\n",
       "    </tr>\n",
       "    <tr>\n",
       "      <th>2005-08-27</th>\n",
       "      <td>3903930.0</td>\n",
       "      <td>5</td>\n",
       "      <td>3</td>\n",
       "      <td>8</td>\n",
       "      <td>2005</td>\n",
       "      <td>27</td>\n",
       "      <td>324.000000</td>\n",
       "      <td>325.000000</td>\n",
       "      <td>325.000000</td>\n",
       "      <td>325.000000</td>\n",
       "      <td>...</td>\n",
       "      <td>1091.000000</td>\n",
       "      <td>3.000000</td>\n",
       "      <td>3.000000</td>\n",
       "      <td>3.000000</td>\n",
       "      <td>2.000000</td>\n",
       "      <td>2.000000</td>\n",
       "      <td>2.000000</td>\n",
       "      <td>3.000000</td>\n",
       "      <td>3.000000</td>\n",
       "      <td>3.000000</td>\n",
       "    </tr>\n",
       "  </tbody>\n",
       "</table>\n",
       "<p>389 rows × 321 columns</p>\n",
       "</div>"
      ],
      "text/plain": [
       "            totalprofit  dayofweek  quarter  month  year  dayofmonth  \\\n",
       "saledate                                                               \n",
       "2004-08-01     511060.0          6        3      8  2004           1   \n",
       "2004-08-02     532033.0          0        3      8  2004           2   \n",
       "2004-08-03     659895.0          1        3      8  2004           3   \n",
       "2004-08-04     631430.0          2        3      8  2004           4   \n",
       "2004-08-05     635209.0          3        3      8  2004           5   \n",
       "...                 ...        ...      ...    ...   ...         ...   \n",
       "2005-08-23    1477840.0          1        3      8  2005          23   \n",
       "2005-08-24    1982620.0          2        3      8  2005          24   \n",
       "2005-08-25    1943150.0          3        3      8  2005          25   \n",
       "2005-08-26    2344460.0          4        3      8  2005          26   \n",
       "2005-08-27    3903930.0          5        3      8  2005          27   \n",
       "\n",
       "             nstores_1   nstores_2   nstores_3   nstores_4  ...  nvendors_28  \\\n",
       "saledate                                                    ...                \n",
       "2004-08-01  323.701799  323.701799  323.701799  323.701799  ...   931.768638   \n",
       "2004-08-02  323.000000  323.701799  323.701799  323.701799  ...   931.768638   \n",
       "2004-08-03  324.000000  323.000000  323.701799  323.701799  ...   931.768638   \n",
       "2004-08-04  324.000000  324.000000  323.000000  323.701799  ...   931.768638   \n",
       "2004-08-05  324.000000  324.000000  324.000000  323.000000  ...   931.768638   \n",
       "...                ...         ...         ...         ...  ...          ...   \n",
       "2005-08-23  325.000000  325.000000  325.000000  325.000000  ...   968.000000   \n",
       "2005-08-24  325.000000  325.000000  325.000000  325.000000  ...  1073.000000   \n",
       "2005-08-25  325.000000  325.000000  325.000000  325.000000  ...  1069.000000   \n",
       "2005-08-26  325.000000  325.000000  325.000000  325.000000  ...  1054.000000   \n",
       "2005-08-27  324.000000  325.000000  325.000000  325.000000  ...  1091.000000   \n",
       "\n",
       "            avgvendorsstore_1  avgvendorsstore_2  avgvendorsstore_3  \\\n",
       "saledate                                                              \n",
       "2004-08-01           2.233933           2.233933           2.233933   \n",
       "2004-08-02           2.000000           2.233933           2.233933   \n",
       "2004-08-03           2.000000           2.000000           2.233933   \n",
       "2004-08-04           2.000000           2.000000           2.000000   \n",
       "2004-08-05           2.000000           2.000000           2.000000   \n",
       "...                       ...                ...                ...   \n",
       "2005-08-23           2.000000           2.000000           3.000000   \n",
       "2005-08-24           2.000000           2.000000           2.000000   \n",
       "2005-08-25           3.000000           2.000000           2.000000   \n",
       "2005-08-26           3.000000           3.000000           2.000000   \n",
       "2005-08-27           3.000000           3.000000           3.000000   \n",
       "\n",
       "            avgvendorsstore_4  avgvendorsstore_5  avgvendorsstore_6  \\\n",
       "saledate                                                              \n",
       "2004-08-01           2.233933           2.233933           2.233933   \n",
       "2004-08-02           2.233933           2.233933           2.233933   \n",
       "2004-08-03           2.233933           2.233933           2.233933   \n",
       "2004-08-04           2.233933           2.233933           2.233933   \n",
       "2004-08-05           2.000000           2.233933           2.233933   \n",
       "...                       ...                ...                ...   \n",
       "2005-08-23           3.000000           3.000000           2.000000   \n",
       "2005-08-24           3.000000           3.000000           3.000000   \n",
       "2005-08-25           2.000000           3.000000           3.000000   \n",
       "2005-08-26           2.000000           2.000000           3.000000   \n",
       "2005-08-27           2.000000           2.000000           2.000000   \n",
       "\n",
       "            avgvendorsstore_7  avgvendorsstore_14  avgvendorsstore_28  \n",
       "saledate                                                               \n",
       "2004-08-01           2.233933            2.233933            2.233933  \n",
       "2004-08-02           2.233933            2.233933            2.233933  \n",
       "2004-08-03           2.233933            2.233933            2.233933  \n",
       "2004-08-04           2.233933            2.233933            2.233933  \n",
       "2004-08-05           2.233933            2.233933            2.233933  \n",
       "...                       ...                 ...                 ...  \n",
       "2005-08-23           2.000000            2.000000            2.000000  \n",
       "2005-08-24           2.000000            2.000000            3.000000  \n",
       "2005-08-25           3.000000            2.000000            3.000000  \n",
       "2005-08-26           3.000000            3.000000            3.000000  \n",
       "2005-08-27           3.000000            3.000000            3.000000  \n",
       "\n",
       "[389 rows x 321 columns]"
      ]
     },
     "execution_count": 21,
     "metadata": {},
     "output_type": "execute_result"
    }
   ],
   "source": [
    "# TODO: add lags\n",
    "def create_lag_feature(df, column):\n",
    "    '''\n",
    "    Create time lagging features\n",
    "    '''\n",
    "    df = df.copy()\n",
    "    average_value = np.mean(df[column])\n",
    "    df[column + '_1'] = df[column].shift(1,fill_value = average_value)\n",
    "    df[column + '_2'] = df[column].shift(2,fill_value = average_value)\n",
    "    df[column + '_3'] = df[column].shift(3,fill_value = average_value)\n",
    "    df[column + '_4'] = df[column].shift(4,fill_value = average_value)\n",
    "    df[column + '_5'] = df[column].shift(5,fill_value = average_value)\n",
    "    df[column + '_6'] = df[column].shift(6,fill_value = average_value)\n",
    "    df[column + '_7'] = df[column].shift(7,fill_value = average_value)\n",
    "    df[column + '_14'] = df[column].shift(14,fill_value = average_value)\n",
    "    df[column + '_28'] = df[column].shift(28,fill_value = average_value)\n",
    "    return df\n",
    "\n",
    "df_model = df_ts\n",
    "for col in orignal_features:\n",
    "    df_model = create_lag_feature(df_model, col)\n",
    "\n",
    "orignal_features1 = orignal_features.copy()\n",
    "orignal_features1.remove('totalprofit')\n",
    "df_ts_lagged = df_model.drop(orignal_features1, axis=1)\n",
    "df_ts_lagged"
   ]
  },
  {
   "cell_type": "code",
   "execution_count": 22,
   "id": "63c88b1f",
   "metadata": {},
   "outputs": [
    {
     "data": {
      "text/plain": [
       "Index(['totalprofit', 'dayofweek', 'quarter', 'month', 'year', 'dayofmonth',\n",
       "       'nstores_1', 'nstores_2', 'nstores_3', 'nstores_4',\n",
       "       ...\n",
       "       'nvendors_28', 'avgvendorsstore_1', 'avgvendorsstore_2',\n",
       "       'avgvendorsstore_3', 'avgvendorsstore_4', 'avgvendorsstore_5',\n",
       "       'avgvendorsstore_6', 'avgvendorsstore_7', 'avgvendorsstore_14',\n",
       "       'avgvendorsstore_28'],\n",
       "      dtype='object', length=321)"
      ]
     },
     "execution_count": 22,
     "metadata": {},
     "output_type": "execute_result"
    }
   ],
   "source": [
    "df_ts_lagged.columns"
   ]
  },
  {
   "cell_type": "code",
   "execution_count": 23,
   "id": "517c742c",
   "metadata": {},
   "outputs": [
    {
     "data": {
      "text/html": [
       "<div>\n",
       "<style scoped>\n",
       "    .dataframe tbody tr th:only-of-type {\n",
       "        vertical-align: middle;\n",
       "    }\n",
       "\n",
       "    .dataframe tbody tr th {\n",
       "        vertical-align: top;\n",
       "    }\n",
       "\n",
       "    .dataframe thead th {\n",
       "        text-align: right;\n",
       "    }\n",
       "</style>\n",
       "<table border=\"1\" class=\"dataframe\">\n",
       "  <thead>\n",
       "    <tr style=\"text-align: right;\">\n",
       "      <th></th>\n",
       "      <th>totalprofit</th>\n",
       "      <th>dayofweek</th>\n",
       "      <th>quarter</th>\n",
       "      <th>month</th>\n",
       "      <th>year</th>\n",
       "      <th>dayofmonth</th>\n",
       "      <th>nstores_1</th>\n",
       "      <th>nstores_2</th>\n",
       "      <th>nstores_3</th>\n",
       "      <th>nstores_4</th>\n",
       "      <th>...</th>\n",
       "      <th>nvendors_28</th>\n",
       "      <th>avgvendorsstore_1</th>\n",
       "      <th>avgvendorsstore_2</th>\n",
       "      <th>avgvendorsstore_3</th>\n",
       "      <th>avgvendorsstore_4</th>\n",
       "      <th>avgvendorsstore_5</th>\n",
       "      <th>avgvendorsstore_6</th>\n",
       "      <th>avgvendorsstore_7</th>\n",
       "      <th>avgvendorsstore_14</th>\n",
       "      <th>avgvendorsstore_28</th>\n",
       "    </tr>\n",
       "    <tr>\n",
       "      <th>saledate</th>\n",
       "      <th></th>\n",
       "      <th></th>\n",
       "      <th></th>\n",
       "      <th></th>\n",
       "      <th></th>\n",
       "      <th></th>\n",
       "      <th></th>\n",
       "      <th></th>\n",
       "      <th></th>\n",
       "      <th></th>\n",
       "      <th></th>\n",
       "      <th></th>\n",
       "      <th></th>\n",
       "      <th></th>\n",
       "      <th></th>\n",
       "      <th></th>\n",
       "      <th></th>\n",
       "      <th></th>\n",
       "      <th></th>\n",
       "      <th></th>\n",
       "      <th></th>\n",
       "    </tr>\n",
       "  </thead>\n",
       "  <tbody>\n",
       "    <tr>\n",
       "      <th>2004-08-01</th>\n",
       "      <td>13.144244</td>\n",
       "      <td>6</td>\n",
       "      <td>3</td>\n",
       "      <td>8</td>\n",
       "      <td>2004</td>\n",
       "      <td>1</td>\n",
       "      <td>323.701799</td>\n",
       "      <td>323.701799</td>\n",
       "      <td>323.701799</td>\n",
       "      <td>323.701799</td>\n",
       "      <td>...</td>\n",
       "      <td>931.768638</td>\n",
       "      <td>2.233933</td>\n",
       "      <td>2.233933</td>\n",
       "      <td>2.233933</td>\n",
       "      <td>2.233933</td>\n",
       "      <td>2.233933</td>\n",
       "      <td>2.233933</td>\n",
       "      <td>2.233933</td>\n",
       "      <td>2.233933</td>\n",
       "      <td>2.233933</td>\n",
       "    </tr>\n",
       "    <tr>\n",
       "      <th>2004-08-02</th>\n",
       "      <td>13.184463</td>\n",
       "      <td>0</td>\n",
       "      <td>3</td>\n",
       "      <td>8</td>\n",
       "      <td>2004</td>\n",
       "      <td>2</td>\n",
       "      <td>323.000000</td>\n",
       "      <td>323.701799</td>\n",
       "      <td>323.701799</td>\n",
       "      <td>323.701799</td>\n",
       "      <td>...</td>\n",
       "      <td>931.768638</td>\n",
       "      <td>2.000000</td>\n",
       "      <td>2.233933</td>\n",
       "      <td>2.233933</td>\n",
       "      <td>2.233933</td>\n",
       "      <td>2.233933</td>\n",
       "      <td>2.233933</td>\n",
       "      <td>2.233933</td>\n",
       "      <td>2.233933</td>\n",
       "      <td>2.233933</td>\n",
       "    </tr>\n",
       "    <tr>\n",
       "      <th>2004-08-03</th>\n",
       "      <td>13.399838</td>\n",
       "      <td>1</td>\n",
       "      <td>3</td>\n",
       "      <td>8</td>\n",
       "      <td>2004</td>\n",
       "      <td>3</td>\n",
       "      <td>324.000000</td>\n",
       "      <td>323.000000</td>\n",
       "      <td>323.701799</td>\n",
       "      <td>323.701799</td>\n",
       "      <td>...</td>\n",
       "      <td>931.768638</td>\n",
       "      <td>2.000000</td>\n",
       "      <td>2.000000</td>\n",
       "      <td>2.233933</td>\n",
       "      <td>2.233933</td>\n",
       "      <td>2.233933</td>\n",
       "      <td>2.233933</td>\n",
       "      <td>2.233933</td>\n",
       "      <td>2.233933</td>\n",
       "      <td>2.233933</td>\n",
       "    </tr>\n",
       "    <tr>\n",
       "      <th>2004-08-04</th>\n",
       "      <td>13.355744</td>\n",
       "      <td>2</td>\n",
       "      <td>3</td>\n",
       "      <td>8</td>\n",
       "      <td>2004</td>\n",
       "      <td>4</td>\n",
       "      <td>324.000000</td>\n",
       "      <td>324.000000</td>\n",
       "      <td>323.000000</td>\n",
       "      <td>323.701799</td>\n",
       "      <td>...</td>\n",
       "      <td>931.768638</td>\n",
       "      <td>2.000000</td>\n",
       "      <td>2.000000</td>\n",
       "      <td>2.000000</td>\n",
       "      <td>2.233933</td>\n",
       "      <td>2.233933</td>\n",
       "      <td>2.233933</td>\n",
       "      <td>2.233933</td>\n",
       "      <td>2.233933</td>\n",
       "      <td>2.233933</td>\n",
       "    </tr>\n",
       "    <tr>\n",
       "      <th>2004-08-05</th>\n",
       "      <td>13.361711</td>\n",
       "      <td>3</td>\n",
       "      <td>3</td>\n",
       "      <td>8</td>\n",
       "      <td>2004</td>\n",
       "      <td>5</td>\n",
       "      <td>324.000000</td>\n",
       "      <td>324.000000</td>\n",
       "      <td>324.000000</td>\n",
       "      <td>323.000000</td>\n",
       "      <td>...</td>\n",
       "      <td>931.768638</td>\n",
       "      <td>2.000000</td>\n",
       "      <td>2.000000</td>\n",
       "      <td>2.000000</td>\n",
       "      <td>2.000000</td>\n",
       "      <td>2.233933</td>\n",
       "      <td>2.233933</td>\n",
       "      <td>2.233933</td>\n",
       "      <td>2.233933</td>\n",
       "      <td>2.233933</td>\n",
       "    </tr>\n",
       "    <tr>\n",
       "      <th>...</th>\n",
       "      <td>...</td>\n",
       "      <td>...</td>\n",
       "      <td>...</td>\n",
       "      <td>...</td>\n",
       "      <td>...</td>\n",
       "      <td>...</td>\n",
       "      <td>...</td>\n",
       "      <td>...</td>\n",
       "      <td>...</td>\n",
       "      <td>...</td>\n",
       "      <td>...</td>\n",
       "      <td>...</td>\n",
       "      <td>...</td>\n",
       "      <td>...</td>\n",
       "      <td>...</td>\n",
       "      <td>...</td>\n",
       "      <td>...</td>\n",
       "      <td>...</td>\n",
       "      <td>...</td>\n",
       "      <td>...</td>\n",
       "      <td>...</td>\n",
       "    </tr>\n",
       "    <tr>\n",
       "      <th>2005-08-23</th>\n",
       "      <td>14.206093</td>\n",
       "      <td>1</td>\n",
       "      <td>3</td>\n",
       "      <td>8</td>\n",
       "      <td>2005</td>\n",
       "      <td>23</td>\n",
       "      <td>325.000000</td>\n",
       "      <td>325.000000</td>\n",
       "      <td>325.000000</td>\n",
       "      <td>325.000000</td>\n",
       "      <td>...</td>\n",
       "      <td>968.000000</td>\n",
       "      <td>2.000000</td>\n",
       "      <td>2.000000</td>\n",
       "      <td>3.000000</td>\n",
       "      <td>3.000000</td>\n",
       "      <td>3.000000</td>\n",
       "      <td>2.000000</td>\n",
       "      <td>2.000000</td>\n",
       "      <td>2.000000</td>\n",
       "      <td>2.000000</td>\n",
       "    </tr>\n",
       "    <tr>\n",
       "      <th>2005-08-24</th>\n",
       "      <td>14.499930</td>\n",
       "      <td>2</td>\n",
       "      <td>3</td>\n",
       "      <td>8</td>\n",
       "      <td>2005</td>\n",
       "      <td>24</td>\n",
       "      <td>325.000000</td>\n",
       "      <td>325.000000</td>\n",
       "      <td>325.000000</td>\n",
       "      <td>325.000000</td>\n",
       "      <td>...</td>\n",
       "      <td>1073.000000</td>\n",
       "      <td>2.000000</td>\n",
       "      <td>2.000000</td>\n",
       "      <td>2.000000</td>\n",
       "      <td>3.000000</td>\n",
       "      <td>3.000000</td>\n",
       "      <td>3.000000</td>\n",
       "      <td>2.000000</td>\n",
       "      <td>2.000000</td>\n",
       "      <td>3.000000</td>\n",
       "    </tr>\n",
       "    <tr>\n",
       "      <th>2005-08-25</th>\n",
       "      <td>14.479821</td>\n",
       "      <td>3</td>\n",
       "      <td>3</td>\n",
       "      <td>8</td>\n",
       "      <td>2005</td>\n",
       "      <td>25</td>\n",
       "      <td>325.000000</td>\n",
       "      <td>325.000000</td>\n",
       "      <td>325.000000</td>\n",
       "      <td>325.000000</td>\n",
       "      <td>...</td>\n",
       "      <td>1069.000000</td>\n",
       "      <td>3.000000</td>\n",
       "      <td>2.000000</td>\n",
       "      <td>2.000000</td>\n",
       "      <td>2.000000</td>\n",
       "      <td>3.000000</td>\n",
       "      <td>3.000000</td>\n",
       "      <td>3.000000</td>\n",
       "      <td>2.000000</td>\n",
       "      <td>3.000000</td>\n",
       "    </tr>\n",
       "    <tr>\n",
       "      <th>2005-08-26</th>\n",
       "      <td>14.667566</td>\n",
       "      <td>4</td>\n",
       "      <td>3</td>\n",
       "      <td>8</td>\n",
       "      <td>2005</td>\n",
       "      <td>26</td>\n",
       "      <td>325.000000</td>\n",
       "      <td>325.000000</td>\n",
       "      <td>325.000000</td>\n",
       "      <td>325.000000</td>\n",
       "      <td>...</td>\n",
       "      <td>1054.000000</td>\n",
       "      <td>3.000000</td>\n",
       "      <td>3.000000</td>\n",
       "      <td>2.000000</td>\n",
       "      <td>2.000000</td>\n",
       "      <td>2.000000</td>\n",
       "      <td>3.000000</td>\n",
       "      <td>3.000000</td>\n",
       "      <td>3.000000</td>\n",
       "      <td>3.000000</td>\n",
       "    </tr>\n",
       "    <tr>\n",
       "      <th>2005-08-27</th>\n",
       "      <td>15.177495</td>\n",
       "      <td>5</td>\n",
       "      <td>3</td>\n",
       "      <td>8</td>\n",
       "      <td>2005</td>\n",
       "      <td>27</td>\n",
       "      <td>324.000000</td>\n",
       "      <td>325.000000</td>\n",
       "      <td>325.000000</td>\n",
       "      <td>325.000000</td>\n",
       "      <td>...</td>\n",
       "      <td>1091.000000</td>\n",
       "      <td>3.000000</td>\n",
       "      <td>3.000000</td>\n",
       "      <td>3.000000</td>\n",
       "      <td>2.000000</td>\n",
       "      <td>2.000000</td>\n",
       "      <td>2.000000</td>\n",
       "      <td>3.000000</td>\n",
       "      <td>3.000000</td>\n",
       "      <td>3.000000</td>\n",
       "    </tr>\n",
       "  </tbody>\n",
       "</table>\n",
       "<p>389 rows × 321 columns</p>\n",
       "</div>"
      ],
      "text/plain": [
       "            totalprofit  dayofweek  quarter  month  year  dayofmonth  \\\n",
       "saledate                                                               \n",
       "2004-08-01    13.144244          6        3      8  2004           1   \n",
       "2004-08-02    13.184463          0        3      8  2004           2   \n",
       "2004-08-03    13.399838          1        3      8  2004           3   \n",
       "2004-08-04    13.355744          2        3      8  2004           4   \n",
       "2004-08-05    13.361711          3        3      8  2004           5   \n",
       "...                 ...        ...      ...    ...   ...         ...   \n",
       "2005-08-23    14.206093          1        3      8  2005          23   \n",
       "2005-08-24    14.499930          2        3      8  2005          24   \n",
       "2005-08-25    14.479821          3        3      8  2005          25   \n",
       "2005-08-26    14.667566          4        3      8  2005          26   \n",
       "2005-08-27    15.177495          5        3      8  2005          27   \n",
       "\n",
       "             nstores_1   nstores_2   nstores_3   nstores_4  ...  nvendors_28  \\\n",
       "saledate                                                    ...                \n",
       "2004-08-01  323.701799  323.701799  323.701799  323.701799  ...   931.768638   \n",
       "2004-08-02  323.000000  323.701799  323.701799  323.701799  ...   931.768638   \n",
       "2004-08-03  324.000000  323.000000  323.701799  323.701799  ...   931.768638   \n",
       "2004-08-04  324.000000  324.000000  323.000000  323.701799  ...   931.768638   \n",
       "2004-08-05  324.000000  324.000000  324.000000  323.000000  ...   931.768638   \n",
       "...                ...         ...         ...         ...  ...          ...   \n",
       "2005-08-23  325.000000  325.000000  325.000000  325.000000  ...   968.000000   \n",
       "2005-08-24  325.000000  325.000000  325.000000  325.000000  ...  1073.000000   \n",
       "2005-08-25  325.000000  325.000000  325.000000  325.000000  ...  1069.000000   \n",
       "2005-08-26  325.000000  325.000000  325.000000  325.000000  ...  1054.000000   \n",
       "2005-08-27  324.000000  325.000000  325.000000  325.000000  ...  1091.000000   \n",
       "\n",
       "            avgvendorsstore_1  avgvendorsstore_2  avgvendorsstore_3  \\\n",
       "saledate                                                              \n",
       "2004-08-01           2.233933           2.233933           2.233933   \n",
       "2004-08-02           2.000000           2.233933           2.233933   \n",
       "2004-08-03           2.000000           2.000000           2.233933   \n",
       "2004-08-04           2.000000           2.000000           2.000000   \n",
       "2004-08-05           2.000000           2.000000           2.000000   \n",
       "...                       ...                ...                ...   \n",
       "2005-08-23           2.000000           2.000000           3.000000   \n",
       "2005-08-24           2.000000           2.000000           2.000000   \n",
       "2005-08-25           3.000000           2.000000           2.000000   \n",
       "2005-08-26           3.000000           3.000000           2.000000   \n",
       "2005-08-27           3.000000           3.000000           3.000000   \n",
       "\n",
       "            avgvendorsstore_4  avgvendorsstore_5  avgvendorsstore_6  \\\n",
       "saledate                                                              \n",
       "2004-08-01           2.233933           2.233933           2.233933   \n",
       "2004-08-02           2.233933           2.233933           2.233933   \n",
       "2004-08-03           2.233933           2.233933           2.233933   \n",
       "2004-08-04           2.233933           2.233933           2.233933   \n",
       "2004-08-05           2.000000           2.233933           2.233933   \n",
       "...                       ...                ...                ...   \n",
       "2005-08-23           3.000000           3.000000           2.000000   \n",
       "2005-08-24           3.000000           3.000000           3.000000   \n",
       "2005-08-25           2.000000           3.000000           3.000000   \n",
       "2005-08-26           2.000000           2.000000           3.000000   \n",
       "2005-08-27           2.000000           2.000000           2.000000   \n",
       "\n",
       "            avgvendorsstore_7  avgvendorsstore_14  avgvendorsstore_28  \n",
       "saledate                                                               \n",
       "2004-08-01           2.233933            2.233933            2.233933  \n",
       "2004-08-02           2.233933            2.233933            2.233933  \n",
       "2004-08-03           2.233933            2.233933            2.233933  \n",
       "2004-08-04           2.233933            2.233933            2.233933  \n",
       "2004-08-05           2.233933            2.233933            2.233933  \n",
       "...                       ...                 ...                 ...  \n",
       "2005-08-23           2.000000            2.000000            2.000000  \n",
       "2005-08-24           2.000000            2.000000            3.000000  \n",
       "2005-08-25           3.000000            2.000000            3.000000  \n",
       "2005-08-26           3.000000            3.000000            3.000000  \n",
       "2005-08-27           3.000000            3.000000            3.000000  \n",
       "\n",
       "[389 rows x 321 columns]"
      ]
     },
     "execution_count": 23,
     "metadata": {},
     "output_type": "execute_result"
    }
   ],
   "source": [
    "df_total = df_ts_lagged.copy()\n",
    "df_total['totalprofit'] = np.log(df_total['totalprofit']+1)\n",
    "df_total.fillna(0,inplace = True)\n",
    "df_total"
   ]
  },
  {
   "cell_type": "code",
   "execution_count": 24,
   "id": "e771007b",
   "metadata": {},
   "outputs": [
    {
     "data": {
      "text/plain": [
       "totalprofit           389\n",
       "dayofweek             389\n",
       "quarter               389\n",
       "month                 389\n",
       "year                  389\n",
       "                     ... \n",
       "avgvendorsstore_5     389\n",
       "avgvendorsstore_6     389\n",
       "avgvendorsstore_7     389\n",
       "avgvendorsstore_14    389\n",
       "avgvendorsstore_28    389\n",
       "Length: 321, dtype: int64"
      ]
     },
     "execution_count": 24,
     "metadata": {},
     "output_type": "execute_result"
    }
   ],
   "source": [
    "df_total.notnull().sum()"
   ]
  },
  {
   "cell_type": "code",
   "execution_count": 25,
   "id": "1ef03acf",
   "metadata": {},
   "outputs": [
    {
     "data": {
      "image/png": "[encoded data removed]",
      "text/plain": [
       "<Figure size 1080x360 with 1 Axes>"
      ]
     },
     "metadata": {
      "needs_background": "light"
     },
     "output_type": "display_data"
    }
   ],
   "source": [
    "df_total['totalprofit'].plot(style='.',\n",
    "        figsize=(15, 5),\n",
    "        color=color_pal[0],\n",
    "        title='Number')\n",
    "plt.show()"
   ]
  },
  {
   "cell_type": "markdown",
   "id": "ac661db3",
   "metadata": {},
   "source": [
    "## Prophet Modeling"
   ]
  },
  {
   "cell_type": "code",
   "execution_count": 26,
   "id": "dc0450ab",
   "metadata": {},
   "outputs": [],
   "source": [
    "from prophet import Prophet\n",
    "from prophet.diagnostics import cross_validation\n",
    "from prophet.diagnostics import performance_metrics\n",
    "from prophet.plot import plot_cross_validation_metric\n",
    "from prophet.utilities import regressor_coefficients\n",
    "import sklearn.metrics as metrics\n",
    "import itertools"
   ]
  },
  {
   "cell_type": "markdown",
   "id": "a6783425",
   "metadata": {},
   "source": [
    "### Dataset Construction"
   ]
  },
  {
   "cell_type": "code",
   "execution_count": 34,
   "id": "675f495c",
   "metadata": {
    "scrolled": true
   },
   "outputs": [
    {
     "data": {
      "text/html": [
       "<div>\n",
       "<style scoped>\n",
       "    .dataframe tbody tr th:only-of-type {\n",
       "        vertical-align: middle;\n",
       "    }\n",
       "\n",
       "    .dataframe tbody tr th {\n",
       "        vertical-align: top;\n",
       "    }\n",
       "\n",
       "    .dataframe thead th {\n",
       "        text-align: right;\n",
       "    }\n",
       "</style>\n",
       "<table border=\"1\" class=\"dataframe\">\n",
       "  <thead>\n",
       "    <tr style=\"text-align: right;\">\n",
       "      <th></th>\n",
       "      <th>ds</th>\n",
       "      <th>y</th>\n",
       "      <th>dayofweek</th>\n",
       "      <th>quarter</th>\n",
       "      <th>month</th>\n",
       "      <th>year</th>\n",
       "      <th>dayofmonth</th>\n",
       "      <th>nstores_1</th>\n",
       "      <th>nstores_2</th>\n",
       "      <th>nstores_3</th>\n",
       "      <th>...</th>\n",
       "      <th>nvendors_28</th>\n",
       "      <th>avgvendorsstore_1</th>\n",
       "      <th>avgvendorsstore_2</th>\n",
       "      <th>avgvendorsstore_3</th>\n",
       "      <th>avgvendorsstore_4</th>\n",
       "      <th>avgvendorsstore_5</th>\n",
       "      <th>avgvendorsstore_6</th>\n",
       "      <th>avgvendorsstore_7</th>\n",
       "      <th>avgvendorsstore_14</th>\n",
       "      <th>avgvendorsstore_28</th>\n",
       "    </tr>\n",
       "  </thead>\n",
       "  <tbody>\n",
       "    <tr>\n",
       "      <th>0</th>\n",
       "      <td>2004-08-01</td>\n",
       "      <td>13.144244</td>\n",
       "      <td>6</td>\n",
       "      <td>3</td>\n",
       "      <td>8</td>\n",
       "      <td>2004</td>\n",
       "      <td>1</td>\n",
       "      <td>323.701799</td>\n",
       "      <td>323.701799</td>\n",
       "      <td>323.701799</td>\n",
       "      <td>...</td>\n",
       "      <td>931.768638</td>\n",
       "      <td>2.233933</td>\n",
       "      <td>2.233933</td>\n",
       "      <td>2.233933</td>\n",
       "      <td>2.233933</td>\n",
       "      <td>2.233933</td>\n",
       "      <td>2.233933</td>\n",
       "      <td>2.233933</td>\n",
       "      <td>2.233933</td>\n",
       "      <td>2.233933</td>\n",
       "    </tr>\n",
       "    <tr>\n",
       "      <th>1</th>\n",
       "      <td>2004-08-02</td>\n",
       "      <td>13.184463</td>\n",
       "      <td>0</td>\n",
       "      <td>3</td>\n",
       "      <td>8</td>\n",
       "      <td>2004</td>\n",
       "      <td>2</td>\n",
       "      <td>323.000000</td>\n",
       "      <td>323.701799</td>\n",
       "      <td>323.701799</td>\n",
       "      <td>...</td>\n",
       "      <td>931.768638</td>\n",
       "      <td>2.000000</td>\n",
       "      <td>2.233933</td>\n",
       "      <td>2.233933</td>\n",
       "      <td>2.233933</td>\n",
       "      <td>2.233933</td>\n",
       "      <td>2.233933</td>\n",
       "      <td>2.233933</td>\n",
       "      <td>2.233933</td>\n",
       "      <td>2.233933</td>\n",
       "    </tr>\n",
       "    <tr>\n",
       "      <th>2</th>\n",
       "      <td>2004-08-03</td>\n",
       "      <td>13.399838</td>\n",
       "      <td>1</td>\n",
       "      <td>3</td>\n",
       "      <td>8</td>\n",
       "      <td>2004</td>\n",
       "      <td>3</td>\n",
       "      <td>324.000000</td>\n",
       "      <td>323.000000</td>\n",
       "      <td>323.701799</td>\n",
       "      <td>...</td>\n",
       "      <td>931.768638</td>\n",
       "      <td>2.000000</td>\n",
       "      <td>2.000000</td>\n",
       "      <td>2.233933</td>\n",
       "      <td>2.233933</td>\n",
       "      <td>2.233933</td>\n",
       "      <td>2.233933</td>\n",
       "      <td>2.233933</td>\n",
       "      <td>2.233933</td>\n",
       "      <td>2.233933</td>\n",
       "    </tr>\n",
       "    <tr>\n",
       "      <th>3</th>\n",
       "      <td>2004-08-04</td>\n",
       "      <td>13.355744</td>\n",
       "      <td>2</td>\n",
       "      <td>3</td>\n",
       "      <td>8</td>\n",
       "      <td>2004</td>\n",
       "      <td>4</td>\n",
       "      <td>324.000000</td>\n",
       "      <td>324.000000</td>\n",
       "      <td>323.000000</td>\n",
       "      <td>...</td>\n",
       "      <td>931.768638</td>\n",
       "      <td>2.000000</td>\n",
       "      <td>2.000000</td>\n",
       "      <td>2.000000</td>\n",
       "      <td>2.233933</td>\n",
       "      <td>2.233933</td>\n",
       "      <td>2.233933</td>\n",
       "      <td>2.233933</td>\n",
       "      <td>2.233933</td>\n",
       "      <td>2.233933</td>\n",
       "    </tr>\n",
       "    <tr>\n",
       "      <th>4</th>\n",
       "      <td>2004-08-05</td>\n",
       "      <td>13.361711</td>\n",
       "      <td>3</td>\n",
       "      <td>3</td>\n",
       "      <td>8</td>\n",
       "      <td>2004</td>\n",
       "      <td>5</td>\n",
       "      <td>324.000000</td>\n",
       "      <td>324.000000</td>\n",
       "      <td>324.000000</td>\n",
       "      <td>...</td>\n",
       "      <td>931.768638</td>\n",
       "      <td>2.000000</td>\n",
       "      <td>2.000000</td>\n",
       "      <td>2.000000</td>\n",
       "      <td>2.000000</td>\n",
       "      <td>2.233933</td>\n",
       "      <td>2.233933</td>\n",
       "      <td>2.233933</td>\n",
       "      <td>2.233933</td>\n",
       "      <td>2.233933</td>\n",
       "    </tr>\n",
       "    <tr>\n",
       "      <th>...</th>\n",
       "      <td>...</td>\n",
       "      <td>...</td>\n",
       "      <td>...</td>\n",
       "      <td>...</td>\n",
       "      <td>...</td>\n",
       "      <td>...</td>\n",
       "      <td>...</td>\n",
       "      <td>...</td>\n",
       "      <td>...</td>\n",
       "      <td>...</td>\n",
       "      <td>...</td>\n",
       "      <td>...</td>\n",
       "      <td>...</td>\n",
       "      <td>...</td>\n",
       "      <td>...</td>\n",
       "      <td>...</td>\n",
       "      <td>...</td>\n",
       "      <td>...</td>\n",
       "      <td>...</td>\n",
       "      <td>...</td>\n",
       "      <td>...</td>\n",
       "    </tr>\n",
       "    <tr>\n",
       "      <th>384</th>\n",
       "      <td>2005-08-23</td>\n",
       "      <td>14.206093</td>\n",
       "      <td>1</td>\n",
       "      <td>3</td>\n",
       "      <td>8</td>\n",
       "      <td>2005</td>\n",
       "      <td>23</td>\n",
       "      <td>325.000000</td>\n",
       "      <td>325.000000</td>\n",
       "      <td>325.000000</td>\n",
       "      <td>...</td>\n",
       "      <td>968.000000</td>\n",
       "      <td>2.000000</td>\n",
       "      <td>2.000000</td>\n",
       "      <td>3.000000</td>\n",
       "      <td>3.000000</td>\n",
       "      <td>3.000000</td>\n",
       "      <td>2.000000</td>\n",
       "      <td>2.000000</td>\n",
       "      <td>2.000000</td>\n",
       "      <td>2.000000</td>\n",
       "    </tr>\n",
       "    <tr>\n",
       "      <th>385</th>\n",
       "      <td>2005-08-24</td>\n",
       "      <td>14.499930</td>\n",
       "      <td>2</td>\n",
       "      <td>3</td>\n",
       "      <td>8</td>\n",
       "      <td>2005</td>\n",
       "      <td>24</td>\n",
       "      <td>325.000000</td>\n",
       "      <td>325.000000</td>\n",
       "      <td>325.000000</td>\n",
       "      <td>...</td>\n",
       "      <td>1073.000000</td>\n",
       "      <td>2.000000</td>\n",
       "      <td>2.000000</td>\n",
       "      <td>2.000000</td>\n",
       "      <td>3.000000</td>\n",
       "      <td>3.000000</td>\n",
       "      <td>3.000000</td>\n",
       "      <td>2.000000</td>\n",
       "      <td>2.000000</td>\n",
       "      <td>3.000000</td>\n",
       "    </tr>\n",
       "    <tr>\n",
       "      <th>386</th>\n",
       "      <td>2005-08-25</td>\n",
       "      <td>14.479821</td>\n",
       "      <td>3</td>\n",
       "      <td>3</td>\n",
       "      <td>8</td>\n",
       "      <td>2005</td>\n",
       "      <td>25</td>\n",
       "      <td>325.000000</td>\n",
       "      <td>325.000000</td>\n",
       "      <td>325.000000</td>\n",
       "      <td>...</td>\n",
       "      <td>1069.000000</td>\n",
       "      <td>3.000000</td>\n",
       "      <td>2.000000</td>\n",
       "      <td>2.000000</td>\n",
       "      <td>2.000000</td>\n",
       "      <td>3.000000</td>\n",
       "      <td>3.000000</td>\n",
       "      <td>3.000000</td>\n",
       "      <td>2.000000</td>\n",
       "      <td>3.000000</td>\n",
       "    </tr>\n",
       "    <tr>\n",
       "      <th>387</th>\n",
       "      <td>2005-08-26</td>\n",
       "      <td>14.667566</td>\n",
       "      <td>4</td>\n",
       "      <td>3</td>\n",
       "      <td>8</td>\n",
       "      <td>2005</td>\n",
       "      <td>26</td>\n",
       "      <td>325.000000</td>\n",
       "      <td>325.000000</td>\n",
       "      <td>325.000000</td>\n",
       "      <td>...</td>\n",
       "      <td>1054.000000</td>\n",
       "      <td>3.000000</td>\n",
       "      <td>3.000000</td>\n",
       "      <td>2.000000</td>\n",
       "      <td>2.000000</td>\n",
       "      <td>2.000000</td>\n",
       "      <td>3.000000</td>\n",
       "      <td>3.000000</td>\n",
       "      <td>3.000000</td>\n",
       "      <td>3.000000</td>\n",
       "    </tr>\n",
       "    <tr>\n",
       "      <th>388</th>\n",
       "      <td>2005-08-27</td>\n",
       "      <td>15.177495</td>\n",
       "      <td>5</td>\n",
       "      <td>3</td>\n",
       "      <td>8</td>\n",
       "      <td>2005</td>\n",
       "      <td>27</td>\n",
       "      <td>324.000000</td>\n",
       "      <td>325.000000</td>\n",
       "      <td>325.000000</td>\n",
       "      <td>...</td>\n",
       "      <td>1091.000000</td>\n",
       "      <td>3.000000</td>\n",
       "      <td>3.000000</td>\n",
       "      <td>3.000000</td>\n",
       "      <td>2.000000</td>\n",
       "      <td>2.000000</td>\n",
       "      <td>2.000000</td>\n",
       "      <td>3.000000</td>\n",
       "      <td>3.000000</td>\n",
       "      <td>3.000000</td>\n",
       "    </tr>\n",
       "  </tbody>\n",
       "</table>\n",
       "<p>389 rows × 322 columns</p>\n",
       "</div>"
      ],
      "text/plain": [
       "            ds          y  dayofweek  quarter  month  year  dayofmonth  \\\n",
       "0   2004-08-01  13.144244          6        3      8  2004           1   \n",
       "1   2004-08-02  13.184463          0        3      8  2004           2   \n",
       "2   2004-08-03  13.399838          1        3      8  2004           3   \n",
       "3   2004-08-04  13.355744          2        3      8  2004           4   \n",
       "4   2004-08-05  13.361711          3        3      8  2004           5   \n",
       "..         ...        ...        ...      ...    ...   ...         ...   \n",
       "384 2005-08-23  14.206093          1        3      8  2005          23   \n",
       "385 2005-08-24  14.499930          2        3      8  2005          24   \n",
       "386 2005-08-25  14.479821          3        3      8  2005          25   \n",
       "387 2005-08-26  14.667566          4        3      8  2005          26   \n",
       "388 2005-08-27  15.177495          5        3      8  2005          27   \n",
       "\n",
       "      nstores_1   nstores_2   nstores_3  ...  nvendors_28  avgvendorsstore_1  \\\n",
       "0    323.701799  323.701799  323.701799  ...   931.768638           2.233933   \n",
       "1    323.000000  323.701799  323.701799  ...   931.768638           2.000000   \n",
       "2    324.000000  323.000000  323.701799  ...   931.768638           2.000000   \n",
       "3    324.000000  324.000000  323.000000  ...   931.768638           2.000000   \n",
       "4    324.000000  324.000000  324.000000  ...   931.768638           2.000000   \n",
       "..          ...         ...         ...  ...          ...                ...   \n",
       "384  325.000000  325.000000  325.000000  ...   968.000000           2.000000   \n",
       "385  325.000000  325.000000  325.000000  ...  1073.000000           2.000000   \n",
       "386  325.000000  325.000000  325.000000  ...  1069.000000           3.000000   \n",
       "387  325.000000  325.000000  325.000000  ...  1054.000000           3.000000   \n",
       "388  324.000000  325.000000  325.000000  ...  1091.000000           3.000000   \n",
       "\n",
       "     avgvendorsstore_2  avgvendorsstore_3  avgvendorsstore_4  \\\n",
       "0             2.233933           2.233933           2.233933   \n",
       "1             2.233933           2.233933           2.233933   \n",
       "2             2.000000           2.233933           2.233933   \n",
       "3             2.000000           2.000000           2.233933   \n",
       "4             2.000000           2.000000           2.000000   \n",
       "..                 ...                ...                ...   \n",
       "384           2.000000           3.000000           3.000000   \n",
       "385           2.000000           2.000000           3.000000   \n",
       "386           2.000000           2.000000           2.000000   \n",
       "387           3.000000           2.000000           2.000000   \n",
       "388           3.000000           3.000000           2.000000   \n",
       "\n",
       "     avgvendorsstore_5  avgvendorsstore_6  avgvendorsstore_7  \\\n",
       "0             2.233933           2.233933           2.233933   \n",
       "1             2.233933           2.233933           2.233933   \n",
       "2             2.233933           2.233933           2.233933   \n",
       "3             2.233933           2.233933           2.233933   \n",
       "4             2.233933           2.233933           2.233933   \n",
       "..                 ...                ...                ...   \n",
       "384           3.000000           2.000000           2.000000   \n",
       "385           3.000000           3.000000           2.000000   \n",
       "386           3.000000           3.000000           3.000000   \n",
       "387           2.000000           3.000000           3.000000   \n",
       "388           2.000000           2.000000           3.000000   \n",
       "\n",
       "     avgvendorsstore_14  avgvendorsstore_28  \n",
       "0              2.233933            2.233933  \n",
       "1              2.233933            2.233933  \n",
       "2              2.233933            2.233933  \n",
       "3              2.233933            2.233933  \n",
       "4              2.233933            2.233933  \n",
       "..                  ...                 ...  \n",
       "384            2.000000            2.000000  \n",
       "385            2.000000            3.000000  \n",
       "386            2.000000            3.000000  \n",
       "387            3.000000            3.000000  \n",
       "388            3.000000            3.000000  \n",
       "\n",
       "[389 rows x 322 columns]"
      ]
     },
     "execution_count": 34,
     "metadata": {},
     "output_type": "execute_result"
    }
   ],
   "source": [
    "df_state = df_total.copy()\n",
    "df_state = df_state.reset_index()\n",
    "df_state = df_state.rename(columns = {'saledate':'ds','totalprofit':'y'})\n",
    "df_state"
   ]
  },
  {
   "cell_type": "markdown",
   "id": "5f9a61b0",
   "metadata": {},
   "source": [
    "### train/test split"
   ]
  },
  {
   "cell_type": "code",
   "execution_count": 35,
   "id": "b99cb0d7",
   "metadata": {},
   "outputs": [],
   "source": [
    "df_train = df_state[df_state['ds']<='2005-05-31']\n",
    "df_test = df_state[df_state['ds']>'2005-05-31']"
   ]
  },
  {
   "cell_type": "code",
   "execution_count": 36,
   "id": "1d34bc2f",
   "metadata": {},
   "outputs": [
    {
     "data": {
      "text/plain": [
       "Index(['ds', 'y', 'dayofweek', 'quarter', 'month', 'year', 'dayofmonth',\n",
       "       'nstores_1', 'nstores_2', 'nstores_3',\n",
       "       ...\n",
       "       'nvendors_28', 'avgvendorsstore_1', 'avgvendorsstore_2',\n",
       "       'avgvendorsstore_3', 'avgvendorsstore_4', 'avgvendorsstore_5',\n",
       "       'avgvendorsstore_6', 'avgvendorsstore_7', 'avgvendorsstore_14',\n",
       "       'avgvendorsstore_28'],\n",
       "      dtype='object', length=322)"
      ]
     },
     "execution_count": 36,
     "metadata": {},
     "output_type": "execute_result"
    }
   ],
   "source": [
    "df_train.columns"
   ]
  },
  {
   "cell_type": "markdown",
   "id": "bbe94f77",
   "metadata": {},
   "source": [
    "### Adding holidays, seasonality and additional features"
   ]
  },
  {
   "cell_type": "code",
   "execution_count": 37,
   "id": "ddcabe9d",
   "metadata": {},
   "outputs": [
    {
     "data": {
      "text/plain": [
       "['nstores_1',\n",
       " 'nsku_1',\n",
       " 'totalquantity_1',\n",
       " 'avgquantity_1',\n",
       " 'totalamt_1',\n",
       " 'avgamt_1',\n",
       " 'minamt_1',\n",
       " 'maxamt_1',\n",
       " 'totalorigprice_1',\n",
       " 'avgorigprice_1',\n",
       " 'minorigprice_1',\n",
       " 'maxorigprice_1',\n",
       " 'totalretail_1',\n",
       " 'avgretail_1',\n",
       " 'minretail_1',\n",
       " 'maxretail_1',\n",
       " 'avgretailtrnsact_1',\n",
       " 'totalcost_1',\n",
       " 'avgcost_1',\n",
       " 'mincost_1',\n",
       " 'maxcost_1',\n",
       " 'avgcosttrnsact_1',\n",
       " 'totaldiscount_1',\n",
       " 'avgdiscounttrnsact_1',\n",
       " 'mindiscount_1',\n",
       " 'maxdiscount_1',\n",
       " 'totalprofit_1',\n",
       " 'avgprofittrnsact_1',\n",
       " 'minprofit_1',\n",
       " 'maxprofit_1',\n",
       " 'nstore_1',\n",
       " 'ncities_1',\n",
       " 'ndept_1',\n",
       " 'nvendors_1',\n",
       " 'avgvendorsstore_1']"
      ]
     },
     "execution_count": 37,
     "metadata": {},
     "output_type": "execute_result"
    }
   ],
   "source": [
    "lag1_features = [each + \"_1\" for each in orignal_features]\n",
    "lag1_features"
   ]
  },
  {
   "cell_type": "code",
   "execution_count": 38,
   "id": "d252e56a",
   "metadata": {},
   "outputs": [
    {
     "name": "stderr",
     "output_type": "stream",
     "text": [
      "/opt/anaconda3/lib/python3.7/site-packages/ipykernel_launcher.py:2: SettingWithCopyWarning: \n",
      "A value is trying to be set on a copy of a slice from a DataFrame.\n",
      "Try using .loc[row_indexer,col_indexer] = value instead\n",
      "\n",
      "See the caveats in the documentation: https://pandas.pydata.org/pandas-docs/stable/user_guide/indexing.html#returning-a-view-versus-a-copy\n",
      "  \n"
     ]
    },
    {
     "data": {
      "text/html": [
       "<div>\n",
       "<style scoped>\n",
       "    .dataframe tbody tr th:only-of-type {\n",
       "        vertical-align: middle;\n",
       "    }\n",
       "\n",
       "    .dataframe tbody tr th {\n",
       "        vertical-align: top;\n",
       "    }\n",
       "\n",
       "    .dataframe thead th {\n",
       "        text-align: right;\n",
       "    }\n",
       "</style>\n",
       "<table border=\"1\" class=\"dataframe\">\n",
       "  <thead>\n",
       "    <tr style=\"text-align: right;\">\n",
       "      <th></th>\n",
       "      <th>nstores_1</th>\n",
       "      <th>nsku_1</th>\n",
       "      <th>totalquantity_1</th>\n",
       "      <th>avgquantity_1</th>\n",
       "      <th>totalamt_1</th>\n",
       "      <th>avgamt_1</th>\n",
       "      <th>minamt_1</th>\n",
       "      <th>maxamt_1</th>\n",
       "      <th>totalorigprice_1</th>\n",
       "      <th>avgorigprice_1</th>\n",
       "      <th>...</th>\n",
       "      <th>totalprofit_1</th>\n",
       "      <th>avgprofittrnsact_1</th>\n",
       "      <th>minprofit_1</th>\n",
       "      <th>maxprofit_1</th>\n",
       "      <th>nstore_1</th>\n",
       "      <th>ncities_1</th>\n",
       "      <th>ndept_1</th>\n",
       "      <th>nvendors_1</th>\n",
       "      <th>avgvendorsstore_1</th>\n",
       "      <th>y</th>\n",
       "    </tr>\n",
       "  </thead>\n",
       "  <tbody>\n",
       "    <tr>\n",
       "      <th>nstores_1</th>\n",
       "      <td>1.000000</td>\n",
       "      <td>0.055186</td>\n",
       "      <td>0.004705</td>\n",
       "      <td>-0.148440</td>\n",
       "      <td>-0.009854</td>\n",
       "      <td>-0.151775</td>\n",
       "      <td>NaN</td>\n",
       "      <td>0.008181</td>\n",
       "      <td>0.102500</td>\n",
       "      <td>0.269496</td>\n",
       "      <td>...</td>\n",
       "      <td>0.145522</td>\n",
       "      <td>-0.020581</td>\n",
       "      <td>NaN</td>\n",
       "      <td>0.138019</td>\n",
       "      <td>1.000000</td>\n",
       "      <td>0.986730</td>\n",
       "      <td>0.156067</td>\n",
       "      <td>0.192565</td>\n",
       "      <td>0.053648</td>\n",
       "      <td>0.028746</td>\n",
       "    </tr>\n",
       "    <tr>\n",
       "      <th>nsku_1</th>\n",
       "      <td>0.055186</td>\n",
       "      <td>1.000000</td>\n",
       "      <td>0.894138</td>\n",
       "      <td>0.488733</td>\n",
       "      <td>0.914481</td>\n",
       "      <td>0.553821</td>\n",
       "      <td>NaN</td>\n",
       "      <td>0.107719</td>\n",
       "      <td>0.816460</td>\n",
       "      <td>-0.332144</td>\n",
       "      <td>...</td>\n",
       "      <td>0.326006</td>\n",
       "      <td>0.064139</td>\n",
       "      <td>NaN</td>\n",
       "      <td>0.141148</td>\n",
       "      <td>0.055186</td>\n",
       "      <td>0.051852</td>\n",
       "      <td>0.115127</td>\n",
       "      <td>0.916194</td>\n",
       "      <td>0.743830</td>\n",
       "      <td>-0.185123</td>\n",
       "    </tr>\n",
       "    <tr>\n",
       "      <th>totalquantity_1</th>\n",
       "      <td>0.004705</td>\n",
       "      <td>0.894138</td>\n",
       "      <td>1.000000</td>\n",
       "      <td>0.491492</td>\n",
       "      <td>0.982145</td>\n",
       "      <td>0.528415</td>\n",
       "      <td>NaN</td>\n",
       "      <td>0.068057</td>\n",
       "      <td>0.880089</td>\n",
       "      <td>-0.391341</td>\n",
       "      <td>...</td>\n",
       "      <td>0.386390</td>\n",
       "      <td>0.056911</td>\n",
       "      <td>NaN</td>\n",
       "      <td>0.034617</td>\n",
       "      <td>0.004705</td>\n",
       "      <td>-0.013065</td>\n",
       "      <td>-0.005539</td>\n",
       "      <td>0.813667</td>\n",
       "      <td>0.726200</td>\n",
       "      <td>-0.212607</td>\n",
       "    </tr>\n",
       "    <tr>\n",
       "      <th>avgquantity_1</th>\n",
       "      <td>-0.148440</td>\n",
       "      <td>0.488733</td>\n",
       "      <td>0.491492</td>\n",
       "      <td>1.000000</td>\n",
       "      <td>0.502931</td>\n",
       "      <td>0.984195</td>\n",
       "      <td>NaN</td>\n",
       "      <td>0.044305</td>\n",
       "      <td>0.409696</td>\n",
       "      <td>-0.273018</td>\n",
       "      <td>...</td>\n",
       "      <td>0.114727</td>\n",
       "      <td>0.694678</td>\n",
       "      <td>NaN</td>\n",
       "      <td>0.029332</td>\n",
       "      <td>-0.148440</td>\n",
       "      <td>-0.154798</td>\n",
       "      <td>-0.042723</td>\n",
       "      <td>0.373409</td>\n",
       "      <td>0.306333</td>\n",
       "      <td>-0.120772</td>\n",
       "    </tr>\n",
       "    <tr>\n",
       "      <th>totalamt_1</th>\n",
       "      <td>-0.009854</td>\n",
       "      <td>0.914481</td>\n",
       "      <td>0.982145</td>\n",
       "      <td>0.502931</td>\n",
       "      <td>1.000000</td>\n",
       "      <td>0.565743</td>\n",
       "      <td>NaN</td>\n",
       "      <td>0.091277</td>\n",
       "      <td>0.819632</td>\n",
       "      <td>-0.434897</td>\n",
       "      <td>...</td>\n",
       "      <td>0.258677</td>\n",
       "      <td>0.003331</td>\n",
       "      <td>NaN</td>\n",
       "      <td>0.060047</td>\n",
       "      <td>-0.009854</td>\n",
       "      <td>-0.021254</td>\n",
       "      <td>-0.016299</td>\n",
       "      <td>0.815704</td>\n",
       "      <td>0.717549</td>\n",
       "      <td>-0.274732</td>\n",
       "    </tr>\n",
       "    <tr>\n",
       "      <th>avgamt_1</th>\n",
       "      <td>-0.151775</td>\n",
       "      <td>0.553821</td>\n",
       "      <td>0.528415</td>\n",
       "      <td>0.984195</td>\n",
       "      <td>0.565743</td>\n",
       "      <td>1.000000</td>\n",
       "      <td>NaN</td>\n",
       "      <td>0.066178</td>\n",
       "      <td>0.413092</td>\n",
       "      <td>-0.324594</td>\n",
       "      <td>...</td>\n",
       "      <td>0.048039</td>\n",
       "      <td>0.600573</td>\n",
       "      <td>NaN</td>\n",
       "      <td>0.051829</td>\n",
       "      <td>-0.151775</td>\n",
       "      <td>-0.154600</td>\n",
       "      <td>-0.053731</td>\n",
       "      <td>0.427067</td>\n",
       "      <td>0.338424</td>\n",
       "      <td>-0.166363</td>\n",
       "    </tr>\n",
       "    <tr>\n",
       "      <th>minamt_1</th>\n",
       "      <td>NaN</td>\n",
       "      <td>NaN</td>\n",
       "      <td>NaN</td>\n",
       "      <td>NaN</td>\n",
       "      <td>NaN</td>\n",
       "      <td>NaN</td>\n",
       "      <td>NaN</td>\n",
       "      <td>NaN</td>\n",
       "      <td>NaN</td>\n",
       "      <td>NaN</td>\n",
       "      <td>...</td>\n",
       "      <td>NaN</td>\n",
       "      <td>NaN</td>\n",
       "      <td>NaN</td>\n",
       "      <td>NaN</td>\n",
       "      <td>NaN</td>\n",
       "      <td>NaN</td>\n",
       "      <td>NaN</td>\n",
       "      <td>NaN</td>\n",
       "      <td>NaN</td>\n",
       "      <td>NaN</td>\n",
       "    </tr>\n",
       "    <tr>\n",
       "      <th>maxamt_1</th>\n",
       "      <td>0.008181</td>\n",
       "      <td>0.107719</td>\n",
       "      <td>0.068057</td>\n",
       "      <td>0.044305</td>\n",
       "      <td>0.091277</td>\n",
       "      <td>0.066178</td>\n",
       "      <td>NaN</td>\n",
       "      <td>1.000000</td>\n",
       "      <td>0.048866</td>\n",
       "      <td>0.002601</td>\n",
       "      <td>...</td>\n",
       "      <td>-0.000599</td>\n",
       "      <td>-0.011170</td>\n",
       "      <td>NaN</td>\n",
       "      <td>0.800085</td>\n",
       "      <td>0.008181</td>\n",
       "      <td>0.003178</td>\n",
       "      <td>0.110636</td>\n",
       "      <td>0.124637</td>\n",
       "      <td>0.057635</td>\n",
       "      <td>-0.035271</td>\n",
       "    </tr>\n",
       "    <tr>\n",
       "      <th>totalorigprice_1</th>\n",
       "      <td>0.102500</td>\n",
       "      <td>0.816460</td>\n",
       "      <td>0.880089</td>\n",
       "      <td>0.409696</td>\n",
       "      <td>0.819632</td>\n",
       "      <td>0.413092</td>\n",
       "      <td>NaN</td>\n",
       "      <td>0.048866</td>\n",
       "      <td>1.000000</td>\n",
       "      <td>0.019255</td>\n",
       "      <td>...</td>\n",
       "      <td>0.706486</td>\n",
       "      <td>0.240001</td>\n",
       "      <td>NaN</td>\n",
       "      <td>0.032668</td>\n",
       "      <td>0.102500</td>\n",
       "      <td>0.101506</td>\n",
       "      <td>0.054560</td>\n",
       "      <td>0.813445</td>\n",
       "      <td>0.742865</td>\n",
       "      <td>0.027677</td>\n",
       "    </tr>\n",
       "    <tr>\n",
       "      <th>avgorigprice_1</th>\n",
       "      <td>0.269496</td>\n",
       "      <td>-0.332144</td>\n",
       "      <td>-0.391341</td>\n",
       "      <td>-0.273018</td>\n",
       "      <td>-0.434897</td>\n",
       "      <td>-0.324594</td>\n",
       "      <td>NaN</td>\n",
       "      <td>0.002601</td>\n",
       "      <td>0.019255</td>\n",
       "      <td>1.000000</td>\n",
       "      <td>...</td>\n",
       "      <td>0.440160</td>\n",
       "      <td>0.312951</td>\n",
       "      <td>NaN</td>\n",
       "      <td>0.059032</td>\n",
       "      <td>0.269496</td>\n",
       "      <td>0.327651</td>\n",
       "      <td>0.263335</td>\n",
       "      <td>-0.141494</td>\n",
       "      <td>-0.118295</td>\n",
       "      <td>0.371958</td>\n",
       "    </tr>\n",
       "    <tr>\n",
       "      <th>minorigprice_1</th>\n",
       "      <td>-0.172624</td>\n",
       "      <td>0.028014</td>\n",
       "      <td>0.086766</td>\n",
       "      <td>0.089202</td>\n",
       "      <td>0.118685</td>\n",
       "      <td>0.117708</td>\n",
       "      <td>NaN</td>\n",
       "      <td>-0.038497</td>\n",
       "      <td>-0.005865</td>\n",
       "      <td>-0.325408</td>\n",
       "      <td>...</td>\n",
       "      <td>-0.358414</td>\n",
       "      <td>-0.250213</td>\n",
       "      <td>NaN</td>\n",
       "      <td>-0.131965</td>\n",
       "      <td>-0.172624</td>\n",
       "      <td>-0.247129</td>\n",
       "      <td>-0.666196</td>\n",
       "      <td>-0.130780</td>\n",
       "      <td>-0.016204</td>\n",
       "      <td>-0.155767</td>\n",
       "    </tr>\n",
       "    <tr>\n",
       "      <th>maxorigprice_1</th>\n",
       "      <td>0.078866</td>\n",
       "      <td>0.025466</td>\n",
       "      <td>0.010739</td>\n",
       "      <td>0.001625</td>\n",
       "      <td>0.002986</td>\n",
       "      <td>-0.010030</td>\n",
       "      <td>NaN</td>\n",
       "      <td>0.701513</td>\n",
       "      <td>0.056251</td>\n",
       "      <td>0.155302</td>\n",
       "      <td>...</td>\n",
       "      <td>0.105989</td>\n",
       "      <td>0.075275</td>\n",
       "      <td>NaN</td>\n",
       "      <td>0.636442</td>\n",
       "      <td>0.078866</td>\n",
       "      <td>0.081213</td>\n",
       "      <td>0.134480</td>\n",
       "      <td>0.080485</td>\n",
       "      <td>0.009266</td>\n",
       "      <td>0.016693</td>\n",
       "    </tr>\n",
       "    <tr>\n",
       "      <th>totalretail_1</th>\n",
       "      <td>0.229147</td>\n",
       "      <td>0.785345</td>\n",
       "      <td>0.706693</td>\n",
       "      <td>0.299495</td>\n",
       "      <td>0.681203</td>\n",
       "      <td>0.318637</td>\n",
       "      <td>NaN</td>\n",
       "      <td>0.121611</td>\n",
       "      <td>0.742863</td>\n",
       "      <td>0.023055</td>\n",
       "      <td>...</td>\n",
       "      <td>0.548995</td>\n",
       "      <td>0.198801</td>\n",
       "      <td>NaN</td>\n",
       "      <td>0.233997</td>\n",
       "      <td>0.229147</td>\n",
       "      <td>0.246831</td>\n",
       "      <td>0.454914</td>\n",
       "      <td>0.790239</td>\n",
       "      <td>0.644623</td>\n",
       "      <td>-0.100485</td>\n",
       "    </tr>\n",
       "    <tr>\n",
       "      <th>avgretail_1</th>\n",
       "      <td>-0.153381</td>\n",
       "      <td>-0.294896</td>\n",
       "      <td>-0.279527</td>\n",
       "      <td>-0.169845</td>\n",
       "      <td>-0.259858</td>\n",
       "      <td>-0.160264</td>\n",
       "      <td>NaN</td>\n",
       "      <td>-0.021652</td>\n",
       "      <td>-0.060327</td>\n",
       "      <td>0.512212</td>\n",
       "      <td>...</td>\n",
       "      <td>0.207125</td>\n",
       "      <td>0.162056</td>\n",
       "      <td>NaN</td>\n",
       "      <td>-0.077036</td>\n",
       "      <td>-0.153381</td>\n",
       "      <td>-0.111645</td>\n",
       "      <td>-0.079594</td>\n",
       "      <td>-0.264284</td>\n",
       "      <td>-0.121405</td>\n",
       "      <td>0.271909</td>\n",
       "    </tr>\n",
       "    <tr>\n",
       "      <th>minretail_1</th>\n",
       "      <td>0.033950</td>\n",
       "      <td>-0.125122</td>\n",
       "      <td>-0.066116</td>\n",
       "      <td>-0.060807</td>\n",
       "      <td>-0.070523</td>\n",
       "      <td>-0.066952</td>\n",
       "      <td>NaN</td>\n",
       "      <td>-0.076787</td>\n",
       "      <td>-0.048342</td>\n",
       "      <td>0.088504</td>\n",
       "      <td>...</td>\n",
       "      <td>-0.020377</td>\n",
       "      <td>-0.024651</td>\n",
       "      <td>NaN</td>\n",
       "      <td>-0.088409</td>\n",
       "      <td>0.033950</td>\n",
       "      <td>0.032586</td>\n",
       "      <td>-0.130018</td>\n",
       "      <td>-0.154421</td>\n",
       "      <td>-0.050475</td>\n",
       "      <td>-0.001233</td>\n",
       "    </tr>\n",
       "    <tr>\n",
       "      <th>maxretail_1</th>\n",
       "      <td>0.148847</td>\n",
       "      <td>0.123995</td>\n",
       "      <td>0.023327</td>\n",
       "      <td>0.014797</td>\n",
       "      <td>0.044865</td>\n",
       "      <td>0.034418</td>\n",
       "      <td>NaN</td>\n",
       "      <td>0.833883</td>\n",
       "      <td>0.027824</td>\n",
       "      <td>0.083035</td>\n",
       "      <td>...</td>\n",
       "      <td>0.040161</td>\n",
       "      <td>0.028929</td>\n",
       "      <td>NaN</td>\n",
       "      <td>0.980765</td>\n",
       "      <td>0.148847</td>\n",
       "      <td>0.153968</td>\n",
       "      <td>0.270760</td>\n",
       "      <td>0.167678</td>\n",
       "      <td>0.058444</td>\n",
       "      <td>-0.041206</td>\n",
       "    </tr>\n",
       "    <tr>\n",
       "      <th>avgretailtrnsact_1</th>\n",
       "      <td>0.086590</td>\n",
       "      <td>0.416361</td>\n",
       "      <td>0.282153</td>\n",
       "      <td>0.764268</td>\n",
       "      <td>0.286499</td>\n",
       "      <td>0.738938</td>\n",
       "      <td>NaN</td>\n",
       "      <td>0.077341</td>\n",
       "      <td>0.322995</td>\n",
       "      <td>0.074890</td>\n",
       "      <td>...</td>\n",
       "      <td>0.259496</td>\n",
       "      <td>0.772203</td>\n",
       "      <td>NaN</td>\n",
       "      <td>0.189017</td>\n",
       "      <td>0.086590</td>\n",
       "      <td>0.109302</td>\n",
       "      <td>0.341501</td>\n",
       "      <td>0.386805</td>\n",
       "      <td>0.264388</td>\n",
       "      <td>-0.038283</td>\n",
       "    </tr>\n",
       "    <tr>\n",
       "      <th>totalcost_1</th>\n",
       "      <td>0.215711</td>\n",
       "      <td>0.794251</td>\n",
       "      <td>0.694367</td>\n",
       "      <td>0.306630</td>\n",
       "      <td>0.701552</td>\n",
       "      <td>0.346949</td>\n",
       "      <td>NaN</td>\n",
       "      <td>0.136627</td>\n",
       "      <td>0.641810</td>\n",
       "      <td>-0.100853</td>\n",
       "      <td>...</td>\n",
       "      <td>0.338507</td>\n",
       "      <td>0.092555</td>\n",
       "      <td>NaN</td>\n",
       "      <td>0.255997</td>\n",
       "      <td>0.215711</td>\n",
       "      <td>0.231121</td>\n",
       "      <td>0.432059</td>\n",
       "      <td>0.765080</td>\n",
       "      <td>0.608304</td>\n",
       "      <td>-0.225033</td>\n",
       "    </tr>\n",
       "    <tr>\n",
       "      <th>avgcost_1</th>\n",
       "      <td>0.171673</td>\n",
       "      <td>0.461710</td>\n",
       "      <td>0.157080</td>\n",
       "      <td>0.102908</td>\n",
       "      <td>0.257891</td>\n",
       "      <td>0.197979</td>\n",
       "      <td>NaN</td>\n",
       "      <td>0.200895</td>\n",
       "      <td>0.157501</td>\n",
       "      <td>0.096866</td>\n",
       "      <td>...</td>\n",
       "      <td>-0.028493</td>\n",
       "      <td>-0.001407</td>\n",
       "      <td>NaN</td>\n",
       "      <td>0.364469</td>\n",
       "      <td>0.171673</td>\n",
       "      <td>0.217786</td>\n",
       "      <td>0.385103</td>\n",
       "      <td>0.478701</td>\n",
       "      <td>0.267670</td>\n",
       "      <td>-0.162399</td>\n",
       "    </tr>\n",
       "    <tr>\n",
       "      <th>mincost_1</th>\n",
       "      <td>0.010687</td>\n",
       "      <td>-0.124963</td>\n",
       "      <td>-0.079153</td>\n",
       "      <td>-0.081217</td>\n",
       "      <td>-0.080612</td>\n",
       "      <td>-0.083681</td>\n",
       "      <td>NaN</td>\n",
       "      <td>-0.039076</td>\n",
       "      <td>-0.076460</td>\n",
       "      <td>0.058474</td>\n",
       "      <td>...</td>\n",
       "      <td>-0.047162</td>\n",
       "      <td>-0.053884</td>\n",
       "      <td>NaN</td>\n",
       "      <td>-0.044883</td>\n",
       "      <td>0.010687</td>\n",
       "      <td>0.010098</td>\n",
       "      <td>-0.055144</td>\n",
       "      <td>-0.122145</td>\n",
       "      <td>-0.040623</td>\n",
       "      <td>-0.002854</td>\n",
       "    </tr>\n",
       "    <tr>\n",
       "      <th>maxcost_1</th>\n",
       "      <td>0.135382</td>\n",
       "      <td>0.166641</td>\n",
       "      <td>0.085712</td>\n",
       "      <td>0.028284</td>\n",
       "      <td>0.105811</td>\n",
       "      <td>0.049232</td>\n",
       "      <td>NaN</td>\n",
       "      <td>0.883005</td>\n",
       "      <td>0.067070</td>\n",
       "      <td>0.023086</td>\n",
       "      <td>...</td>\n",
       "      <td>0.055014</td>\n",
       "      <td>0.012299</td>\n",
       "      <td>NaN</td>\n",
       "      <td>0.887429</td>\n",
       "      <td>0.135382</td>\n",
       "      <td>0.135964</td>\n",
       "      <td>0.279168</td>\n",
       "      <td>0.193797</td>\n",
       "      <td>0.090098</td>\n",
       "      <td>-0.058373</td>\n",
       "    </tr>\n",
       "    <tr>\n",
       "      <th>avgcosttrnsact_1</th>\n",
       "      <td>0.112674</td>\n",
       "      <td>0.495172</td>\n",
       "      <td>0.335030</td>\n",
       "      <td>0.715287</td>\n",
       "      <td>0.358741</td>\n",
       "      <td>0.715508</td>\n",
       "      <td>NaN</td>\n",
       "      <td>0.099369</td>\n",
       "      <td>0.320927</td>\n",
       "      <td>-0.015549</td>\n",
       "      <td>...</td>\n",
       "      <td>0.163615</td>\n",
       "      <td>0.620490</td>\n",
       "      <td>NaN</td>\n",
       "      <td>0.225733</td>\n",
       "      <td>0.112674</td>\n",
       "      <td>0.133439</td>\n",
       "      <td>0.355665</td>\n",
       "      <td>0.449607</td>\n",
       "      <td>0.299814</td>\n",
       "      <td>-0.122462</td>\n",
       "    </tr>\n",
       "    <tr>\n",
       "      <th>totaldiscount_1</th>\n",
       "      <td>-0.288877</td>\n",
       "      <td>-0.371995</td>\n",
       "      <td>-0.155595</td>\n",
       "      <td>-0.041318</td>\n",
       "      <td>-0.111125</td>\n",
       "      <td>-0.023789</td>\n",
       "      <td>NaN</td>\n",
       "      <td>-0.109941</td>\n",
       "      <td>-0.398672</td>\n",
       "      <td>-0.417432</td>\n",
       "      <td>...</td>\n",
       "      <td>-0.601273</td>\n",
       "      <td>-0.308378</td>\n",
       "      <td>NaN</td>\n",
       "      <td>-0.230095</td>\n",
       "      <td>-0.288877</td>\n",
       "      <td>-0.313352</td>\n",
       "      <td>-0.638656</td>\n",
       "      <td>-0.499056</td>\n",
       "      <td>-0.379443</td>\n",
       "      <td>-0.246775</td>\n",
       "    </tr>\n",
       "    <tr>\n",
       "      <th>avgdiscounttrnsact_1</th>\n",
       "      <td>-0.201759</td>\n",
       "      <td>-0.224655</td>\n",
       "      <td>-0.016134</td>\n",
       "      <td>-0.388076</td>\n",
       "      <td>-0.000761</td>\n",
       "      <td>-0.351132</td>\n",
       "      <td>NaN</td>\n",
       "      <td>-0.074059</td>\n",
       "      <td>-0.190381</td>\n",
       "      <td>-0.353216</td>\n",
       "      <td>...</td>\n",
       "      <td>-0.360363</td>\n",
       "      <td>-0.654673</td>\n",
       "      <td>NaN</td>\n",
       "      <td>-0.186219</td>\n",
       "      <td>-0.201759</td>\n",
       "      <td>-0.230256</td>\n",
       "      <td>-0.548066</td>\n",
       "      <td>-0.305436</td>\n",
       "      <td>-0.187398</td>\n",
       "      <td>-0.161737</td>\n",
       "    </tr>\n",
       "    <tr>\n",
       "      <th>mindiscount_1</th>\n",
       "      <td>-0.033007</td>\n",
       "      <td>-0.042432</td>\n",
       "      <td>-0.034709</td>\n",
       "      <td>-0.060467</td>\n",
       "      <td>-0.018616</td>\n",
       "      <td>-0.042101</td>\n",
       "      <td>NaN</td>\n",
       "      <td>0.004329</td>\n",
       "      <td>-0.063755</td>\n",
       "      <td>-0.054007</td>\n",
       "      <td>...</td>\n",
       "      <td>-0.077168</td>\n",
       "      <td>-0.091729</td>\n",
       "      <td>NaN</td>\n",
       "      <td>-0.005028</td>\n",
       "      <td>-0.033007</td>\n",
       "      <td>-0.030477</td>\n",
       "      <td>0.007959</td>\n",
       "      <td>-0.039942</td>\n",
       "      <td>0.009885</td>\n",
       "      <td>-0.028081</td>\n",
       "    </tr>\n",
       "    <tr>\n",
       "      <th>maxdiscount_1</th>\n",
       "      <td>0.038366</td>\n",
       "      <td>0.379542</td>\n",
       "      <td>0.262567</td>\n",
       "      <td>0.165020</td>\n",
       "      <td>0.300875</td>\n",
       "      <td>0.209962</td>\n",
       "      <td>NaN</td>\n",
       "      <td>0.108009</td>\n",
       "      <td>0.170100</td>\n",
       "      <td>-0.224255</td>\n",
       "      <td>...</td>\n",
       "      <td>-0.025934</td>\n",
       "      <td>-0.038698</td>\n",
       "      <td>NaN</td>\n",
       "      <td>0.392871</td>\n",
       "      <td>0.038366</td>\n",
       "      <td>0.043317</td>\n",
       "      <td>0.193414</td>\n",
       "      <td>0.337386</td>\n",
       "      <td>0.261967</td>\n",
       "      <td>-0.151824</td>\n",
       "    </tr>\n",
       "    <tr>\n",
       "      <th>totalprofit_1</th>\n",
       "      <td>0.145522</td>\n",
       "      <td>0.326006</td>\n",
       "      <td>0.386390</td>\n",
       "      <td>0.114727</td>\n",
       "      <td>0.258677</td>\n",
       "      <td>0.048039</td>\n",
       "      <td>NaN</td>\n",
       "      <td>-0.000599</td>\n",
       "      <td>0.706486</td>\n",
       "      <td>0.440160</td>\n",
       "      <td>...</td>\n",
       "      <td>1.000000</td>\n",
       "      <td>0.465578</td>\n",
       "      <td>NaN</td>\n",
       "      <td>0.018942</td>\n",
       "      <td>0.145522</td>\n",
       "      <td>0.161279</td>\n",
       "      <td>0.261841</td>\n",
       "      <td>0.445715</td>\n",
       "      <td>0.426427</td>\n",
       "      <td>0.327705</td>\n",
       "    </tr>\n",
       "    <tr>\n",
       "      <th>avgprofittrnsact_1</th>\n",
       "      <td>-0.020581</td>\n",
       "      <td>0.064139</td>\n",
       "      <td>0.056911</td>\n",
       "      <td>0.694678</td>\n",
       "      <td>0.003331</td>\n",
       "      <td>0.600573</td>\n",
       "      <td>NaN</td>\n",
       "      <td>-0.011170</td>\n",
       "      <td>0.240001</td>\n",
       "      <td>0.312951</td>\n",
       "      <td>...</td>\n",
       "      <td>0.465578</td>\n",
       "      <td>1.000000</td>\n",
       "      <td>NaN</td>\n",
       "      <td>0.021148</td>\n",
       "      <td>-0.020581</td>\n",
       "      <td>0.001238</td>\n",
       "      <td>0.188687</td>\n",
       "      <td>0.087275</td>\n",
       "      <td>0.086086</td>\n",
       "      <td>0.183311</td>\n",
       "    </tr>\n",
       "    <tr>\n",
       "      <th>minprofit_1</th>\n",
       "      <td>NaN</td>\n",
       "      <td>NaN</td>\n",
       "      <td>NaN</td>\n",
       "      <td>NaN</td>\n",
       "      <td>NaN</td>\n",
       "      <td>NaN</td>\n",
       "      <td>NaN</td>\n",
       "      <td>NaN</td>\n",
       "      <td>NaN</td>\n",
       "      <td>NaN</td>\n",
       "      <td>...</td>\n",
       "      <td>NaN</td>\n",
       "      <td>NaN</td>\n",
       "      <td>NaN</td>\n",
       "      <td>NaN</td>\n",
       "      <td>NaN</td>\n",
       "      <td>NaN</td>\n",
       "      <td>NaN</td>\n",
       "      <td>NaN</td>\n",
       "      <td>NaN</td>\n",
       "      <td>NaN</td>\n",
       "    </tr>\n",
       "    <tr>\n",
       "      <th>maxprofit_1</th>\n",
       "      <td>0.138019</td>\n",
       "      <td>0.141148</td>\n",
       "      <td>0.034617</td>\n",
       "      <td>0.029332</td>\n",
       "      <td>0.060047</td>\n",
       "      <td>0.051829</td>\n",
       "      <td>NaN</td>\n",
       "      <td>0.800085</td>\n",
       "      <td>0.032668</td>\n",
       "      <td>0.059032</td>\n",
       "      <td>...</td>\n",
       "      <td>0.018942</td>\n",
       "      <td>0.021148</td>\n",
       "      <td>NaN</td>\n",
       "      <td>1.000000</td>\n",
       "      <td>0.138019</td>\n",
       "      <td>0.140631</td>\n",
       "      <td>0.247907</td>\n",
       "      <td>0.169147</td>\n",
       "      <td>0.065214</td>\n",
       "      <td>-0.041349</td>\n",
       "    </tr>\n",
       "    <tr>\n",
       "      <th>nstore_1</th>\n",
       "      <td>1.000000</td>\n",
       "      <td>0.055186</td>\n",
       "      <td>0.004705</td>\n",
       "      <td>-0.148440</td>\n",
       "      <td>-0.009854</td>\n",
       "      <td>-0.151775</td>\n",
       "      <td>NaN</td>\n",
       "      <td>0.008181</td>\n",
       "      <td>0.102500</td>\n",
       "      <td>0.269496</td>\n",
       "      <td>...</td>\n",
       "      <td>0.145522</td>\n",
       "      <td>-0.020581</td>\n",
       "      <td>NaN</td>\n",
       "      <td>0.138019</td>\n",
       "      <td>1.000000</td>\n",
       "      <td>0.986730</td>\n",
       "      <td>0.156067</td>\n",
       "      <td>0.192565</td>\n",
       "      <td>0.053648</td>\n",
       "      <td>0.028746</td>\n",
       "    </tr>\n",
       "    <tr>\n",
       "      <th>ncities_1</th>\n",
       "      <td>0.986730</td>\n",
       "      <td>0.051852</td>\n",
       "      <td>-0.013065</td>\n",
       "      <td>-0.154798</td>\n",
       "      <td>-0.021254</td>\n",
       "      <td>-0.154600</td>\n",
       "      <td>NaN</td>\n",
       "      <td>0.003178</td>\n",
       "      <td>0.101506</td>\n",
       "      <td>0.327651</td>\n",
       "      <td>...</td>\n",
       "      <td>0.161279</td>\n",
       "      <td>0.001238</td>\n",
       "      <td>NaN</td>\n",
       "      <td>0.140631</td>\n",
       "      <td>0.986730</td>\n",
       "      <td>1.000000</td>\n",
       "      <td>0.186377</td>\n",
       "      <td>0.195720</td>\n",
       "      <td>0.057117</td>\n",
       "      <td>0.036587</td>\n",
       "    </tr>\n",
       "    <tr>\n",
       "      <th>ndept_1</th>\n",
       "      <td>0.156067</td>\n",
       "      <td>0.115127</td>\n",
       "      <td>-0.005539</td>\n",
       "      <td>-0.042723</td>\n",
       "      <td>-0.016299</td>\n",
       "      <td>-0.053731</td>\n",
       "      <td>NaN</td>\n",
       "      <td>0.110636</td>\n",
       "      <td>0.054560</td>\n",
       "      <td>0.263335</td>\n",
       "      <td>...</td>\n",
       "      <td>0.261841</td>\n",
       "      <td>0.188687</td>\n",
       "      <td>NaN</td>\n",
       "      <td>0.247907</td>\n",
       "      <td>0.156067</td>\n",
       "      <td>0.186377</td>\n",
       "      <td>1.000000</td>\n",
       "      <td>0.239237</td>\n",
       "      <td>0.085789</td>\n",
       "      <td>0.092423</td>\n",
       "    </tr>\n",
       "    <tr>\n",
       "      <th>nvendors_1</th>\n",
       "      <td>0.192565</td>\n",
       "      <td>0.916194</td>\n",
       "      <td>0.813667</td>\n",
       "      <td>0.373409</td>\n",
       "      <td>0.815704</td>\n",
       "      <td>0.427067</td>\n",
       "      <td>NaN</td>\n",
       "      <td>0.124637</td>\n",
       "      <td>0.813445</td>\n",
       "      <td>-0.141494</td>\n",
       "      <td>...</td>\n",
       "      <td>0.445715</td>\n",
       "      <td>0.087275</td>\n",
       "      <td>NaN</td>\n",
       "      <td>0.169147</td>\n",
       "      <td>0.192565</td>\n",
       "      <td>0.195720</td>\n",
       "      <td>0.239237</td>\n",
       "      <td>1.000000</td>\n",
       "      <td>0.750177</td>\n",
       "      <td>-0.068060</td>\n",
       "    </tr>\n",
       "    <tr>\n",
       "      <th>avgvendorsstore_1</th>\n",
       "      <td>0.053648</td>\n",
       "      <td>0.743830</td>\n",
       "      <td>0.726200</td>\n",
       "      <td>0.306333</td>\n",
       "      <td>0.717549</td>\n",
       "      <td>0.338424</td>\n",
       "      <td>NaN</td>\n",
       "      <td>0.057635</td>\n",
       "      <td>0.742865</td>\n",
       "      <td>-0.118295</td>\n",
       "      <td>...</td>\n",
       "      <td>0.426427</td>\n",
       "      <td>0.086086</td>\n",
       "      <td>NaN</td>\n",
       "      <td>0.065214</td>\n",
       "      <td>0.053648</td>\n",
       "      <td>0.057117</td>\n",
       "      <td>0.085789</td>\n",
       "      <td>0.750177</td>\n",
       "      <td>1.000000</td>\n",
       "      <td>-0.068003</td>\n",
       "    </tr>\n",
       "    <tr>\n",
       "      <th>y</th>\n",
       "      <td>0.028746</td>\n",
       "      <td>-0.185123</td>\n",
       "      <td>-0.212607</td>\n",
       "      <td>-0.120772</td>\n",
       "      <td>-0.274732</td>\n",
       "      <td>-0.166363</td>\n",
       "      <td>NaN</td>\n",
       "      <td>-0.035271</td>\n",
       "      <td>0.027677</td>\n",
       "      <td>0.371958</td>\n",
       "      <td>...</td>\n",
       "      <td>0.327705</td>\n",
       "      <td>0.183311</td>\n",
       "      <td>NaN</td>\n",
       "      <td>-0.041349</td>\n",
       "      <td>0.028746</td>\n",
       "      <td>0.036587</td>\n",
       "      <td>0.092423</td>\n",
       "      <td>-0.068060</td>\n",
       "      <td>-0.068003</td>\n",
       "      <td>1.000000</td>\n",
       "    </tr>\n",
       "  </tbody>\n",
       "</table>\n",
       "<p>36 rows × 36 columns</p>\n",
       "</div>"
      ],
      "text/plain": [
       "                      nstores_1    nsku_1  totalquantity_1  avgquantity_1  \\\n",
       "nstores_1              1.000000  0.055186         0.004705      -0.148440   \n",
       "nsku_1                 0.055186  1.000000         0.894138       0.488733   \n",
       "totalquantity_1        0.004705  0.894138         1.000000       0.491492   \n",
       "avgquantity_1         -0.148440  0.488733         0.491492       1.000000   \n",
       "totalamt_1            -0.009854  0.914481         0.982145       0.502931   \n",
       "avgamt_1              -0.151775  0.553821         0.528415       0.984195   \n",
       "minamt_1                    NaN       NaN              NaN            NaN   \n",
       "maxamt_1               0.008181  0.107719         0.068057       0.044305   \n",
       "totalorigprice_1       0.102500  0.816460         0.880089       0.409696   \n",
       "avgorigprice_1         0.269496 -0.332144        -0.391341      -0.273018   \n",
       "minorigprice_1        -0.172624  0.028014         0.086766       0.089202   \n",
       "maxorigprice_1         0.078866  0.025466         0.010739       0.001625   \n",
       "totalretail_1          0.229147  0.785345         0.706693       0.299495   \n",
       "avgretail_1           -0.153381 -0.294896        -0.279527      -0.169845   \n",
       "minretail_1            0.033950 -0.125122        -0.066116      -0.060807   \n",
       "maxretail_1            0.148847  0.123995         0.023327       0.014797   \n",
       "avgretailtrnsact_1     0.086590  0.416361         0.282153       0.764268   \n",
       "totalcost_1            0.215711  0.794251         0.694367       0.306630   \n",
       "avgcost_1              0.171673  0.461710         0.157080       0.102908   \n",
       "mincost_1              0.010687 -0.124963        -0.079153      -0.081217   \n",
       "maxcost_1              0.135382  0.166641         0.085712       0.028284   \n",
       "avgcosttrnsact_1       0.112674  0.495172         0.335030       0.715287   \n",
       "totaldiscount_1       -0.288877 -0.371995        -0.155595      -0.041318   \n",
       "avgdiscounttrnsact_1  -0.201759 -0.224655        -0.016134      -0.388076   \n",
       "mindiscount_1         -0.033007 -0.042432        -0.034709      -0.060467   \n",
       "maxdiscount_1          0.038366  0.379542         0.262567       0.165020   \n",
       "totalprofit_1          0.145522  0.326006         0.386390       0.114727   \n",
       "avgprofittrnsact_1    -0.020581  0.064139         0.056911       0.694678   \n",
       "minprofit_1                 NaN       NaN              NaN            NaN   \n",
       "maxprofit_1            0.138019  0.141148         0.034617       0.029332   \n",
       "nstore_1               1.000000  0.055186         0.004705      -0.148440   \n",
       "ncities_1              0.986730  0.051852        -0.013065      -0.154798   \n",
       "ndept_1                0.156067  0.115127        -0.005539      -0.042723   \n",
       "nvendors_1             0.192565  0.916194         0.813667       0.373409   \n",
       "avgvendorsstore_1      0.053648  0.743830         0.726200       0.306333   \n",
       "y                      0.028746 -0.185123        -0.212607      -0.120772   \n",
       "\n",
       "                      totalamt_1  avgamt_1  minamt_1  maxamt_1  \\\n",
       "nstores_1              -0.009854 -0.151775       NaN  0.008181   \n",
       "nsku_1                  0.914481  0.553821       NaN  0.107719   \n",
       "totalquantity_1         0.982145  0.528415       NaN  0.068057   \n",
       "avgquantity_1           0.502931  0.984195       NaN  0.044305   \n",
       "totalamt_1              1.000000  0.565743       NaN  0.091277   \n",
       "avgamt_1                0.565743  1.000000       NaN  0.066178   \n",
       "minamt_1                     NaN       NaN       NaN       NaN   \n",
       "maxamt_1                0.091277  0.066178       NaN  1.000000   \n",
       "totalorigprice_1        0.819632  0.413092       NaN  0.048866   \n",
       "avgorigprice_1         -0.434897 -0.324594       NaN  0.002601   \n",
       "minorigprice_1          0.118685  0.117708       NaN -0.038497   \n",
       "maxorigprice_1          0.002986 -0.010030       NaN  0.701513   \n",
       "totalretail_1           0.681203  0.318637       NaN  0.121611   \n",
       "avgretail_1            -0.259858 -0.160264       NaN -0.021652   \n",
       "minretail_1            -0.070523 -0.066952       NaN -0.076787   \n",
       "maxretail_1             0.044865  0.034418       NaN  0.833883   \n",
       "avgretailtrnsact_1      0.286499  0.738938       NaN  0.077341   \n",
       "totalcost_1             0.701552  0.346949       NaN  0.136627   \n",
       "avgcost_1               0.257891  0.197979       NaN  0.200895   \n",
       "mincost_1              -0.080612 -0.083681       NaN -0.039076   \n",
       "maxcost_1               0.105811  0.049232       NaN  0.883005   \n",
       "avgcosttrnsact_1        0.358741  0.715508       NaN  0.099369   \n",
       "totaldiscount_1        -0.111125 -0.023789       NaN -0.109941   \n",
       "avgdiscounttrnsact_1   -0.000761 -0.351132       NaN -0.074059   \n",
       "mindiscount_1          -0.018616 -0.042101       NaN  0.004329   \n",
       "maxdiscount_1           0.300875  0.209962       NaN  0.108009   \n",
       "totalprofit_1           0.258677  0.048039       NaN -0.000599   \n",
       "avgprofittrnsact_1      0.003331  0.600573       NaN -0.011170   \n",
       "minprofit_1                  NaN       NaN       NaN       NaN   \n",
       "maxprofit_1             0.060047  0.051829       NaN  0.800085   \n",
       "nstore_1               -0.009854 -0.151775       NaN  0.008181   \n",
       "ncities_1              -0.021254 -0.154600       NaN  0.003178   \n",
       "ndept_1                -0.016299 -0.053731       NaN  0.110636   \n",
       "nvendors_1              0.815704  0.427067       NaN  0.124637   \n",
       "avgvendorsstore_1       0.717549  0.338424       NaN  0.057635   \n",
       "y                      -0.274732 -0.166363       NaN -0.035271   \n",
       "\n",
       "                      totalorigprice_1  avgorigprice_1  ...  totalprofit_1  \\\n",
       "nstores_1                     0.102500        0.269496  ...       0.145522   \n",
       "nsku_1                        0.816460       -0.332144  ...       0.326006   \n",
       "totalquantity_1               0.880089       -0.391341  ...       0.386390   \n",
       "avgquantity_1                 0.409696       -0.273018  ...       0.114727   \n",
       "totalamt_1                    0.819632       -0.434897  ...       0.258677   \n",
       "avgamt_1                      0.413092       -0.324594  ...       0.048039   \n",
       "minamt_1                           NaN             NaN  ...            NaN   \n",
       "maxamt_1                      0.048866        0.002601  ...      -0.000599   \n",
       "totalorigprice_1              1.000000        0.019255  ...       0.706486   \n",
       "avgorigprice_1                0.019255        1.000000  ...       0.440160   \n",
       "minorigprice_1               -0.005865       -0.325408  ...      -0.358414   \n",
       "maxorigprice_1                0.056251        0.155302  ...       0.105989   \n",
       "totalretail_1                 0.742863        0.023055  ...       0.548995   \n",
       "avgretail_1                  -0.060327        0.512212  ...       0.207125   \n",
       "minretail_1                  -0.048342        0.088504  ...      -0.020377   \n",
       "maxretail_1                   0.027824        0.083035  ...       0.040161   \n",
       "avgretailtrnsact_1            0.322995        0.074890  ...       0.259496   \n",
       "totalcost_1                   0.641810       -0.100853  ...       0.338507   \n",
       "avgcost_1                     0.157501        0.096866  ...      -0.028493   \n",
       "mincost_1                    -0.076460        0.058474  ...      -0.047162   \n",
       "maxcost_1                     0.067070        0.023086  ...       0.055014   \n",
       "avgcosttrnsact_1              0.320927       -0.015549  ...       0.163615   \n",
       "totaldiscount_1              -0.398672       -0.417432  ...      -0.601273   \n",
       "avgdiscounttrnsact_1         -0.190381       -0.353216  ...      -0.360363   \n",
       "mindiscount_1                -0.063755       -0.054007  ...      -0.077168   \n",
       "maxdiscount_1                 0.170100       -0.224255  ...      -0.025934   \n",
       "totalprofit_1                 0.706486        0.440160  ...       1.000000   \n",
       "avgprofittrnsact_1            0.240001        0.312951  ...       0.465578   \n",
       "minprofit_1                        NaN             NaN  ...            NaN   \n",
       "maxprofit_1                   0.032668        0.059032  ...       0.018942   \n",
       "nstore_1                      0.102500        0.269496  ...       0.145522   \n",
       "ncities_1                     0.101506        0.327651  ...       0.161279   \n",
       "ndept_1                       0.054560        0.263335  ...       0.261841   \n",
       "nvendors_1                    0.813445       -0.141494  ...       0.445715   \n",
       "avgvendorsstore_1             0.742865       -0.118295  ...       0.426427   \n",
       "y                             0.027677        0.371958  ...       0.327705   \n",
       "\n",
       "                      avgprofittrnsact_1  minprofit_1  maxprofit_1  nstore_1  \\\n",
       "nstores_1                      -0.020581          NaN     0.138019  1.000000   \n",
       "nsku_1                          0.064139          NaN     0.141148  0.055186   \n",
       "totalquantity_1                 0.056911          NaN     0.034617  0.004705   \n",
       "avgquantity_1                   0.694678          NaN     0.029332 -0.148440   \n",
       "totalamt_1                      0.003331          NaN     0.060047 -0.009854   \n",
       "avgamt_1                        0.600573          NaN     0.051829 -0.151775   \n",
       "minamt_1                             NaN          NaN          NaN       NaN   \n",
       "maxamt_1                       -0.011170          NaN     0.800085  0.008181   \n",
       "totalorigprice_1                0.240001          NaN     0.032668  0.102500   \n",
       "avgorigprice_1                  0.312951          NaN     0.059032  0.269496   \n",
       "minorigprice_1                 -0.250213          NaN    -0.131965 -0.172624   \n",
       "maxorigprice_1                  0.075275          NaN     0.636442  0.078866   \n",
       "totalretail_1                   0.198801          NaN     0.233997  0.229147   \n",
       "avgretail_1                     0.162056          NaN    -0.077036 -0.153381   \n",
       "minretail_1                    -0.024651          NaN    -0.088409  0.033950   \n",
       "maxretail_1                     0.028929          NaN     0.980765  0.148847   \n",
       "avgretailtrnsact_1              0.772203          NaN     0.189017  0.086590   \n",
       "totalcost_1                     0.092555          NaN     0.255997  0.215711   \n",
       "avgcost_1                      -0.001407          NaN     0.364469  0.171673   \n",
       "mincost_1                      -0.053884          NaN    -0.044883  0.010687   \n",
       "maxcost_1                       0.012299          NaN     0.887429  0.135382   \n",
       "avgcosttrnsact_1                0.620490          NaN     0.225733  0.112674   \n",
       "totaldiscount_1                -0.308378          NaN    -0.230095 -0.288877   \n",
       "avgdiscounttrnsact_1           -0.654673          NaN    -0.186219 -0.201759   \n",
       "mindiscount_1                  -0.091729          NaN    -0.005028 -0.033007   \n",
       "maxdiscount_1                  -0.038698          NaN     0.392871  0.038366   \n",
       "totalprofit_1                   0.465578          NaN     0.018942  0.145522   \n",
       "avgprofittrnsact_1              1.000000          NaN     0.021148 -0.020581   \n",
       "minprofit_1                          NaN          NaN          NaN       NaN   \n",
       "maxprofit_1                     0.021148          NaN     1.000000  0.138019   \n",
       "nstore_1                       -0.020581          NaN     0.138019  1.000000   \n",
       "ncities_1                       0.001238          NaN     0.140631  0.986730   \n",
       "ndept_1                         0.188687          NaN     0.247907  0.156067   \n",
       "nvendors_1                      0.087275          NaN     0.169147  0.192565   \n",
       "avgvendorsstore_1               0.086086          NaN     0.065214  0.053648   \n",
       "y                               0.183311          NaN    -0.041349  0.028746   \n",
       "\n",
       "                      ncities_1   ndept_1  nvendors_1  avgvendorsstore_1  \\\n",
       "nstores_1              0.986730  0.156067    0.192565           0.053648   \n",
       "nsku_1                 0.051852  0.115127    0.916194           0.743830   \n",
       "totalquantity_1       -0.013065 -0.005539    0.813667           0.726200   \n",
       "avgquantity_1         -0.154798 -0.042723    0.373409           0.306333   \n",
       "totalamt_1            -0.021254 -0.016299    0.815704           0.717549   \n",
       "avgamt_1              -0.154600 -0.053731    0.427067           0.338424   \n",
       "minamt_1                    NaN       NaN         NaN                NaN   \n",
       "maxamt_1               0.003178  0.110636    0.124637           0.057635   \n",
       "totalorigprice_1       0.101506  0.054560    0.813445           0.742865   \n",
       "avgorigprice_1         0.327651  0.263335   -0.141494          -0.118295   \n",
       "minorigprice_1        -0.247129 -0.666196   -0.130780          -0.016204   \n",
       "maxorigprice_1         0.081213  0.134480    0.080485           0.009266   \n",
       "totalretail_1          0.246831  0.454914    0.790239           0.644623   \n",
       "avgretail_1           -0.111645 -0.079594   -0.264284          -0.121405   \n",
       "minretail_1            0.032586 -0.130018   -0.154421          -0.050475   \n",
       "maxretail_1            0.153968  0.270760    0.167678           0.058444   \n",
       "avgretailtrnsact_1     0.109302  0.341501    0.386805           0.264388   \n",
       "totalcost_1            0.231121  0.432059    0.765080           0.608304   \n",
       "avgcost_1              0.217786  0.385103    0.478701           0.267670   \n",
       "mincost_1              0.010098 -0.055144   -0.122145          -0.040623   \n",
       "maxcost_1              0.135964  0.279168    0.193797           0.090098   \n",
       "avgcosttrnsact_1       0.133439  0.355665    0.449607           0.299814   \n",
       "totaldiscount_1       -0.313352 -0.638656   -0.499056          -0.379443   \n",
       "avgdiscounttrnsact_1  -0.230256 -0.548066   -0.305436          -0.187398   \n",
       "mindiscount_1         -0.030477  0.007959   -0.039942           0.009885   \n",
       "maxdiscount_1          0.043317  0.193414    0.337386           0.261967   \n",
       "totalprofit_1          0.161279  0.261841    0.445715           0.426427   \n",
       "avgprofittrnsact_1     0.001238  0.188687    0.087275           0.086086   \n",
       "minprofit_1                 NaN       NaN         NaN                NaN   \n",
       "maxprofit_1            0.140631  0.247907    0.169147           0.065214   \n",
       "nstore_1               0.986730  0.156067    0.192565           0.053648   \n",
       "ncities_1              1.000000  0.186377    0.195720           0.057117   \n",
       "ndept_1                0.186377  1.000000    0.239237           0.085789   \n",
       "nvendors_1             0.195720  0.239237    1.000000           0.750177   \n",
       "avgvendorsstore_1      0.057117  0.085789    0.750177           1.000000   \n",
       "y                      0.036587  0.092423   -0.068060          -0.068003   \n",
       "\n",
       "                             y  \n",
       "nstores_1             0.028746  \n",
       "nsku_1               -0.185123  \n",
       "totalquantity_1      -0.212607  \n",
       "avgquantity_1        -0.120772  \n",
       "totalamt_1           -0.274732  \n",
       "avgamt_1             -0.166363  \n",
       "minamt_1                   NaN  \n",
       "maxamt_1             -0.035271  \n",
       "totalorigprice_1      0.027677  \n",
       "avgorigprice_1        0.371958  \n",
       "minorigprice_1       -0.155767  \n",
       "maxorigprice_1        0.016693  \n",
       "totalretail_1        -0.100485  \n",
       "avgretail_1           0.271909  \n",
       "minretail_1          -0.001233  \n",
       "maxretail_1          -0.041206  \n",
       "avgretailtrnsact_1   -0.038283  \n",
       "totalcost_1          -0.225033  \n",
       "avgcost_1            -0.162399  \n",
       "mincost_1            -0.002854  \n",
       "maxcost_1            -0.058373  \n",
       "avgcosttrnsact_1     -0.122462  \n",
       "totaldiscount_1      -0.246775  \n",
       "avgdiscounttrnsact_1 -0.161737  \n",
       "mindiscount_1        -0.028081  \n",
       "maxdiscount_1        -0.151824  \n",
       "totalprofit_1         0.327705  \n",
       "avgprofittrnsact_1    0.183311  \n",
       "minprofit_1                NaN  \n",
       "maxprofit_1          -0.041349  \n",
       "nstore_1              0.028746  \n",
       "ncities_1             0.036587  \n",
       "ndept_1               0.092423  \n",
       "nvendors_1           -0.068060  \n",
       "avgvendorsstore_1    -0.068003  \n",
       "y                     1.000000  \n",
       "\n",
       "[36 rows x 36 columns]"
      ]
     },
     "execution_count": 38,
     "metadata": {},
     "output_type": "execute_result"
    }
   ],
   "source": [
    "df_train_part = df_train[lag1_features]\n",
    "df_train_part['y'] = df_train['y']\n",
    "df_train_part.corr()"
   ]
  },
  {
   "cell_type": "code",
   "execution_count": 87,
   "id": "af20011f",
   "metadata": {
    "scrolled": false
   },
   "outputs": [
    {
     "name": "stderr",
     "output_type": "stream",
     "text": [
      "19:40:25 - cmdstanpy - INFO - Chain [1] start processing\n",
      "19:40:25 - cmdstanpy - INFO - Chain [1] done processing\n"
     ]
    }
   ],
   "source": [
    "dict_param = {  \n",
    "    'changepoint_prior_scale': 0.5,\n",
    "    'seasonality_prior_scale': 10.0,\n",
    "    'holidays_prior_scale': 10.0,\n",
    "    'changepoint_range':0.8\n",
    "}\n",
    "\n",
    "def modeling(df_train,dict_param):\n",
    "    \n",
    "    #add seasonality\n",
    "    '''\n",
    "        We drop the yearly seasonality since the training dataset is less than one year and we add quarterly, montly seasonality instead.\n",
    "    '''\n",
    "    m = Prophet(yearly_seasonality = False,growth = 'flat',**dict_param)\n",
    "    #m.add_seasonality(name=\"quarterly\", period=90, fourier_order = 10)\n",
    "    m.add_seasonality(name='monthly', period=30, fourier_order=5) \n",
    "\n",
    "    #add holiday\n",
    "    m.add_country_holidays(country_name='US')\n",
    "\n",
    "    #add additional features\n",
    "    feature_list = ['nsku',\n",
    "                    'avgprofittrnsact',\n",
    "                    'totalamt',\n",
    "                    'avgorigprice',\n",
    "                    'totalquantity']\n",
    "    for feature in feature_list:\n",
    "        m.add_regressor(feature+'_1',standardize = \"auto\")\n",
    "\n",
    "    m.fit(df_train)\n",
    "    \n",
    "    return m\n",
    "\n",
    "m = modeling(df_train,dict_param)"
   ]
  },
  {
   "cell_type": "code",
   "execution_count": 88,
   "id": "a22e9c06",
   "metadata": {},
   "outputs": [
    {
     "data": {
      "text/html": [
       "<div>\n",
       "<style scoped>\n",
       "    .dataframe tbody tr th:only-of-type {\n",
       "        vertical-align: middle;\n",
       "    }\n",
       "\n",
       "    .dataframe tbody tr th {\n",
       "        vertical-align: top;\n",
       "    }\n",
       "\n",
       "    .dataframe thead th {\n",
       "        text-align: right;\n",
       "    }\n",
       "</style>\n",
       "<table border=\"1\" class=\"dataframe\">\n",
       "  <thead>\n",
       "    <tr style=\"text-align: right;\">\n",
       "      <th></th>\n",
       "      <th>regressor</th>\n",
       "      <th>regressor_mode</th>\n",
       "      <th>center</th>\n",
       "      <th>coef_lower</th>\n",
       "      <th>coef</th>\n",
       "      <th>coef_upper</th>\n",
       "    </tr>\n",
       "  </thead>\n",
       "  <tbody>\n",
       "    <tr>\n",
       "      <th>0</th>\n",
       "      <td>nsku_1</td>\n",
       "      <td>additive</td>\n",
       "      <td>8.505259e+04</td>\n",
       "      <td>1.199974e-05</td>\n",
       "      <td>1.199974e-05</td>\n",
       "      <td>1.199974e-05</td>\n",
       "    </tr>\n",
       "    <tr>\n",
       "      <th>1</th>\n",
       "      <td>avgprofittrnsact_1</td>\n",
       "      <td>additive</td>\n",
       "      <td>1.097601e+03</td>\n",
       "      <td>2.159214e-04</td>\n",
       "      <td>2.159214e-04</td>\n",
       "      <td>2.159214e-04</td>\n",
       "    </tr>\n",
       "    <tr>\n",
       "      <th>2</th>\n",
       "      <td>totalamt_1</td>\n",
       "      <td>additive</td>\n",
       "      <td>1.015165e+07</td>\n",
       "      <td>-4.036037e-07</td>\n",
       "      <td>-4.036037e-07</td>\n",
       "      <td>-4.036037e-07</td>\n",
       "    </tr>\n",
       "    <tr>\n",
       "      <th>3</th>\n",
       "      <td>avgorigprice_1</td>\n",
       "      <td>additive</td>\n",
       "      <td>2.485654e+01</td>\n",
       "      <td>8.676001e-02</td>\n",
       "      <td>8.676001e-02</td>\n",
       "      <td>8.676001e-02</td>\n",
       "    </tr>\n",
       "    <tr>\n",
       "      <th>4</th>\n",
       "      <td>totalquantity_1</td>\n",
       "      <td>additive</td>\n",
       "      <td>2.831029e+05</td>\n",
       "      <td>1.257880e-05</td>\n",
       "      <td>1.257880e-05</td>\n",
       "      <td>1.257880e-05</td>\n",
       "    </tr>\n",
       "  </tbody>\n",
       "</table>\n",
       "</div>"
      ],
      "text/plain": [
       "            regressor regressor_mode        center    coef_lower  \\\n",
       "0              nsku_1       additive  8.505259e+04  1.199974e-05   \n",
       "1  avgprofittrnsact_1       additive  1.097601e+03  2.159214e-04   \n",
       "2          totalamt_1       additive  1.015165e+07 -4.036037e-07   \n",
       "3      avgorigprice_1       additive  2.485654e+01  8.676001e-02   \n",
       "4     totalquantity_1       additive  2.831029e+05  1.257880e-05   \n",
       "\n",
       "           coef    coef_upper  \n",
       "0  1.199974e-05  1.199974e-05  \n",
       "1  2.159214e-04  2.159214e-04  \n",
       "2 -4.036037e-07 -4.036037e-07  \n",
       "3  8.676001e-02  8.676001e-02  \n",
       "4  1.257880e-05  1.257880e-05  "
      ]
     },
     "execution_count": 88,
     "metadata": {},
     "output_type": "execute_result"
    }
   ],
   "source": [
    "#check the influence of regressors to y\n",
    "regressor_coefficients(m)"
   ]
  },
  {
   "cell_type": "markdown",
   "id": "ffb21475",
   "metadata": {},
   "source": [
    "### Model tuning"
   ]
  },
  {
   "cell_type": "code",
   "execution_count": 89,
   "id": "fa52f705",
   "metadata": {},
   "outputs": [
    {
     "name": "stderr",
     "output_type": "stream",
     "text": [
      "19:40:27 - cmdstanpy - INFO - Chain [1] start processing\n",
      "19:40:27 - cmdstanpy - INFO - Chain [1] done processing\n"
     ]
    },
    {
     "data": {
      "application/vnd.jupyter.widget-view+json": {
       "model_id": "7b1c83cdbe884b01aab3f0817c76c2ac",
       "version_major": 2,
       "version_minor": 0
      },
      "text/plain": [
       "  0%|          | 0/6 [00:00<?, ?it/s]"
      ]
     },
     "metadata": {},
     "output_type": "display_data"
    },
    {
     "name": "stderr",
     "output_type": "stream",
     "text": [
      "19:40:27 - cmdstanpy - INFO - Chain [1] start processing\n",
      "19:40:27 - cmdstanpy - INFO - Chain [1] done processing\n",
      "19:40:27 - cmdstanpy - INFO - Chain [1] start processing\n",
      "19:40:28 - cmdstanpy - INFO - Chain [1] done processing\n",
      "19:40:28 - cmdstanpy - INFO - Chain [1] start processing\n",
      "19:40:28 - cmdstanpy - INFO - Chain [1] done processing\n",
      "19:40:28 - cmdstanpy - INFO - Chain [1] start processing\n",
      "19:40:28 - cmdstanpy - INFO - Chain [1] done processing\n",
      "19:40:28 - cmdstanpy - INFO - Chain [1] start processing\n",
      "19:40:29 - cmdstanpy - INFO - Chain [1] done processing\n",
      "19:40:29 - cmdstanpy - INFO - Chain [1] start processing\n",
      "19:40:29 - cmdstanpy - INFO - Chain [1] done processing\n",
      "19:40:29 - cmdstanpy - INFO - Chain [1] start processing\n",
      "19:40:29 - cmdstanpy - INFO - Chain [1] done processing\n"
     ]
    },
    {
     "data": {
      "application/vnd.jupyter.widget-view+json": {
       "model_id": "98ecb172a1664ee89d5126fa7dc36d62",
       "version_major": 2,
       "version_minor": 0
      },
      "text/plain": [
       "  0%|          | 0/6 [00:00<?, ?it/s]"
      ]
     },
     "metadata": {},
     "output_type": "display_data"
    },
    {
     "name": "stderr",
     "output_type": "stream",
     "text": [
      "19:40:29 - cmdstanpy - INFO - Chain [1] start processing\n",
      "19:40:29 - cmdstanpy - INFO - Chain [1] done processing\n",
      "19:40:30 - cmdstanpy - INFO - Chain [1] start processing\n",
      "19:40:30 - cmdstanpy - INFO - Chain [1] done processing\n",
      "19:40:30 - cmdstanpy - INFO - Chain [1] start processing\n",
      "19:40:30 - cmdstanpy - INFO - Chain [1] done processing\n",
      "19:40:30 - cmdstanpy - INFO - Chain [1] start processing\n",
      "19:40:30 - cmdstanpy - INFO - Chain [1] done processing\n",
      "19:40:31 - cmdstanpy - INFO - Chain [1] start processing\n",
      "19:40:31 - cmdstanpy - INFO - Chain [1] done processing\n",
      "19:40:31 - cmdstanpy - INFO - Chain [1] start processing\n",
      "19:40:31 - cmdstanpy - INFO - Chain [1] done processing\n",
      "19:40:31 - cmdstanpy - INFO - Chain [1] start processing\n",
      "19:40:31 - cmdstanpy - INFO - Chain [1] done processing\n"
     ]
    },
    {
     "data": {
      "application/vnd.jupyter.widget-view+json": {
       "model_id": "e45ef82160fe41719f1161a2232e7438",
       "version_major": 2,
       "version_minor": 0
      },
      "text/plain": [
       "  0%|          | 0/6 [00:00<?, ?it/s]"
      ]
     },
     "metadata": {},
     "output_type": "display_data"
    },
    {
     "name": "stderr",
     "output_type": "stream",
     "text": [
      "19:40:31 - cmdstanpy - INFO - Chain [1] start processing\n",
      "19:40:32 - cmdstanpy - INFO - Chain [1] done processing\n",
      "19:40:32 - cmdstanpy - INFO - Chain [1] start processing\n",
      "19:40:32 - cmdstanpy - INFO - Chain [1] done processing\n",
      "19:40:32 - cmdstanpy - INFO - Chain [1] start processing\n",
      "19:40:32 - cmdstanpy - INFO - Chain [1] done processing\n",
      "19:40:32 - cmdstanpy - INFO - Chain [1] start processing\n",
      "19:40:33 - cmdstanpy - INFO - Chain [1] done processing\n",
      "19:40:33 - cmdstanpy - INFO - Chain [1] start processing\n",
      "19:40:33 - cmdstanpy - INFO - Chain [1] done processing\n",
      "19:40:33 - cmdstanpy - INFO - Chain [1] start processing\n",
      "19:40:33 - cmdstanpy - INFO - Chain [1] done processing\n",
      "19:40:33 - cmdstanpy - INFO - Chain [1] start processing\n",
      "19:40:34 - cmdstanpy - INFO - Chain [1] done processing\n"
     ]
    },
    {
     "data": {
      "application/vnd.jupyter.widget-view+json": {
       "model_id": "fd9ee55502d047c58dfa82a76f542901",
       "version_major": 2,
       "version_minor": 0
      },
      "text/plain": [
       "  0%|          | 0/6 [00:00<?, ?it/s]"
      ]
     },
     "metadata": {},
     "output_type": "display_data"
    },
    {
     "name": "stderr",
     "output_type": "stream",
     "text": [
      "19:40:34 - cmdstanpy - INFO - Chain [1] start processing\n",
      "19:40:34 - cmdstanpy - INFO - Chain [1] done processing\n",
      "19:40:34 - cmdstanpy - INFO - Chain [1] start processing\n",
      "19:40:34 - cmdstanpy - INFO - Chain [1] done processing\n",
      "19:40:34 - cmdstanpy - INFO - Chain [1] start processing\n",
      "19:40:34 - cmdstanpy - INFO - Chain [1] done processing\n",
      "19:40:34 - cmdstanpy - INFO - Chain [1] start processing\n",
      "19:40:35 - cmdstanpy - INFO - Chain [1] done processing\n",
      "19:40:35 - cmdstanpy - INFO - Chain [1] start processing\n",
      "19:40:35 - cmdstanpy - INFO - Chain [1] done processing\n",
      "19:40:35 - cmdstanpy - INFO - Chain [1] start processing\n",
      "19:40:35 - cmdstanpy - INFO - Chain [1] done processing\n",
      "19:40:36 - cmdstanpy - INFO - Chain [1] start processing\n",
      "19:40:36 - cmdstanpy - INFO - Chain [1] done processing\n"
     ]
    },
    {
     "data": {
      "application/vnd.jupyter.widget-view+json": {
       "model_id": "82ef4d1c492c4d9ab46ab8c00e8824a5",
       "version_major": 2,
       "version_minor": 0
      },
      "text/plain": [
       "  0%|          | 0/6 [00:00<?, ?it/s]"
      ]
     },
     "metadata": {},
     "output_type": "display_data"
    },
    {
     "name": "stderr",
     "output_type": "stream",
     "text": [
      "19:40:36 - cmdstanpy - INFO - Chain [1] start processing\n",
      "19:40:36 - cmdstanpy - INFO - Chain [1] done processing\n",
      "19:40:36 - cmdstanpy - INFO - Chain [1] start processing\n",
      "19:40:36 - cmdstanpy - INFO - Chain [1] done processing\n",
      "19:40:36 - cmdstanpy - INFO - Chain [1] start processing\n",
      "19:40:36 - cmdstanpy - INFO - Chain [1] done processing\n",
      "19:40:37 - cmdstanpy - INFO - Chain [1] start processing\n",
      "19:40:37 - cmdstanpy - INFO - Chain [1] done processing\n",
      "19:40:37 - cmdstanpy - INFO - Chain [1] start processing\n",
      "19:40:37 - cmdstanpy - INFO - Chain [1] done processing\n",
      "19:40:37 - cmdstanpy - INFO - Chain [1] start processing\n",
      "19:40:37 - cmdstanpy - INFO - Chain [1] done processing\n",
      "19:40:38 - cmdstanpy - INFO - Chain [1] start processing\n",
      "19:40:38 - cmdstanpy - INFO - Chain [1] done processing\n"
     ]
    },
    {
     "data": {
      "application/vnd.jupyter.widget-view+json": {
       "model_id": "c5cdc78bb3314385a1289289ab15a34f",
       "version_major": 2,
       "version_minor": 0
      },
      "text/plain": [
       "  0%|          | 0/6 [00:00<?, ?it/s]"
      ]
     },
     "metadata": {},
     "output_type": "display_data"
    },
    {
     "name": "stderr",
     "output_type": "stream",
     "text": [
      "19:40:38 - cmdstanpy - INFO - Chain [1] start processing\n",
      "19:40:38 - cmdstanpy - INFO - Chain [1] done processing\n",
      "19:40:38 - cmdstanpy - INFO - Chain [1] start processing\n",
      "19:40:38 - cmdstanpy - INFO - Chain [1] done processing\n",
      "19:40:38 - cmdstanpy - INFO - Chain [1] start processing\n",
      "19:40:38 - cmdstanpy - INFO - Chain [1] done processing\n",
      "19:40:39 - cmdstanpy - INFO - Chain [1] start processing\n",
      "19:40:39 - cmdstanpy - INFO - Chain [1] done processing\n",
      "19:40:39 - cmdstanpy - INFO - Chain [1] start processing\n",
      "19:40:39 - cmdstanpy - INFO - Chain [1] done processing\n",
      "19:40:39 - cmdstanpy - INFO - Chain [1] start processing\n",
      "19:40:39 - cmdstanpy - INFO - Chain [1] done processing\n",
      "19:40:40 - cmdstanpy - INFO - Chain [1] start processing\n",
      "19:40:40 - cmdstanpy - INFO - Chain [1] done processing\n"
     ]
    },
    {
     "data": {
      "application/vnd.jupyter.widget-view+json": {
       "model_id": "f66dedb75b014208bcc7d98901b8204f",
       "version_major": 2,
       "version_minor": 0
      },
      "text/plain": [
       "  0%|          | 0/6 [00:00<?, ?it/s]"
      ]
     },
     "metadata": {},
     "output_type": "display_data"
    },
    {
     "name": "stderr",
     "output_type": "stream",
     "text": [
      "19:40:40 - cmdstanpy - INFO - Chain [1] start processing\n",
      "19:40:40 - cmdstanpy - INFO - Chain [1] done processing\n",
      "19:40:40 - cmdstanpy - INFO - Chain [1] start processing\n",
      "19:40:40 - cmdstanpy - INFO - Chain [1] done processing\n",
      "19:40:40 - cmdstanpy - INFO - Chain [1] start processing\n",
      "19:40:41 - cmdstanpy - INFO - Chain [1] done processing\n",
      "19:40:41 - cmdstanpy - INFO - Chain [1] start processing\n",
      "19:40:41 - cmdstanpy - INFO - Chain [1] done processing\n",
      "19:40:41 - cmdstanpy - INFO - Chain [1] start processing\n",
      "19:40:41 - cmdstanpy - INFO - Chain [1] done processing\n",
      "19:40:41 - cmdstanpy - INFO - Chain [1] start processing\n",
      "19:40:41 - cmdstanpy - INFO - Chain [1] done processing\n",
      "19:40:42 - cmdstanpy - INFO - Chain [1] start processing\n",
      "19:40:42 - cmdstanpy - INFO - Chain [1] done processing\n"
     ]
    },
    {
     "data": {
      "application/vnd.jupyter.widget-view+json": {
       "model_id": "1ab5f86a63c84387a6b4d2584859a271",
       "version_major": 2,
       "version_minor": 0
      },
      "text/plain": [
       "  0%|          | 0/6 [00:00<?, ?it/s]"
      ]
     },
     "metadata": {},
     "output_type": "display_data"
    },
    {
     "name": "stderr",
     "output_type": "stream",
     "text": [
      "19:40:42 - cmdstanpy - INFO - Chain [1] start processing\n",
      "19:40:42 - cmdstanpy - INFO - Chain [1] done processing\n",
      "19:40:42 - cmdstanpy - INFO - Chain [1] start processing\n",
      "19:40:42 - cmdstanpy - INFO - Chain [1] done processing\n",
      "19:40:43 - cmdstanpy - INFO - Chain [1] start processing\n",
      "19:40:43 - cmdstanpy - INFO - Chain [1] done processing\n",
      "19:40:43 - cmdstanpy - INFO - Chain [1] start processing\n",
      "19:40:43 - cmdstanpy - INFO - Chain [1] done processing\n",
      "19:40:43 - cmdstanpy - INFO - Chain [1] start processing\n",
      "19:40:43 - cmdstanpy - INFO - Chain [1] done processing\n",
      "19:40:44 - cmdstanpy - INFO - Chain [1] start processing\n",
      "19:40:44 - cmdstanpy - INFO - Chain [1] done processing\n",
      "19:40:44 - cmdstanpy - INFO - Chain [1] start processing\n",
      "19:40:44 - cmdstanpy - INFO - Chain [1] done processing\n"
     ]
    },
    {
     "data": {
      "application/vnd.jupyter.widget-view+json": {
       "model_id": "0ccca1aa80ac4a1cb0f5ac7cdf65fbfc",
       "version_major": 2,
       "version_minor": 0
      },
      "text/plain": [
       "  0%|          | 0/6 [00:00<?, ?it/s]"
      ]
     },
     "metadata": {},
     "output_type": "display_data"
    },
    {
     "name": "stderr",
     "output_type": "stream",
     "text": [
      "19:40:44 - cmdstanpy - INFO - Chain [1] start processing\n",
      "19:40:44 - cmdstanpy - INFO - Chain [1] done processing\n",
      "19:40:44 - cmdstanpy - INFO - Chain [1] start processing\n",
      "19:40:44 - cmdstanpy - INFO - Chain [1] done processing\n",
      "19:40:45 - cmdstanpy - INFO - Chain [1] start processing\n",
      "19:40:45 - cmdstanpy - INFO - Chain [1] done processing\n",
      "19:40:45 - cmdstanpy - INFO - Chain [1] start processing\n",
      "19:40:45 - cmdstanpy - INFO - Chain [1] done processing\n",
      "19:40:45 - cmdstanpy - INFO - Chain [1] start processing\n",
      "19:40:45 - cmdstanpy - INFO - Chain [1] done processing\n",
      "19:40:46 - cmdstanpy - INFO - Chain [1] start processing\n",
      "19:40:46 - cmdstanpy - INFO - Chain [1] done processing\n",
      "19:40:46 - cmdstanpy - INFO - Chain [1] start processing\n",
      "19:40:46 - cmdstanpy - INFO - Chain [1] done processing\n"
     ]
    },
    {
     "data": {
      "application/vnd.jupyter.widget-view+json": {
       "model_id": "be11befd37534c2782e68753052b89be",
       "version_major": 2,
       "version_minor": 0
      },
      "text/plain": [
       "  0%|          | 0/6 [00:00<?, ?it/s]"
      ]
     },
     "metadata": {},
     "output_type": "display_data"
    },
    {
     "name": "stderr",
     "output_type": "stream",
     "text": [
      "19:40:46 - cmdstanpy - INFO - Chain [1] start processing\n",
      "19:40:46 - cmdstanpy - INFO - Chain [1] done processing\n",
      "19:40:46 - cmdstanpy - INFO - Chain [1] start processing\n",
      "19:40:46 - cmdstanpy - INFO - Chain [1] done processing\n",
      "19:40:47 - cmdstanpy - INFO - Chain [1] start processing\n",
      "19:40:47 - cmdstanpy - INFO - Chain [1] done processing\n",
      "19:40:47 - cmdstanpy - INFO - Chain [1] start processing\n",
      "19:40:47 - cmdstanpy - INFO - Chain [1] done processing\n",
      "19:40:47 - cmdstanpy - INFO - Chain [1] start processing\n",
      "19:40:47 - cmdstanpy - INFO - Chain [1] done processing\n",
      "19:40:48 - cmdstanpy - INFO - Chain [1] start processing\n",
      "19:40:48 - cmdstanpy - INFO - Chain [1] done processing\n",
      "19:40:48 - cmdstanpy - INFO - Chain [1] start processing\n",
      "19:40:48 - cmdstanpy - INFO - Chain [1] done processing\n"
     ]
    },
    {
     "data": {
      "application/vnd.jupyter.widget-view+json": {
       "model_id": "950e19b72fc346e0adfdc3081b0802b5",
       "version_major": 2,
       "version_minor": 0
      },
      "text/plain": [
       "  0%|          | 0/6 [00:00<?, ?it/s]"
      ]
     },
     "metadata": {},
     "output_type": "display_data"
    },
    {
     "name": "stderr",
     "output_type": "stream",
     "text": [
      "19:40:48 - cmdstanpy - INFO - Chain [1] start processing\n",
      "19:40:48 - cmdstanpy - INFO - Chain [1] done processing\n",
      "19:40:48 - cmdstanpy - INFO - Chain [1] start processing\n",
      "19:40:49 - cmdstanpy - INFO - Chain [1] done processing\n",
      "19:40:49 - cmdstanpy - INFO - Chain [1] start processing\n",
      "19:40:49 - cmdstanpy - INFO - Chain [1] done processing\n",
      "19:40:49 - cmdstanpy - INFO - Chain [1] start processing\n",
      "19:40:49 - cmdstanpy - INFO - Chain [1] done processing\n",
      "19:40:49 - cmdstanpy - INFO - Chain [1] start processing\n",
      "19:40:49 - cmdstanpy - INFO - Chain [1] done processing\n",
      "19:40:50 - cmdstanpy - INFO - Chain [1] start processing\n",
      "19:40:50 - cmdstanpy - INFO - Chain [1] done processing\n",
      "19:40:50 - cmdstanpy - INFO - Chain [1] start processing\n",
      "19:40:50 - cmdstanpy - INFO - Chain [1] done processing\n"
     ]
    },
    {
     "data": {
      "application/vnd.jupyter.widget-view+json": {
       "model_id": "cd8d593ea21143b48ee790865f514fa0",
       "version_major": 2,
       "version_minor": 0
      },
      "text/plain": [
       "  0%|          | 0/6 [00:00<?, ?it/s]"
      ]
     },
     "metadata": {},
     "output_type": "display_data"
    },
    {
     "name": "stderr",
     "output_type": "stream",
     "text": [
      "19:40:50 - cmdstanpy - INFO - Chain [1] start processing\n",
      "19:40:50 - cmdstanpy - INFO - Chain [1] done processing\n",
      "19:40:50 - cmdstanpy - INFO - Chain [1] start processing\n",
      "19:40:50 - cmdstanpy - INFO - Chain [1] done processing\n",
      "19:40:51 - cmdstanpy - INFO - Chain [1] start processing\n",
      "19:40:51 - cmdstanpy - INFO - Chain [1] done processing\n",
      "19:40:51 - cmdstanpy - INFO - Chain [1] start processing\n",
      "19:40:51 - cmdstanpy - INFO - Chain [1] done processing\n",
      "19:40:51 - cmdstanpy - INFO - Chain [1] start processing\n",
      "19:40:52 - cmdstanpy - INFO - Chain [1] done processing\n",
      "19:40:52 - cmdstanpy - INFO - Chain [1] start processing\n",
      "19:40:52 - cmdstanpy - INFO - Chain [1] done processing\n",
      "19:40:52 - cmdstanpy - INFO - Chain [1] start processing\n",
      "19:40:52 - cmdstanpy - INFO - Chain [1] done processing\n"
     ]
    },
    {
     "data": {
      "application/vnd.jupyter.widget-view+json": {
       "model_id": "041afa3ea7874bcb842e637a7916b882",
       "version_major": 2,
       "version_minor": 0
      },
      "text/plain": [
       "  0%|          | 0/6 [00:00<?, ?it/s]"
      ]
     },
     "metadata": {},
     "output_type": "display_data"
    },
    {
     "name": "stderr",
     "output_type": "stream",
     "text": [
      "19:40:52 - cmdstanpy - INFO - Chain [1] start processing\n",
      "19:40:52 - cmdstanpy - INFO - Chain [1] done processing\n",
      "19:40:53 - cmdstanpy - INFO - Chain [1] start processing\n",
      "19:40:53 - cmdstanpy - INFO - Chain [1] done processing\n",
      "19:40:53 - cmdstanpy - INFO - Chain [1] start processing\n",
      "19:40:53 - cmdstanpy - INFO - Chain [1] done processing\n",
      "19:40:53 - cmdstanpy - INFO - Chain [1] start processing\n",
      "19:40:53 - cmdstanpy - INFO - Chain [1] done processing\n",
      "19:40:54 - cmdstanpy - INFO - Chain [1] start processing\n",
      "19:40:54 - cmdstanpy - INFO - Chain [1] done processing\n",
      "19:40:54 - cmdstanpy - INFO - Chain [1] start processing\n",
      "19:40:54 - cmdstanpy - INFO - Chain [1] done processing\n",
      "19:40:54 - cmdstanpy - INFO - Chain [1] start processing\n",
      "19:40:54 - cmdstanpy - INFO - Chain [1] done processing\n"
     ]
    },
    {
     "data": {
      "application/vnd.jupyter.widget-view+json": {
       "model_id": "9803f28a77e743588514f2d86739f795",
       "version_major": 2,
       "version_minor": 0
      },
      "text/plain": [
       "  0%|          | 0/6 [00:00<?, ?it/s]"
      ]
     },
     "metadata": {},
     "output_type": "display_data"
    },
    {
     "name": "stderr",
     "output_type": "stream",
     "text": [
      "19:40:54 - cmdstanpy - INFO - Chain [1] start processing\n",
      "19:40:54 - cmdstanpy - INFO - Chain [1] done processing\n",
      "19:40:55 - cmdstanpy - INFO - Chain [1] start processing\n",
      "19:40:55 - cmdstanpy - INFO - Chain [1] done processing\n",
      "19:40:55 - cmdstanpy - INFO - Chain [1] start processing\n",
      "19:40:55 - cmdstanpy - INFO - Chain [1] done processing\n",
      "19:40:55 - cmdstanpy - INFO - Chain [1] start processing\n",
      "19:40:55 - cmdstanpy - INFO - Chain [1] done processing\n",
      "19:40:56 - cmdstanpy - INFO - Chain [1] start processing\n",
      "19:40:56 - cmdstanpy - INFO - Chain [1] done processing\n",
      "19:40:56 - cmdstanpy - INFO - Chain [1] start processing\n",
      "19:40:56 - cmdstanpy - INFO - Chain [1] done processing\n",
      "19:40:56 - cmdstanpy - INFO - Chain [1] start processing\n",
      "19:40:56 - cmdstanpy - INFO - Chain [1] done processing\n"
     ]
    },
    {
     "data": {
      "application/vnd.jupyter.widget-view+json": {
       "model_id": "a55c8f9a45024cfd963ecf33481019e3",
       "version_major": 2,
       "version_minor": 0
      },
      "text/plain": [
       "  0%|          | 0/6 [00:00<?, ?it/s]"
      ]
     },
     "metadata": {},
     "output_type": "display_data"
    },
    {
     "name": "stderr",
     "output_type": "stream",
     "text": [
      "19:40:56 - cmdstanpy - INFO - Chain [1] start processing\n",
      "19:40:56 - cmdstanpy - INFO - Chain [1] done processing\n",
      "19:40:57 - cmdstanpy - INFO - Chain [1] start processing\n",
      "19:40:57 - cmdstanpy - INFO - Chain [1] done processing\n",
      "19:40:57 - cmdstanpy - INFO - Chain [1] start processing\n",
      "19:40:57 - cmdstanpy - INFO - Chain [1] done processing\n",
      "19:40:57 - cmdstanpy - INFO - Chain [1] start processing\n",
      "19:40:57 - cmdstanpy - INFO - Chain [1] done processing\n",
      "19:40:58 - cmdstanpy - INFO - Chain [1] start processing\n",
      "19:40:58 - cmdstanpy - INFO - Chain [1] done processing\n",
      "19:40:58 - cmdstanpy - INFO - Chain [1] start processing\n",
      "19:40:58 - cmdstanpy - INFO - Chain [1] done processing\n",
      "19:40:58 - cmdstanpy - INFO - Chain [1] start processing\n",
      "19:40:58 - cmdstanpy - INFO - Chain [1] done processing\n"
     ]
    },
    {
     "data": {
      "application/vnd.jupyter.widget-view+json": {
       "model_id": "38bc3ba73b934f8ba38761f7d55465a5",
       "version_major": 2,
       "version_minor": 0
      },
      "text/plain": [
       "  0%|          | 0/6 [00:00<?, ?it/s]"
      ]
     },
     "metadata": {},
     "output_type": "display_data"
    },
    {
     "name": "stderr",
     "output_type": "stream",
     "text": [
      "19:40:59 - cmdstanpy - INFO - Chain [1] start processing\n",
      "19:40:59 - cmdstanpy - INFO - Chain [1] done processing\n",
      "19:40:59 - cmdstanpy - INFO - Chain [1] start processing\n",
      "19:40:59 - cmdstanpy - INFO - Chain [1] done processing\n",
      "19:40:59 - cmdstanpy - INFO - Chain [1] start processing\n",
      "19:40:59 - cmdstanpy - INFO - Chain [1] done processing\n",
      "19:40:59 - cmdstanpy - INFO - Chain [1] start processing\n",
      "19:40:59 - cmdstanpy - INFO - Chain [1] done processing\n",
      "19:41:00 - cmdstanpy - INFO - Chain [1] start processing\n",
      "19:41:00 - cmdstanpy - INFO - Chain [1] done processing\n",
      "19:41:00 - cmdstanpy - INFO - Chain [1] start processing\n",
      "19:41:00 - cmdstanpy - INFO - Chain [1] done processing\n",
      "19:41:00 - cmdstanpy - INFO - Chain [1] start processing\n",
      "19:41:01 - cmdstanpy - INFO - Chain [1] done processing\n"
     ]
    },
    {
     "data": {
      "application/vnd.jupyter.widget-view+json": {
       "model_id": "871f9577d3ab4c4fb9eca8367ee51e12",
       "version_major": 2,
       "version_minor": 0
      },
      "text/plain": [
       "  0%|          | 0/6 [00:00<?, ?it/s]"
      ]
     },
     "metadata": {},
     "output_type": "display_data"
    },
    {
     "name": "stderr",
     "output_type": "stream",
     "text": [
      "19:41:01 - cmdstanpy - INFO - Chain [1] start processing\n",
      "19:41:01 - cmdstanpy - INFO - Chain [1] done processing\n",
      "19:41:01 - cmdstanpy - INFO - Chain [1] start processing\n",
      "19:41:01 - cmdstanpy - INFO - Chain [1] done processing\n",
      "19:41:01 - cmdstanpy - INFO - Chain [1] start processing\n",
      "19:41:01 - cmdstanpy - INFO - Chain [1] done processing\n",
      "19:41:02 - cmdstanpy - INFO - Chain [1] start processing\n",
      "19:41:02 - cmdstanpy - INFO - Chain [1] done processing\n",
      "19:41:02 - cmdstanpy - INFO - Chain [1] start processing\n",
      "19:41:02 - cmdstanpy - INFO - Chain [1] done processing\n",
      "19:41:02 - cmdstanpy - INFO - Chain [1] start processing\n",
      "19:41:02 - cmdstanpy - INFO - Chain [1] done processing\n",
      "19:41:03 - cmdstanpy - INFO - Chain [1] start processing\n",
      "19:41:03 - cmdstanpy - INFO - Chain [1] done processing\n"
     ]
    },
    {
     "data": {
      "application/vnd.jupyter.widget-view+json": {
       "model_id": "1b3392aa51e648c2a424999ace164681",
       "version_major": 2,
       "version_minor": 0
      },
      "text/plain": [
       "  0%|          | 0/6 [00:00<?, ?it/s]"
      ]
     },
     "metadata": {},
     "output_type": "display_data"
    },
    {
     "name": "stderr",
     "output_type": "stream",
     "text": [
      "19:41:03 - cmdstanpy - INFO - Chain [1] start processing\n",
      "19:41:03 - cmdstanpy - INFO - Chain [1] done processing\n",
      "19:41:03 - cmdstanpy - INFO - Chain [1] start processing\n",
      "19:41:03 - cmdstanpy - INFO - Chain [1] done processing\n",
      "19:41:03 - cmdstanpy - INFO - Chain [1] start processing\n",
      "19:41:03 - cmdstanpy - INFO - Chain [1] done processing\n",
      "19:41:04 - cmdstanpy - INFO - Chain [1] start processing\n",
      "19:41:04 - cmdstanpy - INFO - Chain [1] done processing\n",
      "19:41:04 - cmdstanpy - INFO - Chain [1] start processing\n",
      "19:41:04 - cmdstanpy - INFO - Chain [1] done processing\n",
      "19:41:04 - cmdstanpy - INFO - Chain [1] start processing\n",
      "19:41:04 - cmdstanpy - INFO - Chain [1] done processing\n",
      "19:41:05 - cmdstanpy - INFO - Chain [1] start processing\n",
      "19:41:05 - cmdstanpy - INFO - Chain [1] done processing\n"
     ]
    },
    {
     "data": {
      "application/vnd.jupyter.widget-view+json": {
       "model_id": "3304c367d4714f57997d97db9a0bd82b",
       "version_major": 2,
       "version_minor": 0
      },
      "text/plain": [
       "  0%|          | 0/6 [00:00<?, ?it/s]"
      ]
     },
     "metadata": {},
     "output_type": "display_data"
    },
    {
     "name": "stderr",
     "output_type": "stream",
     "text": [
      "19:41:05 - cmdstanpy - INFO - Chain [1] start processing\n",
      "19:41:05 - cmdstanpy - INFO - Chain [1] done processing\n",
      "19:41:05 - cmdstanpy - INFO - Chain [1] start processing\n",
      "19:41:05 - cmdstanpy - INFO - Chain [1] done processing\n",
      "19:41:05 - cmdstanpy - INFO - Chain [1] start processing\n",
      "19:41:05 - cmdstanpy - INFO - Chain [1] done processing\n",
      "19:41:06 - cmdstanpy - INFO - Chain [1] start processing\n",
      "19:41:06 - cmdstanpy - INFO - Chain [1] done processing\n",
      "19:41:06 - cmdstanpy - INFO - Chain [1] start processing\n",
      "19:41:06 - cmdstanpy - INFO - Chain [1] done processing\n",
      "19:41:06 - cmdstanpy - INFO - Chain [1] start processing\n",
      "19:41:06 - cmdstanpy - INFO - Chain [1] done processing\n",
      "19:41:07 - cmdstanpy - INFO - Chain [1] start processing\n",
      "19:41:07 - cmdstanpy - INFO - Chain [1] done processing\n"
     ]
    },
    {
     "data": {
      "application/vnd.jupyter.widget-view+json": {
       "model_id": "d258406203a142da8580811132ea263b",
       "version_major": 2,
       "version_minor": 0
      },
      "text/plain": [
       "  0%|          | 0/6 [00:00<?, ?it/s]"
      ]
     },
     "metadata": {},
     "output_type": "display_data"
    },
    {
     "name": "stderr",
     "output_type": "stream",
     "text": [
      "19:41:07 - cmdstanpy - INFO - Chain [1] start processing\n",
      "19:41:07 - cmdstanpy - INFO - Chain [1] done processing\n",
      "19:41:07 - cmdstanpy - INFO - Chain [1] start processing\n",
      "19:41:07 - cmdstanpy - INFO - Chain [1] done processing\n",
      "19:41:07 - cmdstanpy - INFO - Chain [1] start processing\n",
      "19:41:07 - cmdstanpy - INFO - Chain [1] done processing\n",
      "19:41:08 - cmdstanpy - INFO - Chain [1] start processing\n",
      "19:41:08 - cmdstanpy - INFO - Chain [1] done processing\n",
      "19:41:08 - cmdstanpy - INFO - Chain [1] start processing\n",
      "19:41:08 - cmdstanpy - INFO - Chain [1] done processing\n",
      "19:41:08 - cmdstanpy - INFO - Chain [1] start processing\n",
      "19:41:08 - cmdstanpy - INFO - Chain [1] done processing\n",
      "19:41:09 - cmdstanpy - INFO - Chain [1] start processing\n",
      "19:41:09 - cmdstanpy - INFO - Chain [1] done processing\n"
     ]
    },
    {
     "data": {
      "application/vnd.jupyter.widget-view+json": {
       "model_id": "3a4015db148148ab95dbda5ea138dfc4",
       "version_major": 2,
       "version_minor": 0
      },
      "text/plain": [
       "  0%|          | 0/6 [00:00<?, ?it/s]"
      ]
     },
     "metadata": {},
     "output_type": "display_data"
    },
    {
     "name": "stderr",
     "output_type": "stream",
     "text": [
      "19:41:09 - cmdstanpy - INFO - Chain [1] start processing\n",
      "19:41:09 - cmdstanpy - INFO - Chain [1] done processing\n",
      "19:41:09 - cmdstanpy - INFO - Chain [1] start processing\n",
      "19:41:09 - cmdstanpy - INFO - Chain [1] done processing\n",
      "19:41:10 - cmdstanpy - INFO - Chain [1] start processing\n",
      "19:41:10 - cmdstanpy - INFO - Chain [1] done processing\n",
      "19:41:10 - cmdstanpy - INFO - Chain [1] start processing\n",
      "19:41:10 - cmdstanpy - INFO - Chain [1] done processing\n",
      "19:41:10 - cmdstanpy - INFO - Chain [1] start processing\n",
      "19:41:10 - cmdstanpy - INFO - Chain [1] done processing\n",
      "19:41:11 - cmdstanpy - INFO - Chain [1] start processing\n",
      "19:41:11 - cmdstanpy - INFO - Chain [1] done processing\n",
      "19:41:11 - cmdstanpy - INFO - Chain [1] start processing\n",
      "19:41:11 - cmdstanpy - INFO - Chain [1] done processing\n"
     ]
    },
    {
     "data": {
      "application/vnd.jupyter.widget-view+json": {
       "model_id": "b75adba7867640bbbe93b9b52517286f",
       "version_major": 2,
       "version_minor": 0
      },
      "text/plain": [
       "  0%|          | 0/6 [00:00<?, ?it/s]"
      ]
     },
     "metadata": {},
     "output_type": "display_data"
    },
    {
     "name": "stderr",
     "output_type": "stream",
     "text": [
      "19:41:11 - cmdstanpy - INFO - Chain [1] start processing\n",
      "19:41:11 - cmdstanpy - INFO - Chain [1] done processing\n",
      "19:41:11 - cmdstanpy - INFO - Chain [1] start processing\n",
      "19:41:11 - cmdstanpy - INFO - Chain [1] done processing\n",
      "19:41:12 - cmdstanpy - INFO - Chain [1] start processing\n",
      "19:41:12 - cmdstanpy - INFO - Chain [1] done processing\n",
      "19:41:12 - cmdstanpy - INFO - Chain [1] start processing\n",
      "19:41:12 - cmdstanpy - INFO - Chain [1] done processing\n",
      "19:41:12 - cmdstanpy - INFO - Chain [1] start processing\n",
      "19:41:12 - cmdstanpy - INFO - Chain [1] done processing\n",
      "19:41:13 - cmdstanpy - INFO - Chain [1] start processing\n",
      "19:41:13 - cmdstanpy - INFO - Chain [1] done processing\n",
      "19:41:13 - cmdstanpy - INFO - Chain [1] start processing\n",
      "19:41:13 - cmdstanpy - INFO - Chain [1] done processing\n"
     ]
    },
    {
     "data": {
      "application/vnd.jupyter.widget-view+json": {
       "model_id": "840f351806f748eb947e4c104e88138f",
       "version_major": 2,
       "version_minor": 0
      },
      "text/plain": [
       "  0%|          | 0/6 [00:00<?, ?it/s]"
      ]
     },
     "metadata": {},
     "output_type": "display_data"
    },
    {
     "name": "stderr",
     "output_type": "stream",
     "text": [
      "19:41:13 - cmdstanpy - INFO - Chain [1] start processing\n",
      "19:41:13 - cmdstanpy - INFO - Chain [1] done processing\n",
      "19:41:14 - cmdstanpy - INFO - Chain [1] start processing\n",
      "19:41:14 - cmdstanpy - INFO - Chain [1] done processing\n",
      "19:41:14 - cmdstanpy - INFO - Chain [1] start processing\n",
      "19:41:14 - cmdstanpy - INFO - Chain [1] done processing\n",
      "19:41:14 - cmdstanpy - INFO - Chain [1] start processing\n",
      "19:41:14 - cmdstanpy - INFO - Chain [1] done processing\n",
      "19:41:14 - cmdstanpy - INFO - Chain [1] start processing\n",
      "19:41:14 - cmdstanpy - INFO - Chain [1] done processing\n",
      "19:41:15 - cmdstanpy - INFO - Chain [1] start processing\n",
      "19:41:15 - cmdstanpy - INFO - Chain [1] done processing\n",
      "19:41:15 - cmdstanpy - INFO - Chain [1] start processing\n",
      "19:41:15 - cmdstanpy - INFO - Chain [1] done processing\n"
     ]
    },
    {
     "data": {
      "application/vnd.jupyter.widget-view+json": {
       "model_id": "4f36b9d077df43cd8ae63b546c2fe14c",
       "version_major": 2,
       "version_minor": 0
      },
      "text/plain": [
       "  0%|          | 0/6 [00:00<?, ?it/s]"
      ]
     },
     "metadata": {},
     "output_type": "display_data"
    },
    {
     "name": "stderr",
     "output_type": "stream",
     "text": [
      "19:41:15 - cmdstanpy - INFO - Chain [1] start processing\n",
      "19:41:15 - cmdstanpy - INFO - Chain [1] done processing\n",
      "19:41:16 - cmdstanpy - INFO - Chain [1] start processing\n",
      "19:41:16 - cmdstanpy - INFO - Chain [1] done processing\n",
      "19:41:16 - cmdstanpy - INFO - Chain [1] start processing\n",
      "19:41:16 - cmdstanpy - INFO - Chain [1] done processing\n",
      "19:41:16 - cmdstanpy - INFO - Chain [1] start processing\n",
      "19:41:16 - cmdstanpy - INFO - Chain [1] done processing\n",
      "19:41:17 - cmdstanpy - INFO - Chain [1] start processing\n",
      "19:41:17 - cmdstanpy - INFO - Chain [1] done processing\n",
      "19:41:17 - cmdstanpy - INFO - Chain [1] start processing\n",
      "19:41:17 - cmdstanpy - INFO - Chain [1] done processing\n",
      "19:41:17 - cmdstanpy - INFO - Chain [1] start processing\n",
      "19:41:17 - cmdstanpy - INFO - Chain [1] done processing\n"
     ]
    },
    {
     "data": {
      "application/vnd.jupyter.widget-view+json": {
       "model_id": "ea7b6807ef70449eac97f9cc58523b50",
       "version_major": 2,
       "version_minor": 0
      },
      "text/plain": [
       "  0%|          | 0/6 [00:00<?, ?it/s]"
      ]
     },
     "metadata": {},
     "output_type": "display_data"
    },
    {
     "name": "stderr",
     "output_type": "stream",
     "text": [
      "19:41:17 - cmdstanpy - INFO - Chain [1] start processing\n",
      "19:41:17 - cmdstanpy - INFO - Chain [1] done processing\n",
      "19:41:18 - cmdstanpy - INFO - Chain [1] start processing\n",
      "19:41:18 - cmdstanpy - INFO - Chain [1] done processing\n",
      "19:41:18 - cmdstanpy - INFO - Chain [1] start processing\n",
      "19:41:18 - cmdstanpy - INFO - Chain [1] done processing\n",
      "19:41:18 - cmdstanpy - INFO - Chain [1] start processing\n",
      "19:41:18 - cmdstanpy - INFO - Chain [1] done processing\n",
      "19:41:19 - cmdstanpy - INFO - Chain [1] start processing\n",
      "19:41:19 - cmdstanpy - INFO - Chain [1] done processing\n",
      "19:41:19 - cmdstanpy - INFO - Chain [1] start processing\n",
      "19:41:19 - cmdstanpy - INFO - Chain [1] done processing\n",
      "19:41:19 - cmdstanpy - INFO - Chain [1] start processing\n",
      "19:41:19 - cmdstanpy - INFO - Chain [1] done processing\n"
     ]
    },
    {
     "data": {
      "application/vnd.jupyter.widget-view+json": {
       "model_id": "63594098723843ff9e6e41ad44d85543",
       "version_major": 2,
       "version_minor": 0
      },
      "text/plain": [
       "  0%|          | 0/6 [00:00<?, ?it/s]"
      ]
     },
     "metadata": {},
     "output_type": "display_data"
    },
    {
     "name": "stderr",
     "output_type": "stream",
     "text": [
      "19:41:19 - cmdstanpy - INFO - Chain [1] start processing\n",
      "19:41:20 - cmdstanpy - INFO - Chain [1] done processing\n",
      "19:41:20 - cmdstanpy - INFO - Chain [1] start processing\n",
      "19:41:20 - cmdstanpy - INFO - Chain [1] done processing\n",
      "19:41:20 - cmdstanpy - INFO - Chain [1] start processing\n",
      "19:41:20 - cmdstanpy - INFO - Chain [1] done processing\n",
      "19:41:20 - cmdstanpy - INFO - Chain [1] start processing\n",
      "19:41:20 - cmdstanpy - INFO - Chain [1] done processing\n",
      "19:41:21 - cmdstanpy - INFO - Chain [1] start processing\n",
      "19:41:21 - cmdstanpy - INFO - Chain [1] done processing\n",
      "19:41:21 - cmdstanpy - INFO - Chain [1] start processing\n",
      "19:41:21 - cmdstanpy - INFO - Chain [1] done processing\n",
      "19:41:21 - cmdstanpy - INFO - Chain [1] start processing\n",
      "19:41:21 - cmdstanpy - INFO - Chain [1] done processing\n"
     ]
    },
    {
     "data": {
      "application/vnd.jupyter.widget-view+json": {
       "model_id": "5180b89d5dfb417cb44118c61b48734f",
       "version_major": 2,
       "version_minor": 0
      },
      "text/plain": [
       "  0%|          | 0/6 [00:00<?, ?it/s]"
      ]
     },
     "metadata": {},
     "output_type": "display_data"
    },
    {
     "name": "stderr",
     "output_type": "stream",
     "text": [
      "19:41:22 - cmdstanpy - INFO - Chain [1] start processing\n",
      "19:41:22 - cmdstanpy - INFO - Chain [1] done processing\n",
      "19:41:22 - cmdstanpy - INFO - Chain [1] start processing\n",
      "19:41:22 - cmdstanpy - INFO - Chain [1] done processing\n",
      "19:41:22 - cmdstanpy - INFO - Chain [1] start processing\n",
      "19:41:22 - cmdstanpy - INFO - Chain [1] done processing\n",
      "19:41:22 - cmdstanpy - INFO - Chain [1] start processing\n",
      "19:41:22 - cmdstanpy - INFO - Chain [1] done processing\n",
      "19:41:23 - cmdstanpy - INFO - Chain [1] start processing\n",
      "19:41:23 - cmdstanpy - INFO - Chain [1] done processing\n",
      "19:41:23 - cmdstanpy - INFO - Chain [1] start processing\n",
      "19:41:23 - cmdstanpy - INFO - Chain [1] done processing\n",
      "19:41:24 - cmdstanpy - INFO - Chain [1] start processing\n",
      "19:41:24 - cmdstanpy - INFO - Chain [1] done processing\n"
     ]
    },
    {
     "data": {
      "application/vnd.jupyter.widget-view+json": {
       "model_id": "c4c4d38eb01043f687c923c671b4c9a2",
       "version_major": 2,
       "version_minor": 0
      },
      "text/plain": [
       "  0%|          | 0/6 [00:00<?, ?it/s]"
      ]
     },
     "metadata": {},
     "output_type": "display_data"
    },
    {
     "name": "stderr",
     "output_type": "stream",
     "text": [
      "19:41:24 - cmdstanpy - INFO - Chain [1] start processing\n",
      "19:41:24 - cmdstanpy - INFO - Chain [1] done processing\n",
      "19:41:24 - cmdstanpy - INFO - Chain [1] start processing\n",
      "19:41:24 - cmdstanpy - INFO - Chain [1] done processing\n",
      "19:41:24 - cmdstanpy - INFO - Chain [1] start processing\n",
      "19:41:24 - cmdstanpy - INFO - Chain [1] done processing\n",
      "19:41:25 - cmdstanpy - INFO - Chain [1] start processing\n",
      "19:41:25 - cmdstanpy - INFO - Chain [1] done processing\n",
      "19:41:25 - cmdstanpy - INFO - Chain [1] start processing\n",
      "19:41:25 - cmdstanpy - INFO - Chain [1] done processing\n",
      "19:41:25 - cmdstanpy - INFO - Chain [1] start processing\n",
      "19:41:25 - cmdstanpy - INFO - Chain [1] done processing\n",
      "19:41:26 - cmdstanpy - INFO - Chain [1] start processing\n",
      "19:41:26 - cmdstanpy - INFO - Chain [1] done processing\n"
     ]
    },
    {
     "data": {
      "application/vnd.jupyter.widget-view+json": {
       "model_id": "16ae8e4c0a124c7c9b74bb2135ab3779",
       "version_major": 2,
       "version_minor": 0
      },
      "text/plain": [
       "  0%|          | 0/6 [00:00<?, ?it/s]"
      ]
     },
     "metadata": {},
     "output_type": "display_data"
    },
    {
     "name": "stderr",
     "output_type": "stream",
     "text": [
      "19:41:26 - cmdstanpy - INFO - Chain [1] start processing\n",
      "19:41:26 - cmdstanpy - INFO - Chain [1] done processing\n",
      "19:41:26 - cmdstanpy - INFO - Chain [1] start processing\n",
      "19:41:26 - cmdstanpy - INFO - Chain [1] done processing\n",
      "19:41:26 - cmdstanpy - INFO - Chain [1] start processing\n",
      "19:41:26 - cmdstanpy - INFO - Chain [1] done processing\n",
      "19:41:27 - cmdstanpy - INFO - Chain [1] start processing\n",
      "19:41:27 - cmdstanpy - INFO - Chain [1] done processing\n",
      "19:41:27 - cmdstanpy - INFO - Chain [1] start processing\n",
      "19:41:27 - cmdstanpy - INFO - Chain [1] done processing\n",
      "19:41:27 - cmdstanpy - INFO - Chain [1] start processing\n",
      "19:41:27 - cmdstanpy - INFO - Chain [1] done processing\n",
      "19:41:28 - cmdstanpy - INFO - Chain [1] start processing\n",
      "19:41:28 - cmdstanpy - INFO - Chain [1] done processing\n"
     ]
    },
    {
     "data": {
      "application/vnd.jupyter.widget-view+json": {
       "model_id": "907289ba76d8486b997d0d6f923cafea",
       "version_major": 2,
       "version_minor": 0
      },
      "text/plain": [
       "  0%|          | 0/6 [00:00<?, ?it/s]"
      ]
     },
     "metadata": {},
     "output_type": "display_data"
    },
    {
     "name": "stderr",
     "output_type": "stream",
     "text": [
      "19:41:28 - cmdstanpy - INFO - Chain [1] start processing\n",
      "19:41:28 - cmdstanpy - INFO - Chain [1] done processing\n",
      "19:41:28 - cmdstanpy - INFO - Chain [1] start processing\n",
      "19:41:28 - cmdstanpy - INFO - Chain [1] done processing\n",
      "19:41:28 - cmdstanpy - INFO - Chain [1] start processing\n",
      "19:41:28 - cmdstanpy - INFO - Chain [1] done processing\n",
      "19:41:29 - cmdstanpy - INFO - Chain [1] start processing\n",
      "19:41:29 - cmdstanpy - INFO - Chain [1] done processing\n",
      "19:41:29 - cmdstanpy - INFO - Chain [1] start processing\n",
      "19:41:29 - cmdstanpy - INFO - Chain [1] done processing\n",
      "19:41:29 - cmdstanpy - INFO - Chain [1] start processing\n",
      "19:41:29 - cmdstanpy - INFO - Chain [1] done processing\n",
      "19:41:30 - cmdstanpy - INFO - Chain [1] start processing\n",
      "19:41:30 - cmdstanpy - INFO - Chain [1] done processing\n"
     ]
    },
    {
     "data": {
      "application/vnd.jupyter.widget-view+json": {
       "model_id": "d11de59198024f1880820fc47c359f2c",
       "version_major": 2,
       "version_minor": 0
      },
      "text/plain": [
       "  0%|          | 0/6 [00:00<?, ?it/s]"
      ]
     },
     "metadata": {},
     "output_type": "display_data"
    },
    {
     "name": "stderr",
     "output_type": "stream",
     "text": [
      "19:41:30 - cmdstanpy - INFO - Chain [1] start processing\n",
      "19:41:30 - cmdstanpy - INFO - Chain [1] done processing\n",
      "19:41:30 - cmdstanpy - INFO - Chain [1] start processing\n",
      "19:41:30 - cmdstanpy - INFO - Chain [1] done processing\n",
      "19:41:31 - cmdstanpy - INFO - Chain [1] start processing\n",
      "19:41:31 - cmdstanpy - INFO - Chain [1] done processing\n",
      "19:41:31 - cmdstanpy - INFO - Chain [1] start processing\n",
      "19:41:31 - cmdstanpy - INFO - Chain [1] done processing\n",
      "19:41:31 - cmdstanpy - INFO - Chain [1] start processing\n",
      "19:41:31 - cmdstanpy - INFO - Chain [1] done processing\n",
      "19:41:32 - cmdstanpy - INFO - Chain [1] start processing\n",
      "19:41:32 - cmdstanpy - INFO - Chain [1] done processing\n",
      "19:41:32 - cmdstanpy - INFO - Chain [1] start processing\n",
      "19:41:32 - cmdstanpy - INFO - Chain [1] done processing\n"
     ]
    },
    {
     "data": {
      "application/vnd.jupyter.widget-view+json": {
       "model_id": "0e7c6ac751e94b1a80f574236e79c7ec",
       "version_major": 2,
       "version_minor": 0
      },
      "text/plain": [
       "  0%|          | 0/6 [00:00<?, ?it/s]"
      ]
     },
     "metadata": {},
     "output_type": "display_data"
    },
    {
     "name": "stderr",
     "output_type": "stream",
     "text": [
      "19:41:32 - cmdstanpy - INFO - Chain [1] start processing\n",
      "19:41:32 - cmdstanpy - INFO - Chain [1] done processing\n",
      "19:41:32 - cmdstanpy - INFO - Chain [1] start processing\n",
      "19:41:32 - cmdstanpy - INFO - Chain [1] done processing\n",
      "19:41:33 - cmdstanpy - INFO - Chain [1] start processing\n",
      "19:41:33 - cmdstanpy - INFO - Chain [1] done processing\n",
      "19:41:33 - cmdstanpy - INFO - Chain [1] start processing\n",
      "19:41:33 - cmdstanpy - INFO - Chain [1] done processing\n",
      "19:41:33 - cmdstanpy - INFO - Chain [1] start processing\n",
      "19:41:33 - cmdstanpy - INFO - Chain [1] done processing\n",
      "19:41:34 - cmdstanpy - INFO - Chain [1] start processing\n",
      "19:41:34 - cmdstanpy - INFO - Chain [1] done processing\n",
      "19:41:34 - cmdstanpy - INFO - Chain [1] start processing\n",
      "19:41:34 - cmdstanpy - INFO - Chain [1] done processing\n"
     ]
    },
    {
     "data": {
      "application/vnd.jupyter.widget-view+json": {
       "model_id": "6f272231495e4c7cad6aeb9594690d00",
       "version_major": 2,
       "version_minor": 0
      },
      "text/plain": [
       "  0%|          | 0/6 [00:00<?, ?it/s]"
      ]
     },
     "metadata": {},
     "output_type": "display_data"
    },
    {
     "name": "stderr",
     "output_type": "stream",
     "text": [
      "19:41:34 - cmdstanpy - INFO - Chain [1] start processing\n",
      "19:41:34 - cmdstanpy - INFO - Chain [1] done processing\n",
      "19:41:34 - cmdstanpy - INFO - Chain [1] start processing\n",
      "19:41:34 - cmdstanpy - INFO - Chain [1] done processing\n",
      "19:41:35 - cmdstanpy - INFO - Chain [1] start processing\n",
      "19:41:35 - cmdstanpy - INFO - Chain [1] done processing\n",
      "19:41:35 - cmdstanpy - INFO - Chain [1] start processing\n",
      "19:41:35 - cmdstanpy - INFO - Chain [1] done processing\n",
      "19:41:35 - cmdstanpy - INFO - Chain [1] start processing\n",
      "19:41:35 - cmdstanpy - INFO - Chain [1] done processing\n",
      "19:41:36 - cmdstanpy - INFO - Chain [1] start processing\n",
      "19:41:36 - cmdstanpy - INFO - Chain [1] done processing\n",
      "19:41:36 - cmdstanpy - INFO - Chain [1] start processing\n",
      "19:41:36 - cmdstanpy - INFO - Chain [1] done processing\n"
     ]
    },
    {
     "data": {
      "application/vnd.jupyter.widget-view+json": {
       "model_id": "91dcd69697204b9c85fc6cc5d29acc30",
       "version_major": 2,
       "version_minor": 0
      },
      "text/plain": [
       "  0%|          | 0/6 [00:00<?, ?it/s]"
      ]
     },
     "metadata": {},
     "output_type": "display_data"
    },
    {
     "name": "stderr",
     "output_type": "stream",
     "text": [
      "19:41:36 - cmdstanpy - INFO - Chain [1] start processing\n",
      "19:41:36 - cmdstanpy - INFO - Chain [1] done processing\n",
      "19:41:36 - cmdstanpy - INFO - Chain [1] start processing\n",
      "19:41:37 - cmdstanpy - INFO - Chain [1] done processing\n",
      "19:41:37 - cmdstanpy - INFO - Chain [1] start processing\n",
      "19:41:37 - cmdstanpy - INFO - Chain [1] done processing\n",
      "19:41:37 - cmdstanpy - INFO - Chain [1] start processing\n",
      "19:41:37 - cmdstanpy - INFO - Chain [1] done processing\n",
      "19:41:38 - cmdstanpy - INFO - Chain [1] start processing\n",
      "19:41:38 - cmdstanpy - INFO - Chain [1] done processing\n",
      "19:41:38 - cmdstanpy - INFO - Chain [1] start processing\n",
      "19:41:38 - cmdstanpy - INFO - Chain [1] done processing\n",
      "19:41:38 - cmdstanpy - INFO - Chain [1] start processing\n",
      "19:41:38 - cmdstanpy - INFO - Chain [1] done processing\n"
     ]
    },
    {
     "data": {
      "application/vnd.jupyter.widget-view+json": {
       "model_id": "6f14e3ae57ba440c8dc6c557b17ca553",
       "version_major": 2,
       "version_minor": 0
      },
      "text/plain": [
       "  0%|          | 0/6 [00:00<?, ?it/s]"
      ]
     },
     "metadata": {},
     "output_type": "display_data"
    },
    {
     "name": "stderr",
     "output_type": "stream",
     "text": [
      "19:41:38 - cmdstanpy - INFO - Chain [1] start processing\n",
      "19:41:38 - cmdstanpy - INFO - Chain [1] done processing\n",
      "19:41:39 - cmdstanpy - INFO - Chain [1] start processing\n",
      "19:41:39 - cmdstanpy - INFO - Chain [1] done processing\n",
      "19:41:39 - cmdstanpy - INFO - Chain [1] start processing\n",
      "19:41:39 - cmdstanpy - INFO - Chain [1] done processing\n",
      "19:41:39 - cmdstanpy - INFO - Chain [1] start processing\n",
      "19:41:39 - cmdstanpy - INFO - Chain [1] done processing\n",
      "19:41:40 - cmdstanpy - INFO - Chain [1] start processing\n",
      "19:41:40 - cmdstanpy - INFO - Chain [1] done processing\n",
      "19:41:40 - cmdstanpy - INFO - Chain [1] start processing\n",
      "19:41:40 - cmdstanpy - INFO - Chain [1] done processing\n",
      "19:41:40 - cmdstanpy - INFO - Chain [1] start processing\n",
      "19:41:40 - cmdstanpy - INFO - Chain [1] done processing\n"
     ]
    },
    {
     "data": {
      "application/vnd.jupyter.widget-view+json": {
       "model_id": "652ef39f2c384946ac396891051d135c",
       "version_major": 2,
       "version_minor": 0
      },
      "text/plain": [
       "  0%|          | 0/6 [00:00<?, ?it/s]"
      ]
     },
     "metadata": {},
     "output_type": "display_data"
    },
    {
     "name": "stderr",
     "output_type": "stream",
     "text": [
      "19:41:40 - cmdstanpy - INFO - Chain [1] start processing\n",
      "19:41:41 - cmdstanpy - INFO - Chain [1] done processing\n",
      "19:41:41 - cmdstanpy - INFO - Chain [1] start processing\n",
      "19:41:41 - cmdstanpy - INFO - Chain [1] done processing\n",
      "19:41:41 - cmdstanpy - INFO - Chain [1] start processing\n",
      "19:41:41 - cmdstanpy - INFO - Chain [1] done processing\n",
      "19:41:41 - cmdstanpy - INFO - Chain [1] start processing\n",
      "19:41:41 - cmdstanpy - INFO - Chain [1] done processing\n",
      "19:41:42 - cmdstanpy - INFO - Chain [1] start processing\n",
      "19:41:42 - cmdstanpy - INFO - Chain [1] done processing\n",
      "19:41:42 - cmdstanpy - INFO - Chain [1] start processing\n",
      "19:41:42 - cmdstanpy - INFO - Chain [1] done processing\n",
      "19:41:42 - cmdstanpy - INFO - Chain [1] start processing\n",
      "19:41:42 - cmdstanpy - INFO - Chain [1] done processing\n"
     ]
    },
    {
     "data": {
      "application/vnd.jupyter.widget-view+json": {
       "model_id": "5f3073cc8ba74cf0bae03a48806e2d9c",
       "version_major": 2,
       "version_minor": 0
      },
      "text/plain": [
       "  0%|          | 0/6 [00:00<?, ?it/s]"
      ]
     },
     "metadata": {},
     "output_type": "display_data"
    },
    {
     "name": "stderr",
     "output_type": "stream",
     "text": [
      "19:41:43 - cmdstanpy - INFO - Chain [1] start processing\n",
      "19:41:43 - cmdstanpy - INFO - Chain [1] done processing\n",
      "19:41:43 - cmdstanpy - INFO - Chain [1] start processing\n",
      "19:41:43 - cmdstanpy - INFO - Chain [1] done processing\n",
      "19:41:43 - cmdstanpy - INFO - Chain [1] start processing\n",
      "19:41:43 - cmdstanpy - INFO - Chain [1] done processing\n",
      "19:41:43 - cmdstanpy - INFO - Chain [1] start processing\n",
      "19:41:43 - cmdstanpy - INFO - Chain [1] done processing\n",
      "19:41:44 - cmdstanpy - INFO - Chain [1] start processing\n",
      "19:41:44 - cmdstanpy - INFO - Chain [1] done processing\n",
      "19:41:44 - cmdstanpy - INFO - Chain [1] start processing\n",
      "19:41:44 - cmdstanpy - INFO - Chain [1] done processing\n",
      "19:41:45 - cmdstanpy - INFO - Chain [1] start processing\n",
      "19:41:45 - cmdstanpy - INFO - Chain [1] done processing\n"
     ]
    },
    {
     "data": {
      "application/vnd.jupyter.widget-view+json": {
       "model_id": "1f11bbcefa8c40d7ba29bba7b82bf829",
       "version_major": 2,
       "version_minor": 0
      },
      "text/plain": [
       "  0%|          | 0/6 [00:00<?, ?it/s]"
      ]
     },
     "metadata": {},
     "output_type": "display_data"
    },
    {
     "name": "stderr",
     "output_type": "stream",
     "text": [
      "19:41:45 - cmdstanpy - INFO - Chain [1] start processing\n",
      "19:41:45 - cmdstanpy - INFO - Chain [1] done processing\n",
      "19:41:45 - cmdstanpy - INFO - Chain [1] start processing\n",
      "19:41:45 - cmdstanpy - INFO - Chain [1] done processing\n",
      "19:41:45 - cmdstanpy - INFO - Chain [1] start processing\n",
      "19:41:45 - cmdstanpy - INFO - Chain [1] done processing\n",
      "19:41:46 - cmdstanpy - INFO - Chain [1] start processing\n",
      "19:41:46 - cmdstanpy - INFO - Chain [1] done processing\n",
      "19:41:46 - cmdstanpy - INFO - Chain [1] start processing\n",
      "19:41:46 - cmdstanpy - INFO - Chain [1] done processing\n",
      "19:41:46 - cmdstanpy - INFO - Chain [1] start processing\n",
      "19:41:46 - cmdstanpy - INFO - Chain [1] done processing\n",
      "19:41:47 - cmdstanpy - INFO - Chain [1] start processing\n",
      "19:41:47 - cmdstanpy - INFO - Chain [1] done processing\n"
     ]
    },
    {
     "data": {
      "application/vnd.jupyter.widget-view+json": {
       "model_id": "f12b10b7e89c46e083d969879bd9704d",
       "version_major": 2,
       "version_minor": 0
      },
      "text/plain": [
       "  0%|          | 0/6 [00:00<?, ?it/s]"
      ]
     },
     "metadata": {},
     "output_type": "display_data"
    },
    {
     "name": "stderr",
     "output_type": "stream",
     "text": [
      "19:41:47 - cmdstanpy - INFO - Chain [1] start processing\n",
      "19:41:47 - cmdstanpy - INFO - Chain [1] done processing\n",
      "19:41:47 - cmdstanpy - INFO - Chain [1] start processing\n",
      "19:41:47 - cmdstanpy - INFO - Chain [1] done processing\n",
      "19:41:47 - cmdstanpy - INFO - Chain [1] start processing\n",
      "19:41:47 - cmdstanpy - INFO - Chain [1] done processing\n",
      "19:41:48 - cmdstanpy - INFO - Chain [1] start processing\n",
      "19:41:48 - cmdstanpy - INFO - Chain [1] done processing\n",
      "19:41:48 - cmdstanpy - INFO - Chain [1] start processing\n",
      "19:41:48 - cmdstanpy - INFO - Chain [1] done processing\n",
      "19:41:48 - cmdstanpy - INFO - Chain [1] start processing\n",
      "19:41:48 - cmdstanpy - INFO - Chain [1] done processing\n",
      "19:41:49 - cmdstanpy - INFO - Chain [1] start processing\n",
      "19:41:49 - cmdstanpy - INFO - Chain [1] done processing\n"
     ]
    },
    {
     "data": {
      "application/vnd.jupyter.widget-view+json": {
       "model_id": "67ad9a7c75f44ae09496411694fb9a1a",
       "version_major": 2,
       "version_minor": 0
      },
      "text/plain": [
       "  0%|          | 0/6 [00:00<?, ?it/s]"
      ]
     },
     "metadata": {},
     "output_type": "display_data"
    },
    {
     "name": "stderr",
     "output_type": "stream",
     "text": [
      "19:41:49 - cmdstanpy - INFO - Chain [1] start processing\n",
      "19:41:49 - cmdstanpy - INFO - Chain [1] done processing\n",
      "19:41:49 - cmdstanpy - INFO - Chain [1] start processing\n",
      "19:41:49 - cmdstanpy - INFO - Chain [1] done processing\n",
      "19:41:49 - cmdstanpy - INFO - Chain [1] start processing\n",
      "19:41:49 - cmdstanpy - INFO - Chain [1] done processing\n",
      "19:41:50 - cmdstanpy - INFO - Chain [1] start processing\n",
      "19:41:50 - cmdstanpy - INFO - Chain [1] done processing\n",
      "19:41:50 - cmdstanpy - INFO - Chain [1] start processing\n",
      "19:41:50 - cmdstanpy - INFO - Chain [1] done processing\n",
      "19:41:50 - cmdstanpy - INFO - Chain [1] start processing\n",
      "19:41:50 - cmdstanpy - INFO - Chain [1] done processing\n",
      "19:41:51 - cmdstanpy - INFO - Chain [1] start processing\n",
      "19:41:51 - cmdstanpy - INFO - Chain [1] done processing\n"
     ]
    },
    {
     "data": {
      "application/vnd.jupyter.widget-view+json": {
       "model_id": "5515dfc26e8d4908bcb993da8e2bdb5f",
       "version_major": 2,
       "version_minor": 0
      },
      "text/plain": [
       "  0%|          | 0/6 [00:00<?, ?it/s]"
      ]
     },
     "metadata": {},
     "output_type": "display_data"
    },
    {
     "name": "stderr",
     "output_type": "stream",
     "text": [
      "19:41:51 - cmdstanpy - INFO - Chain [1] start processing\n",
      "19:41:51 - cmdstanpy - INFO - Chain [1] done processing\n",
      "19:41:51 - cmdstanpy - INFO - Chain [1] start processing\n",
      "19:41:51 - cmdstanpy - INFO - Chain [1] done processing\n",
      "19:41:52 - cmdstanpy - INFO - Chain [1] start processing\n",
      "19:41:52 - cmdstanpy - INFO - Chain [1] done processing\n",
      "19:41:52 - cmdstanpy - INFO - Chain [1] start processing\n",
      "19:41:52 - cmdstanpy - INFO - Chain [1] done processing\n",
      "19:41:52 - cmdstanpy - INFO - Chain [1] start processing\n",
      "19:41:52 - cmdstanpy - INFO - Chain [1] done processing\n",
      "19:41:53 - cmdstanpy - INFO - Chain [1] start processing\n",
      "19:41:53 - cmdstanpy - INFO - Chain [1] done processing\n",
      "19:41:53 - cmdstanpy - INFO - Chain [1] start processing\n",
      "19:41:53 - cmdstanpy - INFO - Chain [1] done processing\n"
     ]
    },
    {
     "data": {
      "application/vnd.jupyter.widget-view+json": {
       "model_id": "d3661d3a8834496cbdd5f01d980b9f9c",
       "version_major": 2,
       "version_minor": 0
      },
      "text/plain": [
       "  0%|          | 0/6 [00:00<?, ?it/s]"
      ]
     },
     "metadata": {},
     "output_type": "display_data"
    },
    {
     "name": "stderr",
     "output_type": "stream",
     "text": [
      "19:41:53 - cmdstanpy - INFO - Chain [1] start processing\n",
      "19:41:53 - cmdstanpy - INFO - Chain [1] done processing\n",
      "19:41:53 - cmdstanpy - INFO - Chain [1] start processing\n",
      "19:41:53 - cmdstanpy - INFO - Chain [1] done processing\n",
      "19:41:54 - cmdstanpy - INFO - Chain [1] start processing\n",
      "19:41:54 - cmdstanpy - INFO - Chain [1] done processing\n",
      "19:41:54 - cmdstanpy - INFO - Chain [1] start processing\n",
      "19:41:54 - cmdstanpy - INFO - Chain [1] done processing\n",
      "19:41:54 - cmdstanpy - INFO - Chain [1] start processing\n",
      "19:41:54 - cmdstanpy - INFO - Chain [1] done processing\n",
      "19:41:55 - cmdstanpy - INFO - Chain [1] start processing\n",
      "19:41:55 - cmdstanpy - INFO - Chain [1] done processing\n",
      "19:41:55 - cmdstanpy - INFO - Chain [1] start processing\n",
      "19:41:55 - cmdstanpy - INFO - Chain [1] done processing\n"
     ]
    },
    {
     "data": {
      "application/vnd.jupyter.widget-view+json": {
       "model_id": "dc476e9730b4433b85e87a524669bb8a",
       "version_major": 2,
       "version_minor": 0
      },
      "text/plain": [
       "  0%|          | 0/6 [00:00<?, ?it/s]"
      ]
     },
     "metadata": {},
     "output_type": "display_data"
    },
    {
     "name": "stderr",
     "output_type": "stream",
     "text": [
      "19:41:55 - cmdstanpy - INFO - Chain [1] start processing\n",
      "19:41:55 - cmdstanpy - INFO - Chain [1] done processing\n",
      "19:41:55 - cmdstanpy - INFO - Chain [1] start processing\n",
      "19:41:55 - cmdstanpy - INFO - Chain [1] done processing\n",
      "19:41:56 - cmdstanpy - INFO - Chain [1] start processing\n",
      "19:41:56 - cmdstanpy - INFO - Chain [1] done processing\n",
      "19:41:56 - cmdstanpy - INFO - Chain [1] start processing\n",
      "19:41:56 - cmdstanpy - INFO - Chain [1] done processing\n",
      "19:41:56 - cmdstanpy - INFO - Chain [1] start processing\n",
      "19:41:56 - cmdstanpy - INFO - Chain [1] done processing\n",
      "19:41:57 - cmdstanpy - INFO - Chain [1] start processing\n",
      "19:41:57 - cmdstanpy - INFO - Chain [1] done processing\n",
      "19:41:57 - cmdstanpy - INFO - Chain [1] start processing\n",
      "19:41:57 - cmdstanpy - INFO - Chain [1] done processing\n"
     ]
    },
    {
     "data": {
      "application/vnd.jupyter.widget-view+json": {
       "model_id": "a1cc45df5061475683287b5767741efc",
       "version_major": 2,
       "version_minor": 0
      },
      "text/plain": [
       "  0%|          | 0/6 [00:00<?, ?it/s]"
      ]
     },
     "metadata": {},
     "output_type": "display_data"
    },
    {
     "name": "stderr",
     "output_type": "stream",
     "text": [
      "19:41:57 - cmdstanpy - INFO - Chain [1] start processing\n",
      "19:41:57 - cmdstanpy - INFO - Chain [1] done processing\n",
      "19:41:57 - cmdstanpy - INFO - Chain [1] start processing\n",
      "19:41:57 - cmdstanpy - INFO - Chain [1] done processing\n",
      "19:41:58 - cmdstanpy - INFO - Chain [1] start processing\n",
      "19:41:58 - cmdstanpy - INFO - Chain [1] done processing\n",
      "19:41:58 - cmdstanpy - INFO - Chain [1] start processing\n",
      "19:41:58 - cmdstanpy - INFO - Chain [1] done processing\n",
      "19:41:58 - cmdstanpy - INFO - Chain [1] start processing\n",
      "19:41:58 - cmdstanpy - INFO - Chain [1] done processing\n",
      "19:41:59 - cmdstanpy - INFO - Chain [1] start processing\n",
      "19:41:59 - cmdstanpy - INFO - Chain [1] done processing\n",
      "19:41:59 - cmdstanpy - INFO - Chain [1] start processing\n",
      "19:41:59 - cmdstanpy - INFO - Chain [1] done processing\n"
     ]
    },
    {
     "data": {
      "application/vnd.jupyter.widget-view+json": {
       "model_id": "728bec6df6f844b5a9388c12e5a3937f",
       "version_major": 2,
       "version_minor": 0
      },
      "text/plain": [
       "  0%|          | 0/6 [00:00<?, ?it/s]"
      ]
     },
     "metadata": {},
     "output_type": "display_data"
    },
    {
     "name": "stderr",
     "output_type": "stream",
     "text": [
      "19:41:59 - cmdstanpy - INFO - Chain [1] start processing\n",
      "19:41:59 - cmdstanpy - INFO - Chain [1] done processing\n",
      "19:41:59 - cmdstanpy - INFO - Chain [1] start processing\n",
      "19:41:59 - cmdstanpy - INFO - Chain [1] done processing\n",
      "19:42:00 - cmdstanpy - INFO - Chain [1] start processing\n",
      "19:42:00 - cmdstanpy - INFO - Chain [1] done processing\n",
      "19:42:00 - cmdstanpy - INFO - Chain [1] start processing\n",
      "19:42:00 - cmdstanpy - INFO - Chain [1] done processing\n",
      "19:42:00 - cmdstanpy - INFO - Chain [1] start processing\n",
      "19:42:00 - cmdstanpy - INFO - Chain [1] done processing\n",
      "19:42:01 - cmdstanpy - INFO - Chain [1] start processing\n",
      "19:42:01 - cmdstanpy - INFO - Chain [1] done processing\n",
      "19:42:01 - cmdstanpy - INFO - Chain [1] start processing\n",
      "19:42:01 - cmdstanpy - INFO - Chain [1] done processing\n"
     ]
    },
    {
     "data": {
      "application/vnd.jupyter.widget-view+json": {
       "model_id": "86082d653ca54064969de6843b6cbed3",
       "version_major": 2,
       "version_minor": 0
      },
      "text/plain": [
       "  0%|          | 0/6 [00:00<?, ?it/s]"
      ]
     },
     "metadata": {},
     "output_type": "display_data"
    },
    {
     "name": "stderr",
     "output_type": "stream",
     "text": [
      "19:42:01 - cmdstanpy - INFO - Chain [1] start processing\n",
      "19:42:01 - cmdstanpy - INFO - Chain [1] done processing\n",
      "19:42:01 - cmdstanpy - INFO - Chain [1] start processing\n",
      "19:42:01 - cmdstanpy - INFO - Chain [1] done processing\n",
      "19:42:02 - cmdstanpy - INFO - Chain [1] start processing\n",
      "19:42:02 - cmdstanpy - INFO - Chain [1] done processing\n",
      "19:42:02 - cmdstanpy - INFO - Chain [1] start processing\n",
      "19:42:02 - cmdstanpy - INFO - Chain [1] done processing\n",
      "19:42:02 - cmdstanpy - INFO - Chain [1] start processing\n",
      "19:42:02 - cmdstanpy - INFO - Chain [1] done processing\n",
      "19:42:03 - cmdstanpy - INFO - Chain [1] start processing\n",
      "19:42:03 - cmdstanpy - INFO - Chain [1] done processing\n",
      "19:42:03 - cmdstanpy - INFO - Chain [1] start processing\n",
      "19:42:03 - cmdstanpy - INFO - Chain [1] done processing\n"
     ]
    },
    {
     "data": {
      "application/vnd.jupyter.widget-view+json": {
       "model_id": "4c764ffb30e948d0bb25cfde9ac31080",
       "version_major": 2,
       "version_minor": 0
      },
      "text/plain": [
       "  0%|          | 0/6 [00:00<?, ?it/s]"
      ]
     },
     "metadata": {},
     "output_type": "display_data"
    },
    {
     "name": "stderr",
     "output_type": "stream",
     "text": [
      "19:42:03 - cmdstanpy - INFO - Chain [1] start processing\n",
      "19:42:03 - cmdstanpy - INFO - Chain [1] done processing\n",
      "19:42:03 - cmdstanpy - INFO - Chain [1] start processing\n",
      "19:42:04 - cmdstanpy - INFO - Chain [1] done processing\n",
      "19:42:04 - cmdstanpy - INFO - Chain [1] start processing\n",
      "19:42:04 - cmdstanpy - INFO - Chain [1] done processing\n",
      "19:42:04 - cmdstanpy - INFO - Chain [1] start processing\n",
      "19:42:04 - cmdstanpy - INFO - Chain [1] done processing\n",
      "19:42:04 - cmdstanpy - INFO - Chain [1] start processing\n",
      "19:42:04 - cmdstanpy - INFO - Chain [1] done processing\n",
      "19:42:05 - cmdstanpy - INFO - Chain [1] start processing\n",
      "19:42:05 - cmdstanpy - INFO - Chain [1] done processing\n",
      "19:42:05 - cmdstanpy - INFO - Chain [1] start processing\n",
      "19:42:05 - cmdstanpy - INFO - Chain [1] done processing\n"
     ]
    },
    {
     "data": {
      "application/vnd.jupyter.widget-view+json": {
       "model_id": "441378f70d4b4d3c9f15023e8b79df54",
       "version_major": 2,
       "version_minor": 0
      },
      "text/plain": [
       "  0%|          | 0/6 [00:00<?, ?it/s]"
      ]
     },
     "metadata": {},
     "output_type": "display_data"
    },
    {
     "name": "stderr",
     "output_type": "stream",
     "text": [
      "19:42:05 - cmdstanpy - INFO - Chain [1] start processing\n",
      "19:42:05 - cmdstanpy - INFO - Chain [1] done processing\n",
      "19:42:05 - cmdstanpy - INFO - Chain [1] start processing\n",
      "19:42:05 - cmdstanpy - INFO - Chain [1] done processing\n",
      "19:42:06 - cmdstanpy - INFO - Chain [1] start processing\n",
      "19:42:06 - cmdstanpy - INFO - Chain [1] done processing\n",
      "19:42:06 - cmdstanpy - INFO - Chain [1] start processing\n",
      "19:42:06 - cmdstanpy - INFO - Chain [1] done processing\n",
      "19:42:06 - cmdstanpy - INFO - Chain [1] start processing\n",
      "19:42:06 - cmdstanpy - INFO - Chain [1] done processing\n",
      "19:42:07 - cmdstanpy - INFO - Chain [1] start processing\n",
      "19:42:07 - cmdstanpy - INFO - Chain [1] done processing\n",
      "19:42:07 - cmdstanpy - INFO - Chain [1] start processing\n",
      "19:42:07 - cmdstanpy - INFO - Chain [1] done processing\n"
     ]
    },
    {
     "data": {
      "application/vnd.jupyter.widget-view+json": {
       "model_id": "7b835454b042497eb82624f804c43ae8",
       "version_major": 2,
       "version_minor": 0
      },
      "text/plain": [
       "  0%|          | 0/6 [00:00<?, ?it/s]"
      ]
     },
     "metadata": {},
     "output_type": "display_data"
    },
    {
     "name": "stderr",
     "output_type": "stream",
     "text": [
      "19:42:07 - cmdstanpy - INFO - Chain [1] start processing\n",
      "19:42:07 - cmdstanpy - INFO - Chain [1] done processing\n",
      "19:42:08 - cmdstanpy - INFO - Chain [1] start processing\n",
      "19:42:08 - cmdstanpy - INFO - Chain [1] done processing\n",
      "19:42:08 - cmdstanpy - INFO - Chain [1] start processing\n",
      "19:42:08 - cmdstanpy - INFO - Chain [1] done processing\n",
      "19:42:08 - cmdstanpy - INFO - Chain [1] start processing\n",
      "19:42:08 - cmdstanpy - INFO - Chain [1] done processing\n",
      "19:42:09 - cmdstanpy - INFO - Chain [1] start processing\n",
      "19:42:09 - cmdstanpy - INFO - Chain [1] done processing\n",
      "19:42:09 - cmdstanpy - INFO - Chain [1] start processing\n",
      "19:42:09 - cmdstanpy - INFO - Chain [1] done processing\n",
      "19:42:09 - cmdstanpy - INFO - Chain [1] start processing\n",
      "19:42:09 - cmdstanpy - INFO - Chain [1] done processing\n"
     ]
    },
    {
     "data": {
      "application/vnd.jupyter.widget-view+json": {
       "model_id": "31e5f597b013467ab53369f077e0f7f8",
       "version_major": 2,
       "version_minor": 0
      },
      "text/plain": [
       "  0%|          | 0/6 [00:00<?, ?it/s]"
      ]
     },
     "metadata": {},
     "output_type": "display_data"
    },
    {
     "name": "stderr",
     "output_type": "stream",
     "text": [
      "19:42:09 - cmdstanpy - INFO - Chain [1] start processing\n",
      "19:42:09 - cmdstanpy - INFO - Chain [1] done processing\n",
      "19:42:10 - cmdstanpy - INFO - Chain [1] start processing\n",
      "19:42:10 - cmdstanpy - INFO - Chain [1] done processing\n",
      "19:42:10 - cmdstanpy - INFO - Chain [1] start processing\n",
      "19:42:10 - cmdstanpy - INFO - Chain [1] done processing\n",
      "19:42:10 - cmdstanpy - INFO - Chain [1] start processing\n",
      "19:42:10 - cmdstanpy - INFO - Chain [1] done processing\n",
      "19:42:11 - cmdstanpy - INFO - Chain [1] start processing\n",
      "19:42:11 - cmdstanpy - INFO - Chain [1] done processing\n",
      "19:42:11 - cmdstanpy - INFO - Chain [1] start processing\n",
      "19:42:11 - cmdstanpy - INFO - Chain [1] done processing\n",
      "19:42:11 - cmdstanpy - INFO - Chain [1] start processing\n",
      "19:42:11 - cmdstanpy - INFO - Chain [1] done processing\n"
     ]
    },
    {
     "data": {
      "application/vnd.jupyter.widget-view+json": {
       "model_id": "d22cd5b89263486fa33e805ae0d6287a",
       "version_major": 2,
       "version_minor": 0
      },
      "text/plain": [
       "  0%|          | 0/6 [00:00<?, ?it/s]"
      ]
     },
     "metadata": {},
     "output_type": "display_data"
    },
    {
     "name": "stderr",
     "output_type": "stream",
     "text": [
      "19:42:11 - cmdstanpy - INFO - Chain [1] start processing\n",
      "19:42:11 - cmdstanpy - INFO - Chain [1] done processing\n",
      "19:42:12 - cmdstanpy - INFO - Chain [1] start processing\n",
      "19:42:12 - cmdstanpy - INFO - Chain [1] done processing\n",
      "19:42:12 - cmdstanpy - INFO - Chain [1] start processing\n",
      "19:42:12 - cmdstanpy - INFO - Chain [1] done processing\n",
      "19:42:12 - cmdstanpy - INFO - Chain [1] start processing\n",
      "19:42:12 - cmdstanpy - INFO - Chain [1] done processing\n",
      "19:42:13 - cmdstanpy - INFO - Chain [1] start processing\n",
      "19:42:13 - cmdstanpy - INFO - Chain [1] done processing\n",
      "19:42:13 - cmdstanpy - INFO - Chain [1] start processing\n",
      "19:42:13 - cmdstanpy - INFO - Chain [1] done processing\n",
      "19:42:13 - cmdstanpy - INFO - Chain [1] start processing\n",
      "19:42:13 - cmdstanpy - INFO - Chain [1] done processing\n"
     ]
    },
    {
     "data": {
      "application/vnd.jupyter.widget-view+json": {
       "model_id": "48e6e50d6877494dac34f4cbfa3644f9",
       "version_major": 2,
       "version_minor": 0
      },
      "text/plain": [
       "  0%|          | 0/6 [00:00<?, ?it/s]"
      ]
     },
     "metadata": {},
     "output_type": "display_data"
    },
    {
     "name": "stderr",
     "output_type": "stream",
     "text": [
      "19:42:13 - cmdstanpy - INFO - Chain [1] start processing\n",
      "19:42:13 - cmdstanpy - INFO - Chain [1] done processing\n",
      "19:42:14 - cmdstanpy - INFO - Chain [1] start processing\n",
      "19:42:14 - cmdstanpy - INFO - Chain [1] done processing\n",
      "19:42:14 - cmdstanpy - INFO - Chain [1] start processing\n",
      "19:42:14 - cmdstanpy - INFO - Chain [1] done processing\n",
      "19:42:14 - cmdstanpy - INFO - Chain [1] start processing\n",
      "19:42:14 - cmdstanpy - INFO - Chain [1] done processing\n",
      "19:42:15 - cmdstanpy - INFO - Chain [1] start processing\n",
      "19:42:15 - cmdstanpy - INFO - Chain [1] done processing\n",
      "19:42:15 - cmdstanpy - INFO - Chain [1] start processing\n",
      "19:42:15 - cmdstanpy - INFO - Chain [1] done processing\n",
      "19:42:15 - cmdstanpy - INFO - Chain [1] start processing\n",
      "19:42:15 - cmdstanpy - INFO - Chain [1] done processing\n"
     ]
    },
    {
     "data": {
      "application/vnd.jupyter.widget-view+json": {
       "model_id": "25f6dd4735924f0c88df00e4bb5f80bf",
       "version_major": 2,
       "version_minor": 0
      },
      "text/plain": [
       "  0%|          | 0/6 [00:00<?, ?it/s]"
      ]
     },
     "metadata": {},
     "output_type": "display_data"
    },
    {
     "name": "stderr",
     "output_type": "stream",
     "text": [
      "19:42:15 - cmdstanpy - INFO - Chain [1] start processing\n",
      "19:42:15 - cmdstanpy - INFO - Chain [1] done processing\n",
      "19:42:16 - cmdstanpy - INFO - Chain [1] start processing\n",
      "19:42:16 - cmdstanpy - INFO - Chain [1] done processing\n",
      "19:42:16 - cmdstanpy - INFO - Chain [1] start processing\n",
      "19:42:16 - cmdstanpy - INFO - Chain [1] done processing\n",
      "19:42:16 - cmdstanpy - INFO - Chain [1] start processing\n",
      "19:42:16 - cmdstanpy - INFO - Chain [1] done processing\n",
      "19:42:17 - cmdstanpy - INFO - Chain [1] start processing\n",
      "19:42:17 - cmdstanpy - INFO - Chain [1] done processing\n",
      "19:42:17 - cmdstanpy - INFO - Chain [1] start processing\n",
      "19:42:17 - cmdstanpy - INFO - Chain [1] done processing\n",
      "19:42:17 - cmdstanpy - INFO - Chain [1] start processing\n",
      "19:42:17 - cmdstanpy - INFO - Chain [1] done processing\n"
     ]
    },
    {
     "data": {
      "application/vnd.jupyter.widget-view+json": {
       "model_id": "24c40142c55f46eea5c46b5728a9c142",
       "version_major": 2,
       "version_minor": 0
      },
      "text/plain": [
       "  0%|          | 0/6 [00:00<?, ?it/s]"
      ]
     },
     "metadata": {},
     "output_type": "display_data"
    },
    {
     "name": "stderr",
     "output_type": "stream",
     "text": [
      "19:42:17 - cmdstanpy - INFO - Chain [1] start processing\n",
      "19:42:18 - cmdstanpy - INFO - Chain [1] done processing\n",
      "19:42:18 - cmdstanpy - INFO - Chain [1] start processing\n",
      "19:42:18 - cmdstanpy - INFO - Chain [1] done processing\n",
      "19:42:18 - cmdstanpy - INFO - Chain [1] start processing\n",
      "19:42:18 - cmdstanpy - INFO - Chain [1] done processing\n",
      "19:42:18 - cmdstanpy - INFO - Chain [1] start processing\n",
      "19:42:18 - cmdstanpy - INFO - Chain [1] done processing\n",
      "19:42:19 - cmdstanpy - INFO - Chain [1] start processing\n",
      "19:42:19 - cmdstanpy - INFO - Chain [1] done processing\n",
      "19:42:19 - cmdstanpy - INFO - Chain [1] start processing\n",
      "19:42:19 - cmdstanpy - INFO - Chain [1] done processing\n",
      "19:42:19 - cmdstanpy - INFO - Chain [1] start processing\n",
      "19:42:20 - cmdstanpy - INFO - Chain [1] done processing\n"
     ]
    },
    {
     "data": {
      "application/vnd.jupyter.widget-view+json": {
       "model_id": "f05082c035eb41eebe4a574cf0025cf8",
       "version_major": 2,
       "version_minor": 0
      },
      "text/plain": [
       "  0%|          | 0/6 [00:00<?, ?it/s]"
      ]
     },
     "metadata": {},
     "output_type": "display_data"
    },
    {
     "name": "stderr",
     "output_type": "stream",
     "text": [
      "19:42:20 - cmdstanpy - INFO - Chain [1] start processing\n",
      "19:42:20 - cmdstanpy - INFO - Chain [1] done processing\n",
      "19:42:20 - cmdstanpy - INFO - Chain [1] start processing\n",
      "19:42:20 - cmdstanpy - INFO - Chain [1] done processing\n",
      "19:42:20 - cmdstanpy - INFO - Chain [1] start processing\n",
      "19:42:20 - cmdstanpy - INFO - Chain [1] done processing\n",
      "19:42:20 - cmdstanpy - INFO - Chain [1] start processing\n",
      "19:42:20 - cmdstanpy - INFO - Chain [1] done processing\n",
      "19:42:21 - cmdstanpy - INFO - Chain [1] start processing\n",
      "19:42:21 - cmdstanpy - INFO - Chain [1] done processing\n",
      "19:42:21 - cmdstanpy - INFO - Chain [1] start processing\n",
      "19:42:21 - cmdstanpy - INFO - Chain [1] done processing\n",
      "19:42:22 - cmdstanpy - INFO - Chain [1] start processing\n",
      "19:42:22 - cmdstanpy - INFO - Chain [1] done processing\n"
     ]
    },
    {
     "data": {
      "application/vnd.jupyter.widget-view+json": {
       "model_id": "417f092a386c48e2808bf05a009ba0c3",
       "version_major": 2,
       "version_minor": 0
      },
      "text/plain": [
       "  0%|          | 0/6 [00:00<?, ?it/s]"
      ]
     },
     "metadata": {},
     "output_type": "display_data"
    },
    {
     "name": "stderr",
     "output_type": "stream",
     "text": [
      "19:42:22 - cmdstanpy - INFO - Chain [1] start processing\n",
      "19:42:22 - cmdstanpy - INFO - Chain [1] done processing\n",
      "19:42:22 - cmdstanpy - INFO - Chain [1] start processing\n",
      "19:42:22 - cmdstanpy - INFO - Chain [1] done processing\n",
      "19:42:22 - cmdstanpy - INFO - Chain [1] start processing\n",
      "19:42:22 - cmdstanpy - INFO - Chain [1] done processing\n",
      "19:42:22 - cmdstanpy - INFO - Chain [1] start processing\n",
      "19:42:23 - cmdstanpy - INFO - Chain [1] done processing\n",
      "19:42:23 - cmdstanpy - INFO - Chain [1] start processing\n",
      "19:42:23 - cmdstanpy - INFO - Chain [1] done processing\n",
      "19:42:23 - cmdstanpy - INFO - Chain [1] start processing\n",
      "19:42:23 - cmdstanpy - INFO - Chain [1] done processing\n",
      "19:42:24 - cmdstanpy - INFO - Chain [1] start processing\n",
      "19:42:24 - cmdstanpy - INFO - Chain [1] done processing\n"
     ]
    },
    {
     "data": {
      "application/vnd.jupyter.widget-view+json": {
       "model_id": "1d6f1e03260048908b009884ce52d0eb",
       "version_major": 2,
       "version_minor": 0
      },
      "text/plain": [
       "  0%|          | 0/6 [00:00<?, ?it/s]"
      ]
     },
     "metadata": {},
     "output_type": "display_data"
    },
    {
     "name": "stderr",
     "output_type": "stream",
     "text": [
      "19:42:24 - cmdstanpy - INFO - Chain [1] start processing\n",
      "19:42:24 - cmdstanpy - INFO - Chain [1] done processing\n",
      "19:42:24 - cmdstanpy - INFO - Chain [1] start processing\n",
      "19:42:24 - cmdstanpy - INFO - Chain [1] done processing\n",
      "19:42:24 - cmdstanpy - INFO - Chain [1] start processing\n",
      "19:42:24 - cmdstanpy - INFO - Chain [1] done processing\n",
      "19:42:25 - cmdstanpy - INFO - Chain [1] start processing\n",
      "19:42:25 - cmdstanpy - INFO - Chain [1] done processing\n",
      "19:42:25 - cmdstanpy - INFO - Chain [1] start processing\n",
      "19:42:25 - cmdstanpy - INFO - Chain [1] done processing\n",
      "19:42:25 - cmdstanpy - INFO - Chain [1] start processing\n",
      "19:42:25 - cmdstanpy - INFO - Chain [1] done processing\n",
      "19:42:26 - cmdstanpy - INFO - Chain [1] start processing\n",
      "19:42:26 - cmdstanpy - INFO - Chain [1] done processing\n"
     ]
    },
    {
     "data": {
      "application/vnd.jupyter.widget-view+json": {
       "model_id": "a3e2f27f946349699c5f6218cc55410c",
       "version_major": 2,
       "version_minor": 0
      },
      "text/plain": [
       "  0%|          | 0/6 [00:00<?, ?it/s]"
      ]
     },
     "metadata": {},
     "output_type": "display_data"
    },
    {
     "name": "stderr",
     "output_type": "stream",
     "text": [
      "19:42:26 - cmdstanpy - INFO - Chain [1] start processing\n",
      "19:42:26 - cmdstanpy - INFO - Chain [1] done processing\n",
      "19:42:26 - cmdstanpy - INFO - Chain [1] start processing\n",
      "19:42:26 - cmdstanpy - INFO - Chain [1] done processing\n",
      "19:42:26 - cmdstanpy - INFO - Chain [1] start processing\n",
      "19:42:26 - cmdstanpy - INFO - Chain [1] done processing\n",
      "19:42:27 - cmdstanpy - INFO - Chain [1] start processing\n",
      "19:42:27 - cmdstanpy - INFO - Chain [1] done processing\n",
      "19:42:27 - cmdstanpy - INFO - Chain [1] start processing\n",
      "19:42:27 - cmdstanpy - INFO - Chain [1] done processing\n",
      "19:42:27 - cmdstanpy - INFO - Chain [1] start processing\n",
      "19:42:27 - cmdstanpy - INFO - Chain [1] done processing\n",
      "19:42:28 - cmdstanpy - INFO - Chain [1] start processing\n",
      "19:42:28 - cmdstanpy - INFO - Chain [1] done processing\n"
     ]
    },
    {
     "data": {
      "application/vnd.jupyter.widget-view+json": {
       "model_id": "130d8d5d65ba40a99ac4b75610350b5b",
       "version_major": 2,
       "version_minor": 0
      },
      "text/plain": [
       "  0%|          | 0/6 [00:00<?, ?it/s]"
      ]
     },
     "metadata": {},
     "output_type": "display_data"
    },
    {
     "name": "stderr",
     "output_type": "stream",
     "text": [
      "19:42:28 - cmdstanpy - INFO - Chain [1] start processing\n",
      "19:42:28 - cmdstanpy - INFO - Chain [1] done processing\n",
      "19:42:28 - cmdstanpy - INFO - Chain [1] start processing\n",
      "19:42:28 - cmdstanpy - INFO - Chain [1] done processing\n",
      "19:42:28 - cmdstanpy - INFO - Chain [1] start processing\n",
      "19:42:28 - cmdstanpy - INFO - Chain [1] done processing\n",
      "19:42:29 - cmdstanpy - INFO - Chain [1] start processing\n",
      "19:42:29 - cmdstanpy - INFO - Chain [1] done processing\n",
      "19:42:29 - cmdstanpy - INFO - Chain [1] start processing\n",
      "19:42:29 - cmdstanpy - INFO - Chain [1] done processing\n",
      "19:42:29 - cmdstanpy - INFO - Chain [1] start processing\n",
      "19:42:29 - cmdstanpy - INFO - Chain [1] done processing\n",
      "19:42:30 - cmdstanpy - INFO - Chain [1] start processing\n",
      "19:42:30 - cmdstanpy - INFO - Chain [1] done processing\n"
     ]
    },
    {
     "data": {
      "application/vnd.jupyter.widget-view+json": {
       "model_id": "ca88a278c77246e8b6f9449b811f5dc0",
       "version_major": 2,
       "version_minor": 0
      },
      "text/plain": [
       "  0%|          | 0/6 [00:00<?, ?it/s]"
      ]
     },
     "metadata": {},
     "output_type": "display_data"
    },
    {
     "name": "stderr",
     "output_type": "stream",
     "text": [
      "19:42:30 - cmdstanpy - INFO - Chain [1] start processing\n",
      "19:42:30 - cmdstanpy - INFO - Chain [1] done processing\n",
      "19:42:30 - cmdstanpy - INFO - Chain [1] start processing\n",
      "19:42:30 - cmdstanpy - INFO - Chain [1] done processing\n",
      "19:42:30 - cmdstanpy - INFO - Chain [1] start processing\n",
      "19:42:30 - cmdstanpy - INFO - Chain [1] done processing\n",
      "19:42:31 - cmdstanpy - INFO - Chain [1] start processing\n",
      "19:42:31 - cmdstanpy - INFO - Chain [1] done processing\n",
      "19:42:31 - cmdstanpy - INFO - Chain [1] start processing\n",
      "19:42:31 - cmdstanpy - INFO - Chain [1] done processing\n",
      "19:42:31 - cmdstanpy - INFO - Chain [1] start processing\n",
      "19:42:31 - cmdstanpy - INFO - Chain [1] done processing\n",
      "19:42:32 - cmdstanpy - INFO - Chain [1] start processing\n",
      "19:42:32 - cmdstanpy - INFO - Chain [1] done processing\n"
     ]
    },
    {
     "data": {
      "application/vnd.jupyter.widget-view+json": {
       "model_id": "b8b79fc90d004722916fe3089db7ece1",
       "version_major": 2,
       "version_minor": 0
      },
      "text/plain": [
       "  0%|          | 0/6 [00:00<?, ?it/s]"
      ]
     },
     "metadata": {},
     "output_type": "display_data"
    },
    {
     "name": "stderr",
     "output_type": "stream",
     "text": [
      "19:42:32 - cmdstanpy - INFO - Chain [1] start processing\n",
      "19:42:32 - cmdstanpy - INFO - Chain [1] done processing\n",
      "19:42:32 - cmdstanpy - INFO - Chain [1] start processing\n",
      "19:42:32 - cmdstanpy - INFO - Chain [1] done processing\n",
      "19:42:32 - cmdstanpy - INFO - Chain [1] start processing\n",
      "19:42:32 - cmdstanpy - INFO - Chain [1] done processing\n",
      "19:42:33 - cmdstanpy - INFO - Chain [1] start processing\n",
      "19:42:33 - cmdstanpy - INFO - Chain [1] done processing\n",
      "19:42:33 - cmdstanpy - INFO - Chain [1] start processing\n",
      "19:42:33 - cmdstanpy - INFO - Chain [1] done processing\n",
      "19:42:33 - cmdstanpy - INFO - Chain [1] start processing\n",
      "19:42:33 - cmdstanpy - INFO - Chain [1] done processing\n",
      "19:42:34 - cmdstanpy - INFO - Chain [1] start processing\n",
      "19:42:34 - cmdstanpy - INFO - Chain [1] done processing\n"
     ]
    },
    {
     "data": {
      "application/vnd.jupyter.widget-view+json": {
       "model_id": "57b803a49d8d4dc6adbe52e3509c7e3b",
       "version_major": 2,
       "version_minor": 0
      },
      "text/plain": [
       "  0%|          | 0/6 [00:00<?, ?it/s]"
      ]
     },
     "metadata": {},
     "output_type": "display_data"
    },
    {
     "name": "stderr",
     "output_type": "stream",
     "text": [
      "19:42:34 - cmdstanpy - INFO - Chain [1] start processing\n",
      "19:42:34 - cmdstanpy - INFO - Chain [1] done processing\n",
      "19:42:34 - cmdstanpy - INFO - Chain [1] start processing\n",
      "19:42:34 - cmdstanpy - INFO - Chain [1] done processing\n",
      "19:42:35 - cmdstanpy - INFO - Chain [1] start processing\n",
      "19:42:35 - cmdstanpy - INFO - Chain [1] done processing\n",
      "19:42:35 - cmdstanpy - INFO - Chain [1] start processing\n",
      "19:42:35 - cmdstanpy - INFO - Chain [1] done processing\n",
      "19:42:35 - cmdstanpy - INFO - Chain [1] start processing\n",
      "19:42:35 - cmdstanpy - INFO - Chain [1] done processing\n",
      "19:42:35 - cmdstanpy - INFO - Chain [1] start processing\n",
      "19:42:35 - cmdstanpy - INFO - Chain [1] done processing\n",
      "19:42:36 - cmdstanpy - INFO - Chain [1] start processing\n",
      "19:42:36 - cmdstanpy - INFO - Chain [1] done processing\n"
     ]
    },
    {
     "data": {
      "application/vnd.jupyter.widget-view+json": {
       "model_id": "95e5972f0091464fb2b28f5f55dbf0aa",
       "version_major": 2,
       "version_minor": 0
      },
      "text/plain": [
       "  0%|          | 0/6 [00:00<?, ?it/s]"
      ]
     },
     "metadata": {},
     "output_type": "display_data"
    },
    {
     "name": "stderr",
     "output_type": "stream",
     "text": [
      "19:42:36 - cmdstanpy - INFO - Chain [1] start processing\n",
      "19:42:36 - cmdstanpy - INFO - Chain [1] done processing\n",
      "19:42:36 - cmdstanpy - INFO - Chain [1] start processing\n",
      "19:42:36 - cmdstanpy - INFO - Chain [1] done processing\n",
      "19:42:37 - cmdstanpy - INFO - Chain [1] start processing\n",
      "19:42:37 - cmdstanpy - INFO - Chain [1] done processing\n",
      "19:42:37 - cmdstanpy - INFO - Chain [1] start processing\n",
      "19:42:37 - cmdstanpy - INFO - Chain [1] done processing\n",
      "19:42:37 - cmdstanpy - INFO - Chain [1] start processing\n",
      "19:42:37 - cmdstanpy - INFO - Chain [1] done processing\n",
      "19:42:38 - cmdstanpy - INFO - Chain [1] start processing\n",
      "19:42:38 - cmdstanpy - INFO - Chain [1] done processing\n",
      "19:42:38 - cmdstanpy - INFO - Chain [1] start processing\n",
      "19:42:38 - cmdstanpy - INFO - Chain [1] done processing\n"
     ]
    },
    {
     "data": {
      "application/vnd.jupyter.widget-view+json": {
       "model_id": "e1f18ec7b1304fe3b09e45ce10eebd4b",
       "version_major": 2,
       "version_minor": 0
      },
      "text/plain": [
       "  0%|          | 0/6 [00:00<?, ?it/s]"
      ]
     },
     "metadata": {},
     "output_type": "display_data"
    },
    {
     "name": "stderr",
     "output_type": "stream",
     "text": [
      "19:42:38 - cmdstanpy - INFO - Chain [1] start processing\n",
      "19:42:38 - cmdstanpy - INFO - Chain [1] done processing\n",
      "19:42:38 - cmdstanpy - INFO - Chain [1] start processing\n",
      "19:42:38 - cmdstanpy - INFO - Chain [1] done processing\n",
      "19:42:39 - cmdstanpy - INFO - Chain [1] start processing\n",
      "19:42:39 - cmdstanpy - INFO - Chain [1] done processing\n",
      "19:42:39 - cmdstanpy - INFO - Chain [1] start processing\n",
      "19:42:39 - cmdstanpy - INFO - Chain [1] done processing\n",
      "19:42:39 - cmdstanpy - INFO - Chain [1] start processing\n",
      "19:42:39 - cmdstanpy - INFO - Chain [1] done processing\n",
      "19:42:40 - cmdstanpy - INFO - Chain [1] start processing\n",
      "19:42:40 - cmdstanpy - INFO - Chain [1] done processing\n",
      "19:42:40 - cmdstanpy - INFO - Chain [1] start processing\n",
      "19:42:40 - cmdstanpy - INFO - Chain [1] done processing\n"
     ]
    },
    {
     "data": {
      "application/vnd.jupyter.widget-view+json": {
       "model_id": "16b8fbe3d5894fdd8b3082bfaa06df3f",
       "version_major": 2,
       "version_minor": 0
      },
      "text/plain": [
       "  0%|          | 0/6 [00:00<?, ?it/s]"
      ]
     },
     "metadata": {},
     "output_type": "display_data"
    },
    {
     "name": "stderr",
     "output_type": "stream",
     "text": [
      "19:42:40 - cmdstanpy - INFO - Chain [1] start processing\n",
      "19:42:40 - cmdstanpy - INFO - Chain [1] done processing\n",
      "19:42:40 - cmdstanpy - INFO - Chain [1] start processing\n",
      "19:42:40 - cmdstanpy - INFO - Chain [1] done processing\n",
      "19:42:41 - cmdstanpy - INFO - Chain [1] start processing\n",
      "19:42:41 - cmdstanpy - INFO - Chain [1] done processing\n",
      "19:42:41 - cmdstanpy - INFO - Chain [1] start processing\n",
      "19:42:41 - cmdstanpy - INFO - Chain [1] done processing\n",
      "19:42:41 - cmdstanpy - INFO - Chain [1] start processing\n",
      "19:42:41 - cmdstanpy - INFO - Chain [1] done processing\n",
      "19:42:42 - cmdstanpy - INFO - Chain [1] start processing\n",
      "19:42:42 - cmdstanpy - INFO - Chain [1] done processing\n",
      "19:42:42 - cmdstanpy - INFO - Chain [1] start processing\n",
      "19:42:42 - cmdstanpy - INFO - Chain [1] done processing\n"
     ]
    },
    {
     "data": {
      "application/vnd.jupyter.widget-view+json": {
       "model_id": "c25e389fdfbc41ff8776c1d8b607f1b7",
       "version_major": 2,
       "version_minor": 0
      },
      "text/plain": [
       "  0%|          | 0/6 [00:00<?, ?it/s]"
      ]
     },
     "metadata": {},
     "output_type": "display_data"
    },
    {
     "name": "stderr",
     "output_type": "stream",
     "text": [
      "19:42:42 - cmdstanpy - INFO - Chain [1] start processing\n",
      "19:42:42 - cmdstanpy - INFO - Chain [1] done processing\n",
      "19:42:42 - cmdstanpy - INFO - Chain [1] start processing\n",
      "19:42:43 - cmdstanpy - INFO - Chain [1] done processing\n",
      "19:42:43 - cmdstanpy - INFO - Chain [1] start processing\n",
      "19:42:43 - cmdstanpy - INFO - Chain [1] done processing\n",
      "19:42:43 - cmdstanpy - INFO - Chain [1] start processing\n",
      "19:42:43 - cmdstanpy - INFO - Chain [1] done processing\n",
      "19:42:43 - cmdstanpy - INFO - Chain [1] start processing\n",
      "19:42:43 - cmdstanpy - INFO - Chain [1] done processing\n",
      "19:42:44 - cmdstanpy - INFO - Chain [1] start processing\n",
      "19:42:44 - cmdstanpy - INFO - Chain [1] done processing\n",
      "19:42:44 - cmdstanpy - INFO - Chain [1] start processing\n",
      "19:42:44 - cmdstanpy - INFO - Chain [1] done processing\n"
     ]
    },
    {
     "data": {
      "application/vnd.jupyter.widget-view+json": {
       "model_id": "ccba5fcefde7407180f03d62ef1f25b8",
       "version_major": 2,
       "version_minor": 0
      },
      "text/plain": [
       "  0%|          | 0/6 [00:00<?, ?it/s]"
      ]
     },
     "metadata": {},
     "output_type": "display_data"
    },
    {
     "name": "stderr",
     "output_type": "stream",
     "text": [
      "19:42:44 - cmdstanpy - INFO - Chain [1] start processing\n",
      "19:42:44 - cmdstanpy - INFO - Chain [1] done processing\n",
      "19:42:44 - cmdstanpy - INFO - Chain [1] start processing\n",
      "19:42:45 - cmdstanpy - INFO - Chain [1] done processing\n",
      "19:42:45 - cmdstanpy - INFO - Chain [1] start processing\n",
      "19:42:45 - cmdstanpy - INFO - Chain [1] done processing\n",
      "19:42:45 - cmdstanpy - INFO - Chain [1] start processing\n",
      "19:42:45 - cmdstanpy - INFO - Chain [1] done processing\n",
      "19:42:45 - cmdstanpy - INFO - Chain [1] start processing\n",
      "19:42:46 - cmdstanpy - INFO - Chain [1] done processing\n",
      "19:42:46 - cmdstanpy - INFO - Chain [1] start processing\n",
      "19:42:46 - cmdstanpy - INFO - Chain [1] done processing\n",
      "19:42:46 - cmdstanpy - INFO - Chain [1] start processing\n",
      "19:42:46 - cmdstanpy - INFO - Chain [1] done processing\n"
     ]
    },
    {
     "data": {
      "application/vnd.jupyter.widget-view+json": {
       "model_id": "0304ff40c31041769fbd4ecf87ea1c9c",
       "version_major": 2,
       "version_minor": 0
      },
      "text/plain": [
       "  0%|          | 0/6 [00:00<?, ?it/s]"
      ]
     },
     "metadata": {},
     "output_type": "display_data"
    },
    {
     "name": "stderr",
     "output_type": "stream",
     "text": [
      "19:42:46 - cmdstanpy - INFO - Chain [1] start processing\n",
      "19:42:46 - cmdstanpy - INFO - Chain [1] done processing\n",
      "19:42:47 - cmdstanpy - INFO - Chain [1] start processing\n",
      "19:42:47 - cmdstanpy - INFO - Chain [1] done processing\n",
      "19:42:47 - cmdstanpy - INFO - Chain [1] start processing\n",
      "19:42:47 - cmdstanpy - INFO - Chain [1] done processing\n",
      "19:42:47 - cmdstanpy - INFO - Chain [1] start processing\n",
      "19:42:47 - cmdstanpy - INFO - Chain [1] done processing\n",
      "19:42:48 - cmdstanpy - INFO - Chain [1] start processing\n",
      "19:42:48 - cmdstanpy - INFO - Chain [1] done processing\n",
      "19:42:48 - cmdstanpy - INFO - Chain [1] start processing\n",
      "19:42:48 - cmdstanpy - INFO - Chain [1] done processing\n",
      "19:42:48 - cmdstanpy - INFO - Chain [1] start processing\n",
      "19:42:48 - cmdstanpy - INFO - Chain [1] done processing\n"
     ]
    },
    {
     "data": {
      "application/vnd.jupyter.widget-view+json": {
       "model_id": "df15e401c8c64d9e8771ccac124303c0",
       "version_major": 2,
       "version_minor": 0
      },
      "text/plain": [
       "  0%|          | 0/6 [00:00<?, ?it/s]"
      ]
     },
     "metadata": {},
     "output_type": "display_data"
    },
    {
     "name": "stderr",
     "output_type": "stream",
     "text": [
      "19:42:48 - cmdstanpy - INFO - Chain [1] start processing\n",
      "19:42:48 - cmdstanpy - INFO - Chain [1] done processing\n",
      "19:42:49 - cmdstanpy - INFO - Chain [1] start processing\n",
      "19:42:49 - cmdstanpy - INFO - Chain [1] done processing\n",
      "19:42:49 - cmdstanpy - INFO - Chain [1] start processing\n",
      "19:42:49 - cmdstanpy - INFO - Chain [1] done processing\n",
      "19:42:49 - cmdstanpy - INFO - Chain [1] start processing\n",
      "19:42:49 - cmdstanpy - INFO - Chain [1] done processing\n",
      "19:42:50 - cmdstanpy - INFO - Chain [1] start processing\n",
      "19:42:50 - cmdstanpy - INFO - Chain [1] done processing\n",
      "19:42:50 - cmdstanpy - INFO - Chain [1] start processing\n",
      "19:42:50 - cmdstanpy - INFO - Chain [1] done processing\n",
      "19:42:50 - cmdstanpy - INFO - Chain [1] start processing\n",
      "19:42:50 - cmdstanpy - INFO - Chain [1] done processing\n"
     ]
    },
    {
     "data": {
      "application/vnd.jupyter.widget-view+json": {
       "model_id": "dbd239f6a0294476ac0bca7fe4281ec9",
       "version_major": 2,
       "version_minor": 0
      },
      "text/plain": [
       "  0%|          | 0/6 [00:00<?, ?it/s]"
      ]
     },
     "metadata": {},
     "output_type": "display_data"
    },
    {
     "name": "stderr",
     "output_type": "stream",
     "text": [
      "19:42:50 - cmdstanpy - INFO - Chain [1] start processing\n",
      "19:42:50 - cmdstanpy - INFO - Chain [1] done processing\n",
      "19:42:51 - cmdstanpy - INFO - Chain [1] start processing\n",
      "19:42:51 - cmdstanpy - INFO - Chain [1] done processing\n",
      "19:42:51 - cmdstanpy - INFO - Chain [1] start processing\n",
      "19:42:51 - cmdstanpy - INFO - Chain [1] done processing\n",
      "19:42:51 - cmdstanpy - INFO - Chain [1] start processing\n",
      "19:42:51 - cmdstanpy - INFO - Chain [1] done processing\n",
      "19:42:52 - cmdstanpy - INFO - Chain [1] start processing\n",
      "19:42:52 - cmdstanpy - INFO - Chain [1] done processing\n",
      "19:42:52 - cmdstanpy - INFO - Chain [1] start processing\n",
      "19:42:52 - cmdstanpy - INFO - Chain [1] done processing\n",
      "19:42:52 - cmdstanpy - INFO - Chain [1] start processing\n",
      "19:42:52 - cmdstanpy - INFO - Chain [1] done processing\n"
     ]
    },
    {
     "data": {
      "application/vnd.jupyter.widget-view+json": {
       "model_id": "c025378f4d6b46749b45ab60b0ff63c5",
       "version_major": 2,
       "version_minor": 0
      },
      "text/plain": [
       "  0%|          | 0/6 [00:00<?, ?it/s]"
      ]
     },
     "metadata": {},
     "output_type": "display_data"
    },
    {
     "name": "stderr",
     "output_type": "stream",
     "text": [
      "19:42:52 - cmdstanpy - INFO - Chain [1] start processing\n",
      "19:42:53 - cmdstanpy - INFO - Chain [1] done processing\n",
      "19:42:53 - cmdstanpy - INFO - Chain [1] start processing\n",
      "19:42:53 - cmdstanpy - INFO - Chain [1] done processing\n",
      "19:42:53 - cmdstanpy - INFO - Chain [1] start processing\n",
      "19:42:53 - cmdstanpy - INFO - Chain [1] done processing\n",
      "19:42:53 - cmdstanpy - INFO - Chain [1] start processing\n",
      "19:42:53 - cmdstanpy - INFO - Chain [1] done processing\n",
      "19:42:54 - cmdstanpy - INFO - Chain [1] start processing\n",
      "19:42:54 - cmdstanpy - INFO - Chain [1] done processing\n",
      "19:42:54 - cmdstanpy - INFO - Chain [1] start processing\n",
      "19:42:54 - cmdstanpy - INFO - Chain [1] done processing\n",
      "19:42:55 - cmdstanpy - INFO - Chain [1] start processing\n",
      "19:42:55 - cmdstanpy - INFO - Chain [1] done processing\n"
     ]
    },
    {
     "data": {
      "application/vnd.jupyter.widget-view+json": {
       "model_id": "5fce8ae15e654d31bafd2da9ee3f05ae",
       "version_major": 2,
       "version_minor": 0
      },
      "text/plain": [
       "  0%|          | 0/6 [00:00<?, ?it/s]"
      ]
     },
     "metadata": {},
     "output_type": "display_data"
    },
    {
     "name": "stderr",
     "output_type": "stream",
     "text": [
      "19:42:55 - cmdstanpy - INFO - Chain [1] start processing\n",
      "19:42:55 - cmdstanpy - INFO - Chain [1] done processing\n",
      "19:42:55 - cmdstanpy - INFO - Chain [1] start processing\n",
      "19:42:55 - cmdstanpy - INFO - Chain [1] done processing\n",
      "19:42:55 - cmdstanpy - INFO - Chain [1] start processing\n",
      "19:42:55 - cmdstanpy - INFO - Chain [1] done processing\n",
      "19:42:56 - cmdstanpy - INFO - Chain [1] start processing\n",
      "19:42:56 - cmdstanpy - INFO - Chain [1] done processing\n",
      "19:42:56 - cmdstanpy - INFO - Chain [1] start processing\n",
      "19:42:56 - cmdstanpy - INFO - Chain [1] done processing\n",
      "19:42:56 - cmdstanpy - INFO - Chain [1] start processing\n",
      "19:42:56 - cmdstanpy - INFO - Chain [1] done processing\n",
      "19:42:57 - cmdstanpy - INFO - Chain [1] start processing\n",
      "19:42:57 - cmdstanpy - INFO - Chain [1] done processing\n"
     ]
    },
    {
     "data": {
      "application/vnd.jupyter.widget-view+json": {
       "model_id": "81849bda6aca4450870c979e15aac19b",
       "version_major": 2,
       "version_minor": 0
      },
      "text/plain": [
       "  0%|          | 0/6 [00:00<?, ?it/s]"
      ]
     },
     "metadata": {},
     "output_type": "display_data"
    },
    {
     "name": "stderr",
     "output_type": "stream",
     "text": [
      "19:42:57 - cmdstanpy - INFO - Chain [1] start processing\n",
      "19:42:57 - cmdstanpy - INFO - Chain [1] done processing\n",
      "19:42:57 - cmdstanpy - INFO - Chain [1] start processing\n",
      "19:42:57 - cmdstanpy - INFO - Chain [1] done processing\n",
      "19:42:57 - cmdstanpy - INFO - Chain [1] start processing\n",
      "19:42:57 - cmdstanpy - INFO - Chain [1] done processing\n",
      "19:42:58 - cmdstanpy - INFO - Chain [1] start processing\n",
      "19:42:58 - cmdstanpy - INFO - Chain [1] done processing\n",
      "19:42:58 - cmdstanpy - INFO - Chain [1] start processing\n",
      "19:42:58 - cmdstanpy - INFO - Chain [1] done processing\n",
      "19:42:58 - cmdstanpy - INFO - Chain [1] start processing\n",
      "19:42:58 - cmdstanpy - INFO - Chain [1] done processing\n",
      "19:42:59 - cmdstanpy - INFO - Chain [1] start processing\n",
      "19:42:59 - cmdstanpy - INFO - Chain [1] done processing\n"
     ]
    },
    {
     "data": {
      "application/vnd.jupyter.widget-view+json": {
       "model_id": "faa8c1442c6e44d6860201d6d05062b2",
       "version_major": 2,
       "version_minor": 0
      },
      "text/plain": [
       "  0%|          | 0/6 [00:00<?, ?it/s]"
      ]
     },
     "metadata": {},
     "output_type": "display_data"
    },
    {
     "name": "stderr",
     "output_type": "stream",
     "text": [
      "19:42:59 - cmdstanpy - INFO - Chain [1] start processing\n",
      "19:42:59 - cmdstanpy - INFO - Chain [1] done processing\n",
      "19:42:59 - cmdstanpy - INFO - Chain [1] start processing\n",
      "19:42:59 - cmdstanpy - INFO - Chain [1] done processing\n",
      "19:42:59 - cmdstanpy - INFO - Chain [1] start processing\n",
      "19:42:59 - cmdstanpy - INFO - Chain [1] done processing\n",
      "19:43:00 - cmdstanpy - INFO - Chain [1] start processing\n",
      "19:43:00 - cmdstanpy - INFO - Chain [1] done processing\n",
      "19:43:00 - cmdstanpy - INFO - Chain [1] start processing\n",
      "19:43:00 - cmdstanpy - INFO - Chain [1] done processing\n",
      "19:43:00 - cmdstanpy - INFO - Chain [1] start processing\n",
      "19:43:00 - cmdstanpy - INFO - Chain [1] done processing\n",
      "19:43:01 - cmdstanpy - INFO - Chain [1] start processing\n",
      "19:43:01 - cmdstanpy - INFO - Chain [1] done processing\n"
     ]
    },
    {
     "data": {
      "application/vnd.jupyter.widget-view+json": {
       "model_id": "77462a536f3443849c48814486d1d792",
       "version_major": 2,
       "version_minor": 0
      },
      "text/plain": [
       "  0%|          | 0/6 [00:00<?, ?it/s]"
      ]
     },
     "metadata": {},
     "output_type": "display_data"
    },
    {
     "name": "stderr",
     "output_type": "stream",
     "text": [
      "19:43:01 - cmdstanpy - INFO - Chain [1] start processing\n",
      "19:43:01 - cmdstanpy - INFO - Chain [1] done processing\n",
      "19:43:01 - cmdstanpy - INFO - Chain [1] start processing\n",
      "19:43:01 - cmdstanpy - INFO - Chain [1] done processing\n",
      "19:43:01 - cmdstanpy - INFO - Chain [1] start processing\n",
      "19:43:01 - cmdstanpy - INFO - Chain [1] done processing\n",
      "19:43:02 - cmdstanpy - INFO - Chain [1] start processing\n",
      "19:43:02 - cmdstanpy - INFO - Chain [1] done processing\n",
      "19:43:02 - cmdstanpy - INFO - Chain [1] start processing\n",
      "19:43:02 - cmdstanpy - INFO - Chain [1] done processing\n",
      "19:43:02 - cmdstanpy - INFO - Chain [1] start processing\n",
      "19:43:02 - cmdstanpy - INFO - Chain [1] done processing\n",
      "19:43:03 - cmdstanpy - INFO - Chain [1] start processing\n",
      "19:43:03 - cmdstanpy - INFO - Chain [1] done processing\n"
     ]
    },
    {
     "data": {
      "application/vnd.jupyter.widget-view+json": {
       "model_id": "81dbeb6a70294db7887dbcdc3dd9e1ca",
       "version_major": 2,
       "version_minor": 0
      },
      "text/plain": [
       "  0%|          | 0/6 [00:00<?, ?it/s]"
      ]
     },
     "metadata": {},
     "output_type": "display_data"
    },
    {
     "name": "stderr",
     "output_type": "stream",
     "text": [
      "19:43:03 - cmdstanpy - INFO - Chain [1] start processing\n",
      "19:43:03 - cmdstanpy - INFO - Chain [1] done processing\n",
      "19:43:03 - cmdstanpy - INFO - Chain [1] start processing\n",
      "19:43:03 - cmdstanpy - INFO - Chain [1] done processing\n",
      "19:43:03 - cmdstanpy - INFO - Chain [1] start processing\n",
      "19:43:04 - cmdstanpy - INFO - Chain [1] done processing\n",
      "19:43:04 - cmdstanpy - INFO - Chain [1] start processing\n",
      "19:43:04 - cmdstanpy - INFO - Chain [1] done processing\n",
      "19:43:04 - cmdstanpy - INFO - Chain [1] start processing\n",
      "19:43:04 - cmdstanpy - INFO - Chain [1] done processing\n",
      "19:43:04 - cmdstanpy - INFO - Chain [1] start processing\n",
      "19:43:04 - cmdstanpy - INFO - Chain [1] done processing\n",
      "19:43:05 - cmdstanpy - INFO - Chain [1] start processing\n",
      "19:43:05 - cmdstanpy - INFO - Chain [1] done processing\n"
     ]
    },
    {
     "data": {
      "application/vnd.jupyter.widget-view+json": {
       "model_id": "00955ff8e2c6403996fdf5f0d0d92bb2",
       "version_major": 2,
       "version_minor": 0
      },
      "text/plain": [
       "  0%|          | 0/6 [00:00<?, ?it/s]"
      ]
     },
     "metadata": {},
     "output_type": "display_data"
    },
    {
     "name": "stderr",
     "output_type": "stream",
     "text": [
      "19:43:05 - cmdstanpy - INFO - Chain [1] start processing\n",
      "19:43:05 - cmdstanpy - INFO - Chain [1] done processing\n",
      "19:43:05 - cmdstanpy - INFO - Chain [1] start processing\n",
      "19:43:05 - cmdstanpy - INFO - Chain [1] done processing\n",
      "19:43:06 - cmdstanpy - INFO - Chain [1] start processing\n",
      "19:43:06 - cmdstanpy - INFO - Chain [1] done processing\n",
      "19:43:06 - cmdstanpy - INFO - Chain [1] start processing\n",
      "19:43:06 - cmdstanpy - INFO - Chain [1] done processing\n",
      "19:43:06 - cmdstanpy - INFO - Chain [1] start processing\n",
      "19:43:06 - cmdstanpy - INFO - Chain [1] done processing\n",
      "19:43:07 - cmdstanpy - INFO - Chain [1] start processing\n",
      "19:43:07 - cmdstanpy - INFO - Chain [1] done processing\n",
      "19:43:07 - cmdstanpy - INFO - Chain [1] start processing\n",
      "19:43:07 - cmdstanpy - INFO - Chain [1] done processing\n"
     ]
    },
    {
     "data": {
      "application/vnd.jupyter.widget-view+json": {
       "model_id": "aea4173f399945089ad6681c08c9d3f1",
       "version_major": 2,
       "version_minor": 0
      },
      "text/plain": [
       "  0%|          | 0/6 [00:00<?, ?it/s]"
      ]
     },
     "metadata": {},
     "output_type": "display_data"
    },
    {
     "name": "stderr",
     "output_type": "stream",
     "text": [
      "19:43:07 - cmdstanpy - INFO - Chain [1] start processing\n",
      "19:43:07 - cmdstanpy - INFO - Chain [1] done processing\n",
      "19:43:07 - cmdstanpy - INFO - Chain [1] start processing\n",
      "19:43:07 - cmdstanpy - INFO - Chain [1] done processing\n",
      "19:43:08 - cmdstanpy - INFO - Chain [1] start processing\n",
      "19:43:08 - cmdstanpy - INFO - Chain [1] done processing\n",
      "19:43:08 - cmdstanpy - INFO - Chain [1] start processing\n",
      "19:43:08 - cmdstanpy - INFO - Chain [1] done processing\n",
      "19:43:08 - cmdstanpy - INFO - Chain [1] start processing\n",
      "19:43:08 - cmdstanpy - INFO - Chain [1] done processing\n",
      "19:43:09 - cmdstanpy - INFO - Chain [1] start processing\n",
      "19:43:09 - cmdstanpy - INFO - Chain [1] done processing\n",
      "19:43:09 - cmdstanpy - INFO - Chain [1] start processing\n",
      "19:43:09 - cmdstanpy - INFO - Chain [1] done processing\n"
     ]
    },
    {
     "data": {
      "application/vnd.jupyter.widget-view+json": {
       "model_id": "67e76dd5158346d3974bdcf972bed587",
       "version_major": 2,
       "version_minor": 0
      },
      "text/plain": [
       "  0%|          | 0/6 [00:00<?, ?it/s]"
      ]
     },
     "metadata": {},
     "output_type": "display_data"
    },
    {
     "name": "stderr",
     "output_type": "stream",
     "text": [
      "19:43:09 - cmdstanpy - INFO - Chain [1] start processing\n",
      "19:43:09 - cmdstanpy - INFO - Chain [1] done processing\n",
      "19:43:09 - cmdstanpy - INFO - Chain [1] start processing\n",
      "19:43:09 - cmdstanpy - INFO - Chain [1] done processing\n",
      "19:43:10 - cmdstanpy - INFO - Chain [1] start processing\n",
      "19:43:10 - cmdstanpy - INFO - Chain [1] done processing\n",
      "19:43:10 - cmdstanpy - INFO - Chain [1] start processing\n",
      "19:43:10 - cmdstanpy - INFO - Chain [1] done processing\n",
      "19:43:10 - cmdstanpy - INFO - Chain [1] start processing\n",
      "19:43:10 - cmdstanpy - INFO - Chain [1] done processing\n",
      "19:43:11 - cmdstanpy - INFO - Chain [1] start processing\n",
      "19:43:11 - cmdstanpy - INFO - Chain [1] done processing\n",
      "19:43:11 - cmdstanpy - INFO - Chain [1] start processing\n",
      "19:43:11 - cmdstanpy - INFO - Chain [1] done processing\n"
     ]
    },
    {
     "data": {
      "application/vnd.jupyter.widget-view+json": {
       "model_id": "fec837c387f64a85bcad1d5be1427a79",
       "version_major": 2,
       "version_minor": 0
      },
      "text/plain": [
       "  0%|          | 0/6 [00:00<?, ?it/s]"
      ]
     },
     "metadata": {},
     "output_type": "display_data"
    },
    {
     "name": "stderr",
     "output_type": "stream",
     "text": [
      "19:43:11 - cmdstanpy - INFO - Chain [1] start processing\n",
      "19:43:11 - cmdstanpy - INFO - Chain [1] done processing\n",
      "19:43:11 - cmdstanpy - INFO - Chain [1] start processing\n",
      "19:43:11 - cmdstanpy - INFO - Chain [1] done processing\n",
      "19:43:12 - cmdstanpy - INFO - Chain [1] start processing\n",
      "19:43:12 - cmdstanpy - INFO - Chain [1] done processing\n",
      "19:43:12 - cmdstanpy - INFO - Chain [1] start processing\n",
      "19:43:12 - cmdstanpy - INFO - Chain [1] done processing\n",
      "19:43:12 - cmdstanpy - INFO - Chain [1] start processing\n",
      "19:43:12 - cmdstanpy - INFO - Chain [1] done processing\n",
      "19:43:13 - cmdstanpy - INFO - Chain [1] start processing\n",
      "19:43:13 - cmdstanpy - INFO - Chain [1] done processing\n",
      "19:43:13 - cmdstanpy - INFO - Chain [1] start processing\n",
      "19:43:13 - cmdstanpy - INFO - Chain [1] done processing\n"
     ]
    },
    {
     "data": {
      "application/vnd.jupyter.widget-view+json": {
       "model_id": "00b4bf7214a845548051890f102acbf1",
       "version_major": 2,
       "version_minor": 0
      },
      "text/plain": [
       "  0%|          | 0/6 [00:00<?, ?it/s]"
      ]
     },
     "metadata": {},
     "output_type": "display_data"
    },
    {
     "name": "stderr",
     "output_type": "stream",
     "text": [
      "19:43:13 - cmdstanpy - INFO - Chain [1] start processing\n",
      "19:43:13 - cmdstanpy - INFO - Chain [1] done processing\n",
      "19:43:13 - cmdstanpy - INFO - Chain [1] start processing\n",
      "19:43:14 - cmdstanpy - INFO - Chain [1] done processing\n",
      "19:43:14 - cmdstanpy - INFO - Chain [1] start processing\n",
      "19:43:14 - cmdstanpy - INFO - Chain [1] done processing\n",
      "19:43:14 - cmdstanpy - INFO - Chain [1] start processing\n",
      "19:43:14 - cmdstanpy - INFO - Chain [1] done processing\n",
      "19:43:14 - cmdstanpy - INFO - Chain [1] start processing\n",
      "19:43:14 - cmdstanpy - INFO - Chain [1] done processing\n",
      "19:43:15 - cmdstanpy - INFO - Chain [1] start processing\n",
      "19:43:15 - cmdstanpy - INFO - Chain [1] done processing\n",
      "19:43:15 - cmdstanpy - INFO - Chain [1] start processing\n",
      "19:43:15 - cmdstanpy - INFO - Chain [1] done processing\n"
     ]
    },
    {
     "data": {
      "application/vnd.jupyter.widget-view+json": {
       "model_id": "9fdf80bab9f148f89e06ca3df9c18b37",
       "version_major": 2,
       "version_minor": 0
      },
      "text/plain": [
       "  0%|          | 0/6 [00:00<?, ?it/s]"
      ]
     },
     "metadata": {},
     "output_type": "display_data"
    },
    {
     "name": "stderr",
     "output_type": "stream",
     "text": [
      "19:43:15 - cmdstanpy - INFO - Chain [1] start processing\n",
      "19:43:15 - cmdstanpy - INFO - Chain [1] done processing\n",
      "19:43:16 - cmdstanpy - INFO - Chain [1] start processing\n",
      "19:43:16 - cmdstanpy - INFO - Chain [1] done processing\n",
      "19:43:16 - cmdstanpy - INFO - Chain [1] start processing\n",
      "19:43:16 - cmdstanpy - INFO - Chain [1] done processing\n",
      "19:43:16 - cmdstanpy - INFO - Chain [1] start processing\n",
      "19:43:16 - cmdstanpy - INFO - Chain [1] done processing\n",
      "19:43:16 - cmdstanpy - INFO - Chain [1] start processing\n",
      "19:43:16 - cmdstanpy - INFO - Chain [1] done processing\n",
      "19:43:17 - cmdstanpy - INFO - Chain [1] start processing\n",
      "19:43:17 - cmdstanpy - INFO - Chain [1] done processing\n",
      "19:43:17 - cmdstanpy - INFO - Chain [1] start processing\n",
      "19:43:17 - cmdstanpy - INFO - Chain [1] done processing\n"
     ]
    },
    {
     "data": {
      "application/vnd.jupyter.widget-view+json": {
       "model_id": "1e8b48d1bc794e0188910f9f3bc05a85",
       "version_major": 2,
       "version_minor": 0
      },
      "text/plain": [
       "  0%|          | 0/6 [00:00<?, ?it/s]"
      ]
     },
     "metadata": {},
     "output_type": "display_data"
    },
    {
     "name": "stderr",
     "output_type": "stream",
     "text": [
      "19:43:17 - cmdstanpy - INFO - Chain [1] start processing\n",
      "19:43:17 - cmdstanpy - INFO - Chain [1] done processing\n",
      "19:43:17 - cmdstanpy - INFO - Chain [1] start processing\n",
      "19:43:18 - cmdstanpy - INFO - Chain [1] done processing\n",
      "19:43:18 - cmdstanpy - INFO - Chain [1] start processing\n",
      "19:43:18 - cmdstanpy - INFO - Chain [1] done processing\n",
      "19:43:18 - cmdstanpy - INFO - Chain [1] start processing\n",
      "19:43:18 - cmdstanpy - INFO - Chain [1] done processing\n",
      "19:43:18 - cmdstanpy - INFO - Chain [1] start processing\n",
      "19:43:18 - cmdstanpy - INFO - Chain [1] done processing\n",
      "19:43:19 - cmdstanpy - INFO - Chain [1] start processing\n",
      "19:43:19 - cmdstanpy - INFO - Chain [1] done processing\n",
      "19:43:19 - cmdstanpy - INFO - Chain [1] start processing\n",
      "19:43:19 - cmdstanpy - INFO - Chain [1] done processing\n"
     ]
    },
    {
     "data": {
      "application/vnd.jupyter.widget-view+json": {
       "model_id": "578ffb6a26e24fd4bbc5bd986ad5e72f",
       "version_major": 2,
       "version_minor": 0
      },
      "text/plain": [
       "  0%|          | 0/6 [00:00<?, ?it/s]"
      ]
     },
     "metadata": {},
     "output_type": "display_data"
    },
    {
     "name": "stderr",
     "output_type": "stream",
     "text": [
      "19:43:19 - cmdstanpy - INFO - Chain [1] start processing\n",
      "19:43:19 - cmdstanpy - INFO - Chain [1] done processing\n",
      "19:43:20 - cmdstanpy - INFO - Chain [1] start processing\n",
      "19:43:20 - cmdstanpy - INFO - Chain [1] done processing\n",
      "19:43:20 - cmdstanpy - INFO - Chain [1] start processing\n",
      "19:43:20 - cmdstanpy - INFO - Chain [1] done processing\n",
      "19:43:20 - cmdstanpy - INFO - Chain [1] start processing\n",
      "19:43:20 - cmdstanpy - INFO - Chain [1] done processing\n",
      "19:43:21 - cmdstanpy - INFO - Chain [1] start processing\n",
      "19:43:21 - cmdstanpy - INFO - Chain [1] done processing\n",
      "19:43:21 - cmdstanpy - INFO - Chain [1] start processing\n",
      "19:43:21 - cmdstanpy - INFO - Chain [1] done processing\n",
      "19:43:21 - cmdstanpy - INFO - Chain [1] start processing\n",
      "19:43:21 - cmdstanpy - INFO - Chain [1] done processing\n"
     ]
    },
    {
     "data": {
      "application/vnd.jupyter.widget-view+json": {
       "model_id": "7399adec82014072aa05eedcf95fb988",
       "version_major": 2,
       "version_minor": 0
      },
      "text/plain": [
       "  0%|          | 0/6 [00:00<?, ?it/s]"
      ]
     },
     "metadata": {},
     "output_type": "display_data"
    },
    {
     "name": "stderr",
     "output_type": "stream",
     "text": [
      "19:43:21 - cmdstanpy - INFO - Chain [1] start processing\n",
      "19:43:21 - cmdstanpy - INFO - Chain [1] done processing\n",
      "19:43:22 - cmdstanpy - INFO - Chain [1] start processing\n",
      "19:43:22 - cmdstanpy - INFO - Chain [1] done processing\n",
      "19:43:22 - cmdstanpy - INFO - Chain [1] start processing\n",
      "19:43:22 - cmdstanpy - INFO - Chain [1] done processing\n",
      "19:43:22 - cmdstanpy - INFO - Chain [1] start processing\n",
      "19:43:22 - cmdstanpy - INFO - Chain [1] done processing\n",
      "19:43:23 - cmdstanpy - INFO - Chain [1] start processing\n",
      "19:43:23 - cmdstanpy - INFO - Chain [1] done processing\n",
      "19:43:23 - cmdstanpy - INFO - Chain [1] start processing\n",
      "19:43:23 - cmdstanpy - INFO - Chain [1] done processing\n",
      "19:43:23 - cmdstanpy - INFO - Chain [1] start processing\n",
      "19:43:23 - cmdstanpy - INFO - Chain [1] done processing\n"
     ]
    },
    {
     "data": {
      "application/vnd.jupyter.widget-view+json": {
       "model_id": "90041b2d999c480e9eb1c1c20a271bf4",
       "version_major": 2,
       "version_minor": 0
      },
      "text/plain": [
       "  0%|          | 0/6 [00:00<?, ?it/s]"
      ]
     },
     "metadata": {},
     "output_type": "display_data"
    },
    {
     "name": "stderr",
     "output_type": "stream",
     "text": [
      "19:43:23 - cmdstanpy - INFO - Chain [1] start processing\n",
      "19:43:23 - cmdstanpy - INFO - Chain [1] done processing\n",
      "19:43:24 - cmdstanpy - INFO - Chain [1] start processing\n",
      "19:43:24 - cmdstanpy - INFO - Chain [1] done processing\n",
      "19:43:24 - cmdstanpy - INFO - Chain [1] start processing\n",
      "19:43:24 - cmdstanpy - INFO - Chain [1] done processing\n",
      "19:43:24 - cmdstanpy - INFO - Chain [1] start processing\n",
      "19:43:24 - cmdstanpy - INFO - Chain [1] done processing\n",
      "19:43:25 - cmdstanpy - INFO - Chain [1] start processing\n",
      "19:43:25 - cmdstanpy - INFO - Chain [1] done processing\n",
      "19:43:25 - cmdstanpy - INFO - Chain [1] start processing\n",
      "19:43:25 - cmdstanpy - INFO - Chain [1] done processing\n",
      "19:43:25 - cmdstanpy - INFO - Chain [1] start processing\n",
      "19:43:25 - cmdstanpy - INFO - Chain [1] done processing\n"
     ]
    },
    {
     "data": {
      "application/vnd.jupyter.widget-view+json": {
       "model_id": "2f6000ff2b104335a670f4a174654a25",
       "version_major": 2,
       "version_minor": 0
      },
      "text/plain": [
       "  0%|          | 0/6 [00:00<?, ?it/s]"
      ]
     },
     "metadata": {},
     "output_type": "display_data"
    },
    {
     "name": "stderr",
     "output_type": "stream",
     "text": [
      "19:43:25 - cmdstanpy - INFO - Chain [1] start processing\n",
      "19:43:25 - cmdstanpy - INFO - Chain [1] done processing\n",
      "19:43:26 - cmdstanpy - INFO - Chain [1] start processing\n",
      "19:43:26 - cmdstanpy - INFO - Chain [1] done processing\n",
      "19:43:26 - cmdstanpy - INFO - Chain [1] start processing\n",
      "19:43:26 - cmdstanpy - INFO - Chain [1] done processing\n",
      "19:43:26 - cmdstanpy - INFO - Chain [1] start processing\n",
      "19:43:26 - cmdstanpy - INFO - Chain [1] done processing\n",
      "19:43:27 - cmdstanpy - INFO - Chain [1] start processing\n",
      "19:43:27 - cmdstanpy - INFO - Chain [1] done processing\n",
      "19:43:27 - cmdstanpy - INFO - Chain [1] start processing\n",
      "19:43:27 - cmdstanpy - INFO - Chain [1] done processing\n",
      "19:43:27 - cmdstanpy - INFO - Chain [1] start processing\n",
      "19:43:27 - cmdstanpy - INFO - Chain [1] done processing\n"
     ]
    },
    {
     "data": {
      "application/vnd.jupyter.widget-view+json": {
       "model_id": "36fbd9de5a7c4eff91b3906d6486133e",
       "version_major": 2,
       "version_minor": 0
      },
      "text/plain": [
       "  0%|          | 0/6 [00:00<?, ?it/s]"
      ]
     },
     "metadata": {},
     "output_type": "display_data"
    },
    {
     "name": "stderr",
     "output_type": "stream",
     "text": [
      "19:43:27 - cmdstanpy - INFO - Chain [1] start processing\n",
      "19:43:27 - cmdstanpy - INFO - Chain [1] done processing\n",
      "19:43:28 - cmdstanpy - INFO - Chain [1] start processing\n",
      "19:43:28 - cmdstanpy - INFO - Chain [1] done processing\n",
      "19:43:28 - cmdstanpy - INFO - Chain [1] start processing\n",
      "19:43:28 - cmdstanpy - INFO - Chain [1] done processing\n",
      "19:43:28 - cmdstanpy - INFO - Chain [1] start processing\n",
      "19:43:28 - cmdstanpy - INFO - Chain [1] done processing\n",
      "19:43:29 - cmdstanpy - INFO - Chain [1] start processing\n",
      "19:43:29 - cmdstanpy - INFO - Chain [1] done processing\n",
      "19:43:29 - cmdstanpy - INFO - Chain [1] start processing\n",
      "19:43:29 - cmdstanpy - INFO - Chain [1] done processing\n",
      "19:43:29 - cmdstanpy - INFO - Chain [1] start processing\n",
      "19:43:29 - cmdstanpy - INFO - Chain [1] done processing\n"
     ]
    },
    {
     "data": {
      "application/vnd.jupyter.widget-view+json": {
       "model_id": "844ea2af2100492ca5b4aded820e3b33",
       "version_major": 2,
       "version_minor": 0
      },
      "text/plain": [
       "  0%|          | 0/6 [00:00<?, ?it/s]"
      ]
     },
     "metadata": {},
     "output_type": "display_data"
    },
    {
     "name": "stderr",
     "output_type": "stream",
     "text": [
      "19:43:29 - cmdstanpy - INFO - Chain [1] start processing\n",
      "19:43:29 - cmdstanpy - INFO - Chain [1] done processing\n",
      "19:43:30 - cmdstanpy - INFO - Chain [1] start processing\n",
      "19:43:30 - cmdstanpy - INFO - Chain [1] done processing\n",
      "19:43:30 - cmdstanpy - INFO - Chain [1] start processing\n",
      "19:43:30 - cmdstanpy - INFO - Chain [1] done processing\n",
      "19:43:30 - cmdstanpy - INFO - Chain [1] start processing\n",
      "19:43:30 - cmdstanpy - INFO - Chain [1] done processing\n",
      "19:43:31 - cmdstanpy - INFO - Chain [1] start processing\n",
      "19:43:31 - cmdstanpy - INFO - Chain [1] done processing\n",
      "19:43:31 - cmdstanpy - INFO - Chain [1] start processing\n",
      "19:43:31 - cmdstanpy - INFO - Chain [1] done processing\n",
      "19:43:31 - cmdstanpy - INFO - Chain [1] start processing\n",
      "19:43:31 - cmdstanpy - INFO - Chain [1] done processing\n"
     ]
    },
    {
     "data": {
      "application/vnd.jupyter.widget-view+json": {
       "model_id": "8658246d7a424ff08b5f1e7974b51a0c",
       "version_major": 2,
       "version_minor": 0
      },
      "text/plain": [
       "  0%|          | 0/6 [00:00<?, ?it/s]"
      ]
     },
     "metadata": {},
     "output_type": "display_data"
    },
    {
     "name": "stderr",
     "output_type": "stream",
     "text": [
      "19:43:31 - cmdstanpy - INFO - Chain [1] start processing\n",
      "19:43:31 - cmdstanpy - INFO - Chain [1] done processing\n",
      "19:43:32 - cmdstanpy - INFO - Chain [1] start processing\n",
      "19:43:32 - cmdstanpy - INFO - Chain [1] done processing\n",
      "19:43:32 - cmdstanpy - INFO - Chain [1] start processing\n",
      "19:43:32 - cmdstanpy - INFO - Chain [1] done processing\n",
      "19:43:32 - cmdstanpy - INFO - Chain [1] start processing\n",
      "19:43:32 - cmdstanpy - INFO - Chain [1] done processing\n",
      "19:43:33 - cmdstanpy - INFO - Chain [1] start processing\n",
      "19:43:33 - cmdstanpy - INFO - Chain [1] done processing\n",
      "19:43:33 - cmdstanpy - INFO - Chain [1] start processing\n",
      "19:43:33 - cmdstanpy - INFO - Chain [1] done processing\n",
      "19:43:33 - cmdstanpy - INFO - Chain [1] start processing\n",
      "19:43:33 - cmdstanpy - INFO - Chain [1] done processing\n"
     ]
    },
    {
     "data": {
      "application/vnd.jupyter.widget-view+json": {
       "model_id": "24e3f8b8b2b2449588ab1d183a623888",
       "version_major": 2,
       "version_minor": 0
      },
      "text/plain": [
       "  0%|          | 0/6 [00:00<?, ?it/s]"
      ]
     },
     "metadata": {},
     "output_type": "display_data"
    },
    {
     "name": "stderr",
     "output_type": "stream",
     "text": [
      "19:43:33 - cmdstanpy - INFO - Chain [1] start processing\n",
      "19:43:34 - cmdstanpy - INFO - Chain [1] done processing\n",
      "19:43:34 - cmdstanpy - INFO - Chain [1] start processing\n",
      "19:43:34 - cmdstanpy - INFO - Chain [1] done processing\n",
      "19:43:34 - cmdstanpy - INFO - Chain [1] start processing\n",
      "19:43:34 - cmdstanpy - INFO - Chain [1] done processing\n",
      "19:43:34 - cmdstanpy - INFO - Chain [1] start processing\n",
      "19:43:34 - cmdstanpy - INFO - Chain [1] done processing\n",
      "19:43:35 - cmdstanpy - INFO - Chain [1] start processing\n",
      "19:43:35 - cmdstanpy - INFO - Chain [1] done processing\n",
      "19:43:35 - cmdstanpy - INFO - Chain [1] start processing\n",
      "19:43:35 - cmdstanpy - INFO - Chain [1] done processing\n",
      "19:43:35 - cmdstanpy - INFO - Chain [1] start processing\n",
      "19:43:35 - cmdstanpy - INFO - Chain [1] done processing\n"
     ]
    },
    {
     "data": {
      "application/vnd.jupyter.widget-view+json": {
       "model_id": "4ba52466a15e4686ad328a6369c8d990",
       "version_major": 2,
       "version_minor": 0
      },
      "text/plain": [
       "  0%|          | 0/6 [00:00<?, ?it/s]"
      ]
     },
     "metadata": {},
     "output_type": "display_data"
    },
    {
     "name": "stderr",
     "output_type": "stream",
     "text": [
      "19:43:36 - cmdstanpy - INFO - Chain [1] start processing\n",
      "19:43:36 - cmdstanpy - INFO - Chain [1] done processing\n",
      "19:43:36 - cmdstanpy - INFO - Chain [1] start processing\n",
      "19:43:36 - cmdstanpy - INFO - Chain [1] done processing\n",
      "19:43:36 - cmdstanpy - INFO - Chain [1] start processing\n",
      "19:43:36 - cmdstanpy - INFO - Chain [1] done processing\n",
      "19:43:36 - cmdstanpy - INFO - Chain [1] start processing\n",
      "19:43:36 - cmdstanpy - INFO - Chain [1] done processing\n",
      "19:43:37 - cmdstanpy - INFO - Chain [1] start processing\n",
      "19:43:37 - cmdstanpy - INFO - Chain [1] done processing\n",
      "19:43:37 - cmdstanpy - INFO - Chain [1] start processing\n",
      "19:43:37 - cmdstanpy - INFO - Chain [1] done processing\n",
      "19:43:38 - cmdstanpy - INFO - Chain [1] start processing\n",
      "19:43:38 - cmdstanpy - INFO - Chain [1] done processing\n"
     ]
    },
    {
     "data": {
      "application/vnd.jupyter.widget-view+json": {
       "model_id": "62a017191e0748549359974df622670e",
       "version_major": 2,
       "version_minor": 0
      },
      "text/plain": [
       "  0%|          | 0/6 [00:00<?, ?it/s]"
      ]
     },
     "metadata": {},
     "output_type": "display_data"
    },
    {
     "name": "stderr",
     "output_type": "stream",
     "text": [
      "19:43:38 - cmdstanpy - INFO - Chain [1] start processing\n",
      "19:43:38 - cmdstanpy - INFO - Chain [1] done processing\n",
      "19:43:38 - cmdstanpy - INFO - Chain [1] start processing\n",
      "19:43:38 - cmdstanpy - INFO - Chain [1] done processing\n",
      "19:43:38 - cmdstanpy - INFO - Chain [1] start processing\n",
      "19:43:38 - cmdstanpy - INFO - Chain [1] done processing\n",
      "19:43:39 - cmdstanpy - INFO - Chain [1] start processing\n",
      "19:43:39 - cmdstanpy - INFO - Chain [1] done processing\n",
      "19:43:39 - cmdstanpy - INFO - Chain [1] start processing\n",
      "19:43:39 - cmdstanpy - INFO - Chain [1] done processing\n",
      "19:43:39 - cmdstanpy - INFO - Chain [1] start processing\n",
      "19:43:39 - cmdstanpy - INFO - Chain [1] done processing\n",
      "19:43:40 - cmdstanpy - INFO - Chain [1] start processing\n",
      "19:43:40 - cmdstanpy - INFO - Chain [1] done processing\n"
     ]
    },
    {
     "data": {
      "application/vnd.jupyter.widget-view+json": {
       "model_id": "1f51afc749b04a3b9eb9e632d7383442",
       "version_major": 2,
       "version_minor": 0
      },
      "text/plain": [
       "  0%|          | 0/6 [00:00<?, ?it/s]"
      ]
     },
     "metadata": {},
     "output_type": "display_data"
    },
    {
     "name": "stderr",
     "output_type": "stream",
     "text": [
      "19:43:40 - cmdstanpy - INFO - Chain [1] start processing\n",
      "19:43:40 - cmdstanpy - INFO - Chain [1] done processing\n",
      "19:43:40 - cmdstanpy - INFO - Chain [1] start processing\n",
      "19:43:40 - cmdstanpy - INFO - Chain [1] done processing\n",
      "19:43:40 - cmdstanpy - INFO - Chain [1] start processing\n",
      "19:43:40 - cmdstanpy - INFO - Chain [1] done processing\n",
      "19:43:41 - cmdstanpy - INFO - Chain [1] start processing\n",
      "19:43:41 - cmdstanpy - INFO - Chain [1] done processing\n",
      "19:43:41 - cmdstanpy - INFO - Chain [1] start processing\n",
      "19:43:41 - cmdstanpy - INFO - Chain [1] done processing\n",
      "19:43:41 - cmdstanpy - INFO - Chain [1] start processing\n",
      "19:43:41 - cmdstanpy - INFO - Chain [1] done processing\n",
      "19:43:42 - cmdstanpy - INFO - Chain [1] start processing\n",
      "19:43:42 - cmdstanpy - INFO - Chain [1] done processing\n"
     ]
    },
    {
     "data": {
      "application/vnd.jupyter.widget-view+json": {
       "model_id": "64e2ef37672d4fe7baee7144dee4e3f2",
       "version_major": 2,
       "version_minor": 0
      },
      "text/plain": [
       "  0%|          | 0/6 [00:00<?, ?it/s]"
      ]
     },
     "metadata": {},
     "output_type": "display_data"
    },
    {
     "name": "stderr",
     "output_type": "stream",
     "text": [
      "19:43:42 - cmdstanpy - INFO - Chain [1] start processing\n",
      "19:43:42 - cmdstanpy - INFO - Chain [1] done processing\n",
      "19:43:42 - cmdstanpy - INFO - Chain [1] start processing\n",
      "19:43:42 - cmdstanpy - INFO - Chain [1] done processing\n",
      "19:43:43 - cmdstanpy - INFO - Chain [1] start processing\n",
      "19:43:43 - cmdstanpy - INFO - Chain [1] done processing\n",
      "19:43:43 - cmdstanpy - INFO - Chain [1] start processing\n",
      "19:43:43 - cmdstanpy - INFO - Chain [1] done processing\n",
      "19:43:43 - cmdstanpy - INFO - Chain [1] start processing\n",
      "19:43:43 - cmdstanpy - INFO - Chain [1] done processing\n",
      "19:43:43 - cmdstanpy - INFO - Chain [1] start processing\n",
      "19:43:43 - cmdstanpy - INFO - Chain [1] done processing\n",
      "19:43:44 - cmdstanpy - INFO - Chain [1] start processing\n",
      "19:43:44 - cmdstanpy - INFO - Chain [1] done processing\n"
     ]
    },
    {
     "data": {
      "application/vnd.jupyter.widget-view+json": {
       "model_id": "544ed3a6091e471fbf8a5c49e86ea1d2",
       "version_major": 2,
       "version_minor": 0
      },
      "text/plain": [
       "  0%|          | 0/6 [00:00<?, ?it/s]"
      ]
     },
     "metadata": {},
     "output_type": "display_data"
    },
    {
     "name": "stderr",
     "output_type": "stream",
     "text": [
      "19:43:44 - cmdstanpy - INFO - Chain [1] start processing\n",
      "19:43:44 - cmdstanpy - INFO - Chain [1] done processing\n",
      "19:43:44 - cmdstanpy - INFO - Chain [1] start processing\n",
      "19:43:44 - cmdstanpy - INFO - Chain [1] done processing\n",
      "19:43:45 - cmdstanpy - INFO - Chain [1] start processing\n",
      "19:43:45 - cmdstanpy - INFO - Chain [1] done processing\n",
      "19:43:45 - cmdstanpy - INFO - Chain [1] start processing\n",
      "19:43:45 - cmdstanpy - INFO - Chain [1] done processing\n",
      "19:43:45 - cmdstanpy - INFO - Chain [1] start processing\n",
      "19:43:45 - cmdstanpy - INFO - Chain [1] done processing\n",
      "19:43:46 - cmdstanpy - INFO - Chain [1] start processing\n",
      "19:43:46 - cmdstanpy - INFO - Chain [1] done processing\n"
     ]
    },
    {
     "name": "stdout",
     "output_type": "stream",
     "text": [
      "    changepoint_prior_scale  seasonality_prior_scale  holidays_prior_scale  \\\n",
      "0                     0.001                     0.01                   0.1   \n",
      "1                     0.001                     0.01                   0.1   \n",
      "2                     0.001                     0.01                   1.0   \n",
      "3                     0.001                     0.01                   1.0   \n",
      "4                     0.001                     0.01                  10.0   \n",
      "..                      ...                      ...                   ...   \n",
      "91                    0.500                    10.00                   0.1   \n",
      "92                    0.500                    10.00                   1.0   \n",
      "93                    0.500                    10.00                   1.0   \n",
      "94                    0.500                    10.00                  10.0   \n",
      "95                    0.500                    10.00                  10.0   \n",
      "\n",
      "    changepoint_range       mse  \n",
      "0                 0.8  0.150850  \n",
      "1                 1.0  0.150850  \n",
      "2                 0.8  0.226854  \n",
      "3                 1.0  0.226854  \n",
      "4                 0.8  0.229549  \n",
      "..                ...       ...  \n",
      "91                1.0  0.279648  \n",
      "92                0.8  0.321569  \n",
      "93                1.0  0.321569  \n",
      "94                0.8  0.323000  \n",
      "95                1.0  0.323000  \n",
      "\n",
      "[96 rows x 5 columns]\n"
     ]
    }
   ],
   "source": [
    "param_grid = {  \n",
    "        'changepoint_prior_scale': [0.001, 0.01, 0.1, 0.5],\n",
    "        'seasonality_prior_scale': [0.01, 0.1, 1.0, 10.0],\n",
    "        'holidays_prior_scale': [0.1, 1.0, 10.0],\n",
    "        'changepoint_range':[0.8,1.0]\n",
    "    }\n",
    "\n",
    "# Generate all combinations of parameters\n",
    "all_params = [dict(zip(param_grid.keys(), v)) for v in itertools.product(*param_grid.values())]\n",
    "\n",
    "# Store the RMSEs for each params here\n",
    "mse = []\n",
    "\n",
    "# Use cross validation to evaluate all parameters\n",
    "for params in all_params:\n",
    "    m = modeling(df_train,params) # Fit model with given params\n",
    "    df_cv = cross_validation(m, initial = '200 days',period = '15 days',horizon = '15 days')\n",
    "    df_p = performance_metrics(df_cv, rolling_window=1)\n",
    "    mse.append(df_p['mse'].values[0])\n",
    "\n",
    "# Find the best parameters\n",
    "tuning_results = pd.DataFrame(all_params)\n",
    "tuning_results['mse'] = mse\n",
    "print(tuning_results)\n",
    "best_params = all_params[np.argmin(mse)]"
   ]
  },
  {
   "cell_type": "code",
   "execution_count": 90,
   "id": "4cfdce99",
   "metadata": {},
   "outputs": [
    {
     "data": {
      "text/plain": [
       "{'changepoint_prior_scale': 0.001,\n",
       " 'seasonality_prior_scale': 0.01,\n",
       " 'holidays_prior_scale': 0.1,\n",
       " 'changepoint_range': 0.8}"
      ]
     },
     "execution_count": 90,
     "metadata": {},
     "output_type": "execute_result"
    }
   ],
   "source": [
    "best_params"
   ]
  },
  {
   "cell_type": "code",
   "execution_count": 91,
   "id": "ceaf13d4",
   "metadata": {},
   "outputs": [
    {
     "name": "stderr",
     "output_type": "stream",
     "text": [
      "19:45:31 - cmdstanpy - INFO - Chain [1] start processing\n",
      "19:45:31 - cmdstanpy - INFO - Chain [1] done processing\n"
     ]
    }
   ],
   "source": [
    "#rebuild the model with best_params\n",
    "m = modeling(df_train,best_params)"
   ]
  },
  {
   "cell_type": "code",
   "execution_count": 92,
   "id": "b72bee3a",
   "metadata": {},
   "outputs": [],
   "source": [
    "#regressor_coefficients(m)"
   ]
  },
  {
   "cell_type": "markdown",
   "id": "05b70c82",
   "metadata": {},
   "source": [
    "### Model Prediction"
   ]
  },
  {
   "cell_type": "code",
   "execution_count": 93,
   "id": "34fb5ea2",
   "metadata": {},
   "outputs": [],
   "source": [
    "feature_list = ['nsku',\n",
    "                'avgprofittrnsact',\n",
    "                'totalamt',\n",
    "                'avgorigprice',\n",
    "                'totalquantity']\n",
    "feature_list1 = [each + \"_1\" for each in feature_list]"
   ]
  },
  {
   "cell_type": "code",
   "execution_count": 94,
   "id": "9483d761",
   "metadata": {
    "scrolled": true
   },
   "outputs": [
    {
     "name": "stderr",
     "output_type": "stream",
     "text": [
      "/opt/anaconda3/lib/python3.7/site-packages/ipykernel_launcher.py:8: SettingWithCopyWarning: \n",
      "A value is trying to be set on a copy of a slice from a DataFrame.\n",
      "Try using .loc[row_indexer,col_indexer] = value instead\n",
      "\n",
      "See the caveats in the documentation: https://pandas.pydata.org/pandas-docs/stable/user_guide/indexing.html#returning-a-view-versus-a-copy\n",
      "  \n"
     ]
    },
    {
     "data": {
      "text/html": [
       "<div>\n",
       "<style scoped>\n",
       "    .dataframe tbody tr th:only-of-type {\n",
       "        vertical-align: middle;\n",
       "    }\n",
       "\n",
       "    .dataframe tbody tr th {\n",
       "        vertical-align: top;\n",
       "    }\n",
       "\n",
       "    .dataframe thead th {\n",
       "        text-align: right;\n",
       "    }\n",
       "</style>\n",
       "<table border=\"1\" class=\"dataframe\">\n",
       "  <thead>\n",
       "    <tr style=\"text-align: right;\">\n",
       "      <th></th>\n",
       "      <th>ds</th>\n",
       "      <th>yhat</th>\n",
       "      <th>y</th>\n",
       "    </tr>\n",
       "  </thead>\n",
       "  <tbody>\n",
       "    <tr>\n",
       "      <th>0</th>\n",
       "      <td>2004-08-01</td>\n",
       "      <td>13.700019</td>\n",
       "      <td>13.144244</td>\n",
       "    </tr>\n",
       "    <tr>\n",
       "      <th>1</th>\n",
       "      <td>2004-08-02</td>\n",
       "      <td>13.766559</td>\n",
       "      <td>13.184463</td>\n",
       "    </tr>\n",
       "    <tr>\n",
       "      <th>2</th>\n",
       "      <td>2004-08-03</td>\n",
       "      <td>13.612493</td>\n",
       "      <td>13.399838</td>\n",
       "    </tr>\n",
       "    <tr>\n",
       "      <th>3</th>\n",
       "      <td>2004-08-04</td>\n",
       "      <td>13.167236</td>\n",
       "      <td>13.355744</td>\n",
       "    </tr>\n",
       "    <tr>\n",
       "      <th>4</th>\n",
       "      <td>2004-08-05</td>\n",
       "      <td>13.295940</td>\n",
       "      <td>13.361711</td>\n",
       "    </tr>\n",
       "    <tr>\n",
       "      <th>...</th>\n",
       "      <td>...</td>\n",
       "      <td>...</td>\n",
       "      <td>...</td>\n",
       "    </tr>\n",
       "    <tr>\n",
       "      <th>384</th>\n",
       "      <td>2005-08-23</td>\n",
       "      <td>12.791536</td>\n",
       "      <td>14.206093</td>\n",
       "    </tr>\n",
       "    <tr>\n",
       "      <th>385</th>\n",
       "      <td>2005-08-24</td>\n",
       "      <td>12.781075</td>\n",
       "      <td>14.499930</td>\n",
       "    </tr>\n",
       "    <tr>\n",
       "      <th>386</th>\n",
       "      <td>2005-08-25</td>\n",
       "      <td>12.154245</td>\n",
       "      <td>14.479821</td>\n",
       "    </tr>\n",
       "    <tr>\n",
       "      <th>387</th>\n",
       "      <td>2005-08-26</td>\n",
       "      <td>12.874994</td>\n",
       "      <td>14.667566</td>\n",
       "    </tr>\n",
       "    <tr>\n",
       "      <th>388</th>\n",
       "      <td>2005-08-27</td>\n",
       "      <td>13.509717</td>\n",
       "      <td>15.177495</td>\n",
       "    </tr>\n",
       "  </tbody>\n",
       "</table>\n",
       "<p>389 rows × 3 columns</p>\n",
       "</div>"
      ],
      "text/plain": [
       "            ds       yhat          y\n",
       "0   2004-08-01  13.700019  13.144244\n",
       "1   2004-08-02  13.766559  13.184463\n",
       "2   2004-08-03  13.612493  13.399838\n",
       "3   2004-08-04  13.167236  13.355744\n",
       "4   2004-08-05  13.295940  13.361711\n",
       "..         ...        ...        ...\n",
       "384 2005-08-23  12.791536  14.206093\n",
       "385 2005-08-24  12.781075  14.499930\n",
       "386 2005-08-25  12.154245  14.479821\n",
       "387 2005-08-26  12.874994  14.667566\n",
       "388 2005-08-27  13.509717  15.177495\n",
       "\n",
       "[389 rows x 3 columns]"
      ]
     },
     "execution_count": 94,
     "metadata": {},
     "output_type": "execute_result"
    }
   ],
   "source": [
    "#model prediction\n",
    "df_future = df_state.copy()\n",
    "df_future = df_future[feature_list1]\n",
    "future = m.make_future_dataframe(periods = 88)\n",
    "future = future.join(df_future)\n",
    "forecast = m.predict(future)\n",
    "df_result = forecast[['ds','yhat']]\n",
    "df_result['y'] = df_state['y'].tolist()\n",
    "df_result"
   ]
  },
  {
   "cell_type": "code",
   "execution_count": 95,
   "id": "83e96bde",
   "metadata": {},
   "outputs": [
    {
     "name": "stderr",
     "output_type": "stream",
     "text": [
      "/opt/anaconda3/lib/python3.7/site-packages/ipykernel_launcher.py:1: SettingWithCopyWarning: \n",
      "A value is trying to be set on a copy of a slice from a DataFrame.\n",
      "Try using .loc[row_indexer,col_indexer] = value instead\n",
      "\n",
      "See the caveats in the documentation: https://pandas.pydata.org/pandas-docs/stable/user_guide/indexing.html#returning-a-view-versus-a-copy\n",
      "  \"\"\"Entry point for launching an IPython kernel.\n",
      "/opt/anaconda3/lib/python3.7/site-packages/ipykernel_launcher.py:2: SettingWithCopyWarning: \n",
      "A value is trying to be set on a copy of a slice from a DataFrame.\n",
      "Try using .loc[row_indexer,col_indexer] = value instead\n",
      "\n",
      "See the caveats in the documentation: https://pandas.pydata.org/pandas-docs/stable/user_guide/indexing.html#returning-a-view-versus-a-copy\n",
      "  \n"
     ]
    },
    {
     "data": {
      "text/html": [
       "<div>\n",
       "<style scoped>\n",
       "    .dataframe tbody tr th:only-of-type {\n",
       "        vertical-align: middle;\n",
       "    }\n",
       "\n",
       "    .dataframe tbody tr th {\n",
       "        vertical-align: top;\n",
       "    }\n",
       "\n",
       "    .dataframe thead th {\n",
       "        text-align: right;\n",
       "    }\n",
       "</style>\n",
       "<table border=\"1\" class=\"dataframe\">\n",
       "  <thead>\n",
       "    <tr style=\"text-align: right;\">\n",
       "      <th></th>\n",
       "      <th>ds</th>\n",
       "      <th>yhat</th>\n",
       "      <th>y</th>\n",
       "    </tr>\n",
       "  </thead>\n",
       "  <tbody>\n",
       "    <tr>\n",
       "      <th>0</th>\n",
       "      <td>2004-08-01</td>\n",
       "      <td>890926.974935</td>\n",
       "      <td>511060.0</td>\n",
       "    </tr>\n",
       "    <tr>\n",
       "      <th>1</th>\n",
       "      <td>2004-08-02</td>\n",
       "      <td>952225.974648</td>\n",
       "      <td>532033.0</td>\n",
       "    </tr>\n",
       "    <tr>\n",
       "      <th>2</th>\n",
       "      <td>2004-08-03</td>\n",
       "      <td>816262.950392</td>\n",
       "      <td>659895.0</td>\n",
       "    </tr>\n",
       "    <tr>\n",
       "      <th>3</th>\n",
       "      <td>2004-08-04</td>\n",
       "      <td>522946.059882</td>\n",
       "      <td>631430.0</td>\n",
       "    </tr>\n",
       "    <tr>\n",
       "      <th>4</th>\n",
       "      <td>2004-08-05</td>\n",
       "      <td>594774.661643</td>\n",
       "      <td>635209.0</td>\n",
       "    </tr>\n",
       "    <tr>\n",
       "      <th>...</th>\n",
       "      <td>...</td>\n",
       "      <td>...</td>\n",
       "      <td>...</td>\n",
       "    </tr>\n",
       "    <tr>\n",
       "      <th>384</th>\n",
       "      <td>2005-08-23</td>\n",
       "      <td>359163.473947</td>\n",
       "      <td>1477840.0</td>\n",
       "    </tr>\n",
       "    <tr>\n",
       "      <th>385</th>\n",
       "      <td>2005-08-24</td>\n",
       "      <td>355426.092640</td>\n",
       "      <td>1982620.0</td>\n",
       "    </tr>\n",
       "    <tr>\n",
       "      <th>386</th>\n",
       "      <td>2005-08-25</td>\n",
       "      <td>189897.502460</td>\n",
       "      <td>1943150.0</td>\n",
       "    </tr>\n",
       "    <tr>\n",
       "      <th>387</th>\n",
       "      <td>2005-08-26</td>\n",
       "      <td>390425.143552</td>\n",
       "      <td>2344460.0</td>\n",
       "    </tr>\n",
       "    <tr>\n",
       "      <th>388</th>\n",
       "      <td>2005-08-27</td>\n",
       "      <td>736538.016509</td>\n",
       "      <td>3903930.0</td>\n",
       "    </tr>\n",
       "  </tbody>\n",
       "</table>\n",
       "<p>389 rows × 3 columns</p>\n",
       "</div>"
      ],
      "text/plain": [
       "            ds           yhat          y\n",
       "0   2004-08-01  890926.974935   511060.0\n",
       "1   2004-08-02  952225.974648   532033.0\n",
       "2   2004-08-03  816262.950392   659895.0\n",
       "3   2004-08-04  522946.059882   631430.0\n",
       "4   2004-08-05  594774.661643   635209.0\n",
       "..         ...            ...        ...\n",
       "384 2005-08-23  359163.473947  1477840.0\n",
       "385 2005-08-24  355426.092640  1982620.0\n",
       "386 2005-08-25  189897.502460  1943150.0\n",
       "387 2005-08-26  390425.143552  2344460.0\n",
       "388 2005-08-27  736538.016509  3903930.0\n",
       "\n",
       "[389 rows x 3 columns]"
      ]
     },
     "execution_count": 95,
     "metadata": {},
     "output_type": "execute_result"
    }
   ],
   "source": [
    "df_result['y']=np.exp(df_result['y']) - 1\n",
    "df_result['yhat']=np.exp(df_result['yhat']) - 1\n",
    "df_result"
   ]
  },
  {
   "cell_type": "code",
   "execution_count": 96,
   "id": "1fa17b5c",
   "metadata": {},
   "outputs": [
    {
     "data": {
      "image/png": "[encoded data removed]",
      "text/plain": [
       "<Figure size 720x432 with 1 Axes>"
      ]
     },
     "metadata": {},
     "output_type": "display_data"
    }
   ],
   "source": [
    "future = df_state.drop(columns = 'y')\n",
    "forecast = m.predict(future)\n",
    "fig1 = m.plot(forecast)"
   ]
  },
  {
   "cell_type": "code",
   "execution_count": 97,
   "id": "36034408",
   "metadata": {},
   "outputs": [
    {
     "data": {
      "image/png": "[encoded data removed]",
      "text/plain": [
       "<Figure size 648x1080 with 5 Axes>"
      ]
     },
     "execution_count": 97,
     "metadata": {},
     "output_type": "execute_result"
    },
    {
     "data": {
      "image/png": "[encoded data removed]",
      "text/plain": [
       "<Figure size 648x1080 with 5 Axes>"
      ]
     },
     "metadata": {},
     "output_type": "display_data"
    }
   ],
   "source": [
    "fig = m.plot_components(forecast)\n",
    "fig"
   ]
  },
  {
   "cell_type": "code",
   "execution_count": 98,
   "id": "6f66582d",
   "metadata": {},
   "outputs": [
    {
     "data": {
      "image/png": "[encoded data removed]",
      "text/plain": [
       "<Figure size 1080x360 with 1 Axes>"
      ]
     },
     "metadata": {
      "needs_background": "light"
     },
     "output_type": "display_data"
    }
   ],
   "source": [
    "# graph the distribution of prediction vs actual\n",
    "test_ts_draw = df_result['y']\n",
    "test_prediction = df_result[df_result['ds']>='2005-06-01']['yhat']\n",
    "fig, ax = plt.subplots(figsize=(15, 5))\n",
    "test_prediction.plot(ax=ax, label='prediction Set', title='Train_Test_comparison')\n",
    "test_ts_draw.plot(ax=ax, label='Test Set')\n",
    "ax.legend(['prediction Set', 'Test Set'])\n",
    "plt.show()"
   ]
  },
  {
   "cell_type": "code",
   "execution_count": 99,
   "id": "c8cadec9",
   "metadata": {},
   "outputs": [
    {
     "data": {
      "text/html": [
       "<div>\n",
       "<style scoped>\n",
       "    .dataframe tbody tr th:only-of-type {\n",
       "        vertical-align: middle;\n",
       "    }\n",
       "\n",
       "    .dataframe tbody tr th {\n",
       "        vertical-align: top;\n",
       "    }\n",
       "\n",
       "    .dataframe thead th {\n",
       "        text-align: right;\n",
       "    }\n",
       "</style>\n",
       "<table border=\"1\" class=\"dataframe\">\n",
       "  <thead>\n",
       "    <tr style=\"text-align: right;\">\n",
       "      <th></th>\n",
       "      <th>ds</th>\n",
       "      <th>yhat</th>\n",
       "      <th>y</th>\n",
       "    </tr>\n",
       "  </thead>\n",
       "  <tbody>\n",
       "    <tr>\n",
       "      <th>301</th>\n",
       "      <td>2005-06-01</td>\n",
       "      <td>6.295415e+05</td>\n",
       "      <td>993452.0</td>\n",
       "    </tr>\n",
       "    <tr>\n",
       "      <th>302</th>\n",
       "      <td>2005-06-02</td>\n",
       "      <td>8.658083e+05</td>\n",
       "      <td>1084340.0</td>\n",
       "    </tr>\n",
       "    <tr>\n",
       "      <th>303</th>\n",
       "      <td>2005-06-03</td>\n",
       "      <td>1.034303e+06</td>\n",
       "      <td>1208760.0</td>\n",
       "    </tr>\n",
       "    <tr>\n",
       "      <th>304</th>\n",
       "      <td>2005-06-04</td>\n",
       "      <td>1.603489e+06</td>\n",
       "      <td>1627830.0</td>\n",
       "    </tr>\n",
       "    <tr>\n",
       "      <th>305</th>\n",
       "      <td>2005-06-05</td>\n",
       "      <td>1.009341e+06</td>\n",
       "      <td>805507.0</td>\n",
       "    </tr>\n",
       "    <tr>\n",
       "      <th>...</th>\n",
       "      <td>...</td>\n",
       "      <td>...</td>\n",
       "      <td>...</td>\n",
       "    </tr>\n",
       "    <tr>\n",
       "      <th>384</th>\n",
       "      <td>2005-08-23</td>\n",
       "      <td>3.591635e+05</td>\n",
       "      <td>1477840.0</td>\n",
       "    </tr>\n",
       "    <tr>\n",
       "      <th>385</th>\n",
       "      <td>2005-08-24</td>\n",
       "      <td>3.554261e+05</td>\n",
       "      <td>1982620.0</td>\n",
       "    </tr>\n",
       "    <tr>\n",
       "      <th>386</th>\n",
       "      <td>2005-08-25</td>\n",
       "      <td>1.898975e+05</td>\n",
       "      <td>1943150.0</td>\n",
       "    </tr>\n",
       "    <tr>\n",
       "      <th>387</th>\n",
       "      <td>2005-08-26</td>\n",
       "      <td>3.904251e+05</td>\n",
       "      <td>2344460.0</td>\n",
       "    </tr>\n",
       "    <tr>\n",
       "      <th>388</th>\n",
       "      <td>2005-08-27</td>\n",
       "      <td>7.365380e+05</td>\n",
       "      <td>3903930.0</td>\n",
       "    </tr>\n",
       "  </tbody>\n",
       "</table>\n",
       "<p>88 rows × 3 columns</p>\n",
       "</div>"
      ],
      "text/plain": [
       "            ds          yhat          y\n",
       "301 2005-06-01  6.295415e+05   993452.0\n",
       "302 2005-06-02  8.658083e+05  1084340.0\n",
       "303 2005-06-03  1.034303e+06  1208760.0\n",
       "304 2005-06-04  1.603489e+06  1627830.0\n",
       "305 2005-06-05  1.009341e+06   805507.0\n",
       "..         ...           ...        ...\n",
       "384 2005-08-23  3.591635e+05  1477840.0\n",
       "385 2005-08-24  3.554261e+05  1982620.0\n",
       "386 2005-08-25  1.898975e+05  1943150.0\n",
       "387 2005-08-26  3.904251e+05  2344460.0\n",
       "388 2005-08-27  7.365380e+05  3903930.0\n",
       "\n",
       "[88 rows x 3 columns]"
      ]
     },
     "execution_count": 99,
     "metadata": {},
     "output_type": "execute_result"
    }
   ],
   "source": [
    "df_result[df_result['ds']>='2005-06-01']"
   ]
  },
  {
   "cell_type": "code",
   "execution_count": 100,
   "id": "d39c0a31",
   "metadata": {},
   "outputs": [],
   "source": [
    "def show_results(y_true, y_pred):\n",
    "    # Regression metrics\n",
    "    explained_variance=metrics.explained_variance_score(y_true, y_pred)\n",
    "    mean_absolute_error=metrics.mean_absolute_error(y_true, y_pred) \n",
    "    mse=metrics.mean_squared_error(y_true, y_pred) \n",
    "    r2=metrics.r2_score(y_true, y_pred)\n",
    "    print('explained_variance: ', round(explained_variance,4))    \n",
    "    print('r2: ', round(r2,4))\n",
    "    print('MAE: ', round(mean_absolute_error,4))\n",
    "    print('MSE: ', round(mse,4))\n",
    "    print('RMSE: ', round(np.sqrt(mse),4))"
   ]
  },
  {
   "cell_type": "code",
   "execution_count": 101,
   "id": "a96db255",
   "metadata": {},
   "outputs": [
    {
     "name": "stdout",
     "output_type": "stream",
     "text": [
      "explained_variance:  0.0063\n",
      "r2:  -0.9998\n",
      "MAE:  729100.3736\n",
      "MSE:  920612007297.7316\n",
      "RMSE:  959485.2825\n"
     ]
    }
   ],
   "source": [
    "show_results(df_result[df_result['ds']>='2005-06-01']['y'],df_result[df_result['ds']>='2005-06-01']['yhat'])"
   ]
  },
  {
   "cell_type": "code",
   "execution_count": null,
   "id": "756e6060",
   "metadata": {},
   "outputs": [],
   "source": []
  },
  {
   "cell_type": "code",
   "execution_count": null,
   "id": "de9f66b2",
   "metadata": {},
   "outputs": [],
   "source": []
  }
 ],
 "metadata": {
  "kernelspec": {
   "display_name": "Python 3",
   "language": "python",
   "name": "python3"
  },
  "language_info": {
   "codemirror_mode": {
    "name": "ipython",
    "version": 3
   },
   "file_extension": ".py",
   "mimetype": "text/x-python",
   "name": "python",
   "nbconvert_exporter": "python",
   "pygments_lexer": "ipython3",
   "version": "3.7.6"
  }
 },
 "nbformat": 4,
 "nbformat_minor": 5
}
