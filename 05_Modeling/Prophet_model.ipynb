{
 "cells": [
  {
   "cell_type": "code",
   "execution_count": 190,
   "id": "d73bbc02",
   "metadata": {},
   "outputs": [],
   "source": [
    "import pandas as pd\n",
    "import psycopg2\n",
    "from psycopg2 import Error\n",
    "import numpy as np\n",
    "import matplotlib.pyplot as plt\n",
    "import seaborn as sns\n",
    "from prophet import Prophet"
   ]
  },
  {
   "cell_type": "code",
   "execution_count": 191,
   "id": "3f9b3d0c",
   "metadata": {},
   "outputs": [
    {
     "name": "stdout",
     "output_type": "stream",
     "text": [
      "You are connected to -  ('PostgreSQL 10.12 on x86_64-pc-linux-gnu, compiled by gcc (GCC) 4.8.5 20150623 (Red Hat 4.8.5-39), 64-bit',) \n",
      "\n",
      "PostgreSQL connection is closed\n"
     ]
    }
   ],
   "source": [
    "try:\n",
    "    # Connect to an existing database\n",
    "    connection = psycopg2.connect(database=\"2022-everything-team12\", \n",
    "                            user='ycm3076', \n",
    "                            password='C13655814908y!', \n",
    "                            host='pg.analytics.northwestern.edu', \n",
    "                            port= '5432')\n",
    "\n",
    "    # Create a cursor to perform database operations\n",
    "    cursor = connection.cursor()\n",
    "    # Print PostgreSQL details\n",
    "    cursor.execute(\"SELECT version();\")\n",
    "    # Fetch result\n",
    "    record = cursor.fetchone()\n",
    "    print(\"You are connected to - \", record, \"\\n\")\n",
    "except (Exception, Error) as error:\n",
    "    print(\"Error while connecting to PostgreSQL\", error)\n",
    "df = pd.read_sql(\"select * from \\\"aggtrnsact\\\"\", connection);\n",
    "if (connection):\n",
    "    cursor.close()\n",
    "    connection.close()\n",
    "    print(\"PostgreSQL connection is closed\") \n"
   ]
  },
  {
   "cell_type": "markdown",
   "id": "cae5ed30",
   "metadata": {},
   "source": [
    "## Construct Dataset"
   ]
  },
  {
   "cell_type": "code",
   "execution_count": 192,
   "id": "02719c19",
   "metadata": {},
   "outputs": [
    {
     "data": {
      "text/html": [
       "<div>\n",
       "<style scoped>\n",
       "    .dataframe tbody tr th:only-of-type {\n",
       "        vertical-align: middle;\n",
       "    }\n",
       "\n",
       "    .dataframe tbody tr th {\n",
       "        vertical-align: top;\n",
       "    }\n",
       "\n",
       "    .dataframe thead th {\n",
       "        text-align: right;\n",
       "    }\n",
       "</style>\n",
       "<table border=\"1\" class=\"dataframe\">\n",
       "  <thead>\n",
       "    <tr style=\"text-align: right;\">\n",
       "      <th></th>\n",
       "      <th>saledate</th>\n",
       "      <th>state</th>\n",
       "      <th>nsku</th>\n",
       "      <th>totalquantity</th>\n",
       "      <th>avgquantity</th>\n",
       "      <th>totalamt</th>\n",
       "      <th>avgamt</th>\n",
       "      <th>minamt</th>\n",
       "      <th>maxamt</th>\n",
       "      <th>totalorigprice</th>\n",
       "      <th>...</th>\n",
       "      <th>maxdiscount</th>\n",
       "      <th>totalprofit</th>\n",
       "      <th>avgprofittrnsact</th>\n",
       "      <th>minprofit</th>\n",
       "      <th>maxprofit</th>\n",
       "      <th>nstore</th>\n",
       "      <th>ncities</th>\n",
       "      <th>ndept</th>\n",
       "      <th>nvendors</th>\n",
       "      <th>avgvendorsstore</th>\n",
       "    </tr>\n",
       "  </thead>\n",
       "  <tbody>\n",
       "    <tr>\n",
       "      <th>0</th>\n",
       "      <td>2004-08-01</td>\n",
       "      <td>AL</td>\n",
       "      <td>4016</td>\n",
       "      <td>4832</td>\n",
       "      <td>61</td>\n",
       "      <td>154686.64</td>\n",
       "      <td>1983.162051</td>\n",
       "      <td>0.0</td>\n",
       "      <td>650.0</td>\n",
       "      <td>112570.29</td>\n",
       "      <td>...</td>\n",
       "      <td>29.01</td>\n",
       "      <td>-11758.40</td>\n",
       "      <td>-150.749261</td>\n",
       "      <td>-275.0</td>\n",
       "      <td>103.75</td>\n",
       "      <td>12</td>\n",
       "      <td>10</td>\n",
       "      <td>56</td>\n",
       "      <td>411</td>\n",
       "      <td>34</td>\n",
       "    </tr>\n",
       "    <tr>\n",
       "      <th>1</th>\n",
       "      <td>2004-08-01</td>\n",
       "      <td>AR</td>\n",
       "      <td>2923</td>\n",
       "      <td>3692</td>\n",
       "      <td>46</td>\n",
       "      <td>124112.38</td>\n",
       "      <td>1571.042785</td>\n",
       "      <td>0.0</td>\n",
       "      <td>895.0</td>\n",
       "      <td>99210.52</td>\n",
       "      <td>...</td>\n",
       "      <td>65.01</td>\n",
       "      <td>-12614.80</td>\n",
       "      <td>-159.680887</td>\n",
       "      <td>-275.0</td>\n",
       "      <td>26.88</td>\n",
       "      <td>7</td>\n",
       "      <td>7</td>\n",
       "      <td>57</td>\n",
       "      <td>384</td>\n",
       "      <td>54</td>\n",
       "    </tr>\n",
       "    <tr>\n",
       "      <th>2</th>\n",
       "      <td>2004-08-01</td>\n",
       "      <td>AZ</td>\n",
       "      <td>6710</td>\n",
       "      <td>9272</td>\n",
       "      <td>83</td>\n",
       "      <td>282876.15</td>\n",
       "      <td>2548.433784</td>\n",
       "      <td>0.0</td>\n",
       "      <td>650.0</td>\n",
       "      <td>226252.94</td>\n",
       "      <td>...</td>\n",
       "      <td>75.01</td>\n",
       "      <td>-28469.10</td>\n",
       "      <td>-256.478568</td>\n",
       "      <td>-225.0</td>\n",
       "      <td>30.39</td>\n",
       "      <td>14</td>\n",
       "      <td>10</td>\n",
       "      <td>58</td>\n",
       "      <td>449</td>\n",
       "      <td>32</td>\n",
       "    </tr>\n",
       "    <tr>\n",
       "      <th>3</th>\n",
       "      <td>2004-08-01</td>\n",
       "      <td>CA</td>\n",
       "      <td>1054</td>\n",
       "      <td>1174</td>\n",
       "      <td>13</td>\n",
       "      <td>40297.12</td>\n",
       "      <td>457.921818</td>\n",
       "      <td>0.0</td>\n",
       "      <td>425.0</td>\n",
       "      <td>30868.73</td>\n",
       "      <td>...</td>\n",
       "      <td>32.50</td>\n",
       "      <td>-2904.78</td>\n",
       "      <td>-33.008864</td>\n",
       "      <td>-225.0</td>\n",
       "      <td>19.50</td>\n",
       "      <td>2</td>\n",
       "      <td>2</td>\n",
       "      <td>53</td>\n",
       "      <td>249</td>\n",
       "      <td>124</td>\n",
       "    </tr>\n",
       "    <tr>\n",
       "      <th>4</th>\n",
       "      <td>2004-08-01</td>\n",
       "      <td>CO</td>\n",
       "      <td>4062</td>\n",
       "      <td>5295</td>\n",
       "      <td>56</td>\n",
       "      <td>165998.81</td>\n",
       "      <td>1784.933441</td>\n",
       "      <td>0.0</td>\n",
       "      <td>895.0</td>\n",
       "      <td>122559.93</td>\n",
       "      <td>...</td>\n",
       "      <td>46.75</td>\n",
       "      <td>-14406.50</td>\n",
       "      <td>-154.908665</td>\n",
       "      <td>-275.0</td>\n",
       "      <td>44.75</td>\n",
       "      <td>11</td>\n",
       "      <td>9</td>\n",
       "      <td>58</td>\n",
       "      <td>381</td>\n",
       "      <td>34</td>\n",
       "    </tr>\n",
       "  </tbody>\n",
       "</table>\n",
       "<p>5 rows × 36 columns</p>\n",
       "</div>"
      ],
      "text/plain": [
       "     saledate state  nsku  totalquantity  avgquantity   totalamt       avgamt  \\\n",
       "0  2004-08-01    AL  4016           4832           61  154686.64  1983.162051   \n",
       "1  2004-08-01    AR  2923           3692           46  124112.38  1571.042785   \n",
       "2  2004-08-01    AZ  6710           9272           83  282876.15  2548.433784   \n",
       "3  2004-08-01    CA  1054           1174           13   40297.12   457.921818   \n",
       "4  2004-08-01    CO  4062           5295           56  165998.81  1784.933441   \n",
       "\n",
       "   minamt  maxamt  totalorigprice  ...  maxdiscount  totalprofit  \\\n",
       "0     0.0   650.0       112570.29  ...        29.01    -11758.40   \n",
       "1     0.0   895.0        99210.52  ...        65.01    -12614.80   \n",
       "2     0.0   650.0       226252.94  ...        75.01    -28469.10   \n",
       "3     0.0   425.0        30868.73  ...        32.50     -2904.78   \n",
       "4     0.0   895.0       122559.93  ...        46.75    -14406.50   \n",
       "\n",
       "   avgprofittrnsact  minprofit  maxprofit  nstore  ncities  ndept  nvendors  \\\n",
       "0       -150.749261     -275.0     103.75      12       10     56       411   \n",
       "1       -159.680887     -275.0      26.88       7        7     57       384   \n",
       "2       -256.478568     -225.0      30.39      14       10     58       449   \n",
       "3        -33.008864     -225.0      19.50       2        2     53       249   \n",
       "4       -154.908665     -275.0      44.75      11        9     58       381   \n",
       "\n",
       "   avgvendorsstore  \n",
       "0               34  \n",
       "1               54  \n",
       "2               32  \n",
       "3              124  \n",
       "4               34  \n",
       "\n",
       "[5 rows x 36 columns]"
      ]
     },
     "execution_count": 192,
     "metadata": {},
     "output_type": "execute_result"
    }
   ],
   "source": [
    "# check the data\n",
    "df.head()"
   ]
  },
  {
   "cell_type": "code",
   "execution_count": 193,
   "id": "83def7c8",
   "metadata": {},
   "outputs": [
    {
     "data": {
      "text/plain": [
       "Index(['saledate', 'state', 'nsku', 'totalquantity', 'avgquantity', 'totalamt',\n",
       "       'avgamt', 'minamt', 'maxamt', 'totalorigprice', 'avgorigprice',\n",
       "       'minorigprice', 'maxorigprice', 'totalretail', 'avgretail', 'minretail',\n",
       "       'maxretail', 'avgretailtrnsact', 'totalcost', 'avgcost', 'mincost',\n",
       "       'maxcost', 'avgcosttrnsact', 'totaldiscount', 'avgdiscounttrnsact',\n",
       "       'mindiscount', 'maxdiscount', 'totalprofit', 'avgprofittrnsact',\n",
       "       'minprofit', 'maxprofit', 'nstore', 'ncities', 'ndept', 'nvendors',\n",
       "       'avgvendorsstore'],\n",
       "      dtype='object')"
      ]
     },
     "execution_count": 193,
     "metadata": {},
     "output_type": "execute_result"
    }
   ],
   "source": [
    "df.columns"
   ]
  },
  {
   "cell_type": "code",
   "execution_count": 194,
   "id": "2184ea87",
   "metadata": {},
   "outputs": [
    {
     "data": {
      "text/plain": [
       "saledate              11281\n",
       "state                 11281\n",
       "nsku                  11281\n",
       "totalquantity         11281\n",
       "avgquantity           11281\n",
       "totalamt              11281\n",
       "avgamt                11281\n",
       "minamt                11281\n",
       "maxamt                11281\n",
       "totalorigprice        11281\n",
       "avgorigprice          11281\n",
       "minorigprice          11281\n",
       "maxorigprice          11281\n",
       "totalretail           11281\n",
       "avgretail             11281\n",
       "minretail             11281\n",
       "maxretail             11281\n",
       "avgretailtrnsact      11281\n",
       "totalcost             11281\n",
       "avgcost               11281\n",
       "mincost               11281\n",
       "maxcost               11281\n",
       "avgcosttrnsact        11281\n",
       "totaldiscount         11281\n",
       "avgdiscounttrnsact    11281\n",
       "mindiscount           11281\n",
       "maxdiscount           11281\n",
       "totalprofit           11281\n",
       "avgprofittrnsact      11281\n",
       "minprofit             11281\n",
       "maxprofit             11281\n",
       "nstore                11281\n",
       "ncities               11281\n",
       "ndept                 11281\n",
       "nvendors              11281\n",
       "avgvendorsstore       11281\n",
       "dtype: int64"
      ]
     },
     "execution_count": 194,
     "metadata": {},
     "output_type": "execute_result"
    }
   ],
   "source": [
    "# check null value counts\n",
    "df.notnull().sum()"
   ]
  },
  {
   "cell_type": "code",
   "execution_count": 195,
   "id": "4ebb176a",
   "metadata": {},
   "outputs": [
    {
     "data": {
      "image/png": "[encoded data removed]",
      "text/plain": [
       "<Figure size 1080x360 with 1 Axes>"
      ]
     },
     "metadata": {
      "needs_background": "light"
     },
     "output_type": "display_data"
    }
   ],
   "source": [
    "df_groupyed = df\n",
    "color_pal = sns.color_palette()\n",
    "# set df index as date\n",
    "df_ts = df_groupyed.set_index('saledate')\n",
    "df_ts.index = pd.to_datetime(df_ts.index)\n",
    "# check distribution of amount (no pattern found)\n",
    "df_ts_draw = df_ts[\"totalamt\"]\n",
    "df_ts_draw.plot(style='.',\n",
    "        figsize=(15, 5),\n",
    "        color=color_pal[0],\n",
    "        title='Number')\n",
    "plt.show()"
   ]
  },
  {
   "cell_type": "code",
   "execution_count": 196,
   "id": "3646290c",
   "metadata": {},
   "outputs": [
    {
     "data": {
      "text/html": [
       "<div>\n",
       "<style scoped>\n",
       "    .dataframe tbody tr th:only-of-type {\n",
       "        vertical-align: middle;\n",
       "    }\n",
       "\n",
       "    .dataframe tbody tr th {\n",
       "        vertical-align: top;\n",
       "    }\n",
       "\n",
       "    .dataframe thead th {\n",
       "        text-align: right;\n",
       "    }\n",
       "</style>\n",
       "<table border=\"1\" class=\"dataframe\">\n",
       "  <thead>\n",
       "    <tr style=\"text-align: right;\">\n",
       "      <th></th>\n",
       "      <th>state</th>\n",
       "      <th>nsku</th>\n",
       "      <th>totalquantity</th>\n",
       "      <th>avgquantity</th>\n",
       "      <th>totalamt</th>\n",
       "      <th>avgamt</th>\n",
       "      <th>minamt</th>\n",
       "      <th>maxamt</th>\n",
       "      <th>totalorigprice</th>\n",
       "      <th>avgorigprice</th>\n",
       "      <th>...</th>\n",
       "      <th>nstore</th>\n",
       "      <th>ncities</th>\n",
       "      <th>ndept</th>\n",
       "      <th>nvendors</th>\n",
       "      <th>avgvendorsstore</th>\n",
       "      <th>dayofweek</th>\n",
       "      <th>quarter</th>\n",
       "      <th>month</th>\n",
       "      <th>year</th>\n",
       "      <th>dayofmonth</th>\n",
       "    </tr>\n",
       "    <tr>\n",
       "      <th>saledate</th>\n",
       "      <th></th>\n",
       "      <th></th>\n",
       "      <th></th>\n",
       "      <th></th>\n",
       "      <th></th>\n",
       "      <th></th>\n",
       "      <th></th>\n",
       "      <th></th>\n",
       "      <th></th>\n",
       "      <th></th>\n",
       "      <th></th>\n",
       "      <th></th>\n",
       "      <th></th>\n",
       "      <th></th>\n",
       "      <th></th>\n",
       "      <th></th>\n",
       "      <th></th>\n",
       "      <th></th>\n",
       "      <th></th>\n",
       "      <th></th>\n",
       "      <th></th>\n",
       "    </tr>\n",
       "  </thead>\n",
       "  <tbody>\n",
       "    <tr>\n",
       "      <th>2004-08-01</th>\n",
       "      <td>AL</td>\n",
       "      <td>4016</td>\n",
       "      <td>4832</td>\n",
       "      <td>61</td>\n",
       "      <td>154686.64</td>\n",
       "      <td>1983.162051</td>\n",
       "      <td>0.0</td>\n",
       "      <td>650.0</td>\n",
       "      <td>112570.29</td>\n",
       "      <td>23.296832</td>\n",
       "      <td>...</td>\n",
       "      <td>12</td>\n",
       "      <td>10</td>\n",
       "      <td>56</td>\n",
       "      <td>411</td>\n",
       "      <td>34</td>\n",
       "      <td>6</td>\n",
       "      <td>3</td>\n",
       "      <td>8</td>\n",
       "      <td>2004</td>\n",
       "      <td>1</td>\n",
       "    </tr>\n",
       "    <tr>\n",
       "      <th>2004-08-01</th>\n",
       "      <td>AR</td>\n",
       "      <td>2923</td>\n",
       "      <td>3692</td>\n",
       "      <td>46</td>\n",
       "      <td>124112.38</td>\n",
       "      <td>1571.042785</td>\n",
       "      <td>0.0</td>\n",
       "      <td>895.0</td>\n",
       "      <td>99210.52</td>\n",
       "      <td>26.871755</td>\n",
       "      <td>...</td>\n",
       "      <td>7</td>\n",
       "      <td>7</td>\n",
       "      <td>57</td>\n",
       "      <td>384</td>\n",
       "      <td>54</td>\n",
       "      <td>6</td>\n",
       "      <td>3</td>\n",
       "      <td>8</td>\n",
       "      <td>2004</td>\n",
       "      <td>1</td>\n",
       "    </tr>\n",
       "    <tr>\n",
       "      <th>2004-08-01</th>\n",
       "      <td>AZ</td>\n",
       "      <td>6710</td>\n",
       "      <td>9272</td>\n",
       "      <td>83</td>\n",
       "      <td>282876.15</td>\n",
       "      <td>2548.433784</td>\n",
       "      <td>0.0</td>\n",
       "      <td>650.0</td>\n",
       "      <td>226252.94</td>\n",
       "      <td>24.401741</td>\n",
       "      <td>...</td>\n",
       "      <td>14</td>\n",
       "      <td>10</td>\n",
       "      <td>58</td>\n",
       "      <td>449</td>\n",
       "      <td>32</td>\n",
       "      <td>6</td>\n",
       "      <td>3</td>\n",
       "      <td>8</td>\n",
       "      <td>2004</td>\n",
       "      <td>1</td>\n",
       "    </tr>\n",
       "    <tr>\n",
       "      <th>2004-08-01</th>\n",
       "      <td>CA</td>\n",
       "      <td>1054</td>\n",
       "      <td>1174</td>\n",
       "      <td>13</td>\n",
       "      <td>40297.12</td>\n",
       "      <td>457.921818</td>\n",
       "      <td>0.0</td>\n",
       "      <td>425.0</td>\n",
       "      <td>30868.73</td>\n",
       "      <td>26.293637</td>\n",
       "      <td>...</td>\n",
       "      <td>2</td>\n",
       "      <td>2</td>\n",
       "      <td>53</td>\n",
       "      <td>249</td>\n",
       "      <td>124</td>\n",
       "      <td>6</td>\n",
       "      <td>3</td>\n",
       "      <td>8</td>\n",
       "      <td>2004</td>\n",
       "      <td>1</td>\n",
       "    </tr>\n",
       "    <tr>\n",
       "      <th>2004-08-01</th>\n",
       "      <td>CO</td>\n",
       "      <td>4062</td>\n",
       "      <td>5295</td>\n",
       "      <td>56</td>\n",
       "      <td>165998.81</td>\n",
       "      <td>1784.933441</td>\n",
       "      <td>0.0</td>\n",
       "      <td>895.0</td>\n",
       "      <td>122559.93</td>\n",
       "      <td>23.146351</td>\n",
       "      <td>...</td>\n",
       "      <td>11</td>\n",
       "      <td>9</td>\n",
       "      <td>58</td>\n",
       "      <td>381</td>\n",
       "      <td>34</td>\n",
       "      <td>6</td>\n",
       "      <td>3</td>\n",
       "      <td>8</td>\n",
       "      <td>2004</td>\n",
       "      <td>1</td>\n",
       "    </tr>\n",
       "    <tr>\n",
       "      <th>...</th>\n",
       "      <td>...</td>\n",
       "      <td>...</td>\n",
       "      <td>...</td>\n",
       "      <td>...</td>\n",
       "      <td>...</td>\n",
       "      <td>...</td>\n",
       "      <td>...</td>\n",
       "      <td>...</td>\n",
       "      <td>...</td>\n",
       "      <td>...</td>\n",
       "      <td>...</td>\n",
       "      <td>...</td>\n",
       "      <td>...</td>\n",
       "      <td>...</td>\n",
       "      <td>...</td>\n",
       "      <td>...</td>\n",
       "      <td>...</td>\n",
       "      <td>...</td>\n",
       "      <td>...</td>\n",
       "      <td>...</td>\n",
       "      <td>...</td>\n",
       "    </tr>\n",
       "    <tr>\n",
       "      <th>2005-08-27</th>\n",
       "      <td>TN</td>\n",
       "      <td>19319</td>\n",
       "      <td>28464</td>\n",
       "      <td>121</td>\n",
       "      <td>1204982.36</td>\n",
       "      <td>5127.584511</td>\n",
       "      <td>0.0</td>\n",
       "      <td>788.0</td>\n",
       "      <td>578953.01</td>\n",
       "      <td>20.339833</td>\n",
       "      <td>...</td>\n",
       "      <td>14</td>\n",
       "      <td>10</td>\n",
       "      <td>60</td>\n",
       "      <td>586</td>\n",
       "      <td>41</td>\n",
       "      <td>5</td>\n",
       "      <td>3</td>\n",
       "      <td>8</td>\n",
       "      <td>2005</td>\n",
       "      <td>27</td>\n",
       "    </tr>\n",
       "    <tr>\n",
       "      <th>2005-08-27</th>\n",
       "      <td>TX</td>\n",
       "      <td>62545</td>\n",
       "      <td>156933</td>\n",
       "      <td>458</td>\n",
       "      <td>6627749.79</td>\n",
       "      <td>19379.385351</td>\n",
       "      <td>0.0</td>\n",
       "      <td>1200.0</td>\n",
       "      <td>3189055.04</td>\n",
       "      <td>20.321125</td>\n",
       "      <td>...</td>\n",
       "      <td>57</td>\n",
       "      <td>46</td>\n",
       "      <td>60</td>\n",
       "      <td>802</td>\n",
       "      <td>14</td>\n",
       "      <td>5</td>\n",
       "      <td>3</td>\n",
       "      <td>8</td>\n",
       "      <td>2005</td>\n",
       "      <td>27</td>\n",
       "    </tr>\n",
       "    <tr>\n",
       "      <th>2005-08-27</th>\n",
       "      <td>UT</td>\n",
       "      <td>8985</td>\n",
       "      <td>12166</td>\n",
       "      <td>76</td>\n",
       "      <td>422610.82</td>\n",
       "      <td>2657.929686</td>\n",
       "      <td>0.0</td>\n",
       "      <td>695.0</td>\n",
       "      <td>220702.78</td>\n",
       "      <td>18.140949</td>\n",
       "      <td>...</td>\n",
       "      <td>6</td>\n",
       "      <td>6</td>\n",
       "      <td>56</td>\n",
       "      <td>467</td>\n",
       "      <td>77</td>\n",
       "      <td>5</td>\n",
       "      <td>3</td>\n",
       "      <td>8</td>\n",
       "      <td>2005</td>\n",
       "      <td>27</td>\n",
       "    </tr>\n",
       "    <tr>\n",
       "      <th>2005-08-27</th>\n",
       "      <td>VA</td>\n",
       "      <td>14688</td>\n",
       "      <td>20247</td>\n",
       "      <td>84</td>\n",
       "      <td>844484.76</td>\n",
       "      <td>3504.086141</td>\n",
       "      <td>0.0</td>\n",
       "      <td>695.0</td>\n",
       "      <td>365043.01</td>\n",
       "      <td>18.029486</td>\n",
       "      <td>...</td>\n",
       "      <td>10</td>\n",
       "      <td>7</td>\n",
       "      <td>58</td>\n",
       "      <td>522</td>\n",
       "      <td>52</td>\n",
       "      <td>5</td>\n",
       "      <td>3</td>\n",
       "      <td>8</td>\n",
       "      <td>2005</td>\n",
       "      <td>27</td>\n",
       "    </tr>\n",
       "    <tr>\n",
       "      <th>2005-08-27</th>\n",
       "      <td>WY</td>\n",
       "      <td>1322</td>\n",
       "      <td>1453</td>\n",
       "      <td>16</td>\n",
       "      <td>49225.96</td>\n",
       "      <td>565.815632</td>\n",
       "      <td>0.0</td>\n",
       "      <td>495.0</td>\n",
       "      <td>23420.98</td>\n",
       "      <td>16.119050</td>\n",
       "      <td>...</td>\n",
       "      <td>1</td>\n",
       "      <td>1</td>\n",
       "      <td>49</td>\n",
       "      <td>246</td>\n",
       "      <td>246</td>\n",
       "      <td>5</td>\n",
       "      <td>3</td>\n",
       "      <td>8</td>\n",
       "      <td>2005</td>\n",
       "      <td>27</td>\n",
       "    </tr>\n",
       "  </tbody>\n",
       "</table>\n",
       "<p>11281 rows × 40 columns</p>\n",
       "</div>"
      ],
      "text/plain": [
       "           state   nsku  totalquantity  avgquantity    totalamt        avgamt  \\\n",
       "saledate                                                                        \n",
       "2004-08-01    AL   4016           4832           61   154686.64   1983.162051   \n",
       "2004-08-01    AR   2923           3692           46   124112.38   1571.042785   \n",
       "2004-08-01    AZ   6710           9272           83   282876.15   2548.433784   \n",
       "2004-08-01    CA   1054           1174           13    40297.12    457.921818   \n",
       "2004-08-01    CO   4062           5295           56   165998.81   1784.933441   \n",
       "...          ...    ...            ...          ...         ...           ...   \n",
       "2005-08-27    TN  19319          28464          121  1204982.36   5127.584511   \n",
       "2005-08-27    TX  62545         156933          458  6627749.79  19379.385351   \n",
       "2005-08-27    UT   8985          12166           76   422610.82   2657.929686   \n",
       "2005-08-27    VA  14688          20247           84   844484.76   3504.086141   \n",
       "2005-08-27    WY   1322           1453           16    49225.96    565.815632   \n",
       "\n",
       "            minamt  maxamt  totalorigprice  avgorigprice  ...  nstore  \\\n",
       "saledate                                                  ...           \n",
       "2004-08-01     0.0   650.0       112570.29     23.296832  ...      12   \n",
       "2004-08-01     0.0   895.0        99210.52     26.871755  ...       7   \n",
       "2004-08-01     0.0   650.0       226252.94     24.401741  ...      14   \n",
       "2004-08-01     0.0   425.0        30868.73     26.293637  ...       2   \n",
       "2004-08-01     0.0   895.0       122559.93     23.146351  ...      11   \n",
       "...            ...     ...             ...           ...  ...     ...   \n",
       "2005-08-27     0.0   788.0       578953.01     20.339833  ...      14   \n",
       "2005-08-27     0.0  1200.0      3189055.04     20.321125  ...      57   \n",
       "2005-08-27     0.0   695.0       220702.78     18.140949  ...       6   \n",
       "2005-08-27     0.0   695.0       365043.01     18.029486  ...      10   \n",
       "2005-08-27     0.0   495.0        23420.98     16.119050  ...       1   \n",
       "\n",
       "            ncities  ndept  nvendors  avgvendorsstore  dayofweek  quarter  \\\n",
       "saledate                                                                    \n",
       "2004-08-01       10     56       411               34          6        3   \n",
       "2004-08-01        7     57       384               54          6        3   \n",
       "2004-08-01       10     58       449               32          6        3   \n",
       "2004-08-01        2     53       249              124          6        3   \n",
       "2004-08-01        9     58       381               34          6        3   \n",
       "...             ...    ...       ...              ...        ...      ...   \n",
       "2005-08-27       10     60       586               41          5        3   \n",
       "2005-08-27       46     60       802               14          5        3   \n",
       "2005-08-27        6     56       467               77          5        3   \n",
       "2005-08-27        7     58       522               52          5        3   \n",
       "2005-08-27        1     49       246              246          5        3   \n",
       "\n",
       "            month  year  dayofmonth  \n",
       "saledate                             \n",
       "2004-08-01      8  2004           1  \n",
       "2004-08-01      8  2004           1  \n",
       "2004-08-01      8  2004           1  \n",
       "2004-08-01      8  2004           1  \n",
       "2004-08-01      8  2004           1  \n",
       "...           ...   ...         ...  \n",
       "2005-08-27      8  2005          27  \n",
       "2005-08-27      8  2005          27  \n",
       "2005-08-27      8  2005          27  \n",
       "2005-08-27      8  2005          27  \n",
       "2005-08-27      8  2005          27  \n",
       "\n",
       "[11281 rows x 40 columns]"
      ]
     },
     "execution_count": 196,
     "metadata": {},
     "output_type": "execute_result"
    }
   ],
   "source": [
    "def create_features(df):\n",
    "    \"\"\"\n",
    "    Create time series features based on time series index.\n",
    "    \"\"\"\n",
    "    df = df.copy()\n",
    "    df['dayofweek'] = df.index.dayofweek\n",
    "    df['quarter'] = df.index.quarter\n",
    "    df['month'] = df.index.month\n",
    "    df['year'] = df.index.year\n",
    "    df['dayofmonth'] = df.index.day\n",
    "    return df\n",
    "# create time series features\n",
    "df_ts = create_features(df_ts)\n",
    "df_ts"
   ]
  },
  {
   "cell_type": "code",
   "execution_count": 198,
   "id": "56be6451",
   "metadata": {
    "scrolled": true
   },
   "outputs": [
    {
     "data": {
      "text/plain": [
       "['nsku',\n",
       " 'totalquantity',\n",
       " 'avgquantity',\n",
       " 'totalamt',\n",
       " 'avgamt',\n",
       " 'minamt',\n",
       " 'maxamt',\n",
       " 'totalorigprice',\n",
       " 'avgorigprice',\n",
       " 'minorigprice',\n",
       " 'maxorigprice',\n",
       " 'totalretail',\n",
       " 'avgretail',\n",
       " 'minretail',\n",
       " 'maxretail',\n",
       " 'avgretailtrnsact',\n",
       " 'totalcost',\n",
       " 'avgcost',\n",
       " 'mincost',\n",
       " 'maxcost',\n",
       " 'avgcosttrnsact',\n",
       " 'totaldiscount',\n",
       " 'avgdiscounttrnsact',\n",
       " 'mindiscount',\n",
       " 'maxdiscount',\n",
       " 'totalprofit',\n",
       " 'avgprofittrnsact',\n",
       " 'minprofit',\n",
       " 'maxprofit',\n",
       " 'nstore',\n",
       " 'ncities',\n",
       " 'ndept',\n",
       " 'nvendors',\n",
       " 'avgvendorsstore']"
      ]
     },
     "execution_count": 198,
     "metadata": {},
     "output_type": "execute_result"
    }
   ],
   "source": [
    "orignal_features = list(df.columns)\n",
    "orignal_features.remove('saledate')\n",
    "orignal_features.remove('state')\n",
    "orignal_features"
   ]
  },
  {
   "cell_type": "code",
   "execution_count": 199,
   "id": "e8ea9314",
   "metadata": {
    "scrolled": true
   },
   "outputs": [
    {
     "data": {
      "text/html": [
       "<div>\n",
       "<style scoped>\n",
       "    .dataframe tbody tr th:only-of-type {\n",
       "        vertical-align: middle;\n",
       "    }\n",
       "\n",
       "    .dataframe tbody tr th {\n",
       "        vertical-align: top;\n",
       "    }\n",
       "\n",
       "    .dataframe thead th {\n",
       "        text-align: right;\n",
       "    }\n",
       "</style>\n",
       "<table border=\"1\" class=\"dataframe\">\n",
       "  <thead>\n",
       "    <tr style=\"text-align: right;\">\n",
       "      <th></th>\n",
       "      <th>state</th>\n",
       "      <th>totalamt</th>\n",
       "      <th>dayofweek</th>\n",
       "      <th>quarter</th>\n",
       "      <th>month</th>\n",
       "      <th>year</th>\n",
       "      <th>dayofmonth</th>\n",
       "      <th>nsku_1</th>\n",
       "      <th>nsku_2</th>\n",
       "      <th>nsku_3</th>\n",
       "      <th>...</th>\n",
       "      <th>nvendors_28</th>\n",
       "      <th>avgvendorsstore_1</th>\n",
       "      <th>avgvendorsstore_2</th>\n",
       "      <th>avgvendorsstore_3</th>\n",
       "      <th>avgvendorsstore_4</th>\n",
       "      <th>avgvendorsstore_5</th>\n",
       "      <th>avgvendorsstore_6</th>\n",
       "      <th>avgvendorsstore_7</th>\n",
       "      <th>avgvendorsstore_14</th>\n",
       "      <th>avgvendorsstore_28</th>\n",
       "    </tr>\n",
       "  </thead>\n",
       "  <tbody>\n",
       "    <tr>\n",
       "      <th>2004-08-01</th>\n",
       "      <td>AL</td>\n",
       "      <td>154686.64</td>\n",
       "      <td>6</td>\n",
       "      <td>3</td>\n",
       "      <td>8</td>\n",
       "      <td>2004</td>\n",
       "      <td>1</td>\n",
       "      <td>6902.113111</td>\n",
       "      <td>6902.113111</td>\n",
       "      <td>6902.113111</td>\n",
       "      <td>...</td>\n",
       "      <td>463.796915</td>\n",
       "      <td>38.326478</td>\n",
       "      <td>38.326478</td>\n",
       "      <td>38.326478</td>\n",
       "      <td>38.326478</td>\n",
       "      <td>38.326478</td>\n",
       "      <td>38.326478</td>\n",
       "      <td>38.326478</td>\n",
       "      <td>38.326478</td>\n",
       "      <td>38.326478</td>\n",
       "    </tr>\n",
       "    <tr>\n",
       "      <th>2004-08-02</th>\n",
       "      <td>AL</td>\n",
       "      <td>177630.18</td>\n",
       "      <td>0</td>\n",
       "      <td>3</td>\n",
       "      <td>8</td>\n",
       "      <td>2004</td>\n",
       "      <td>2</td>\n",
       "      <td>4016.000000</td>\n",
       "      <td>6902.113111</td>\n",
       "      <td>6902.113111</td>\n",
       "      <td>...</td>\n",
       "      <td>463.796915</td>\n",
       "      <td>34.000000</td>\n",
       "      <td>38.326478</td>\n",
       "      <td>38.326478</td>\n",
       "      <td>38.326478</td>\n",
       "      <td>38.326478</td>\n",
       "      <td>38.326478</td>\n",
       "      <td>38.326478</td>\n",
       "      <td>38.326478</td>\n",
       "      <td>38.326478</td>\n",
       "    </tr>\n",
       "    <tr>\n",
       "      <th>2004-08-03</th>\n",
       "      <td>AL</td>\n",
       "      <td>203399.34</td>\n",
       "      <td>1</td>\n",
       "      <td>3</td>\n",
       "      <td>8</td>\n",
       "      <td>2004</td>\n",
       "      <td>3</td>\n",
       "      <td>4539.000000</td>\n",
       "      <td>4016.000000</td>\n",
       "      <td>6902.113111</td>\n",
       "      <td>...</td>\n",
       "      <td>463.796915</td>\n",
       "      <td>35.000000</td>\n",
       "      <td>34.000000</td>\n",
       "      <td>38.326478</td>\n",
       "      <td>38.326478</td>\n",
       "      <td>38.326478</td>\n",
       "      <td>38.326478</td>\n",
       "      <td>38.326478</td>\n",
       "      <td>38.326478</td>\n",
       "      <td>38.326478</td>\n",
       "    </tr>\n",
       "    <tr>\n",
       "      <th>2004-08-04</th>\n",
       "      <td>AL</td>\n",
       "      <td>199944.96</td>\n",
       "      <td>2</td>\n",
       "      <td>3</td>\n",
       "      <td>8</td>\n",
       "      <td>2004</td>\n",
       "      <td>4</td>\n",
       "      <td>5165.000000</td>\n",
       "      <td>4539.000000</td>\n",
       "      <td>4016.000000</td>\n",
       "      <td>...</td>\n",
       "      <td>463.796915</td>\n",
       "      <td>36.000000</td>\n",
       "      <td>35.000000</td>\n",
       "      <td>34.000000</td>\n",
       "      <td>38.326478</td>\n",
       "      <td>38.326478</td>\n",
       "      <td>38.326478</td>\n",
       "      <td>38.326478</td>\n",
       "      <td>38.326478</td>\n",
       "      <td>38.326478</td>\n",
       "    </tr>\n",
       "    <tr>\n",
       "      <th>2004-08-05</th>\n",
       "      <td>AL</td>\n",
       "      <td>213268.97</td>\n",
       "      <td>3</td>\n",
       "      <td>3</td>\n",
       "      <td>8</td>\n",
       "      <td>2004</td>\n",
       "      <td>5</td>\n",
       "      <td>5008.000000</td>\n",
       "      <td>5165.000000</td>\n",
       "      <td>4539.000000</td>\n",
       "      <td>...</td>\n",
       "      <td>463.796915</td>\n",
       "      <td>37.000000</td>\n",
       "      <td>36.000000</td>\n",
       "      <td>35.000000</td>\n",
       "      <td>34.000000</td>\n",
       "      <td>38.326478</td>\n",
       "      <td>38.326478</td>\n",
       "      <td>38.326478</td>\n",
       "      <td>38.326478</td>\n",
       "      <td>38.326478</td>\n",
       "    </tr>\n",
       "    <tr>\n",
       "      <th>...</th>\n",
       "      <td>...</td>\n",
       "      <td>...</td>\n",
       "      <td>...</td>\n",
       "      <td>...</td>\n",
       "      <td>...</td>\n",
       "      <td>...</td>\n",
       "      <td>...</td>\n",
       "      <td>...</td>\n",
       "      <td>...</td>\n",
       "      <td>...</td>\n",
       "      <td>...</td>\n",
       "      <td>...</td>\n",
       "      <td>...</td>\n",
       "      <td>...</td>\n",
       "      <td>...</td>\n",
       "      <td>...</td>\n",
       "      <td>...</td>\n",
       "      <td>...</td>\n",
       "      <td>...</td>\n",
       "      <td>...</td>\n",
       "      <td>...</td>\n",
       "    </tr>\n",
       "    <tr>\n",
       "      <th>2005-08-23</th>\n",
       "      <td>WY</td>\n",
       "      <td>12950.74</td>\n",
       "      <td>1</td>\n",
       "      <td>3</td>\n",
       "      <td>8</td>\n",
       "      <td>2005</td>\n",
       "      <td>23</td>\n",
       "      <td>432.000000</td>\n",
       "      <td>478.000000</td>\n",
       "      <td>777.000000</td>\n",
       "      <td>...</td>\n",
       "      <td>158.000000</td>\n",
       "      <td>154.000000</td>\n",
       "      <td>161.000000</td>\n",
       "      <td>201.000000</td>\n",
       "      <td>179.000000</td>\n",
       "      <td>162.000000</td>\n",
       "      <td>163.000000</td>\n",
       "      <td>158.000000</td>\n",
       "      <td>140.000000</td>\n",
       "      <td>158.000000</td>\n",
       "    </tr>\n",
       "    <tr>\n",
       "      <th>2005-08-24</th>\n",
       "      <td>WY</td>\n",
       "      <td>31830.29</td>\n",
       "      <td>2</td>\n",
       "      <td>3</td>\n",
       "      <td>8</td>\n",
       "      <td>2005</td>\n",
       "      <td>24</td>\n",
       "      <td>453.000000</td>\n",
       "      <td>432.000000</td>\n",
       "      <td>478.000000</td>\n",
       "      <td>...</td>\n",
       "      <td>214.000000</td>\n",
       "      <td>146.000000</td>\n",
       "      <td>154.000000</td>\n",
       "      <td>161.000000</td>\n",
       "      <td>201.000000</td>\n",
       "      <td>179.000000</td>\n",
       "      <td>162.000000</td>\n",
       "      <td>163.000000</td>\n",
       "      <td>144.000000</td>\n",
       "      <td>214.000000</td>\n",
       "    </tr>\n",
       "    <tr>\n",
       "      <th>2005-08-25</th>\n",
       "      <td>WY</td>\n",
       "      <td>30399.62</td>\n",
       "      <td>3</td>\n",
       "      <td>3</td>\n",
       "      <td>8</td>\n",
       "      <td>2005</td>\n",
       "      <td>25</td>\n",
       "      <td>917.000000</td>\n",
       "      <td>453.000000</td>\n",
       "      <td>432.000000</td>\n",
       "      <td>...</td>\n",
       "      <td>242.000000</td>\n",
       "      <td>216.000000</td>\n",
       "      <td>146.000000</td>\n",
       "      <td>154.000000</td>\n",
       "      <td>161.000000</td>\n",
       "      <td>201.000000</td>\n",
       "      <td>179.000000</td>\n",
       "      <td>162.000000</td>\n",
       "      <td>171.000000</td>\n",
       "      <td>242.000000</td>\n",
       "    </tr>\n",
       "    <tr>\n",
       "      <th>2005-08-26</th>\n",
       "      <td>WY</td>\n",
       "      <td>36792.64</td>\n",
       "      <td>4</td>\n",
       "      <td>3</td>\n",
       "      <td>8</td>\n",
       "      <td>2005</td>\n",
       "      <td>26</td>\n",
       "      <td>841.000000</td>\n",
       "      <td>917.000000</td>\n",
       "      <td>453.000000</td>\n",
       "      <td>...</td>\n",
       "      <td>208.000000</td>\n",
       "      <td>199.000000</td>\n",
       "      <td>216.000000</td>\n",
       "      <td>146.000000</td>\n",
       "      <td>154.000000</td>\n",
       "      <td>161.000000</td>\n",
       "      <td>201.000000</td>\n",
       "      <td>179.000000</td>\n",
       "      <td>171.000000</td>\n",
       "      <td>208.000000</td>\n",
       "    </tr>\n",
       "    <tr>\n",
       "      <th>2005-08-27</th>\n",
       "      <td>WY</td>\n",
       "      <td>49225.96</td>\n",
       "      <td>5</td>\n",
       "      <td>3</td>\n",
       "      <td>8</td>\n",
       "      <td>2005</td>\n",
       "      <td>27</td>\n",
       "      <td>1098.000000</td>\n",
       "      <td>841.000000</td>\n",
       "      <td>917.000000</td>\n",
       "      <td>...</td>\n",
       "      <td>222.000000</td>\n",
       "      <td>226.000000</td>\n",
       "      <td>199.000000</td>\n",
       "      <td>216.000000</td>\n",
       "      <td>146.000000</td>\n",
       "      <td>154.000000</td>\n",
       "      <td>161.000000</td>\n",
       "      <td>201.000000</td>\n",
       "      <td>220.000000</td>\n",
       "      <td>222.000000</td>\n",
       "    </tr>\n",
       "  </tbody>\n",
       "</table>\n",
       "<p>11281 rows × 313 columns</p>\n",
       "</div>"
      ],
      "text/plain": [
       "           state   totalamt dayofweek quarter month  year dayofmonth  \\\n",
       "2004-08-01    AL  154686.64         6       3     8  2004          1   \n",
       "2004-08-02    AL  177630.18         0       3     8  2004          2   \n",
       "2004-08-03    AL  203399.34         1       3     8  2004          3   \n",
       "2004-08-04    AL  199944.96         2       3     8  2004          4   \n",
       "2004-08-05    AL  213268.97         3       3     8  2004          5   \n",
       "...          ...        ...       ...     ...   ...   ...        ...   \n",
       "2005-08-23    WY   12950.74         1       3     8  2005         23   \n",
       "2005-08-24    WY   31830.29         2       3     8  2005         24   \n",
       "2005-08-25    WY   30399.62         3       3     8  2005         25   \n",
       "2005-08-26    WY   36792.64         4       3     8  2005         26   \n",
       "2005-08-27    WY   49225.96         5       3     8  2005         27   \n",
       "\n",
       "                 nsku_1       nsku_2       nsku_3  ...  nvendors_28  \\\n",
       "2004-08-01  6902.113111  6902.113111  6902.113111  ...   463.796915   \n",
       "2004-08-02  4016.000000  6902.113111  6902.113111  ...   463.796915   \n",
       "2004-08-03  4539.000000  4016.000000  6902.113111  ...   463.796915   \n",
       "2004-08-04  5165.000000  4539.000000  4016.000000  ...   463.796915   \n",
       "2004-08-05  5008.000000  5165.000000  4539.000000  ...   463.796915   \n",
       "...                 ...          ...          ...  ...          ...   \n",
       "2005-08-23   432.000000   478.000000   777.000000  ...   158.000000   \n",
       "2005-08-24   453.000000   432.000000   478.000000  ...   214.000000   \n",
       "2005-08-25   917.000000   453.000000   432.000000  ...   242.000000   \n",
       "2005-08-26   841.000000   917.000000   453.000000  ...   208.000000   \n",
       "2005-08-27  1098.000000   841.000000   917.000000  ...   222.000000   \n",
       "\n",
       "            avgvendorsstore_1  avgvendorsstore_2  avgvendorsstore_3  \\\n",
       "2004-08-01          38.326478          38.326478          38.326478   \n",
       "2004-08-02          34.000000          38.326478          38.326478   \n",
       "2004-08-03          35.000000          34.000000          38.326478   \n",
       "2004-08-04          36.000000          35.000000          34.000000   \n",
       "2004-08-05          37.000000          36.000000          35.000000   \n",
       "...                       ...                ...                ...   \n",
       "2005-08-23         154.000000         161.000000         201.000000   \n",
       "2005-08-24         146.000000         154.000000         161.000000   \n",
       "2005-08-25         216.000000         146.000000         154.000000   \n",
       "2005-08-26         199.000000         216.000000         146.000000   \n",
       "2005-08-27         226.000000         199.000000         216.000000   \n",
       "\n",
       "            avgvendorsstore_4  avgvendorsstore_5  avgvendorsstore_6  \\\n",
       "2004-08-01          38.326478          38.326478          38.326478   \n",
       "2004-08-02          38.326478          38.326478          38.326478   \n",
       "2004-08-03          38.326478          38.326478          38.326478   \n",
       "2004-08-04          38.326478          38.326478          38.326478   \n",
       "2004-08-05          34.000000          38.326478          38.326478   \n",
       "...                       ...                ...                ...   \n",
       "2005-08-23         179.000000         162.000000         163.000000   \n",
       "2005-08-24         201.000000         179.000000         162.000000   \n",
       "2005-08-25         161.000000         201.000000         179.000000   \n",
       "2005-08-26         154.000000         161.000000         201.000000   \n",
       "2005-08-27         146.000000         154.000000         161.000000   \n",
       "\n",
       "            avgvendorsstore_7  avgvendorsstore_14  avgvendorsstore_28  \n",
       "2004-08-01          38.326478           38.326478           38.326478  \n",
       "2004-08-02          38.326478           38.326478           38.326478  \n",
       "2004-08-03          38.326478           38.326478           38.326478  \n",
       "2004-08-04          38.326478           38.326478           38.326478  \n",
       "2004-08-05          38.326478           38.326478           38.326478  \n",
       "...                       ...                 ...                 ...  \n",
       "2005-08-23         158.000000          140.000000          158.000000  \n",
       "2005-08-24         163.000000          144.000000          214.000000  \n",
       "2005-08-25         162.000000          171.000000          242.000000  \n",
       "2005-08-26         179.000000          171.000000          208.000000  \n",
       "2005-08-27         201.000000          220.000000          222.000000  \n",
       "\n",
       "[11281 rows x 313 columns]"
      ]
     },
     "execution_count": 199,
     "metadata": {},
     "output_type": "execute_result"
    }
   ],
   "source": [
    "# TODO: add lags\n",
    "def create_lag_feature(df, column):\n",
    "    '''\n",
    "    Create time lagging features\n",
    "    '''\n",
    "    df = df.copy()\n",
    "    average_value = np.mean(df[column])\n",
    "    df[column + '_1'] = df[column].shift(1,fill_value = average_value)\n",
    "    df[column + '_2'] = df[column].shift(2,fill_value = average_value)\n",
    "    df[column + '_3'] = df[column].shift(3,fill_value = average_value)\n",
    "    df[column + '_4'] = df[column].shift(4,fill_value = average_value)\n",
    "    df[column + '_5'] = df[column].shift(5,fill_value = average_value)\n",
    "    df[column + '_6'] = df[column].shift(6,fill_value = average_value)\n",
    "    df[column + '_7'] = df[column].shift(7,fill_value = average_value)\n",
    "    df[column + '_14'] = df[column].shift(14,fill_value = average_value)\n",
    "    df[column + '_28'] = df[column].shift(28,fill_value = average_value)\n",
    "    return df\n",
    "\n",
    "df_model = pd.DataFrame(columns = df_ts.columns)\n",
    "for state in df_ts['state'].drop_duplicates().tolist():\n",
    "    df_part = df_ts[df_ts['state']==state]\n",
    "    for col in orignal_features:\n",
    "        df_part = create_lag_feature(df_part, col)\n",
    "    df_model = df_model.append(df_part)\n",
    "\n",
    "orignal_features1 = orignal_features.copy()\n",
    "orignal_features1.remove('totalamt')\n",
    "df_ts_lagged = df_model.drop(orignal_features1, axis=1)\n",
    "df_ts_lagged"
   ]
  },
  {
   "cell_type": "code",
   "execution_count": 200,
   "id": "50f39a63",
   "metadata": {},
   "outputs": [
    {
     "data": {
      "text/plain": [
       "Index(['state', 'totalamt', 'dayofweek', 'quarter', 'month', 'year',\n",
       "       'dayofmonth', 'nsku_1', 'nsku_2', 'nsku_3',\n",
       "       ...\n",
       "       'nvendors_28', 'avgvendorsstore_1', 'avgvendorsstore_2',\n",
       "       'avgvendorsstore_3', 'avgvendorsstore_4', 'avgvendorsstore_5',\n",
       "       'avgvendorsstore_6', 'avgvendorsstore_7', 'avgvendorsstore_14',\n",
       "       'avgvendorsstore_28'],\n",
       "      dtype='object', length=313)"
      ]
     },
     "execution_count": 200,
     "metadata": {},
     "output_type": "execute_result"
    }
   ],
   "source": [
    "df_ts_lagged.columns"
   ]
  },
  {
   "cell_type": "markdown",
   "id": "4baed3eb",
   "metadata": {},
   "source": [
    "## Prophet Modeling"
   ]
  },
  {
   "cell_type": "code",
   "execution_count": 248,
   "id": "c753385e",
   "metadata": {},
   "outputs": [],
   "source": [
    "from prophet import Prophet\n",
    "from prophet.diagnostics import cross_validation\n",
    "from prophet.diagnostics import performance_metrics\n",
    "from prophet.plot import plot_cross_validation_metric\n",
    "from prophet.utilities import regressor_coefficients\n",
    "import itertools"
   ]
  },
  {
   "cell_type": "code",
   "execution_count": 202,
   "id": "7c3f5a07",
   "metadata": {},
   "outputs": [
    {
     "data": {
      "text/html": [
       "<div>\n",
       "<style scoped>\n",
       "    .dataframe tbody tr th:only-of-type {\n",
       "        vertical-align: middle;\n",
       "    }\n",
       "\n",
       "    .dataframe tbody tr th {\n",
       "        vertical-align: top;\n",
       "    }\n",
       "\n",
       "    .dataframe thead th {\n",
       "        text-align: right;\n",
       "    }\n",
       "</style>\n",
       "<table border=\"1\" class=\"dataframe\">\n",
       "  <thead>\n",
       "    <tr style=\"text-align: right;\">\n",
       "      <th></th>\n",
       "      <th>state</th>\n",
       "      <th>totalamt</th>\n",
       "      <th>dayofweek</th>\n",
       "      <th>quarter</th>\n",
       "      <th>month</th>\n",
       "      <th>year</th>\n",
       "      <th>dayofmonth</th>\n",
       "      <th>nsku_1</th>\n",
       "      <th>nsku_2</th>\n",
       "      <th>nsku_3</th>\n",
       "      <th>...</th>\n",
       "      <th>nvendors_28</th>\n",
       "      <th>avgvendorsstore_1</th>\n",
       "      <th>avgvendorsstore_2</th>\n",
       "      <th>avgvendorsstore_3</th>\n",
       "      <th>avgvendorsstore_4</th>\n",
       "      <th>avgvendorsstore_5</th>\n",
       "      <th>avgvendorsstore_6</th>\n",
       "      <th>avgvendorsstore_7</th>\n",
       "      <th>avgvendorsstore_14</th>\n",
       "      <th>avgvendorsstore_28</th>\n",
       "    </tr>\n",
       "  </thead>\n",
       "  <tbody>\n",
       "    <tr>\n",
       "      <th>2004-08-01</th>\n",
       "      <td>AL</td>\n",
       "      <td>154686.64</td>\n",
       "      <td>6</td>\n",
       "      <td>3</td>\n",
       "      <td>8</td>\n",
       "      <td>2004</td>\n",
       "      <td>1</td>\n",
       "      <td>6902.113111</td>\n",
       "      <td>6902.113111</td>\n",
       "      <td>6902.113111</td>\n",
       "      <td>...</td>\n",
       "      <td>463.796915</td>\n",
       "      <td>38.326478</td>\n",
       "      <td>38.326478</td>\n",
       "      <td>38.326478</td>\n",
       "      <td>38.326478</td>\n",
       "      <td>38.326478</td>\n",
       "      <td>38.326478</td>\n",
       "      <td>38.326478</td>\n",
       "      <td>38.326478</td>\n",
       "      <td>38.326478</td>\n",
       "    </tr>\n",
       "    <tr>\n",
       "      <th>2004-08-02</th>\n",
       "      <td>AL</td>\n",
       "      <td>177630.18</td>\n",
       "      <td>0</td>\n",
       "      <td>3</td>\n",
       "      <td>8</td>\n",
       "      <td>2004</td>\n",
       "      <td>2</td>\n",
       "      <td>4016.000000</td>\n",
       "      <td>6902.113111</td>\n",
       "      <td>6902.113111</td>\n",
       "      <td>...</td>\n",
       "      <td>463.796915</td>\n",
       "      <td>34.000000</td>\n",
       "      <td>38.326478</td>\n",
       "      <td>38.326478</td>\n",
       "      <td>38.326478</td>\n",
       "      <td>38.326478</td>\n",
       "      <td>38.326478</td>\n",
       "      <td>38.326478</td>\n",
       "      <td>38.326478</td>\n",
       "      <td>38.326478</td>\n",
       "    </tr>\n",
       "    <tr>\n",
       "      <th>2004-08-03</th>\n",
       "      <td>AL</td>\n",
       "      <td>203399.34</td>\n",
       "      <td>1</td>\n",
       "      <td>3</td>\n",
       "      <td>8</td>\n",
       "      <td>2004</td>\n",
       "      <td>3</td>\n",
       "      <td>4539.000000</td>\n",
       "      <td>4016.000000</td>\n",
       "      <td>6902.113111</td>\n",
       "      <td>...</td>\n",
       "      <td>463.796915</td>\n",
       "      <td>35.000000</td>\n",
       "      <td>34.000000</td>\n",
       "      <td>38.326478</td>\n",
       "      <td>38.326478</td>\n",
       "      <td>38.326478</td>\n",
       "      <td>38.326478</td>\n",
       "      <td>38.326478</td>\n",
       "      <td>38.326478</td>\n",
       "      <td>38.326478</td>\n",
       "    </tr>\n",
       "    <tr>\n",
       "      <th>2004-08-04</th>\n",
       "      <td>AL</td>\n",
       "      <td>199944.96</td>\n",
       "      <td>2</td>\n",
       "      <td>3</td>\n",
       "      <td>8</td>\n",
       "      <td>2004</td>\n",
       "      <td>4</td>\n",
       "      <td>5165.000000</td>\n",
       "      <td>4539.000000</td>\n",
       "      <td>4016.000000</td>\n",
       "      <td>...</td>\n",
       "      <td>463.796915</td>\n",
       "      <td>36.000000</td>\n",
       "      <td>35.000000</td>\n",
       "      <td>34.000000</td>\n",
       "      <td>38.326478</td>\n",
       "      <td>38.326478</td>\n",
       "      <td>38.326478</td>\n",
       "      <td>38.326478</td>\n",
       "      <td>38.326478</td>\n",
       "      <td>38.326478</td>\n",
       "    </tr>\n",
       "    <tr>\n",
       "      <th>2004-08-05</th>\n",
       "      <td>AL</td>\n",
       "      <td>213268.97</td>\n",
       "      <td>3</td>\n",
       "      <td>3</td>\n",
       "      <td>8</td>\n",
       "      <td>2004</td>\n",
       "      <td>5</td>\n",
       "      <td>5008.000000</td>\n",
       "      <td>5165.000000</td>\n",
       "      <td>4539.000000</td>\n",
       "      <td>...</td>\n",
       "      <td>463.796915</td>\n",
       "      <td>37.000000</td>\n",
       "      <td>36.000000</td>\n",
       "      <td>35.000000</td>\n",
       "      <td>34.000000</td>\n",
       "      <td>38.326478</td>\n",
       "      <td>38.326478</td>\n",
       "      <td>38.326478</td>\n",
       "      <td>38.326478</td>\n",
       "      <td>38.326478</td>\n",
       "    </tr>\n",
       "    <tr>\n",
       "      <th>...</th>\n",
       "      <td>...</td>\n",
       "      <td>...</td>\n",
       "      <td>...</td>\n",
       "      <td>...</td>\n",
       "      <td>...</td>\n",
       "      <td>...</td>\n",
       "      <td>...</td>\n",
       "      <td>...</td>\n",
       "      <td>...</td>\n",
       "      <td>...</td>\n",
       "      <td>...</td>\n",
       "      <td>...</td>\n",
       "      <td>...</td>\n",
       "      <td>...</td>\n",
       "      <td>...</td>\n",
       "      <td>...</td>\n",
       "      <td>...</td>\n",
       "      <td>...</td>\n",
       "      <td>...</td>\n",
       "      <td>...</td>\n",
       "      <td>...</td>\n",
       "    </tr>\n",
       "    <tr>\n",
       "      <th>2005-08-23</th>\n",
       "      <td>WY</td>\n",
       "      <td>12950.74</td>\n",
       "      <td>1</td>\n",
       "      <td>3</td>\n",
       "      <td>8</td>\n",
       "      <td>2005</td>\n",
       "      <td>23</td>\n",
       "      <td>432.000000</td>\n",
       "      <td>478.000000</td>\n",
       "      <td>777.000000</td>\n",
       "      <td>...</td>\n",
       "      <td>158.000000</td>\n",
       "      <td>154.000000</td>\n",
       "      <td>161.000000</td>\n",
       "      <td>201.000000</td>\n",
       "      <td>179.000000</td>\n",
       "      <td>162.000000</td>\n",
       "      <td>163.000000</td>\n",
       "      <td>158.000000</td>\n",
       "      <td>140.000000</td>\n",
       "      <td>158.000000</td>\n",
       "    </tr>\n",
       "    <tr>\n",
       "      <th>2005-08-24</th>\n",
       "      <td>WY</td>\n",
       "      <td>31830.29</td>\n",
       "      <td>2</td>\n",
       "      <td>3</td>\n",
       "      <td>8</td>\n",
       "      <td>2005</td>\n",
       "      <td>24</td>\n",
       "      <td>453.000000</td>\n",
       "      <td>432.000000</td>\n",
       "      <td>478.000000</td>\n",
       "      <td>...</td>\n",
       "      <td>214.000000</td>\n",
       "      <td>146.000000</td>\n",
       "      <td>154.000000</td>\n",
       "      <td>161.000000</td>\n",
       "      <td>201.000000</td>\n",
       "      <td>179.000000</td>\n",
       "      <td>162.000000</td>\n",
       "      <td>163.000000</td>\n",
       "      <td>144.000000</td>\n",
       "      <td>214.000000</td>\n",
       "    </tr>\n",
       "    <tr>\n",
       "      <th>2005-08-25</th>\n",
       "      <td>WY</td>\n",
       "      <td>30399.62</td>\n",
       "      <td>3</td>\n",
       "      <td>3</td>\n",
       "      <td>8</td>\n",
       "      <td>2005</td>\n",
       "      <td>25</td>\n",
       "      <td>917.000000</td>\n",
       "      <td>453.000000</td>\n",
       "      <td>432.000000</td>\n",
       "      <td>...</td>\n",
       "      <td>242.000000</td>\n",
       "      <td>216.000000</td>\n",
       "      <td>146.000000</td>\n",
       "      <td>154.000000</td>\n",
       "      <td>161.000000</td>\n",
       "      <td>201.000000</td>\n",
       "      <td>179.000000</td>\n",
       "      <td>162.000000</td>\n",
       "      <td>171.000000</td>\n",
       "      <td>242.000000</td>\n",
       "    </tr>\n",
       "    <tr>\n",
       "      <th>2005-08-26</th>\n",
       "      <td>WY</td>\n",
       "      <td>36792.64</td>\n",
       "      <td>4</td>\n",
       "      <td>3</td>\n",
       "      <td>8</td>\n",
       "      <td>2005</td>\n",
       "      <td>26</td>\n",
       "      <td>841.000000</td>\n",
       "      <td>917.000000</td>\n",
       "      <td>453.000000</td>\n",
       "      <td>...</td>\n",
       "      <td>208.000000</td>\n",
       "      <td>199.000000</td>\n",
       "      <td>216.000000</td>\n",
       "      <td>146.000000</td>\n",
       "      <td>154.000000</td>\n",
       "      <td>161.000000</td>\n",
       "      <td>201.000000</td>\n",
       "      <td>179.000000</td>\n",
       "      <td>171.000000</td>\n",
       "      <td>208.000000</td>\n",
       "    </tr>\n",
       "    <tr>\n",
       "      <th>2005-08-27</th>\n",
       "      <td>WY</td>\n",
       "      <td>49225.96</td>\n",
       "      <td>5</td>\n",
       "      <td>3</td>\n",
       "      <td>8</td>\n",
       "      <td>2005</td>\n",
       "      <td>27</td>\n",
       "      <td>1098.000000</td>\n",
       "      <td>841.000000</td>\n",
       "      <td>917.000000</td>\n",
       "      <td>...</td>\n",
       "      <td>222.000000</td>\n",
       "      <td>226.000000</td>\n",
       "      <td>199.000000</td>\n",
       "      <td>216.000000</td>\n",
       "      <td>146.000000</td>\n",
       "      <td>154.000000</td>\n",
       "      <td>161.000000</td>\n",
       "      <td>201.000000</td>\n",
       "      <td>220.000000</td>\n",
       "      <td>222.000000</td>\n",
       "    </tr>\n",
       "  </tbody>\n",
       "</table>\n",
       "<p>11281 rows × 313 columns</p>\n",
       "</div>"
      ],
      "text/plain": [
       "           state   totalamt dayofweek quarter month  year dayofmonth  \\\n",
       "2004-08-01    AL  154686.64         6       3     8  2004          1   \n",
       "2004-08-02    AL  177630.18         0       3     8  2004          2   \n",
       "2004-08-03    AL  203399.34         1       3     8  2004          3   \n",
       "2004-08-04    AL  199944.96         2       3     8  2004          4   \n",
       "2004-08-05    AL  213268.97         3       3     8  2004          5   \n",
       "...          ...        ...       ...     ...   ...   ...        ...   \n",
       "2005-08-23    WY   12950.74         1       3     8  2005         23   \n",
       "2005-08-24    WY   31830.29         2       3     8  2005         24   \n",
       "2005-08-25    WY   30399.62         3       3     8  2005         25   \n",
       "2005-08-26    WY   36792.64         4       3     8  2005         26   \n",
       "2005-08-27    WY   49225.96         5       3     8  2005         27   \n",
       "\n",
       "                 nsku_1       nsku_2       nsku_3  ...  nvendors_28  \\\n",
       "2004-08-01  6902.113111  6902.113111  6902.113111  ...   463.796915   \n",
       "2004-08-02  4016.000000  6902.113111  6902.113111  ...   463.796915   \n",
       "2004-08-03  4539.000000  4016.000000  6902.113111  ...   463.796915   \n",
       "2004-08-04  5165.000000  4539.000000  4016.000000  ...   463.796915   \n",
       "2004-08-05  5008.000000  5165.000000  4539.000000  ...   463.796915   \n",
       "...                 ...          ...          ...  ...          ...   \n",
       "2005-08-23   432.000000   478.000000   777.000000  ...   158.000000   \n",
       "2005-08-24   453.000000   432.000000   478.000000  ...   214.000000   \n",
       "2005-08-25   917.000000   453.000000   432.000000  ...   242.000000   \n",
       "2005-08-26   841.000000   917.000000   453.000000  ...   208.000000   \n",
       "2005-08-27  1098.000000   841.000000   917.000000  ...   222.000000   \n",
       "\n",
       "            avgvendorsstore_1  avgvendorsstore_2  avgvendorsstore_3  \\\n",
       "2004-08-01          38.326478          38.326478          38.326478   \n",
       "2004-08-02          34.000000          38.326478          38.326478   \n",
       "2004-08-03          35.000000          34.000000          38.326478   \n",
       "2004-08-04          36.000000          35.000000          34.000000   \n",
       "2004-08-05          37.000000          36.000000          35.000000   \n",
       "...                       ...                ...                ...   \n",
       "2005-08-23         154.000000         161.000000         201.000000   \n",
       "2005-08-24         146.000000         154.000000         161.000000   \n",
       "2005-08-25         216.000000         146.000000         154.000000   \n",
       "2005-08-26         199.000000         216.000000         146.000000   \n",
       "2005-08-27         226.000000         199.000000         216.000000   \n",
       "\n",
       "            avgvendorsstore_4  avgvendorsstore_5  avgvendorsstore_6  \\\n",
       "2004-08-01          38.326478          38.326478          38.326478   \n",
       "2004-08-02          38.326478          38.326478          38.326478   \n",
       "2004-08-03          38.326478          38.326478          38.326478   \n",
       "2004-08-04          38.326478          38.326478          38.326478   \n",
       "2004-08-05          34.000000          38.326478          38.326478   \n",
       "...                       ...                ...                ...   \n",
       "2005-08-23         179.000000         162.000000         163.000000   \n",
       "2005-08-24         201.000000         179.000000         162.000000   \n",
       "2005-08-25         161.000000         201.000000         179.000000   \n",
       "2005-08-26         154.000000         161.000000         201.000000   \n",
       "2005-08-27         146.000000         154.000000         161.000000   \n",
       "\n",
       "            avgvendorsstore_7  avgvendorsstore_14  avgvendorsstore_28  \n",
       "2004-08-01          38.326478           38.326478           38.326478  \n",
       "2004-08-02          38.326478           38.326478           38.326478  \n",
       "2004-08-03          38.326478           38.326478           38.326478  \n",
       "2004-08-04          38.326478           38.326478           38.326478  \n",
       "2004-08-05          38.326478           38.326478           38.326478  \n",
       "...                       ...                 ...                 ...  \n",
       "2005-08-23         158.000000          140.000000          158.000000  \n",
       "2005-08-24         163.000000          144.000000          214.000000  \n",
       "2005-08-25         162.000000          171.000000          242.000000  \n",
       "2005-08-26         179.000000          171.000000          208.000000  \n",
       "2005-08-27         201.000000          220.000000          222.000000  \n",
       "\n",
       "[11281 rows x 313 columns]"
      ]
     },
     "execution_count": 202,
     "metadata": {},
     "output_type": "execute_result"
    }
   ],
   "source": [
    "df_total = df_ts_lagged.copy()\n",
    "df_total"
   ]
  },
  {
   "cell_type": "code",
   "execution_count": 30,
   "id": "75f51eab",
   "metadata": {},
   "outputs": [
    {
     "name": "stdout",
     "output_type": "stream",
     "text": [
      "AL AR AZ CA CO FL GA IA ID IL IN KS KY LA MO MS MT NC NE NM NV OH OK SC TN TX UT VA WY "
     ]
    }
   ],
   "source": [
    "for state in df_total['state'].drop_duplicates().tolist():\n",
    "    print(state, end = \" \")\n",
    "    df_state = df_total[df_total['state']==state]\n",
    "    df_ts = pd.DataFrame({'ds':df_state.index,'y':df_state.totalamt})\n",
    "    df_ts"
   ]
  },
  {
   "cell_type": "markdown",
   "id": "b49335f2",
   "metadata": {},
   "source": [
    "### Dataset Construction"
   ]
  },
  {
   "cell_type": "code",
   "execution_count": 204,
   "id": "b233b109",
   "metadata": {
    "scrolled": true
   },
   "outputs": [
    {
     "data": {
      "text/html": [
       "<div>\n",
       "<style scoped>\n",
       "    .dataframe tbody tr th:only-of-type {\n",
       "        vertical-align: middle;\n",
       "    }\n",
       "\n",
       "    .dataframe tbody tr th {\n",
       "        vertical-align: top;\n",
       "    }\n",
       "\n",
       "    .dataframe thead th {\n",
       "        text-align: right;\n",
       "    }\n",
       "</style>\n",
       "<table border=\"1\" class=\"dataframe\">\n",
       "  <thead>\n",
       "    <tr style=\"text-align: right;\">\n",
       "      <th></th>\n",
       "      <th>ds</th>\n",
       "      <th>y</th>\n",
       "      <th>dayofweek</th>\n",
       "      <th>quarter</th>\n",
       "      <th>month</th>\n",
       "      <th>year</th>\n",
       "      <th>dayofmonth</th>\n",
       "      <th>nsku_1</th>\n",
       "      <th>nsku_2</th>\n",
       "      <th>nsku_3</th>\n",
       "      <th>...</th>\n",
       "      <th>nvendors_28</th>\n",
       "      <th>avgvendorsstore_1</th>\n",
       "      <th>avgvendorsstore_2</th>\n",
       "      <th>avgvendorsstore_3</th>\n",
       "      <th>avgvendorsstore_4</th>\n",
       "      <th>avgvendorsstore_5</th>\n",
       "      <th>avgvendorsstore_6</th>\n",
       "      <th>avgvendorsstore_7</th>\n",
       "      <th>avgvendorsstore_14</th>\n",
       "      <th>avgvendorsstore_28</th>\n",
       "    </tr>\n",
       "  </thead>\n",
       "  <tbody>\n",
       "    <tr>\n",
       "      <th>0</th>\n",
       "      <td>2004-08-01</td>\n",
       "      <td>154686.64</td>\n",
       "      <td>6</td>\n",
       "      <td>3</td>\n",
       "      <td>8</td>\n",
       "      <td>2004</td>\n",
       "      <td>1</td>\n",
       "      <td>6902.113111</td>\n",
       "      <td>6902.113111</td>\n",
       "      <td>6902.113111</td>\n",
       "      <td>...</td>\n",
       "      <td>463.796915</td>\n",
       "      <td>38.326478</td>\n",
       "      <td>38.326478</td>\n",
       "      <td>38.326478</td>\n",
       "      <td>38.326478</td>\n",
       "      <td>38.326478</td>\n",
       "      <td>38.326478</td>\n",
       "      <td>38.326478</td>\n",
       "      <td>38.326478</td>\n",
       "      <td>38.326478</td>\n",
       "    </tr>\n",
       "    <tr>\n",
       "      <th>1</th>\n",
       "      <td>2004-08-02</td>\n",
       "      <td>177630.18</td>\n",
       "      <td>0</td>\n",
       "      <td>3</td>\n",
       "      <td>8</td>\n",
       "      <td>2004</td>\n",
       "      <td>2</td>\n",
       "      <td>4016.000000</td>\n",
       "      <td>6902.113111</td>\n",
       "      <td>6902.113111</td>\n",
       "      <td>...</td>\n",
       "      <td>463.796915</td>\n",
       "      <td>34.000000</td>\n",
       "      <td>38.326478</td>\n",
       "      <td>38.326478</td>\n",
       "      <td>38.326478</td>\n",
       "      <td>38.326478</td>\n",
       "      <td>38.326478</td>\n",
       "      <td>38.326478</td>\n",
       "      <td>38.326478</td>\n",
       "      <td>38.326478</td>\n",
       "    </tr>\n",
       "    <tr>\n",
       "      <th>2</th>\n",
       "      <td>2004-08-03</td>\n",
       "      <td>203399.34</td>\n",
       "      <td>1</td>\n",
       "      <td>3</td>\n",
       "      <td>8</td>\n",
       "      <td>2004</td>\n",
       "      <td>3</td>\n",
       "      <td>4539.000000</td>\n",
       "      <td>4016.000000</td>\n",
       "      <td>6902.113111</td>\n",
       "      <td>...</td>\n",
       "      <td>463.796915</td>\n",
       "      <td>35.000000</td>\n",
       "      <td>34.000000</td>\n",
       "      <td>38.326478</td>\n",
       "      <td>38.326478</td>\n",
       "      <td>38.326478</td>\n",
       "      <td>38.326478</td>\n",
       "      <td>38.326478</td>\n",
       "      <td>38.326478</td>\n",
       "      <td>38.326478</td>\n",
       "    </tr>\n",
       "    <tr>\n",
       "      <th>3</th>\n",
       "      <td>2004-08-04</td>\n",
       "      <td>199944.96</td>\n",
       "      <td>2</td>\n",
       "      <td>3</td>\n",
       "      <td>8</td>\n",
       "      <td>2004</td>\n",
       "      <td>4</td>\n",
       "      <td>5165.000000</td>\n",
       "      <td>4539.000000</td>\n",
       "      <td>4016.000000</td>\n",
       "      <td>...</td>\n",
       "      <td>463.796915</td>\n",
       "      <td>36.000000</td>\n",
       "      <td>35.000000</td>\n",
       "      <td>34.000000</td>\n",
       "      <td>38.326478</td>\n",
       "      <td>38.326478</td>\n",
       "      <td>38.326478</td>\n",
       "      <td>38.326478</td>\n",
       "      <td>38.326478</td>\n",
       "      <td>38.326478</td>\n",
       "    </tr>\n",
       "    <tr>\n",
       "      <th>4</th>\n",
       "      <td>2004-08-05</td>\n",
       "      <td>213268.97</td>\n",
       "      <td>3</td>\n",
       "      <td>3</td>\n",
       "      <td>8</td>\n",
       "      <td>2004</td>\n",
       "      <td>5</td>\n",
       "      <td>5008.000000</td>\n",
       "      <td>5165.000000</td>\n",
       "      <td>4539.000000</td>\n",
       "      <td>...</td>\n",
       "      <td>463.796915</td>\n",
       "      <td>37.000000</td>\n",
       "      <td>36.000000</td>\n",
       "      <td>35.000000</td>\n",
       "      <td>34.000000</td>\n",
       "      <td>38.326478</td>\n",
       "      <td>38.326478</td>\n",
       "      <td>38.326478</td>\n",
       "      <td>38.326478</td>\n",
       "      <td>38.326478</td>\n",
       "    </tr>\n",
       "    <tr>\n",
       "      <th>...</th>\n",
       "      <td>...</td>\n",
       "      <td>...</td>\n",
       "      <td>...</td>\n",
       "      <td>...</td>\n",
       "      <td>...</td>\n",
       "      <td>...</td>\n",
       "      <td>...</td>\n",
       "      <td>...</td>\n",
       "      <td>...</td>\n",
       "      <td>...</td>\n",
       "      <td>...</td>\n",
       "      <td>...</td>\n",
       "      <td>...</td>\n",
       "      <td>...</td>\n",
       "      <td>...</td>\n",
       "      <td>...</td>\n",
       "      <td>...</td>\n",
       "      <td>...</td>\n",
       "      <td>...</td>\n",
       "      <td>...</td>\n",
       "      <td>...</td>\n",
       "    </tr>\n",
       "    <tr>\n",
       "      <th>384</th>\n",
       "      <td>2005-08-23</td>\n",
       "      <td>233697.92</td>\n",
       "      <td>1</td>\n",
       "      <td>3</td>\n",
       "      <td>8</td>\n",
       "      <td>2005</td>\n",
       "      <td>23</td>\n",
       "      <td>4611.000000</td>\n",
       "      <td>5130.000000</td>\n",
       "      <td>10994.000000</td>\n",
       "      <td>...</td>\n",
       "      <td>468.000000</td>\n",
       "      <td>37.000000</td>\n",
       "      <td>38.000000</td>\n",
       "      <td>44.000000</td>\n",
       "      <td>41.000000</td>\n",
       "      <td>39.000000</td>\n",
       "      <td>39.000000</td>\n",
       "      <td>39.000000</td>\n",
       "      <td>39.000000</td>\n",
       "      <td>39.000000</td>\n",
       "    </tr>\n",
       "    <tr>\n",
       "      <th>385</th>\n",
       "      <td>2005-08-24</td>\n",
       "      <td>633511.33</td>\n",
       "      <td>2</td>\n",
       "      <td>3</td>\n",
       "      <td>8</td>\n",
       "      <td>2005</td>\n",
       "      <td>24</td>\n",
       "      <td>5154.000000</td>\n",
       "      <td>4611.000000</td>\n",
       "      <td>5130.000000</td>\n",
       "      <td>...</td>\n",
       "      <td>564.000000</td>\n",
       "      <td>37.000000</td>\n",
       "      <td>37.000000</td>\n",
       "      <td>38.000000</td>\n",
       "      <td>44.000000</td>\n",
       "      <td>41.000000</td>\n",
       "      <td>39.000000</td>\n",
       "      <td>39.000000</td>\n",
       "      <td>39.000000</td>\n",
       "      <td>47.000000</td>\n",
       "    </tr>\n",
       "    <tr>\n",
       "      <th>386</th>\n",
       "      <td>2005-08-25</td>\n",
       "      <td>576269.54</td>\n",
       "      <td>3</td>\n",
       "      <td>3</td>\n",
       "      <td>8</td>\n",
       "      <td>2005</td>\n",
       "      <td>25</td>\n",
       "      <td>11641.000000</td>\n",
       "      <td>5154.000000</td>\n",
       "      <td>4611.000000</td>\n",
       "      <td>...</td>\n",
       "      <td>541.000000</td>\n",
       "      <td>46.000000</td>\n",
       "      <td>37.000000</td>\n",
       "      <td>37.000000</td>\n",
       "      <td>38.000000</td>\n",
       "      <td>44.000000</td>\n",
       "      <td>41.000000</td>\n",
       "      <td>39.000000</td>\n",
       "      <td>42.000000</td>\n",
       "      <td>45.000000</td>\n",
       "    </tr>\n",
       "    <tr>\n",
       "      <th>387</th>\n",
       "      <td>2005-08-26</td>\n",
       "      <td>647460.36</td>\n",
       "      <td>4</td>\n",
       "      <td>3</td>\n",
       "      <td>8</td>\n",
       "      <td>2005</td>\n",
       "      <td>26</td>\n",
       "      <td>10813.000000</td>\n",
       "      <td>11641.000000</td>\n",
       "      <td>5154.000000</td>\n",
       "      <td>...</td>\n",
       "      <td>559.000000</td>\n",
       "      <td>43.000000</td>\n",
       "      <td>46.000000</td>\n",
       "      <td>37.000000</td>\n",
       "      <td>37.000000</td>\n",
       "      <td>38.000000</td>\n",
       "      <td>44.000000</td>\n",
       "      <td>41.000000</td>\n",
       "      <td>42.000000</td>\n",
       "      <td>46.000000</td>\n",
       "    </tr>\n",
       "    <tr>\n",
       "      <th>388</th>\n",
       "      <td>2005-08-27</td>\n",
       "      <td>882432.14</td>\n",
       "      <td>5</td>\n",
       "      <td>3</td>\n",
       "      <td>8</td>\n",
       "      <td>2005</td>\n",
       "      <td>27</td>\n",
       "      <td>12369.000000</td>\n",
       "      <td>10813.000000</td>\n",
       "      <td>11641.000000</td>\n",
       "      <td>...</td>\n",
       "      <td>586.000000</td>\n",
       "      <td>46.000000</td>\n",
       "      <td>43.000000</td>\n",
       "      <td>46.000000</td>\n",
       "      <td>37.000000</td>\n",
       "      <td>37.000000</td>\n",
       "      <td>38.000000</td>\n",
       "      <td>44.000000</td>\n",
       "      <td>44.000000</td>\n",
       "      <td>48.000000</td>\n",
       "    </tr>\n",
       "  </tbody>\n",
       "</table>\n",
       "<p>389 rows × 313 columns</p>\n",
       "</div>"
      ],
      "text/plain": [
       "            ds          y dayofweek quarter month  year dayofmonth  \\\n",
       "0   2004-08-01  154686.64         6       3     8  2004          1   \n",
       "1   2004-08-02  177630.18         0       3     8  2004          2   \n",
       "2   2004-08-03  203399.34         1       3     8  2004          3   \n",
       "3   2004-08-04  199944.96         2       3     8  2004          4   \n",
       "4   2004-08-05  213268.97         3       3     8  2004          5   \n",
       "..         ...        ...       ...     ...   ...   ...        ...   \n",
       "384 2005-08-23  233697.92         1       3     8  2005         23   \n",
       "385 2005-08-24  633511.33         2       3     8  2005         24   \n",
       "386 2005-08-25  576269.54         3       3     8  2005         25   \n",
       "387 2005-08-26  647460.36         4       3     8  2005         26   \n",
       "388 2005-08-27  882432.14         5       3     8  2005         27   \n",
       "\n",
       "           nsku_1        nsku_2        nsku_3  ...  nvendors_28  \\\n",
       "0     6902.113111   6902.113111   6902.113111  ...   463.796915   \n",
       "1     4016.000000   6902.113111   6902.113111  ...   463.796915   \n",
       "2     4539.000000   4016.000000   6902.113111  ...   463.796915   \n",
       "3     5165.000000   4539.000000   4016.000000  ...   463.796915   \n",
       "4     5008.000000   5165.000000   4539.000000  ...   463.796915   \n",
       "..            ...           ...           ...  ...          ...   \n",
       "384   4611.000000   5130.000000  10994.000000  ...   468.000000   \n",
       "385   5154.000000   4611.000000   5130.000000  ...   564.000000   \n",
       "386  11641.000000   5154.000000   4611.000000  ...   541.000000   \n",
       "387  10813.000000  11641.000000   5154.000000  ...   559.000000   \n",
       "388  12369.000000  10813.000000  11641.000000  ...   586.000000   \n",
       "\n",
       "     avgvendorsstore_1  avgvendorsstore_2  avgvendorsstore_3  \\\n",
       "0            38.326478          38.326478          38.326478   \n",
       "1            34.000000          38.326478          38.326478   \n",
       "2            35.000000          34.000000          38.326478   \n",
       "3            36.000000          35.000000          34.000000   \n",
       "4            37.000000          36.000000          35.000000   \n",
       "..                 ...                ...                ...   \n",
       "384          37.000000          38.000000          44.000000   \n",
       "385          37.000000          37.000000          38.000000   \n",
       "386          46.000000          37.000000          37.000000   \n",
       "387          43.000000          46.000000          37.000000   \n",
       "388          46.000000          43.000000          46.000000   \n",
       "\n",
       "     avgvendorsstore_4  avgvendorsstore_5  avgvendorsstore_6  \\\n",
       "0            38.326478          38.326478          38.326478   \n",
       "1            38.326478          38.326478          38.326478   \n",
       "2            38.326478          38.326478          38.326478   \n",
       "3            38.326478          38.326478          38.326478   \n",
       "4            34.000000          38.326478          38.326478   \n",
       "..                 ...                ...                ...   \n",
       "384          41.000000          39.000000          39.000000   \n",
       "385          44.000000          41.000000          39.000000   \n",
       "386          38.000000          44.000000          41.000000   \n",
       "387          37.000000          38.000000          44.000000   \n",
       "388          37.000000          37.000000          38.000000   \n",
       "\n",
       "     avgvendorsstore_7  avgvendorsstore_14  avgvendorsstore_28  \n",
       "0            38.326478           38.326478           38.326478  \n",
       "1            38.326478           38.326478           38.326478  \n",
       "2            38.326478           38.326478           38.326478  \n",
       "3            38.326478           38.326478           38.326478  \n",
       "4            38.326478           38.326478           38.326478  \n",
       "..                 ...                 ...                 ...  \n",
       "384          39.000000           39.000000           39.000000  \n",
       "385          39.000000           39.000000           47.000000  \n",
       "386          39.000000           42.000000           45.000000  \n",
       "387          41.000000           42.000000           46.000000  \n",
       "388          44.000000           44.000000           48.000000  \n",
       "\n",
       "[389 rows x 313 columns]"
      ]
     },
     "execution_count": 204,
     "metadata": {},
     "output_type": "execute_result"
    }
   ],
   "source": [
    "df_state = df_total[df_total['state']=='AL']\n",
    "df_state = df_state.reset_index()\n",
    "df_state = df_state.rename(columns = {'index':'ds','totalamt':'y'})\n",
    "df_state = df_state.drop(columns = ['state'])\n",
    "df_state"
   ]
  },
  {
   "cell_type": "markdown",
   "id": "2d580bb4",
   "metadata": {},
   "source": [
    "### train/test split"
   ]
  },
  {
   "cell_type": "code",
   "execution_count": 205,
   "id": "9012c75f",
   "metadata": {},
   "outputs": [],
   "source": [
    "df_train = df_state[df_state['ds']<='2005-05-31']\n",
    "df_test = df_state[df_state['ds']>'2005-05-31']"
   ]
  },
  {
   "cell_type": "code",
   "execution_count": 206,
   "id": "f7f46734",
   "metadata": {},
   "outputs": [
    {
     "data": {
      "text/plain": [
       "Index(['ds', 'y', 'dayofweek', 'quarter', 'month', 'year', 'dayofmonth',\n",
       "       'nsku_1', 'nsku_2', 'nsku_3',\n",
       "       ...\n",
       "       'nvendors_28', 'avgvendorsstore_1', 'avgvendorsstore_2',\n",
       "       'avgvendorsstore_3', 'avgvendorsstore_4', 'avgvendorsstore_5',\n",
       "       'avgvendorsstore_6', 'avgvendorsstore_7', 'avgvendorsstore_14',\n",
       "       'avgvendorsstore_28'],\n",
       "      dtype='object', length=313)"
      ]
     },
     "execution_count": 206,
     "metadata": {},
     "output_type": "execute_result"
    }
   ],
   "source": [
    "df_train.columns"
   ]
  },
  {
   "cell_type": "markdown",
   "id": "00eec6d0",
   "metadata": {},
   "source": [
    "### Adding holidays, seasonality and additional features"
   ]
  },
  {
   "cell_type": "code",
   "execution_count": 207,
   "id": "ede1b35b",
   "metadata": {},
   "outputs": [
    {
     "data": {
      "text/plain": [
       "['nsku',\n",
       " 'totalquantity',\n",
       " 'avgquantity',\n",
       " 'totalamt',\n",
       " 'avgamt',\n",
       " 'minamt',\n",
       " 'maxamt',\n",
       " 'totalorigprice',\n",
       " 'avgorigprice',\n",
       " 'minorigprice',\n",
       " 'maxorigprice',\n",
       " 'totalretail',\n",
       " 'avgretail',\n",
       " 'minretail',\n",
       " 'maxretail',\n",
       " 'avgretailtrnsact',\n",
       " 'totalcost',\n",
       " 'avgcost',\n",
       " 'mincost',\n",
       " 'maxcost',\n",
       " 'avgcosttrnsact',\n",
       " 'totaldiscount',\n",
       " 'avgdiscounttrnsact',\n",
       " 'mindiscount',\n",
       " 'maxdiscount',\n",
       " 'totalprofit',\n",
       " 'avgprofittrnsact',\n",
       " 'minprofit',\n",
       " 'maxprofit',\n",
       " 'nstore',\n",
       " 'ncities',\n",
       " 'ndept',\n",
       " 'nvendors',\n",
       " 'avgvendorsstore']"
      ]
     },
     "execution_count": 207,
     "metadata": {},
     "output_type": "execute_result"
    }
   ],
   "source": [
    "orignal_features"
   ]
  },
  {
   "cell_type": "code",
   "execution_count": 307,
   "id": "22b70bc6",
   "metadata": {
    "scrolled": false
   },
   "outputs": [
    {
     "name": "stderr",
     "output_type": "stream",
     "text": [
      "17:47:44 - cmdstanpy - INFO - Chain [1] start processing\n",
      "17:47:44 - cmdstanpy - INFO - Chain [1] done processing\n"
     ]
    }
   ],
   "source": [
    "dict_param = {  \n",
    "    'changepoint_prior_scale': 0.5,\n",
    "    'seasonality_prior_scale': 10.0,\n",
    "    'holidays_prior_scale': 10.0\n",
    "}\n",
    "\n",
    "def modeling(df_train,dict_param):\n",
    "    \n",
    "    #add seasonality\n",
    "    '''\n",
    "        We drop the yearly seasonality since the training dataset is less than one year and we add quarterly, montly seasonality instead.\n",
    "    '''\n",
    "    m = Prophet(yearly_seasonality = False,growth = 'flat',**dict_param)\n",
    "    #m.add_seasonality(name=\"quarterly\", period=90, fourier_order = 10)\n",
    "    m.add_seasonality(name='monthly', period=30, fourier_order=5) \n",
    "\n",
    "    #add holiday\n",
    "    m.add_country_holidays(country_name='US')\n",
    "\n",
    "    #add additional features\n",
    "    feature_list = ['nsku',\n",
    "                    'avgdiscounttrnsact',\n",
    "                    'nstore',\n",
    "                    'ncities',\n",
    "                    'ndept',\n",
    "                    'nvendors',\n",
    "                    'avgvendorsstore']\n",
    "    for feature in feature_list:\n",
    "        m.add_regressor(feature+'_1',standardize = \"auto\")\n",
    "\n",
    "    m.fit(df_train)\n",
    "    \n",
    "    return m\n",
    "\n",
    "m = modeling(df_train,dict_param)"
   ]
  },
  {
   "cell_type": "code",
   "execution_count": 308,
   "id": "7d0b8360",
   "metadata": {},
   "outputs": [
    {
     "data": {
      "text/html": [
       "<div>\n",
       "<style scoped>\n",
       "    .dataframe tbody tr th:only-of-type {\n",
       "        vertical-align: middle;\n",
       "    }\n",
       "\n",
       "    .dataframe tbody tr th {\n",
       "        vertical-align: top;\n",
       "    }\n",
       "\n",
       "    .dataframe thead th {\n",
       "        text-align: right;\n",
       "    }\n",
       "</style>\n",
       "<table border=\"1\" class=\"dataframe\">\n",
       "  <thead>\n",
       "    <tr style=\"text-align: right;\">\n",
       "      <th></th>\n",
       "      <th>regressor</th>\n",
       "      <th>regressor_mode</th>\n",
       "      <th>center</th>\n",
       "      <th>coef_lower</th>\n",
       "      <th>coef</th>\n",
       "      <th>coef_upper</th>\n",
       "    </tr>\n",
       "  </thead>\n",
       "  <tbody>\n",
       "    <tr>\n",
       "      <th>0</th>\n",
       "      <td>nsku_1</td>\n",
       "      <td>additive</td>\n",
       "      <td>6806.754529</td>\n",
       "      <td>29.949286</td>\n",
       "      <td>29.949286</td>\n",
       "      <td>29.949286</td>\n",
       "    </tr>\n",
       "    <tr>\n",
       "      <th>1</th>\n",
       "      <td>avgdiscounttrnsact_1</td>\n",
       "      <td>additive</td>\n",
       "      <td>-173.887636</td>\n",
       "      <td>25.642319</td>\n",
       "      <td>25.642319</td>\n",
       "      <td>25.642319</td>\n",
       "    </tr>\n",
       "    <tr>\n",
       "      <th>2</th>\n",
       "      <td>nstore_1</td>\n",
       "      <td>additive</td>\n",
       "      <td>11.956665</td>\n",
       "      <td>-371063.431699</td>\n",
       "      <td>-371063.431699</td>\n",
       "      <td>-371063.431699</td>\n",
       "    </tr>\n",
       "    <tr>\n",
       "      <th>3</th>\n",
       "      <td>ncities_1</td>\n",
       "      <td>additive</td>\n",
       "      <td>9.959996</td>\n",
       "      <td>419861.021723</td>\n",
       "      <td>419861.021723</td>\n",
       "      <td>419861.021723</td>\n",
       "    </tr>\n",
       "    <tr>\n",
       "      <th>4</th>\n",
       "      <td>ndept_1</td>\n",
       "      <td>additive</td>\n",
       "      <td>56.184398</td>\n",
       "      <td>-7709.308258</td>\n",
       "      <td>-7709.308258</td>\n",
       "      <td>-7709.308258</td>\n",
       "    </tr>\n",
       "    <tr>\n",
       "      <th>5</th>\n",
       "      <td>nvendors_1</td>\n",
       "      <td>additive</td>\n",
       "      <td>459.770089</td>\n",
       "      <td>499.925086</td>\n",
       "      <td>499.925086</td>\n",
       "      <td>499.925086</td>\n",
       "    </tr>\n",
       "    <tr>\n",
       "      <th>6</th>\n",
       "      <td>avgvendorsstore_1</td>\n",
       "      <td>additive</td>\n",
       "      <td>37.977829</td>\n",
       "      <td>4801.268823</td>\n",
       "      <td>4801.268823</td>\n",
       "      <td>4801.268823</td>\n",
       "    </tr>\n",
       "  </tbody>\n",
       "</table>\n",
       "</div>"
      ],
      "text/plain": [
       "              regressor regressor_mode       center     coef_lower  \\\n",
       "0                nsku_1       additive  6806.754529      29.949286   \n",
       "1  avgdiscounttrnsact_1       additive  -173.887636      25.642319   \n",
       "2              nstore_1       additive    11.956665 -371063.431699   \n",
       "3             ncities_1       additive     9.959996  419861.021723   \n",
       "4               ndept_1       additive    56.184398   -7709.308258   \n",
       "5            nvendors_1       additive   459.770089     499.925086   \n",
       "6     avgvendorsstore_1       additive    37.977829    4801.268823   \n",
       "\n",
       "            coef     coef_upper  \n",
       "0      29.949286      29.949286  \n",
       "1      25.642319      25.642319  \n",
       "2 -371063.431699 -371063.431699  \n",
       "3  419861.021723  419861.021723  \n",
       "4   -7709.308258   -7709.308258  \n",
       "5     499.925086     499.925086  \n",
       "6    4801.268823    4801.268823  "
      ]
     },
     "execution_count": 308,
     "metadata": {},
     "output_type": "execute_result"
    }
   ],
   "source": [
    "#check the influence of regressors to y\n",
    "regressor_coefficients(m)"
   ]
  },
  {
   "cell_type": "markdown",
   "id": "92ad9d6d",
   "metadata": {},
   "source": [
    "### Model tuning"
   ]
  },
  {
   "cell_type": "code",
   "execution_count": 309,
   "id": "3f449336",
   "metadata": {},
   "outputs": [
    {
     "name": "stderr",
     "output_type": "stream",
     "text": [
      "17:47:47 - cmdstanpy - INFO - Chain [1] start processing\n",
      "17:47:47 - cmdstanpy - INFO - Chain [1] done processing\n"
     ]
    },
    {
     "data": {
      "application/vnd.jupyter.widget-view+json": {
       "model_id": "79bf2aa466f248399d415a85be411170",
       "version_major": 2,
       "version_minor": 0
      },
      "text/plain": [
       "  0%|          | 0/6 [00:00<?, ?it/s]"
      ]
     },
     "metadata": {},
     "output_type": "display_data"
    },
    {
     "name": "stderr",
     "output_type": "stream",
     "text": [
      "17:47:47 - cmdstanpy - INFO - Chain [1] start processing\n",
      "17:47:47 - cmdstanpy - INFO - Chain [1] done processing\n",
      "17:47:48 - cmdstanpy - INFO - Chain [1] start processing\n",
      "17:47:48 - cmdstanpy - INFO - Chain [1] done processing\n",
      "17:47:48 - cmdstanpy - INFO - Chain [1] start processing\n",
      "17:47:48 - cmdstanpy - INFO - Chain [1] done processing\n",
      "17:47:48 - cmdstanpy - INFO - Chain [1] start processing\n",
      "17:47:48 - cmdstanpy - INFO - Chain [1] done processing\n",
      "17:47:49 - cmdstanpy - INFO - Chain [1] start processing\n",
      "17:47:49 - cmdstanpy - INFO - Chain [1] done processing\n",
      "17:47:49 - cmdstanpy - INFO - Chain [1] start processing\n",
      "17:47:49 - cmdstanpy - INFO - Chain [1] done processing\n",
      "17:47:50 - cmdstanpy - INFO - Chain [1] start processing\n",
      "17:47:50 - cmdstanpy - INFO - Chain [1] done processing\n"
     ]
    },
    {
     "data": {
      "application/vnd.jupyter.widget-view+json": {
       "model_id": "f1f18b0964b04211865735b893822c2c",
       "version_major": 2,
       "version_minor": 0
      },
      "text/plain": [
       "  0%|          | 0/6 [00:00<?, ?it/s]"
      ]
     },
     "metadata": {},
     "output_type": "display_data"
    },
    {
     "name": "stderr",
     "output_type": "stream",
     "text": [
      "17:47:50 - cmdstanpy - INFO - Chain [1] start processing\n",
      "17:47:50 - cmdstanpy - INFO - Chain [1] done processing\n",
      "17:47:50 - cmdstanpy - INFO - Chain [1] start processing\n",
      "17:47:50 - cmdstanpy - INFO - Chain [1] done processing\n",
      "17:47:50 - cmdstanpy - INFO - Chain [1] start processing\n",
      "17:47:50 - cmdstanpy - INFO - Chain [1] done processing\n",
      "17:47:51 - cmdstanpy - INFO - Chain [1] start processing\n",
      "17:47:51 - cmdstanpy - INFO - Chain [1] done processing\n",
      "17:47:51 - cmdstanpy - INFO - Chain [1] start processing\n",
      "17:47:51 - cmdstanpy - INFO - Chain [1] done processing\n",
      "17:47:51 - cmdstanpy - INFO - Chain [1] start processing\n",
      "17:47:51 - cmdstanpy - INFO - Chain [1] done processing\n",
      "17:47:52 - cmdstanpy - INFO - Chain [1] start processing\n",
      "17:47:52 - cmdstanpy - INFO - Chain [1] done processing\n"
     ]
    },
    {
     "data": {
      "application/vnd.jupyter.widget-view+json": {
       "model_id": "4fc9cf39169640c595ffb6a7c3221e4f",
       "version_major": 2,
       "version_minor": 0
      },
      "text/plain": [
       "  0%|          | 0/6 [00:00<?, ?it/s]"
      ]
     },
     "metadata": {},
     "output_type": "display_data"
    },
    {
     "name": "stderr",
     "output_type": "stream",
     "text": [
      "17:47:52 - cmdstanpy - INFO - Chain [1] start processing\n",
      "17:47:52 - cmdstanpy - INFO - Chain [1] done processing\n",
      "17:47:52 - cmdstanpy - INFO - Chain [1] start processing\n",
      "17:47:52 - cmdstanpy - INFO - Chain [1] done processing\n",
      "17:47:53 - cmdstanpy - INFO - Chain [1] start processing\n",
      "17:47:53 - cmdstanpy - INFO - Chain [1] done processing\n",
      "17:47:53 - cmdstanpy - INFO - Chain [1] start processing\n",
      "17:47:53 - cmdstanpy - INFO - Chain [1] done processing\n",
      "17:47:53 - cmdstanpy - INFO - Chain [1] start processing\n",
      "17:47:53 - cmdstanpy - INFO - Chain [1] done processing\n",
      "17:47:54 - cmdstanpy - INFO - Chain [1] start processing\n",
      "17:47:54 - cmdstanpy - INFO - Chain [1] done processing\n",
      "17:47:54 - cmdstanpy - INFO - Chain [1] start processing\n",
      "17:47:54 - cmdstanpy - INFO - Chain [1] done processing\n"
     ]
    },
    {
     "data": {
      "application/vnd.jupyter.widget-view+json": {
       "model_id": "505c169d74984b0daa6cf58e91b51563",
       "version_major": 2,
       "version_minor": 0
      },
      "text/plain": [
       "  0%|          | 0/6 [00:00<?, ?it/s]"
      ]
     },
     "metadata": {},
     "output_type": "display_data"
    },
    {
     "name": "stderr",
     "output_type": "stream",
     "text": [
      "17:47:54 - cmdstanpy - INFO - Chain [1] start processing\n",
      "17:47:54 - cmdstanpy - INFO - Chain [1] done processing\n",
      "17:47:54 - cmdstanpy - INFO - Chain [1] start processing\n",
      "17:47:54 - cmdstanpy - INFO - Chain [1] done processing\n",
      "17:47:55 - cmdstanpy - INFO - Chain [1] start processing\n",
      "17:47:55 - cmdstanpy - INFO - Chain [1] done processing\n",
      "17:47:55 - cmdstanpy - INFO - Chain [1] start processing\n",
      "17:47:55 - cmdstanpy - INFO - Chain [1] done processing\n",
      "17:47:55 - cmdstanpy - INFO - Chain [1] start processing\n",
      "17:47:55 - cmdstanpy - INFO - Chain [1] done processing\n",
      "17:47:56 - cmdstanpy - INFO - Chain [1] start processing\n",
      "17:47:56 - cmdstanpy - INFO - Chain [1] done processing\n",
      "17:47:56 - cmdstanpy - INFO - Chain [1] start processing\n",
      "17:47:56 - cmdstanpy - INFO - Chain [1] done processing\n"
     ]
    },
    {
     "data": {
      "application/vnd.jupyter.widget-view+json": {
       "model_id": "2eb580dc5a4a41ea8797645d38178d6f",
       "version_major": 2,
       "version_minor": 0
      },
      "text/plain": [
       "  0%|          | 0/6 [00:00<?, ?it/s]"
      ]
     },
     "metadata": {},
     "output_type": "display_data"
    },
    {
     "name": "stderr",
     "output_type": "stream",
     "text": [
      "17:47:56 - cmdstanpy - INFO - Chain [1] start processing\n",
      "17:47:56 - cmdstanpy - INFO - Chain [1] done processing\n",
      "17:47:57 - cmdstanpy - INFO - Chain [1] start processing\n",
      "17:47:57 - cmdstanpy - INFO - Chain [1] done processing\n",
      "17:47:57 - cmdstanpy - INFO - Chain [1] start processing\n",
      "17:47:57 - cmdstanpy - INFO - Chain [1] done processing\n",
      "17:47:57 - cmdstanpy - INFO - Chain [1] start processing\n",
      "17:47:57 - cmdstanpy - INFO - Chain [1] done processing\n",
      "17:47:57 - cmdstanpy - INFO - Chain [1] start processing\n",
      "17:47:58 - cmdstanpy - INFO - Chain [1] done processing\n",
      "17:47:58 - cmdstanpy - INFO - Chain [1] start processing\n",
      "17:47:58 - cmdstanpy - INFO - Chain [1] done processing\n",
      "17:47:58 - cmdstanpy - INFO - Chain [1] start processing\n",
      "17:47:58 - cmdstanpy - INFO - Chain [1] done processing\n"
     ]
    },
    {
     "data": {
      "application/vnd.jupyter.widget-view+json": {
       "model_id": "53e9f77c8f894c0a93104e87e6b020ae",
       "version_major": 2,
       "version_minor": 0
      },
      "text/plain": [
       "  0%|          | 0/6 [00:00<?, ?it/s]"
      ]
     },
     "metadata": {},
     "output_type": "display_data"
    },
    {
     "name": "stderr",
     "output_type": "stream",
     "text": [
      "17:47:58 - cmdstanpy - INFO - Chain [1] start processing\n",
      "17:47:58 - cmdstanpy - INFO - Chain [1] done processing\n",
      "17:47:59 - cmdstanpy - INFO - Chain [1] start processing\n",
      "17:47:59 - cmdstanpy - INFO - Chain [1] done processing\n",
      "17:47:59 - cmdstanpy - INFO - Chain [1] start processing\n",
      "17:47:59 - cmdstanpy - INFO - Chain [1] done processing\n",
      "17:47:59 - cmdstanpy - INFO - Chain [1] start processing\n",
      "17:47:59 - cmdstanpy - INFO - Chain [1] done processing\n",
      "17:48:00 - cmdstanpy - INFO - Chain [1] start processing\n",
      "17:48:00 - cmdstanpy - INFO - Chain [1] done processing\n",
      "17:48:00 - cmdstanpy - INFO - Chain [1] start processing\n",
      "17:48:00 - cmdstanpy - INFO - Chain [1] done processing\n",
      "17:48:00 - cmdstanpy - INFO - Chain [1] start processing\n",
      "17:48:00 - cmdstanpy - INFO - Chain [1] done processing\n"
     ]
    },
    {
     "data": {
      "application/vnd.jupyter.widget-view+json": {
       "model_id": "3f2fb58bf5b9429d8c147db9e5e8d92d",
       "version_major": 2,
       "version_minor": 0
      },
      "text/plain": [
       "  0%|          | 0/6 [00:00<?, ?it/s]"
      ]
     },
     "metadata": {},
     "output_type": "display_data"
    },
    {
     "name": "stderr",
     "output_type": "stream",
     "text": [
      "17:48:01 - cmdstanpy - INFO - Chain [1] start processing\n",
      "17:48:01 - cmdstanpy - INFO - Chain [1] done processing\n",
      "17:48:01 - cmdstanpy - INFO - Chain [1] start processing\n",
      "17:48:01 - cmdstanpy - INFO - Chain [1] done processing\n",
      "17:48:01 - cmdstanpy - INFO - Chain [1] start processing\n",
      "17:48:01 - cmdstanpy - INFO - Chain [1] done processing\n",
      "17:48:01 - cmdstanpy - INFO - Chain [1] start processing\n",
      "17:48:01 - cmdstanpy - INFO - Chain [1] done processing\n",
      "17:48:02 - cmdstanpy - INFO - Chain [1] start processing\n",
      "17:48:02 - cmdstanpy - INFO - Chain [1] done processing\n",
      "17:48:02 - cmdstanpy - INFO - Chain [1] start processing\n",
      "17:48:02 - cmdstanpy - INFO - Chain [1] done processing\n",
      "17:48:02 - cmdstanpy - INFO - Chain [1] start processing\n",
      "17:48:02 - cmdstanpy - INFO - Chain [1] done processing\n"
     ]
    },
    {
     "data": {
      "application/vnd.jupyter.widget-view+json": {
       "model_id": "40fba590f45f40598abdbbebfd9c939e",
       "version_major": 2,
       "version_minor": 0
      },
      "text/plain": [
       "  0%|          | 0/6 [00:00<?, ?it/s]"
      ]
     },
     "metadata": {},
     "output_type": "display_data"
    },
    {
     "name": "stderr",
     "output_type": "stream",
     "text": [
      "17:48:03 - cmdstanpy - INFO - Chain [1] start processing\n",
      "17:48:03 - cmdstanpy - INFO - Chain [1] done processing\n",
      "17:48:03 - cmdstanpy - INFO - Chain [1] start processing\n",
      "17:48:03 - cmdstanpy - INFO - Chain [1] done processing\n",
      "17:48:03 - cmdstanpy - INFO - Chain [1] start processing\n",
      "17:48:03 - cmdstanpy - INFO - Chain [1] done processing\n",
      "17:48:04 - cmdstanpy - INFO - Chain [1] start processing\n",
      "17:48:04 - cmdstanpy - INFO - Chain [1] done processing\n",
      "17:48:04 - cmdstanpy - INFO - Chain [1] start processing\n",
      "17:48:04 - cmdstanpy - INFO - Chain [1] done processing\n",
      "17:48:04 - cmdstanpy - INFO - Chain [1] start processing\n",
      "17:48:04 - cmdstanpy - INFO - Chain [1] done processing\n",
      "17:48:05 - cmdstanpy - INFO - Chain [1] start processing\n",
      "17:48:05 - cmdstanpy - INFO - Chain [1] done processing\n"
     ]
    },
    {
     "data": {
      "application/vnd.jupyter.widget-view+json": {
       "model_id": "7bb1ac988d9f483a91c41f0703690356",
       "version_major": 2,
       "version_minor": 0
      },
      "text/plain": [
       "  0%|          | 0/6 [00:00<?, ?it/s]"
      ]
     },
     "metadata": {},
     "output_type": "display_data"
    },
    {
     "name": "stderr",
     "output_type": "stream",
     "text": [
      "17:48:05 - cmdstanpy - INFO - Chain [1] start processing\n",
      "17:48:05 - cmdstanpy - INFO - Chain [1] done processing\n",
      "17:48:05 - cmdstanpy - INFO - Chain [1] start processing\n",
      "17:48:05 - cmdstanpy - INFO - Chain [1] done processing\n",
      "17:48:05 - cmdstanpy - INFO - Chain [1] start processing\n",
      "17:48:05 - cmdstanpy - INFO - Chain [1] done processing\n",
      "17:48:06 - cmdstanpy - INFO - Chain [1] start processing\n",
      "17:48:06 - cmdstanpy - INFO - Chain [1] done processing\n",
      "17:48:06 - cmdstanpy - INFO - Chain [1] start processing\n",
      "17:48:06 - cmdstanpy - INFO - Chain [1] done processing\n",
      "17:48:06 - cmdstanpy - INFO - Chain [1] start processing\n",
      "17:48:06 - cmdstanpy - INFO - Chain [1] done processing\n",
      "17:48:07 - cmdstanpy - INFO - Chain [1] start processing\n",
      "17:48:07 - cmdstanpy - INFO - Chain [1] done processing\n"
     ]
    },
    {
     "data": {
      "application/vnd.jupyter.widget-view+json": {
       "model_id": "b069b04863ba42f6befa5b2a41a8ddd5",
       "version_major": 2,
       "version_minor": 0
      },
      "text/plain": [
       "  0%|          | 0/6 [00:00<?, ?it/s]"
      ]
     },
     "metadata": {},
     "output_type": "display_data"
    },
    {
     "name": "stderr",
     "output_type": "stream",
     "text": [
      "17:48:07 - cmdstanpy - INFO - Chain [1] start processing\n",
      "17:48:07 - cmdstanpy - INFO - Chain [1] done processing\n",
      "17:48:07 - cmdstanpy - INFO - Chain [1] start processing\n",
      "17:48:07 - cmdstanpy - INFO - Chain [1] done processing\n",
      "17:48:07 - cmdstanpy - INFO - Chain [1] start processing\n",
      "17:48:07 - cmdstanpy - INFO - Chain [1] done processing\n",
      "17:48:08 - cmdstanpy - INFO - Chain [1] start processing\n",
      "17:48:08 - cmdstanpy - INFO - Chain [1] done processing\n",
      "17:48:08 - cmdstanpy - INFO - Chain [1] start processing\n",
      "17:48:08 - cmdstanpy - INFO - Chain [1] done processing\n",
      "17:48:08 - cmdstanpy - INFO - Chain [1] start processing\n",
      "17:48:08 - cmdstanpy - INFO - Chain [1] done processing\n",
      "17:48:09 - cmdstanpy - INFO - Chain [1] start processing\n",
      "17:48:09 - cmdstanpy - INFO - Chain [1] done processing\n"
     ]
    },
    {
     "data": {
      "application/vnd.jupyter.widget-view+json": {
       "model_id": "fe0f028c09cf45cd902b29bce146cb9e",
       "version_major": 2,
       "version_minor": 0
      },
      "text/plain": [
       "  0%|          | 0/6 [00:00<?, ?it/s]"
      ]
     },
     "metadata": {},
     "output_type": "display_data"
    },
    {
     "name": "stderr",
     "output_type": "stream",
     "text": [
      "17:48:09 - cmdstanpy - INFO - Chain [1] start processing\n",
      "17:48:09 - cmdstanpy - INFO - Chain [1] done processing\n",
      "17:48:09 - cmdstanpy - INFO - Chain [1] start processing\n",
      "17:48:09 - cmdstanpy - INFO - Chain [1] done processing\n",
      "17:48:09 - cmdstanpy - INFO - Chain [1] start processing\n",
      "17:48:09 - cmdstanpy - INFO - Chain [1] done processing\n",
      "17:48:10 - cmdstanpy - INFO - Chain [1] start processing\n",
      "17:48:10 - cmdstanpy - INFO - Chain [1] done processing\n",
      "17:48:10 - cmdstanpy - INFO - Chain [1] start processing\n",
      "17:48:10 - cmdstanpy - INFO - Chain [1] done processing\n",
      "17:48:10 - cmdstanpy - INFO - Chain [1] start processing\n",
      "17:48:10 - cmdstanpy - INFO - Chain [1] done processing\n",
      "17:48:11 - cmdstanpy - INFO - Chain [1] start processing\n",
      "17:48:11 - cmdstanpy - INFO - Chain [1] done processing\n"
     ]
    },
    {
     "data": {
      "application/vnd.jupyter.widget-view+json": {
       "model_id": "527e8c3505d54b1183cb5f10b7dd8137",
       "version_major": 2,
       "version_minor": 0
      },
      "text/plain": [
       "  0%|          | 0/6 [00:00<?, ?it/s]"
      ]
     },
     "metadata": {},
     "output_type": "display_data"
    },
    {
     "name": "stderr",
     "output_type": "stream",
     "text": [
      "17:48:11 - cmdstanpy - INFO - Chain [1] start processing\n",
      "17:48:11 - cmdstanpy - INFO - Chain [1] done processing\n",
      "17:48:11 - cmdstanpy - INFO - Chain [1] start processing\n",
      "17:48:11 - cmdstanpy - INFO - Chain [1] done processing\n",
      "17:48:11 - cmdstanpy - INFO - Chain [1] start processing\n",
      "17:48:11 - cmdstanpy - INFO - Chain [1] done processing\n",
      "17:48:12 - cmdstanpy - INFO - Chain [1] start processing\n",
      "17:48:12 - cmdstanpy - INFO - Chain [1] done processing\n",
      "17:48:12 - cmdstanpy - INFO - Chain [1] start processing\n",
      "17:48:12 - cmdstanpy - INFO - Chain [1] done processing\n",
      "17:48:12 - cmdstanpy - INFO - Chain [1] start processing\n",
      "17:48:12 - cmdstanpy - INFO - Chain [1] done processing\n",
      "17:48:13 - cmdstanpy - INFO - Chain [1] start processing\n",
      "17:48:13 - cmdstanpy - INFO - Chain [1] done processing\n"
     ]
    },
    {
     "data": {
      "application/vnd.jupyter.widget-view+json": {
       "model_id": "b7786a25ab234914b9d8f05a4ab90126",
       "version_major": 2,
       "version_minor": 0
      },
      "text/plain": [
       "  0%|          | 0/6 [00:00<?, ?it/s]"
      ]
     },
     "metadata": {},
     "output_type": "display_data"
    },
    {
     "name": "stderr",
     "output_type": "stream",
     "text": [
      "17:48:13 - cmdstanpy - INFO - Chain [1] start processing\n",
      "17:48:13 - cmdstanpy - INFO - Chain [1] done processing\n",
      "17:48:13 - cmdstanpy - INFO - Chain [1] start processing\n",
      "17:48:13 - cmdstanpy - INFO - Chain [1] done processing\n",
      "17:48:13 - cmdstanpy - INFO - Chain [1] start processing\n",
      "17:48:13 - cmdstanpy - INFO - Chain [1] done processing\n",
      "17:48:14 - cmdstanpy - INFO - Chain [1] start processing\n",
      "17:48:14 - cmdstanpy - INFO - Chain [1] done processing\n",
      "17:48:14 - cmdstanpy - INFO - Chain [1] start processing\n",
      "17:48:14 - cmdstanpy - INFO - Chain [1] done processing\n",
      "17:48:14 - cmdstanpy - INFO - Chain [1] start processing\n",
      "17:48:14 - cmdstanpy - INFO - Chain [1] done processing\n",
      "17:48:15 - cmdstanpy - INFO - Chain [1] start processing\n",
      "17:48:15 - cmdstanpy - INFO - Chain [1] done processing\n"
     ]
    },
    {
     "data": {
      "application/vnd.jupyter.widget-view+json": {
       "model_id": "2b4d349363a44b8b840e9c6fedadb913",
       "version_major": 2,
       "version_minor": 0
      },
      "text/plain": [
       "  0%|          | 0/6 [00:00<?, ?it/s]"
      ]
     },
     "metadata": {},
     "output_type": "display_data"
    },
    {
     "name": "stderr",
     "output_type": "stream",
     "text": [
      "17:48:15 - cmdstanpy - INFO - Chain [1] start processing\n",
      "17:48:15 - cmdstanpy - INFO - Chain [1] done processing\n",
      "17:48:15 - cmdstanpy - INFO - Chain [1] start processing\n",
      "17:48:15 - cmdstanpy - INFO - Chain [1] done processing\n",
      "17:48:16 - cmdstanpy - INFO - Chain [1] start processing\n",
      "17:48:16 - cmdstanpy - INFO - Chain [1] done processing\n",
      "17:48:16 - cmdstanpy - INFO - Chain [1] start processing\n",
      "17:48:16 - cmdstanpy - INFO - Chain [1] done processing\n",
      "17:48:16 - cmdstanpy - INFO - Chain [1] start processing\n",
      "17:48:16 - cmdstanpy - INFO - Chain [1] done processing\n",
      "17:48:16 - cmdstanpy - INFO - Chain [1] start processing\n",
      "17:48:16 - cmdstanpy - INFO - Chain [1] done processing\n",
      "17:48:17 - cmdstanpy - INFO - Chain [1] start processing\n",
      "17:48:17 - cmdstanpy - INFO - Chain [1] done processing\n"
     ]
    },
    {
     "data": {
      "application/vnd.jupyter.widget-view+json": {
       "model_id": "4c456189c3fd4c0a9eb6db8b4cdf4630",
       "version_major": 2,
       "version_minor": 0
      },
      "text/plain": [
       "  0%|          | 0/6 [00:00<?, ?it/s]"
      ]
     },
     "metadata": {},
     "output_type": "display_data"
    },
    {
     "name": "stderr",
     "output_type": "stream",
     "text": [
      "17:48:17 - cmdstanpy - INFO - Chain [1] start processing\n",
      "17:48:17 - cmdstanpy - INFO - Chain [1] done processing\n",
      "17:48:17 - cmdstanpy - INFO - Chain [1] start processing\n",
      "17:48:17 - cmdstanpy - INFO - Chain [1] done processing\n",
      "17:48:18 - cmdstanpy - INFO - Chain [1] start processing\n",
      "17:48:18 - cmdstanpy - INFO - Chain [1] done processing\n",
      "17:48:18 - cmdstanpy - INFO - Chain [1] start processing\n",
      "17:48:18 - cmdstanpy - INFO - Chain [1] done processing\n",
      "17:48:18 - cmdstanpy - INFO - Chain [1] start processing\n",
      "17:48:18 - cmdstanpy - INFO - Chain [1] done processing\n",
      "17:48:18 - cmdstanpy - INFO - Chain [1] start processing\n",
      "17:48:19 - cmdstanpy - INFO - Chain [1] done processing\n",
      "17:48:19 - cmdstanpy - INFO - Chain [1] start processing\n",
      "17:48:19 - cmdstanpy - INFO - Chain [1] done processing\n"
     ]
    },
    {
     "data": {
      "application/vnd.jupyter.widget-view+json": {
       "model_id": "76aba1dec1c7481da6606e02e1b3b1e2",
       "version_major": 2,
       "version_minor": 0
      },
      "text/plain": [
       "  0%|          | 0/6 [00:00<?, ?it/s]"
      ]
     },
     "metadata": {},
     "output_type": "display_data"
    },
    {
     "name": "stderr",
     "output_type": "stream",
     "text": [
      "17:48:19 - cmdstanpy - INFO - Chain [1] start processing\n",
      "17:48:19 - cmdstanpy - INFO - Chain [1] done processing\n",
      "17:48:19 - cmdstanpy - INFO - Chain [1] start processing\n",
      "17:48:19 - cmdstanpy - INFO - Chain [1] done processing\n",
      "17:48:20 - cmdstanpy - INFO - Chain [1] start processing\n",
      "17:48:20 - cmdstanpy - INFO - Chain [1] done processing\n",
      "17:48:20 - cmdstanpy - INFO - Chain [1] start processing\n",
      "17:48:20 - cmdstanpy - INFO - Chain [1] done processing\n",
      "17:48:20 - cmdstanpy - INFO - Chain [1] start processing\n",
      "17:48:20 - cmdstanpy - INFO - Chain [1] done processing\n",
      "17:48:21 - cmdstanpy - INFO - Chain [1] start processing\n",
      "17:48:21 - cmdstanpy - INFO - Chain [1] done processing\n",
      "17:48:21 - cmdstanpy - INFO - Chain [1] start processing\n",
      "17:48:21 - cmdstanpy - INFO - Chain [1] done processing\n"
     ]
    },
    {
     "data": {
      "application/vnd.jupyter.widget-view+json": {
       "model_id": "c6c94e15acf94f18b577255922ec1f16",
       "version_major": 2,
       "version_minor": 0
      },
      "text/plain": [
       "  0%|          | 0/6 [00:00<?, ?it/s]"
      ]
     },
     "metadata": {},
     "output_type": "display_data"
    },
    {
     "name": "stderr",
     "output_type": "stream",
     "text": [
      "17:48:21 - cmdstanpy - INFO - Chain [1] start processing\n",
      "17:48:21 - cmdstanpy - INFO - Chain [1] done processing\n",
      "17:48:21 - cmdstanpy - INFO - Chain [1] start processing\n",
      "17:48:21 - cmdstanpy - INFO - Chain [1] done processing\n",
      "17:48:22 - cmdstanpy - INFO - Chain [1] start processing\n",
      "17:48:22 - cmdstanpy - INFO - Chain [1] done processing\n",
      "17:48:22 - cmdstanpy - INFO - Chain [1] start processing\n",
      "17:48:22 - cmdstanpy - INFO - Chain [1] done processing\n",
      "17:48:22 - cmdstanpy - INFO - Chain [1] start processing\n",
      "17:48:22 - cmdstanpy - INFO - Chain [1] done processing\n",
      "17:48:23 - cmdstanpy - INFO - Chain [1] start processing\n",
      "17:48:23 - cmdstanpy - INFO - Chain [1] done processing\n",
      "17:48:23 - cmdstanpy - INFO - Chain [1] start processing\n",
      "17:48:23 - cmdstanpy - INFO - Chain [1] done processing\n"
     ]
    },
    {
     "data": {
      "application/vnd.jupyter.widget-view+json": {
       "model_id": "0642f55522eb4bae85df669b3f80cfc7",
       "version_major": 2,
       "version_minor": 0
      },
      "text/plain": [
       "  0%|          | 0/6 [00:00<?, ?it/s]"
      ]
     },
     "metadata": {},
     "output_type": "display_data"
    },
    {
     "name": "stderr",
     "output_type": "stream",
     "text": [
      "17:48:23 - cmdstanpy - INFO - Chain [1] start processing\n",
      "17:48:23 - cmdstanpy - INFO - Chain [1] done processing\n",
      "17:48:23 - cmdstanpy - INFO - Chain [1] start processing\n",
      "17:48:23 - cmdstanpy - INFO - Chain [1] done processing\n",
      "17:48:24 - cmdstanpy - INFO - Chain [1] start processing\n",
      "17:48:24 - cmdstanpy - INFO - Chain [1] done processing\n",
      "17:48:24 - cmdstanpy - INFO - Chain [1] start processing\n",
      "17:48:24 - cmdstanpy - INFO - Chain [1] done processing\n",
      "17:48:24 - cmdstanpy - INFO - Chain [1] start processing\n",
      "17:48:24 - cmdstanpy - INFO - Chain [1] done processing\n",
      "17:48:25 - cmdstanpy - INFO - Chain [1] start processing\n",
      "17:48:25 - cmdstanpy - INFO - Chain [1] done processing\n",
      "17:48:25 - cmdstanpy - INFO - Chain [1] start processing\n",
      "17:48:25 - cmdstanpy - INFO - Chain [1] done processing\n"
     ]
    },
    {
     "data": {
      "application/vnd.jupyter.widget-view+json": {
       "model_id": "89eadb24af18470e9048e7612e738a2e",
       "version_major": 2,
       "version_minor": 0
      },
      "text/plain": [
       "  0%|          | 0/6 [00:00<?, ?it/s]"
      ]
     },
     "metadata": {},
     "output_type": "display_data"
    },
    {
     "name": "stderr",
     "output_type": "stream",
     "text": [
      "17:48:25 - cmdstanpy - INFO - Chain [1] start processing\n",
      "17:48:25 - cmdstanpy - INFO - Chain [1] done processing\n",
      "17:48:25 - cmdstanpy - INFO - Chain [1] start processing\n",
      "17:48:25 - cmdstanpy - INFO - Chain [1] done processing\n",
      "17:48:26 - cmdstanpy - INFO - Chain [1] start processing\n",
      "17:48:26 - cmdstanpy - INFO - Chain [1] done processing\n",
      "17:48:26 - cmdstanpy - INFO - Chain [1] start processing\n",
      "17:48:26 - cmdstanpy - INFO - Chain [1] done processing\n",
      "17:48:26 - cmdstanpy - INFO - Chain [1] start processing\n",
      "17:48:26 - cmdstanpy - INFO - Chain [1] done processing\n",
      "17:48:27 - cmdstanpy - INFO - Chain [1] start processing\n",
      "17:48:27 - cmdstanpy - INFO - Chain [1] done processing\n",
      "17:48:27 - cmdstanpy - INFO - Chain [1] start processing\n",
      "17:48:27 - cmdstanpy - INFO - Chain [1] done processing\n"
     ]
    },
    {
     "data": {
      "application/vnd.jupyter.widget-view+json": {
       "model_id": "b8474b2114994d749a2556c15b2d34d4",
       "version_major": 2,
       "version_minor": 0
      },
      "text/plain": [
       "  0%|          | 0/6 [00:00<?, ?it/s]"
      ]
     },
     "metadata": {},
     "output_type": "display_data"
    },
    {
     "name": "stderr",
     "output_type": "stream",
     "text": [
      "17:48:27 - cmdstanpy - INFO - Chain [1] start processing\n",
      "17:48:27 - cmdstanpy - INFO - Chain [1] done processing\n",
      "17:48:27 - cmdstanpy - INFO - Chain [1] start processing\n",
      "17:48:27 - cmdstanpy - INFO - Chain [1] done processing\n",
      "17:48:28 - cmdstanpy - INFO - Chain [1] start processing\n",
      "17:48:28 - cmdstanpy - INFO - Chain [1] done processing\n",
      "17:48:28 - cmdstanpy - INFO - Chain [1] start processing\n",
      "17:48:28 - cmdstanpy - INFO - Chain [1] done processing\n",
      "17:48:28 - cmdstanpy - INFO - Chain [1] start processing\n",
      "17:48:29 - cmdstanpy - INFO - Chain [1] done processing\n",
      "17:48:29 - cmdstanpy - INFO - Chain [1] start processing\n",
      "17:48:29 - cmdstanpy - INFO - Chain [1] done processing\n",
      "17:48:29 - cmdstanpy - INFO - Chain [1] start processing\n",
      "17:48:29 - cmdstanpy - INFO - Chain [1] done processing\n"
     ]
    },
    {
     "data": {
      "application/vnd.jupyter.widget-view+json": {
       "model_id": "7be7cfb3cadc44d089fca400bb1edc86",
       "version_major": 2,
       "version_minor": 0
      },
      "text/plain": [
       "  0%|          | 0/6 [00:00<?, ?it/s]"
      ]
     },
     "metadata": {},
     "output_type": "display_data"
    },
    {
     "name": "stderr",
     "output_type": "stream",
     "text": [
      "17:48:29 - cmdstanpy - INFO - Chain [1] start processing\n",
      "17:48:29 - cmdstanpy - INFO - Chain [1] done processing\n",
      "17:48:30 - cmdstanpy - INFO - Chain [1] start processing\n",
      "17:48:30 - cmdstanpy - INFO - Chain [1] done processing\n",
      "17:48:30 - cmdstanpy - INFO - Chain [1] start processing\n",
      "17:48:30 - cmdstanpy - INFO - Chain [1] done processing\n",
      "17:48:30 - cmdstanpy - INFO - Chain [1] start processing\n",
      "17:48:30 - cmdstanpy - INFO - Chain [1] done processing\n",
      "17:48:30 - cmdstanpy - INFO - Chain [1] start processing\n",
      "17:48:31 - cmdstanpy - INFO - Chain [1] done processing\n",
      "17:48:31 - cmdstanpy - INFO - Chain [1] start processing\n",
      "17:48:31 - cmdstanpy - INFO - Chain [1] done processing\n",
      "17:48:31 - cmdstanpy - INFO - Chain [1] start processing\n",
      "17:48:31 - cmdstanpy - INFO - Chain [1] done processing\n"
     ]
    },
    {
     "data": {
      "application/vnd.jupyter.widget-view+json": {
       "model_id": "ded8c14c6507407c8332747156a5c338",
       "version_major": 2,
       "version_minor": 0
      },
      "text/plain": [
       "  0%|          | 0/6 [00:00<?, ?it/s]"
      ]
     },
     "metadata": {},
     "output_type": "display_data"
    },
    {
     "name": "stderr",
     "output_type": "stream",
     "text": [
      "17:48:31 - cmdstanpy - INFO - Chain [1] start processing\n",
      "17:48:31 - cmdstanpy - INFO - Chain [1] done processing\n",
      "17:48:32 - cmdstanpy - INFO - Chain [1] start processing\n",
      "17:48:32 - cmdstanpy - INFO - Chain [1] done processing\n",
      "17:48:32 - cmdstanpy - INFO - Chain [1] start processing\n",
      "17:48:32 - cmdstanpy - INFO - Chain [1] done processing\n",
      "17:48:32 - cmdstanpy - INFO - Chain [1] start processing\n",
      "17:48:32 - cmdstanpy - INFO - Chain [1] done processing\n",
      "17:48:33 - cmdstanpy - INFO - Chain [1] start processing\n",
      "17:48:33 - cmdstanpy - INFO - Chain [1] done processing\n",
      "17:48:33 - cmdstanpy - INFO - Chain [1] start processing\n",
      "17:48:33 - cmdstanpy - INFO - Chain [1] done processing\n",
      "17:48:33 - cmdstanpy - INFO - Chain [1] start processing\n",
      "17:48:33 - cmdstanpy - INFO - Chain [1] done processing\n"
     ]
    },
    {
     "data": {
      "application/vnd.jupyter.widget-view+json": {
       "model_id": "b5ff06274e9347cb8971fac4f47937d4",
       "version_major": 2,
       "version_minor": 0
      },
      "text/plain": [
       "  0%|          | 0/6 [00:00<?, ?it/s]"
      ]
     },
     "metadata": {},
     "output_type": "display_data"
    },
    {
     "name": "stderr",
     "output_type": "stream",
     "text": [
      "17:48:33 - cmdstanpy - INFO - Chain [1] start processing\n",
      "17:48:33 - cmdstanpy - INFO - Chain [1] done processing\n",
      "17:48:34 - cmdstanpy - INFO - Chain [1] start processing\n",
      "17:48:34 - cmdstanpy - INFO - Chain [1] done processing\n",
      "17:48:34 - cmdstanpy - INFO - Chain [1] start processing\n",
      "17:48:34 - cmdstanpy - INFO - Chain [1] done processing\n",
      "17:48:34 - cmdstanpy - INFO - Chain [1] start processing\n",
      "17:48:34 - cmdstanpy - INFO - Chain [1] done processing\n",
      "17:48:35 - cmdstanpy - INFO - Chain [1] start processing\n",
      "17:48:35 - cmdstanpy - INFO - Chain [1] done processing\n",
      "17:48:35 - cmdstanpy - INFO - Chain [1] start processing\n",
      "17:48:35 - cmdstanpy - INFO - Chain [1] done processing\n",
      "17:48:35 - cmdstanpy - INFO - Chain [1] start processing\n",
      "17:48:35 - cmdstanpy - INFO - Chain [1] done processing\n"
     ]
    },
    {
     "data": {
      "application/vnd.jupyter.widget-view+json": {
       "model_id": "69fe2f81b262412a9baa3bcba66aa9b7",
       "version_major": 2,
       "version_minor": 0
      },
      "text/plain": [
       "  0%|          | 0/6 [00:00<?, ?it/s]"
      ]
     },
     "metadata": {},
     "output_type": "display_data"
    },
    {
     "name": "stderr",
     "output_type": "stream",
     "text": [
      "17:48:35 - cmdstanpy - INFO - Chain [1] start processing\n",
      "17:48:35 - cmdstanpy - INFO - Chain [1] done processing\n",
      "17:48:36 - cmdstanpy - INFO - Chain [1] start processing\n",
      "17:48:36 - cmdstanpy - INFO - Chain [1] done processing\n",
      "17:48:36 - cmdstanpy - INFO - Chain [1] start processing\n",
      "17:48:36 - cmdstanpy - INFO - Chain [1] done processing\n",
      "17:48:36 - cmdstanpy - INFO - Chain [1] start processing\n",
      "17:48:36 - cmdstanpy - INFO - Chain [1] done processing\n",
      "17:48:37 - cmdstanpy - INFO - Chain [1] start processing\n",
      "17:48:37 - cmdstanpy - INFO - Chain [1] done processing\n",
      "17:48:37 - cmdstanpy - INFO - Chain [1] start processing\n",
      "17:48:37 - cmdstanpy - INFO - Chain [1] done processing\n",
      "17:48:37 - cmdstanpy - INFO - Chain [1] start processing\n",
      "17:48:37 - cmdstanpy - INFO - Chain [1] done processing\n"
     ]
    },
    {
     "data": {
      "application/vnd.jupyter.widget-view+json": {
       "model_id": "664a279d91ab482ea2c16e89277f82bf",
       "version_major": 2,
       "version_minor": 0
      },
      "text/plain": [
       "  0%|          | 0/6 [00:00<?, ?it/s]"
      ]
     },
     "metadata": {},
     "output_type": "display_data"
    },
    {
     "name": "stderr",
     "output_type": "stream",
     "text": [
      "17:48:37 - cmdstanpy - INFO - Chain [1] start processing\n",
      "17:48:37 - cmdstanpy - INFO - Chain [1] done processing\n",
      "17:48:38 - cmdstanpy - INFO - Chain [1] start processing\n",
      "17:48:38 - cmdstanpy - INFO - Chain [1] done processing\n",
      "17:48:38 - cmdstanpy - INFO - Chain [1] start processing\n",
      "17:48:38 - cmdstanpy - INFO - Chain [1] done processing\n",
      "17:48:38 - cmdstanpy - INFO - Chain [1] start processing\n",
      "17:48:38 - cmdstanpy - INFO - Chain [1] done processing\n",
      "17:48:39 - cmdstanpy - INFO - Chain [1] start processing\n",
      "17:48:39 - cmdstanpy - INFO - Chain [1] done processing\n",
      "17:48:39 - cmdstanpy - INFO - Chain [1] start processing\n",
      "17:48:39 - cmdstanpy - INFO - Chain [1] done processing\n",
      "17:48:39 - cmdstanpy - INFO - Chain [1] start processing\n",
      "17:48:39 - cmdstanpy - INFO - Chain [1] done processing\n"
     ]
    },
    {
     "data": {
      "application/vnd.jupyter.widget-view+json": {
       "model_id": "a4c76c79572b48e7b85eec7240f8f4a1",
       "version_major": 2,
       "version_minor": 0
      },
      "text/plain": [
       "  0%|          | 0/6 [00:00<?, ?it/s]"
      ]
     },
     "metadata": {},
     "output_type": "display_data"
    },
    {
     "name": "stderr",
     "output_type": "stream",
     "text": [
      "17:48:39 - cmdstanpy - INFO - Chain [1] start processing\n",
      "17:48:39 - cmdstanpy - INFO - Chain [1] done processing\n",
      "17:48:40 - cmdstanpy - INFO - Chain [1] start processing\n",
      "17:48:40 - cmdstanpy - INFO - Chain [1] done processing\n",
      "17:48:40 - cmdstanpy - INFO - Chain [1] start processing\n",
      "17:48:40 - cmdstanpy - INFO - Chain [1] done processing\n",
      "17:48:40 - cmdstanpy - INFO - Chain [1] start processing\n",
      "17:48:40 - cmdstanpy - INFO - Chain [1] done processing\n",
      "17:48:41 - cmdstanpy - INFO - Chain [1] start processing\n",
      "17:48:41 - cmdstanpy - INFO - Chain [1] done processing\n",
      "17:48:41 - cmdstanpy - INFO - Chain [1] start processing\n",
      "17:48:41 - cmdstanpy - INFO - Chain [1] done processing\n",
      "17:48:41 - cmdstanpy - INFO - Chain [1] start processing\n",
      "17:48:41 - cmdstanpy - INFO - Chain [1] done processing\n"
     ]
    },
    {
     "data": {
      "application/vnd.jupyter.widget-view+json": {
       "model_id": "3c74cb89ba8a40fbac02fb2b00fde1a9",
       "version_major": 2,
       "version_minor": 0
      },
      "text/plain": [
       "  0%|          | 0/6 [00:00<?, ?it/s]"
      ]
     },
     "metadata": {},
     "output_type": "display_data"
    },
    {
     "name": "stderr",
     "output_type": "stream",
     "text": [
      "17:48:42 - cmdstanpy - INFO - Chain [1] start processing\n",
      "17:48:42 - cmdstanpy - INFO - Chain [1] done processing\n",
      "17:48:42 - cmdstanpy - INFO - Chain [1] start processing\n",
      "17:48:42 - cmdstanpy - INFO - Chain [1] done processing\n",
      "17:48:42 - cmdstanpy - INFO - Chain [1] start processing\n",
      "17:48:42 - cmdstanpy - INFO - Chain [1] done processing\n",
      "17:48:42 - cmdstanpy - INFO - Chain [1] start processing\n",
      "17:48:42 - cmdstanpy - INFO - Chain [1] done processing\n",
      "17:48:43 - cmdstanpy - INFO - Chain [1] start processing\n",
      "17:48:43 - cmdstanpy - INFO - Chain [1] done processing\n",
      "17:48:43 - cmdstanpy - INFO - Chain [1] start processing\n",
      "17:48:43 - cmdstanpy - INFO - Chain [1] done processing\n",
      "17:48:43 - cmdstanpy - INFO - Chain [1] start processing\n",
      "17:48:43 - cmdstanpy - INFO - Chain [1] done processing\n"
     ]
    },
    {
     "data": {
      "application/vnd.jupyter.widget-view+json": {
       "model_id": "4a8bfac0292c42c9a3808e2d08cb392f",
       "version_major": 2,
       "version_minor": 0
      },
      "text/plain": [
       "  0%|          | 0/6 [00:00<?, ?it/s]"
      ]
     },
     "metadata": {},
     "output_type": "display_data"
    },
    {
     "name": "stderr",
     "output_type": "stream",
     "text": [
      "17:48:44 - cmdstanpy - INFO - Chain [1] start processing\n",
      "17:48:44 - cmdstanpy - INFO - Chain [1] done processing\n",
      "17:48:44 - cmdstanpy - INFO - Chain [1] start processing\n",
      "17:48:44 - cmdstanpy - INFO - Chain [1] done processing\n",
      "17:48:44 - cmdstanpy - INFO - Chain [1] start processing\n",
      "17:48:44 - cmdstanpy - INFO - Chain [1] done processing\n",
      "17:48:45 - cmdstanpy - INFO - Chain [1] start processing\n",
      "17:48:45 - cmdstanpy - INFO - Chain [1] done processing\n",
      "17:48:45 - cmdstanpy - INFO - Chain [1] start processing\n",
      "17:48:45 - cmdstanpy - INFO - Chain [1] done processing\n",
      "17:48:45 - cmdstanpy - INFO - Chain [1] start processing\n",
      "17:48:45 - cmdstanpy - INFO - Chain [1] done processing\n",
      "17:48:46 - cmdstanpy - INFO - Chain [1] start processing\n",
      "17:48:46 - cmdstanpy - INFO - Chain [1] done processing\n"
     ]
    },
    {
     "data": {
      "application/vnd.jupyter.widget-view+json": {
       "model_id": "bcefecdc9d6440af83ff1dbdb2a641b7",
       "version_major": 2,
       "version_minor": 0
      },
      "text/plain": [
       "  0%|          | 0/6 [00:00<?, ?it/s]"
      ]
     },
     "metadata": {},
     "output_type": "display_data"
    },
    {
     "name": "stderr",
     "output_type": "stream",
     "text": [
      "17:48:46 - cmdstanpy - INFO - Chain [1] start processing\n",
      "17:48:46 - cmdstanpy - INFO - Chain [1] done processing\n",
      "17:48:46 - cmdstanpy - INFO - Chain [1] start processing\n",
      "17:48:46 - cmdstanpy - INFO - Chain [1] done processing\n",
      "17:48:46 - cmdstanpy - INFO - Chain [1] start processing\n",
      "17:48:46 - cmdstanpy - INFO - Chain [1] done processing\n",
      "17:48:47 - cmdstanpy - INFO - Chain [1] start processing\n",
      "17:48:47 - cmdstanpy - INFO - Chain [1] done processing\n",
      "17:48:47 - cmdstanpy - INFO - Chain [1] start processing\n",
      "17:48:47 - cmdstanpy - INFO - Chain [1] done processing\n",
      "17:48:47 - cmdstanpy - INFO - Chain [1] start processing\n",
      "17:48:47 - cmdstanpy - INFO - Chain [1] done processing\n",
      "17:48:48 - cmdstanpy - INFO - Chain [1] start processing\n",
      "17:48:48 - cmdstanpy - INFO - Chain [1] done processing\n"
     ]
    },
    {
     "data": {
      "application/vnd.jupyter.widget-view+json": {
       "model_id": "65f0ff525e5143f9aa3e89d8583ce20f",
       "version_major": 2,
       "version_minor": 0
      },
      "text/plain": [
       "  0%|          | 0/6 [00:00<?, ?it/s]"
      ]
     },
     "metadata": {},
     "output_type": "display_data"
    },
    {
     "name": "stderr",
     "output_type": "stream",
     "text": [
      "17:48:48 - cmdstanpy - INFO - Chain [1] start processing\n",
      "17:48:48 - cmdstanpy - INFO - Chain [1] done processing\n",
      "17:48:48 - cmdstanpy - INFO - Chain [1] start processing\n",
      "17:48:48 - cmdstanpy - INFO - Chain [1] done processing\n",
      "17:48:48 - cmdstanpy - INFO - Chain [1] start processing\n",
      "17:48:48 - cmdstanpy - INFO - Chain [1] done processing\n",
      "17:48:49 - cmdstanpy - INFO - Chain [1] start processing\n",
      "17:48:49 - cmdstanpy - INFO - Chain [1] done processing\n",
      "17:48:49 - cmdstanpy - INFO - Chain [1] start processing\n",
      "17:48:49 - cmdstanpy - INFO - Chain [1] done processing\n",
      "17:48:49 - cmdstanpy - INFO - Chain [1] start processing\n",
      "17:48:49 - cmdstanpy - INFO - Chain [1] done processing\n",
      "17:48:50 - cmdstanpy - INFO - Chain [1] start processing\n",
      "17:48:50 - cmdstanpy - INFO - Chain [1] done processing\n"
     ]
    },
    {
     "data": {
      "application/vnd.jupyter.widget-view+json": {
       "model_id": "22a153e91afe46bb941b05860b530c40",
       "version_major": 2,
       "version_minor": 0
      },
      "text/plain": [
       "  0%|          | 0/6 [00:00<?, ?it/s]"
      ]
     },
     "metadata": {},
     "output_type": "display_data"
    },
    {
     "name": "stderr",
     "output_type": "stream",
     "text": [
      "17:48:50 - cmdstanpy - INFO - Chain [1] start processing\n",
      "17:48:50 - cmdstanpy - INFO - Chain [1] done processing\n",
      "17:48:50 - cmdstanpy - INFO - Chain [1] start processing\n",
      "17:48:50 - cmdstanpy - INFO - Chain [1] done processing\n",
      "17:48:50 - cmdstanpy - INFO - Chain [1] start processing\n",
      "17:48:50 - cmdstanpy - INFO - Chain [1] done processing\n",
      "17:48:51 - cmdstanpy - INFO - Chain [1] start processing\n",
      "17:48:51 - cmdstanpy - INFO - Chain [1] done processing\n",
      "17:48:51 - cmdstanpy - INFO - Chain [1] start processing\n",
      "17:48:51 - cmdstanpy - INFO - Chain [1] done processing\n",
      "17:48:51 - cmdstanpy - INFO - Chain [1] start processing\n",
      "17:48:51 - cmdstanpy - INFO - Chain [1] done processing\n",
      "17:48:52 - cmdstanpy - INFO - Chain [1] start processing\n",
      "17:48:52 - cmdstanpy - INFO - Chain [1] done processing\n"
     ]
    },
    {
     "data": {
      "application/vnd.jupyter.widget-view+json": {
       "model_id": "189889ea9813478cbfbf45dcc5cf3448",
       "version_major": 2,
       "version_minor": 0
      },
      "text/plain": [
       "  0%|          | 0/6 [00:00<?, ?it/s]"
      ]
     },
     "metadata": {},
     "output_type": "display_data"
    },
    {
     "name": "stderr",
     "output_type": "stream",
     "text": [
      "17:48:52 - cmdstanpy - INFO - Chain [1] start processing\n",
      "17:48:52 - cmdstanpy - INFO - Chain [1] done processing\n",
      "17:48:52 - cmdstanpy - INFO - Chain [1] start processing\n",
      "17:48:52 - cmdstanpy - INFO - Chain [1] done processing\n",
      "17:48:52 - cmdstanpy - INFO - Chain [1] start processing\n",
      "17:48:52 - cmdstanpy - INFO - Chain [1] done processing\n",
      "17:48:53 - cmdstanpy - INFO - Chain [1] start processing\n",
      "17:48:53 - cmdstanpy - INFO - Chain [1] done processing\n",
      "17:48:53 - cmdstanpy - INFO - Chain [1] start processing\n",
      "17:48:53 - cmdstanpy - INFO - Chain [1] done processing\n",
      "17:48:53 - cmdstanpy - INFO - Chain [1] start processing\n",
      "17:48:53 - cmdstanpy - INFO - Chain [1] done processing\n",
      "17:48:54 - cmdstanpy - INFO - Chain [1] start processing\n",
      "17:48:54 - cmdstanpy - INFO - Chain [1] done processing\n"
     ]
    },
    {
     "data": {
      "application/vnd.jupyter.widget-view+json": {
       "model_id": "b6dc62e9c3774c9f82f5ab2ac9827ade",
       "version_major": 2,
       "version_minor": 0
      },
      "text/plain": [
       "  0%|          | 0/6 [00:00<?, ?it/s]"
      ]
     },
     "metadata": {},
     "output_type": "display_data"
    },
    {
     "name": "stderr",
     "output_type": "stream",
     "text": [
      "17:48:54 - cmdstanpy - INFO - Chain [1] start processing\n",
      "17:48:54 - cmdstanpy - INFO - Chain [1] done processing\n",
      "17:48:54 - cmdstanpy - INFO - Chain [1] start processing\n",
      "17:48:54 - cmdstanpy - INFO - Chain [1] done processing\n",
      "17:48:54 - cmdstanpy - INFO - Chain [1] start processing\n",
      "17:48:54 - cmdstanpy - INFO - Chain [1] done processing\n",
      "17:48:55 - cmdstanpy - INFO - Chain [1] start processing\n",
      "17:48:55 - cmdstanpy - INFO - Chain [1] done processing\n",
      "17:48:55 - cmdstanpy - INFO - Chain [1] start processing\n",
      "17:48:55 - cmdstanpy - INFO - Chain [1] done processing\n",
      "17:48:55 - cmdstanpy - INFO - Chain [1] start processing\n",
      "17:48:55 - cmdstanpy - INFO - Chain [1] done processing\n",
      "17:48:56 - cmdstanpy - INFO - Chain [1] start processing\n",
      "17:48:56 - cmdstanpy - INFO - Chain [1] done processing\n"
     ]
    },
    {
     "data": {
      "application/vnd.jupyter.widget-view+json": {
       "model_id": "89ee8ad3dd0d4c279304d40f02a4bd14",
       "version_major": 2,
       "version_minor": 0
      },
      "text/plain": [
       "  0%|          | 0/6 [00:00<?, ?it/s]"
      ]
     },
     "metadata": {},
     "output_type": "display_data"
    },
    {
     "name": "stderr",
     "output_type": "stream",
     "text": [
      "17:48:56 - cmdstanpy - INFO - Chain [1] start processing\n",
      "17:48:56 - cmdstanpy - INFO - Chain [1] done processing\n",
      "17:48:56 - cmdstanpy - INFO - Chain [1] start processing\n",
      "17:48:56 - cmdstanpy - INFO - Chain [1] done processing\n",
      "17:48:56 - cmdstanpy - INFO - Chain [1] start processing\n",
      "17:48:56 - cmdstanpy - INFO - Chain [1] done processing\n",
      "17:48:57 - cmdstanpy - INFO - Chain [1] start processing\n",
      "17:48:57 - cmdstanpy - INFO - Chain [1] done processing\n",
      "17:48:57 - cmdstanpy - INFO - Chain [1] start processing\n",
      "17:48:57 - cmdstanpy - INFO - Chain [1] done processing\n",
      "17:48:58 - cmdstanpy - INFO - Chain [1] start processing\n",
      "17:48:58 - cmdstanpy - INFO - Chain [1] done processing\n",
      "17:48:58 - cmdstanpy - INFO - Chain [1] start processing\n",
      "17:48:58 - cmdstanpy - INFO - Chain [1] done processing\n"
     ]
    },
    {
     "data": {
      "application/vnd.jupyter.widget-view+json": {
       "model_id": "bd976dd917ae4c2793a1b58b6dae3fc2",
       "version_major": 2,
       "version_minor": 0
      },
      "text/plain": [
       "  0%|          | 0/6 [00:00<?, ?it/s]"
      ]
     },
     "metadata": {},
     "output_type": "display_data"
    },
    {
     "name": "stderr",
     "output_type": "stream",
     "text": [
      "17:48:58 - cmdstanpy - INFO - Chain [1] start processing\n",
      "17:48:58 - cmdstanpy - INFO - Chain [1] done processing\n",
      "17:48:58 - cmdstanpy - INFO - Chain [1] start processing\n",
      "17:48:58 - cmdstanpy - INFO - Chain [1] done processing\n",
      "17:48:59 - cmdstanpy - INFO - Chain [1] start processing\n",
      "17:48:59 - cmdstanpy - INFO - Chain [1] done processing\n",
      "17:48:59 - cmdstanpy - INFO - Chain [1] start processing\n",
      "17:48:59 - cmdstanpy - INFO - Chain [1] done processing\n",
      "17:48:59 - cmdstanpy - INFO - Chain [1] start processing\n",
      "17:48:59 - cmdstanpy - INFO - Chain [1] done processing\n",
      "17:49:00 - cmdstanpy - INFO - Chain [1] start processing\n",
      "17:49:00 - cmdstanpy - INFO - Chain [1] done processing\n",
      "17:49:00 - cmdstanpy - INFO - Chain [1] start processing\n",
      "17:49:00 - cmdstanpy - INFO - Chain [1] done processing\n"
     ]
    },
    {
     "data": {
      "application/vnd.jupyter.widget-view+json": {
       "model_id": "8fb1f92c507a4204bfc7840b2624842d",
       "version_major": 2,
       "version_minor": 0
      },
      "text/plain": [
       "  0%|          | 0/6 [00:00<?, ?it/s]"
      ]
     },
     "metadata": {},
     "output_type": "display_data"
    },
    {
     "name": "stderr",
     "output_type": "stream",
     "text": [
      "17:49:00 - cmdstanpy - INFO - Chain [1] start processing\n",
      "17:49:00 - cmdstanpy - INFO - Chain [1] done processing\n",
      "17:49:00 - cmdstanpy - INFO - Chain [1] start processing\n",
      "17:49:00 - cmdstanpy - INFO - Chain [1] done processing\n",
      "17:49:01 - cmdstanpy - INFO - Chain [1] start processing\n",
      "17:49:01 - cmdstanpy - INFO - Chain [1] done processing\n",
      "17:49:01 - cmdstanpy - INFO - Chain [1] start processing\n",
      "17:49:01 - cmdstanpy - INFO - Chain [1] done processing\n",
      "17:49:01 - cmdstanpy - INFO - Chain [1] start processing\n",
      "17:49:01 - cmdstanpy - INFO - Chain [1] done processing\n",
      "17:49:02 - cmdstanpy - INFO - Chain [1] start processing\n",
      "17:49:02 - cmdstanpy - INFO - Chain [1] done processing\n",
      "17:49:02 - cmdstanpy - INFO - Chain [1] start processing\n",
      "17:49:02 - cmdstanpy - INFO - Chain [1] done processing\n"
     ]
    },
    {
     "data": {
      "application/vnd.jupyter.widget-view+json": {
       "model_id": "c24d3278459e43f3babc9ab0032aef0b",
       "version_major": 2,
       "version_minor": 0
      },
      "text/plain": [
       "  0%|          | 0/6 [00:00<?, ?it/s]"
      ]
     },
     "metadata": {},
     "output_type": "display_data"
    },
    {
     "name": "stderr",
     "output_type": "stream",
     "text": [
      "17:49:02 - cmdstanpy - INFO - Chain [1] start processing\n",
      "17:49:02 - cmdstanpy - INFO - Chain [1] done processing\n",
      "17:49:02 - cmdstanpy - INFO - Chain [1] start processing\n",
      "17:49:02 - cmdstanpy - INFO - Chain [1] done processing\n",
      "17:49:03 - cmdstanpy - INFO - Chain [1] start processing\n",
      "17:49:03 - cmdstanpy - INFO - Chain [1] done processing\n",
      "17:49:03 - cmdstanpy - INFO - Chain [1] start processing\n",
      "17:49:03 - cmdstanpy - INFO - Chain [1] done processing\n",
      "17:49:03 - cmdstanpy - INFO - Chain [1] start processing\n",
      "17:49:03 - cmdstanpy - INFO - Chain [1] done processing\n",
      "17:49:04 - cmdstanpy - INFO - Chain [1] start processing\n",
      "17:49:04 - cmdstanpy - INFO - Chain [1] done processing\n",
      "17:49:04 - cmdstanpy - INFO - Chain [1] start processing\n",
      "17:49:04 - cmdstanpy - INFO - Chain [1] done processing\n"
     ]
    },
    {
     "data": {
      "application/vnd.jupyter.widget-view+json": {
       "model_id": "ad3c67223f034ff68e76ddca4bbf72ac",
       "version_major": 2,
       "version_minor": 0
      },
      "text/plain": [
       "  0%|          | 0/6 [00:00<?, ?it/s]"
      ]
     },
     "metadata": {},
     "output_type": "display_data"
    },
    {
     "name": "stderr",
     "output_type": "stream",
     "text": [
      "17:49:04 - cmdstanpy - INFO - Chain [1] start processing\n",
      "17:49:04 - cmdstanpy - INFO - Chain [1] done processing\n",
      "17:49:04 - cmdstanpy - INFO - Chain [1] start processing\n",
      "17:49:04 - cmdstanpy - INFO - Chain [1] done processing\n",
      "17:49:05 - cmdstanpy - INFO - Chain [1] start processing\n",
      "17:49:05 - cmdstanpy - INFO - Chain [1] done processing\n",
      "17:49:05 - cmdstanpy - INFO - Chain [1] start processing\n",
      "17:49:05 - cmdstanpy - INFO - Chain [1] done processing\n",
      "17:49:05 - cmdstanpy - INFO - Chain [1] start processing\n",
      "17:49:05 - cmdstanpy - INFO - Chain [1] done processing\n",
      "17:49:06 - cmdstanpy - INFO - Chain [1] start processing\n",
      "17:49:06 - cmdstanpy - INFO - Chain [1] done processing\n",
      "17:49:06 - cmdstanpy - INFO - Chain [1] start processing\n",
      "17:49:06 - cmdstanpy - INFO - Chain [1] done processing\n"
     ]
    },
    {
     "data": {
      "application/vnd.jupyter.widget-view+json": {
       "model_id": "c969c2734bae4e9880a953df3421c3c4",
       "version_major": 2,
       "version_minor": 0
      },
      "text/plain": [
       "  0%|          | 0/6 [00:00<?, ?it/s]"
      ]
     },
     "metadata": {},
     "output_type": "display_data"
    },
    {
     "name": "stderr",
     "output_type": "stream",
     "text": [
      "17:49:06 - cmdstanpy - INFO - Chain [1] start processing\n",
      "17:49:06 - cmdstanpy - INFO - Chain [1] done processing\n",
      "17:49:06 - cmdstanpy - INFO - Chain [1] start processing\n",
      "17:49:06 - cmdstanpy - INFO - Chain [1] done processing\n",
      "17:49:07 - cmdstanpy - INFO - Chain [1] start processing\n",
      "17:49:07 - cmdstanpy - INFO - Chain [1] done processing\n",
      "17:49:07 - cmdstanpy - INFO - Chain [1] start processing\n",
      "17:49:07 - cmdstanpy - INFO - Chain [1] done processing\n",
      "17:49:07 - cmdstanpy - INFO - Chain [1] start processing\n",
      "17:49:07 - cmdstanpy - INFO - Chain [1] done processing\n",
      "17:49:08 - cmdstanpy - INFO - Chain [1] start processing\n",
      "17:49:08 - cmdstanpy - INFO - Chain [1] done processing\n",
      "17:49:08 - cmdstanpy - INFO - Chain [1] start processing\n",
      "17:49:08 - cmdstanpy - INFO - Chain [1] done processing\n"
     ]
    },
    {
     "data": {
      "application/vnd.jupyter.widget-view+json": {
       "model_id": "22d5c29cb36b4ef58f9d22ddfdf3b8a0",
       "version_major": 2,
       "version_minor": 0
      },
      "text/plain": [
       "  0%|          | 0/6 [00:00<?, ?it/s]"
      ]
     },
     "metadata": {},
     "output_type": "display_data"
    },
    {
     "name": "stderr",
     "output_type": "stream",
     "text": [
      "17:49:08 - cmdstanpy - INFO - Chain [1] start processing\n",
      "17:49:08 - cmdstanpy - INFO - Chain [1] done processing\n",
      "17:49:08 - cmdstanpy - INFO - Chain [1] start processing\n",
      "17:49:08 - cmdstanpy - INFO - Chain [1] done processing\n",
      "17:49:09 - cmdstanpy - INFO - Chain [1] start processing\n",
      "17:49:09 - cmdstanpy - INFO - Chain [1] done processing\n",
      "17:49:09 - cmdstanpy - INFO - Chain [1] start processing\n",
      "17:49:09 - cmdstanpy - INFO - Chain [1] done processing\n",
      "17:49:09 - cmdstanpy - INFO - Chain [1] start processing\n",
      "17:49:10 - cmdstanpy - INFO - Chain [1] done processing\n",
      "17:49:10 - cmdstanpy - INFO - Chain [1] start processing\n",
      "17:49:10 - cmdstanpy - INFO - Chain [1] done processing\n",
      "17:49:10 - cmdstanpy - INFO - Chain [1] start processing\n",
      "17:49:10 - cmdstanpy - INFO - Chain [1] done processing\n"
     ]
    },
    {
     "data": {
      "application/vnd.jupyter.widget-view+json": {
       "model_id": "ffa1fd4a1c1a4e23b16ac9c23bd4271a",
       "version_major": 2,
       "version_minor": 0
      },
      "text/plain": [
       "  0%|          | 0/6 [00:00<?, ?it/s]"
      ]
     },
     "metadata": {},
     "output_type": "display_data"
    },
    {
     "name": "stderr",
     "output_type": "stream",
     "text": [
      "17:49:10 - cmdstanpy - INFO - Chain [1] start processing\n",
      "17:49:10 - cmdstanpy - INFO - Chain [1] done processing\n",
      "17:49:11 - cmdstanpy - INFO - Chain [1] start processing\n",
      "17:49:11 - cmdstanpy - INFO - Chain [1] done processing\n",
      "17:49:11 - cmdstanpy - INFO - Chain [1] start processing\n",
      "17:49:11 - cmdstanpy - INFO - Chain [1] done processing\n",
      "17:49:11 - cmdstanpy - INFO - Chain [1] start processing\n",
      "17:49:11 - cmdstanpy - INFO - Chain [1] done processing\n",
      "17:49:11 - cmdstanpy - INFO - Chain [1] start processing\n",
      "17:49:12 - cmdstanpy - INFO - Chain [1] done processing\n",
      "17:49:12 - cmdstanpy - INFO - Chain [1] start processing\n",
      "17:49:12 - cmdstanpy - INFO - Chain [1] done processing\n",
      "17:49:12 - cmdstanpy - INFO - Chain [1] start processing\n",
      "17:49:12 - cmdstanpy - INFO - Chain [1] done processing\n"
     ]
    },
    {
     "data": {
      "application/vnd.jupyter.widget-view+json": {
       "model_id": "a1b38d9aa6fe41e68e2cb92c4a8e7b7c",
       "version_major": 2,
       "version_minor": 0
      },
      "text/plain": [
       "  0%|          | 0/6 [00:00<?, ?it/s]"
      ]
     },
     "metadata": {},
     "output_type": "display_data"
    },
    {
     "name": "stderr",
     "output_type": "stream",
     "text": [
      "17:49:12 - cmdstanpy - INFO - Chain [1] start processing\n",
      "17:49:12 - cmdstanpy - INFO - Chain [1] done processing\n",
      "17:49:13 - cmdstanpy - INFO - Chain [1] start processing\n",
      "17:49:13 - cmdstanpy - INFO - Chain [1] done processing\n",
      "17:49:13 - cmdstanpy - INFO - Chain [1] start processing\n",
      "17:49:13 - cmdstanpy - INFO - Chain [1] done processing\n",
      "17:49:13 - cmdstanpy - INFO - Chain [1] start processing\n",
      "17:49:13 - cmdstanpy - INFO - Chain [1] done processing\n",
      "17:49:14 - cmdstanpy - INFO - Chain [1] start processing\n",
      "17:49:14 - cmdstanpy - INFO - Chain [1] done processing\n",
      "17:49:14 - cmdstanpy - INFO - Chain [1] start processing\n",
      "17:49:14 - cmdstanpy - INFO - Chain [1] done processing\n",
      "17:49:14 - cmdstanpy - INFO - Chain [1] start processing\n",
      "17:49:14 - cmdstanpy - INFO - Chain [1] done processing\n"
     ]
    },
    {
     "data": {
      "application/vnd.jupyter.widget-view+json": {
       "model_id": "5b89fcd3709e4174b9c53ab043eff904",
       "version_major": 2,
       "version_minor": 0
      },
      "text/plain": [
       "  0%|          | 0/6 [00:00<?, ?it/s]"
      ]
     },
     "metadata": {},
     "output_type": "display_data"
    },
    {
     "name": "stderr",
     "output_type": "stream",
     "text": [
      "17:49:14 - cmdstanpy - INFO - Chain [1] start processing\n",
      "17:49:14 - cmdstanpy - INFO - Chain [1] done processing\n",
      "17:49:15 - cmdstanpy - INFO - Chain [1] start processing\n",
      "17:49:15 - cmdstanpy - INFO - Chain [1] done processing\n",
      "17:49:15 - cmdstanpy - INFO - Chain [1] start processing\n",
      "17:49:15 - cmdstanpy - INFO - Chain [1] done processing\n",
      "17:49:15 - cmdstanpy - INFO - Chain [1] start processing\n",
      "17:49:15 - cmdstanpy - INFO - Chain [1] done processing\n",
      "17:49:16 - cmdstanpy - INFO - Chain [1] start processing\n",
      "17:49:16 - cmdstanpy - INFO - Chain [1] done processing\n",
      "17:49:16 - cmdstanpy - INFO - Chain [1] start processing\n",
      "17:49:16 - cmdstanpy - INFO - Chain [1] done processing\n",
      "17:49:16 - cmdstanpy - INFO - Chain [1] start processing\n",
      "17:49:16 - cmdstanpy - INFO - Chain [1] done processing\n"
     ]
    },
    {
     "data": {
      "application/vnd.jupyter.widget-view+json": {
       "model_id": "b88b4a2fbee6402e8613f924d43ea296",
       "version_major": 2,
       "version_minor": 0
      },
      "text/plain": [
       "  0%|          | 0/6 [00:00<?, ?it/s]"
      ]
     },
     "metadata": {},
     "output_type": "display_data"
    },
    {
     "name": "stderr",
     "output_type": "stream",
     "text": [
      "17:49:16 - cmdstanpy - INFO - Chain [1] start processing\n",
      "17:49:16 - cmdstanpy - INFO - Chain [1] done processing\n",
      "17:49:17 - cmdstanpy - INFO - Chain [1] start processing\n",
      "17:49:17 - cmdstanpy - INFO - Chain [1] done processing\n",
      "17:49:17 - cmdstanpy - INFO - Chain [1] start processing\n",
      "17:49:17 - cmdstanpy - INFO - Chain [1] done processing\n",
      "17:49:17 - cmdstanpy - INFO - Chain [1] start processing\n",
      "17:49:17 - cmdstanpy - INFO - Chain [1] done processing\n",
      "17:49:18 - cmdstanpy - INFO - Chain [1] start processing\n",
      "17:49:18 - cmdstanpy - INFO - Chain [1] done processing\n",
      "17:49:18 - cmdstanpy - INFO - Chain [1] start processing\n",
      "17:49:18 - cmdstanpy - INFO - Chain [1] done processing\n",
      "17:49:18 - cmdstanpy - INFO - Chain [1] start processing\n",
      "17:49:18 - cmdstanpy - INFO - Chain [1] done processing\n"
     ]
    },
    {
     "data": {
      "application/vnd.jupyter.widget-view+json": {
       "model_id": "46c8b323b9224d54914d12ca2e875f77",
       "version_major": 2,
       "version_minor": 0
      },
      "text/plain": [
       "  0%|          | 0/6 [00:00<?, ?it/s]"
      ]
     },
     "metadata": {},
     "output_type": "display_data"
    },
    {
     "name": "stderr",
     "output_type": "stream",
     "text": [
      "17:49:18 - cmdstanpy - INFO - Chain [1] start processing\n",
      "17:49:18 - cmdstanpy - INFO - Chain [1] done processing\n",
      "17:49:19 - cmdstanpy - INFO - Chain [1] start processing\n",
      "17:49:19 - cmdstanpy - INFO - Chain [1] done processing\n",
      "17:49:19 - cmdstanpy - INFO - Chain [1] start processing\n",
      "17:49:19 - cmdstanpy - INFO - Chain [1] done processing\n",
      "17:49:19 - cmdstanpy - INFO - Chain [1] start processing\n",
      "17:49:19 - cmdstanpy - INFO - Chain [1] done processing\n",
      "17:49:20 - cmdstanpy - INFO - Chain [1] start processing\n",
      "17:49:20 - cmdstanpy - INFO - Chain [1] done processing\n",
      "17:49:20 - cmdstanpy - INFO - Chain [1] start processing\n",
      "17:49:20 - cmdstanpy - INFO - Chain [1] done processing\n",
      "17:49:20 - cmdstanpy - INFO - Chain [1] start processing\n",
      "17:49:20 - cmdstanpy - INFO - Chain [1] done processing\n"
     ]
    },
    {
     "data": {
      "application/vnd.jupyter.widget-view+json": {
       "model_id": "5fbe9f6004324d49b3753fea2d4300a9",
       "version_major": 2,
       "version_minor": 0
      },
      "text/plain": [
       "  0%|          | 0/6 [00:00<?, ?it/s]"
      ]
     },
     "metadata": {},
     "output_type": "display_data"
    },
    {
     "name": "stderr",
     "output_type": "stream",
     "text": [
      "17:49:20 - cmdstanpy - INFO - Chain [1] start processing\n",
      "17:49:20 - cmdstanpy - INFO - Chain [1] done processing\n",
      "17:49:21 - cmdstanpy - INFO - Chain [1] start processing\n",
      "17:49:21 - cmdstanpy - INFO - Chain [1] done processing\n",
      "17:49:21 - cmdstanpy - INFO - Chain [1] start processing\n",
      "17:49:21 - cmdstanpy - INFO - Chain [1] done processing\n",
      "17:49:21 - cmdstanpy - INFO - Chain [1] start processing\n",
      "17:49:21 - cmdstanpy - INFO - Chain [1] done processing\n",
      "17:49:22 - cmdstanpy - INFO - Chain [1] start processing\n",
      "17:49:22 - cmdstanpy - INFO - Chain [1] done processing\n",
      "17:49:22 - cmdstanpy - INFO - Chain [1] start processing\n",
      "17:49:22 - cmdstanpy - INFO - Chain [1] done processing\n",
      "17:49:22 - cmdstanpy - INFO - Chain [1] start processing\n",
      "17:49:23 - cmdstanpy - INFO - Chain [1] done processing\n"
     ]
    },
    {
     "data": {
      "application/vnd.jupyter.widget-view+json": {
       "model_id": "1d090432288a48898a6e58d90aba2ebd",
       "version_major": 2,
       "version_minor": 0
      },
      "text/plain": [
       "  0%|          | 0/6 [00:00<?, ?it/s]"
      ]
     },
     "metadata": {},
     "output_type": "display_data"
    },
    {
     "name": "stderr",
     "output_type": "stream",
     "text": [
      "17:49:23 - cmdstanpy - INFO - Chain [1] start processing\n",
      "17:49:23 - cmdstanpy - INFO - Chain [1] done processing\n",
      "17:49:23 - cmdstanpy - INFO - Chain [1] start processing\n",
      "17:49:23 - cmdstanpy - INFO - Chain [1] done processing\n",
      "17:49:23 - cmdstanpy - INFO - Chain [1] start processing\n",
      "17:49:23 - cmdstanpy - INFO - Chain [1] done processing\n",
      "17:49:23 - cmdstanpy - INFO - Chain [1] start processing\n",
      "17:49:24 - cmdstanpy - INFO - Chain [1] done processing\n",
      "17:49:24 - cmdstanpy - INFO - Chain [1] start processing\n",
      "17:49:24 - cmdstanpy - INFO - Chain [1] done processing\n",
      "17:49:24 - cmdstanpy - INFO - Chain [1] start processing\n",
      "17:49:24 - cmdstanpy - INFO - Chain [1] done processing\n",
      "17:49:24 - cmdstanpy - INFO - Chain [1] start processing\n",
      "17:49:25 - cmdstanpy - INFO - Chain [1] done processing\n"
     ]
    },
    {
     "data": {
      "application/vnd.jupyter.widget-view+json": {
       "model_id": "ec6973bb3566463e93997521577199de",
       "version_major": 2,
       "version_minor": 0
      },
      "text/plain": [
       "  0%|          | 0/6 [00:00<?, ?it/s]"
      ]
     },
     "metadata": {},
     "output_type": "display_data"
    },
    {
     "name": "stderr",
     "output_type": "stream",
     "text": [
      "17:49:25 - cmdstanpy - INFO - Chain [1] start processing\n",
      "17:49:25 - cmdstanpy - INFO - Chain [1] done processing\n",
      "17:49:25 - cmdstanpy - INFO - Chain [1] start processing\n",
      "17:49:25 - cmdstanpy - INFO - Chain [1] done processing\n",
      "17:49:25 - cmdstanpy - INFO - Chain [1] start processing\n",
      "17:49:25 - cmdstanpy - INFO - Chain [1] done processing\n",
      "17:49:26 - cmdstanpy - INFO - Chain [1] start processing\n",
      "17:49:26 - cmdstanpy - INFO - Chain [1] done processing\n",
      "17:49:26 - cmdstanpy - INFO - Chain [1] start processing\n",
      "17:49:26 - cmdstanpy - INFO - Chain [1] done processing\n",
      "17:49:26 - cmdstanpy - INFO - Chain [1] start processing\n",
      "17:49:26 - cmdstanpy - INFO - Chain [1] done processing\n",
      "17:49:27 - cmdstanpy - INFO - Chain [1] start processing\n",
      "17:49:27 - cmdstanpy - INFO - Chain [1] done processing\n"
     ]
    },
    {
     "data": {
      "application/vnd.jupyter.widget-view+json": {
       "model_id": "0639319018d14359bfd712904da2eea6",
       "version_major": 2,
       "version_minor": 0
      },
      "text/plain": [
       "  0%|          | 0/6 [00:00<?, ?it/s]"
      ]
     },
     "metadata": {},
     "output_type": "display_data"
    },
    {
     "name": "stderr",
     "output_type": "stream",
     "text": [
      "17:49:27 - cmdstanpy - INFO - Chain [1] start processing\n",
      "17:49:27 - cmdstanpy - INFO - Chain [1] done processing\n",
      "17:49:27 - cmdstanpy - INFO - Chain [1] start processing\n",
      "17:49:27 - cmdstanpy - INFO - Chain [1] done processing\n",
      "17:49:27 - cmdstanpy - INFO - Chain [1] start processing\n",
      "17:49:27 - cmdstanpy - INFO - Chain [1] done processing\n",
      "17:49:28 - cmdstanpy - INFO - Chain [1] start processing\n",
      "17:49:28 - cmdstanpy - INFO - Chain [1] done processing\n",
      "17:49:28 - cmdstanpy - INFO - Chain [1] start processing\n",
      "17:49:28 - cmdstanpy - INFO - Chain [1] done processing\n",
      "17:49:28 - cmdstanpy - INFO - Chain [1] start processing\n",
      "17:49:28 - cmdstanpy - INFO - Chain [1] done processing\n",
      "17:49:29 - cmdstanpy - INFO - Chain [1] start processing\n",
      "17:49:29 - cmdstanpy - INFO - Chain [1] done processing\n"
     ]
    },
    {
     "data": {
      "application/vnd.jupyter.widget-view+json": {
       "model_id": "b98a80b9eb3f41b3b9276349e61c191a",
       "version_major": 2,
       "version_minor": 0
      },
      "text/plain": [
       "  0%|          | 0/6 [00:00<?, ?it/s]"
      ]
     },
     "metadata": {},
     "output_type": "display_data"
    },
    {
     "name": "stderr",
     "output_type": "stream",
     "text": [
      "17:49:29 - cmdstanpy - INFO - Chain [1] start processing\n",
      "17:49:29 - cmdstanpy - INFO - Chain [1] done processing\n",
      "17:49:29 - cmdstanpy - INFO - Chain [1] start processing\n",
      "17:49:29 - cmdstanpy - INFO - Chain [1] done processing\n",
      "17:49:29 - cmdstanpy - INFO - Chain [1] start processing\n",
      "17:49:29 - cmdstanpy - INFO - Chain [1] done processing\n",
      "17:49:30 - cmdstanpy - INFO - Chain [1] start processing\n",
      "17:49:30 - cmdstanpy - INFO - Chain [1] done processing\n",
      "17:49:30 - cmdstanpy - INFO - Chain [1] start processing\n",
      "17:49:30 - cmdstanpy - INFO - Chain [1] done processing\n",
      "17:49:30 - cmdstanpy - INFO - Chain [1] start processing\n",
      "17:49:30 - cmdstanpy - INFO - Chain [1] done processing\n",
      "17:49:31 - cmdstanpy - INFO - Chain [1] start processing\n",
      "17:49:31 - cmdstanpy - INFO - Chain [1] done processing\n"
     ]
    },
    {
     "data": {
      "application/vnd.jupyter.widget-view+json": {
       "model_id": "ef645dc7ed764ddbb74941a03b6897a8",
       "version_major": 2,
       "version_minor": 0
      },
      "text/plain": [
       "  0%|          | 0/6 [00:00<?, ?it/s]"
      ]
     },
     "metadata": {},
     "output_type": "display_data"
    },
    {
     "name": "stderr",
     "output_type": "stream",
     "text": [
      "17:49:31 - cmdstanpy - INFO - Chain [1] start processing\n",
      "17:49:31 - cmdstanpy - INFO - Chain [1] done processing\n",
      "17:49:31 - cmdstanpy - INFO - Chain [1] start processing\n",
      "17:49:31 - cmdstanpy - INFO - Chain [1] done processing\n",
      "17:49:31 - cmdstanpy - INFO - Chain [1] start processing\n",
      "17:49:31 - cmdstanpy - INFO - Chain [1] done processing\n",
      "17:49:32 - cmdstanpy - INFO - Chain [1] start processing\n",
      "17:49:32 - cmdstanpy - INFO - Chain [1] done processing\n",
      "17:49:32 - cmdstanpy - INFO - Chain [1] start processing\n",
      "17:49:32 - cmdstanpy - INFO - Chain [1] done processing\n",
      "17:49:32 - cmdstanpy - INFO - Chain [1] start processing\n",
      "17:49:32 - cmdstanpy - INFO - Chain [1] done processing\n",
      "17:49:33 - cmdstanpy - INFO - Chain [1] start processing\n",
      "17:49:33 - cmdstanpy - INFO - Chain [1] done processing\n"
     ]
    },
    {
     "data": {
      "application/vnd.jupyter.widget-view+json": {
       "model_id": "80866397873c4b85a009d0e96354cda1",
       "version_major": 2,
       "version_minor": 0
      },
      "text/plain": [
       "  0%|          | 0/6 [00:00<?, ?it/s]"
      ]
     },
     "metadata": {},
     "output_type": "display_data"
    },
    {
     "name": "stderr",
     "output_type": "stream",
     "text": [
      "17:49:33 - cmdstanpy - INFO - Chain [1] start processing\n",
      "17:49:33 - cmdstanpy - INFO - Chain [1] done processing\n",
      "17:49:33 - cmdstanpy - INFO - Chain [1] start processing\n",
      "17:49:33 - cmdstanpy - INFO - Chain [1] done processing\n",
      "17:49:33 - cmdstanpy - INFO - Chain [1] start processing\n",
      "17:49:33 - cmdstanpy - INFO - Chain [1] done processing\n",
      "17:49:34 - cmdstanpy - INFO - Chain [1] start processing\n",
      "17:49:34 - cmdstanpy - INFO - Chain [1] done processing\n",
      "17:49:34 - cmdstanpy - INFO - Chain [1] start processing\n",
      "17:49:34 - cmdstanpy - INFO - Chain [1] done processing\n",
      "17:49:34 - cmdstanpy - INFO - Chain [1] start processing\n",
      "17:49:34 - cmdstanpy - INFO - Chain [1] done processing\n",
      "17:49:35 - cmdstanpy - INFO - Chain [1] start processing\n",
      "17:49:35 - cmdstanpy - INFO - Chain [1] done processing\n"
     ]
    },
    {
     "data": {
      "application/vnd.jupyter.widget-view+json": {
       "model_id": "5d24b313ec9c4e21bb74adc0465db1e1",
       "version_major": 2,
       "version_minor": 0
      },
      "text/plain": [
       "  0%|          | 0/6 [00:00<?, ?it/s]"
      ]
     },
     "metadata": {},
     "output_type": "display_data"
    },
    {
     "name": "stderr",
     "output_type": "stream",
     "text": [
      "17:49:35 - cmdstanpy - INFO - Chain [1] start processing\n",
      "17:49:35 - cmdstanpy - INFO - Chain [1] done processing\n",
      "17:49:35 - cmdstanpy - INFO - Chain [1] start processing\n",
      "17:49:35 - cmdstanpy - INFO - Chain [1] done processing\n",
      "17:49:35 - cmdstanpy - INFO - Chain [1] start processing\n",
      "17:49:35 - cmdstanpy - INFO - Chain [1] done processing\n",
      "17:49:36 - cmdstanpy - INFO - Chain [1] start processing\n",
      "17:49:36 - cmdstanpy - INFO - Chain [1] done processing\n",
      "17:49:36 - cmdstanpy - INFO - Chain [1] start processing\n",
      "17:49:36 - cmdstanpy - INFO - Chain [1] done processing\n",
      "17:49:36 - cmdstanpy - INFO - Chain [1] start processing\n",
      "17:49:36 - cmdstanpy - INFO - Chain [1] done processing\n",
      "17:49:37 - cmdstanpy - INFO - Chain [1] start processing\n",
      "17:49:37 - cmdstanpy - INFO - Chain [1] done processing\n"
     ]
    },
    {
     "data": {
      "application/vnd.jupyter.widget-view+json": {
       "model_id": "ee860f2cd3f4436e91c58211d32ac5ff",
       "version_major": 2,
       "version_minor": 0
      },
      "text/plain": [
       "  0%|          | 0/6 [00:00<?, ?it/s]"
      ]
     },
     "metadata": {},
     "output_type": "display_data"
    },
    {
     "name": "stderr",
     "output_type": "stream",
     "text": [
      "17:49:37 - cmdstanpy - INFO - Chain [1] start processing\n",
      "17:49:37 - cmdstanpy - INFO - Chain [1] done processing\n",
      "17:49:37 - cmdstanpy - INFO - Chain [1] start processing\n",
      "17:49:37 - cmdstanpy - INFO - Chain [1] done processing\n",
      "17:49:37 - cmdstanpy - INFO - Chain [1] start processing\n",
      "17:49:38 - cmdstanpy - INFO - Chain [1] done processing\n",
      "17:49:38 - cmdstanpy - INFO - Chain [1] start processing\n",
      "17:49:38 - cmdstanpy - INFO - Chain [1] done processing\n",
      "17:49:38 - cmdstanpy - INFO - Chain [1] start processing\n",
      "17:49:38 - cmdstanpy - INFO - Chain [1] done processing\n",
      "17:49:38 - cmdstanpy - INFO - Chain [1] start processing\n",
      "17:49:38 - cmdstanpy - INFO - Chain [1] done processing\n",
      "17:49:39 - cmdstanpy - INFO - Chain [1] start processing\n",
      "17:49:39 - cmdstanpy - INFO - Chain [1] done processing\n"
     ]
    },
    {
     "data": {
      "application/vnd.jupyter.widget-view+json": {
       "model_id": "b74cda68d3ea4aafa603c628f3334dfc",
       "version_major": 2,
       "version_minor": 0
      },
      "text/plain": [
       "  0%|          | 0/6 [00:00<?, ?it/s]"
      ]
     },
     "metadata": {},
     "output_type": "display_data"
    },
    {
     "name": "stderr",
     "output_type": "stream",
     "text": [
      "17:49:39 - cmdstanpy - INFO - Chain [1] start processing\n",
      "17:49:39 - cmdstanpy - INFO - Chain [1] done processing\n",
      "17:49:39 - cmdstanpy - INFO - Chain [1] start processing\n",
      "17:49:39 - cmdstanpy - INFO - Chain [1] done processing\n",
      "17:49:40 - cmdstanpy - INFO - Chain [1] start processing\n",
      "17:49:40 - cmdstanpy - INFO - Chain [1] done processing\n",
      "17:49:40 - cmdstanpy - INFO - Chain [1] start processing\n",
      "17:49:40 - cmdstanpy - INFO - Chain [1] done processing\n",
      "17:49:40 - cmdstanpy - INFO - Chain [1] start processing\n",
      "17:49:40 - cmdstanpy - INFO - Chain [1] done processing\n",
      "17:49:41 - cmdstanpy - INFO - Chain [1] start processing\n",
      "17:49:41 - cmdstanpy - INFO - Chain [1] done processing\n",
      "17:49:41 - cmdstanpy - INFO - Chain [1] start processing\n",
      "17:49:41 - cmdstanpy - INFO - Chain [1] done processing\n"
     ]
    },
    {
     "data": {
      "application/vnd.jupyter.widget-view+json": {
       "model_id": "112b829bf3a64077ab9742d2d9f0f4bd",
       "version_major": 2,
       "version_minor": 0
      },
      "text/plain": [
       "  0%|          | 0/6 [00:00<?, ?it/s]"
      ]
     },
     "metadata": {},
     "output_type": "display_data"
    },
    {
     "name": "stderr",
     "output_type": "stream",
     "text": [
      "17:49:41 - cmdstanpy - INFO - Chain [1] start processing\n",
      "17:49:41 - cmdstanpy - INFO - Chain [1] done processing\n",
      "17:49:41 - cmdstanpy - INFO - Chain [1] start processing\n",
      "17:49:41 - cmdstanpy - INFO - Chain [1] done processing\n",
      "17:49:42 - cmdstanpy - INFO - Chain [1] start processing\n",
      "17:49:42 - cmdstanpy - INFO - Chain [1] done processing\n",
      "17:49:42 - cmdstanpy - INFO - Chain [1] start processing\n",
      "17:49:42 - cmdstanpy - INFO - Chain [1] done processing\n",
      "17:49:42 - cmdstanpy - INFO - Chain [1] start processing\n",
      "17:49:42 - cmdstanpy - INFO - Chain [1] done processing\n",
      "17:49:43 - cmdstanpy - INFO - Chain [1] start processing\n",
      "17:49:43 - cmdstanpy - INFO - Chain [1] done processing\n",
      "17:49:43 - cmdstanpy - INFO - Chain [1] start processing\n",
      "17:49:43 - cmdstanpy - INFO - Chain [1] done processing\n"
     ]
    },
    {
     "data": {
      "application/vnd.jupyter.widget-view+json": {
       "model_id": "cacb1764144348c6bbcc1938037a8fa4",
       "version_major": 2,
       "version_minor": 0
      },
      "text/plain": [
       "  0%|          | 0/6 [00:00<?, ?it/s]"
      ]
     },
     "metadata": {},
     "output_type": "display_data"
    },
    {
     "name": "stderr",
     "output_type": "stream",
     "text": [
      "17:49:43 - cmdstanpy - INFO - Chain [1] start processing\n",
      "17:49:43 - cmdstanpy - INFO - Chain [1] done processing\n",
      "17:49:43 - cmdstanpy - INFO - Chain [1] start processing\n",
      "17:49:43 - cmdstanpy - INFO - Chain [1] done processing\n",
      "17:49:44 - cmdstanpy - INFO - Chain [1] start processing\n",
      "17:49:44 - cmdstanpy - INFO - Chain [1] done processing\n",
      "17:49:44 - cmdstanpy - INFO - Chain [1] start processing\n",
      "17:49:44 - cmdstanpy - INFO - Chain [1] done processing\n",
      "17:49:44 - cmdstanpy - INFO - Chain [1] start processing\n",
      "17:49:44 - cmdstanpy - INFO - Chain [1] done processing\n",
      "17:49:45 - cmdstanpy - INFO - Chain [1] start processing\n",
      "17:49:45 - cmdstanpy - INFO - Chain [1] done processing\n",
      "17:49:45 - cmdstanpy - INFO - Chain [1] start processing\n",
      "17:49:45 - cmdstanpy - INFO - Chain [1] done processing\n"
     ]
    },
    {
     "data": {
      "application/vnd.jupyter.widget-view+json": {
       "model_id": "bd65dd9c413849fea1dc4ae3c8950c3e",
       "version_major": 2,
       "version_minor": 0
      },
      "text/plain": [
       "  0%|          | 0/6 [00:00<?, ?it/s]"
      ]
     },
     "metadata": {},
     "output_type": "display_data"
    },
    {
     "name": "stderr",
     "output_type": "stream",
     "text": [
      "17:49:45 - cmdstanpy - INFO - Chain [1] start processing\n",
      "17:49:45 - cmdstanpy - INFO - Chain [1] done processing\n",
      "17:49:45 - cmdstanpy - INFO - Chain [1] start processing\n",
      "17:49:45 - cmdstanpy - INFO - Chain [1] done processing\n",
      "17:49:46 - cmdstanpy - INFO - Chain [1] start processing\n",
      "17:49:46 - cmdstanpy - INFO - Chain [1] done processing\n",
      "17:49:46 - cmdstanpy - INFO - Chain [1] start processing\n",
      "17:49:46 - cmdstanpy - INFO - Chain [1] done processing\n",
      "17:49:46 - cmdstanpy - INFO - Chain [1] start processing\n",
      "17:49:46 - cmdstanpy - INFO - Chain [1] done processing\n",
      "17:49:47 - cmdstanpy - INFO - Chain [1] start processing\n",
      "17:49:47 - cmdstanpy - INFO - Chain [1] done processing\n",
      "17:49:47 - cmdstanpy - INFO - Chain [1] start processing\n",
      "17:49:47 - cmdstanpy - INFO - Chain [1] done processing\n"
     ]
    },
    {
     "data": {
      "application/vnd.jupyter.widget-view+json": {
       "model_id": "71c2efdfd7d043e590fc88cbbb33e5e4",
       "version_major": 2,
       "version_minor": 0
      },
      "text/plain": [
       "  0%|          | 0/6 [00:00<?, ?it/s]"
      ]
     },
     "metadata": {},
     "output_type": "display_data"
    },
    {
     "name": "stderr",
     "output_type": "stream",
     "text": [
      "17:49:47 - cmdstanpy - INFO - Chain [1] start processing\n",
      "17:49:47 - cmdstanpy - INFO - Chain [1] done processing\n",
      "17:49:47 - cmdstanpy - INFO - Chain [1] start processing\n",
      "17:49:47 - cmdstanpy - INFO - Chain [1] done processing\n",
      "17:49:48 - cmdstanpy - INFO - Chain [1] start processing\n",
      "17:49:48 - cmdstanpy - INFO - Chain [1] done processing\n",
      "17:49:48 - cmdstanpy - INFO - Chain [1] start processing\n",
      "17:49:48 - cmdstanpy - INFO - Chain [1] done processing\n",
      "17:49:48 - cmdstanpy - INFO - Chain [1] start processing\n",
      "17:49:48 - cmdstanpy - INFO - Chain [1] done processing\n",
      "17:49:49 - cmdstanpy - INFO - Chain [1] start processing\n",
      "17:49:49 - cmdstanpy - INFO - Chain [1] done processing\n",
      "17:49:49 - cmdstanpy - INFO - Chain [1] start processing\n",
      "17:49:49 - cmdstanpy - INFO - Chain [1] done processing\n"
     ]
    },
    {
     "data": {
      "application/vnd.jupyter.widget-view+json": {
       "model_id": "2c1281a51f1d4fb98a6ce3e8b61731b6",
       "version_major": 2,
       "version_minor": 0
      },
      "text/plain": [
       "  0%|          | 0/6 [00:00<?, ?it/s]"
      ]
     },
     "metadata": {},
     "output_type": "display_data"
    },
    {
     "name": "stderr",
     "output_type": "stream",
     "text": [
      "17:49:49 - cmdstanpy - INFO - Chain [1] start processing\n",
      "17:49:49 - cmdstanpy - INFO - Chain [1] done processing\n",
      "17:49:49 - cmdstanpy - INFO - Chain [1] start processing\n",
      "17:49:49 - cmdstanpy - INFO - Chain [1] done processing\n",
      "17:49:50 - cmdstanpy - INFO - Chain [1] start processing\n",
      "17:49:50 - cmdstanpy - INFO - Chain [1] done processing\n",
      "17:49:50 - cmdstanpy - INFO - Chain [1] start processing\n",
      "17:49:50 - cmdstanpy - INFO - Chain [1] done processing\n",
      "17:49:50 - cmdstanpy - INFO - Chain [1] start processing\n",
      "17:49:50 - cmdstanpy - INFO - Chain [1] done processing\n",
      "17:49:51 - cmdstanpy - INFO - Chain [1] start processing\n",
      "17:49:51 - cmdstanpy - INFO - Chain [1] done processing\n",
      "17:49:51 - cmdstanpy - INFO - Chain [1] start processing\n",
      "17:49:51 - cmdstanpy - INFO - Chain [1] done processing\n"
     ]
    },
    {
     "data": {
      "application/vnd.jupyter.widget-view+json": {
       "model_id": "77809a3fac1646a9827fe9a673566cf5",
       "version_major": 2,
       "version_minor": 0
      },
      "text/plain": [
       "  0%|          | 0/6 [00:00<?, ?it/s]"
      ]
     },
     "metadata": {},
     "output_type": "display_data"
    },
    {
     "name": "stderr",
     "output_type": "stream",
     "text": [
      "17:49:51 - cmdstanpy - INFO - Chain [1] start processing\n",
      "17:49:51 - cmdstanpy - INFO - Chain [1] done processing\n",
      "17:49:51 - cmdstanpy - INFO - Chain [1] start processing\n",
      "17:49:51 - cmdstanpy - INFO - Chain [1] done processing\n",
      "17:49:52 - cmdstanpy - INFO - Chain [1] start processing\n",
      "17:49:52 - cmdstanpy - INFO - Chain [1] done processing\n",
      "17:49:52 - cmdstanpy - INFO - Chain [1] start processing\n",
      "17:49:52 - cmdstanpy - INFO - Chain [1] done processing\n",
      "17:49:52 - cmdstanpy - INFO - Chain [1] start processing\n",
      "17:49:53 - cmdstanpy - INFO - Chain [1] done processing\n",
      "17:49:53 - cmdstanpy - INFO - Chain [1] start processing\n",
      "17:49:53 - cmdstanpy - INFO - Chain [1] done processing\n",
      "17:49:53 - cmdstanpy - INFO - Chain [1] start processing\n",
      "17:49:53 - cmdstanpy - INFO - Chain [1] done processing\n"
     ]
    },
    {
     "data": {
      "application/vnd.jupyter.widget-view+json": {
       "model_id": "9152be8220ec4f1e9e7cb53407384b01",
       "version_major": 2,
       "version_minor": 0
      },
      "text/plain": [
       "  0%|          | 0/6 [00:00<?, ?it/s]"
      ]
     },
     "metadata": {},
     "output_type": "display_data"
    },
    {
     "name": "stderr",
     "output_type": "stream",
     "text": [
      "17:49:53 - cmdstanpy - INFO - Chain [1] start processing\n",
      "17:49:53 - cmdstanpy - INFO - Chain [1] done processing\n",
      "17:49:54 - cmdstanpy - INFO - Chain [1] start processing\n",
      "17:49:54 - cmdstanpy - INFO - Chain [1] done processing\n",
      "17:49:54 - cmdstanpy - INFO - Chain [1] start processing\n",
      "17:49:54 - cmdstanpy - INFO - Chain [1] done processing\n",
      "17:49:54 - cmdstanpy - INFO - Chain [1] start processing\n",
      "17:49:54 - cmdstanpy - INFO - Chain [1] done processing\n",
      "17:49:55 - cmdstanpy - INFO - Chain [1] start processing\n",
      "17:49:55 - cmdstanpy - INFO - Chain [1] done processing\n",
      "17:49:55 - cmdstanpy - INFO - Chain [1] start processing\n",
      "17:49:55 - cmdstanpy - INFO - Chain [1] done processing\n",
      "17:49:55 - cmdstanpy - INFO - Chain [1] start processing\n",
      "17:49:55 - cmdstanpy - INFO - Chain [1] done processing\n"
     ]
    },
    {
     "data": {
      "application/vnd.jupyter.widget-view+json": {
       "model_id": "cc342190d67b4dc3a95dd07670067fd8",
       "version_major": 2,
       "version_minor": 0
      },
      "text/plain": [
       "  0%|          | 0/6 [00:00<?, ?it/s]"
      ]
     },
     "metadata": {},
     "output_type": "display_data"
    },
    {
     "name": "stderr",
     "output_type": "stream",
     "text": [
      "17:49:55 - cmdstanpy - INFO - Chain [1] start processing\n",
      "17:49:55 - cmdstanpy - INFO - Chain [1] done processing\n",
      "17:49:56 - cmdstanpy - INFO - Chain [1] start processing\n",
      "17:49:56 - cmdstanpy - INFO - Chain [1] done processing\n",
      "17:49:56 - cmdstanpy - INFO - Chain [1] start processing\n",
      "17:49:56 - cmdstanpy - INFO - Chain [1] done processing\n",
      "17:49:56 - cmdstanpy - INFO - Chain [1] start processing\n",
      "17:49:56 - cmdstanpy - INFO - Chain [1] done processing\n",
      "17:49:57 - cmdstanpy - INFO - Chain [1] start processing\n",
      "17:49:57 - cmdstanpy - INFO - Chain [1] done processing\n",
      "17:49:57 - cmdstanpy - INFO - Chain [1] start processing\n",
      "17:49:57 - cmdstanpy - INFO - Chain [1] done processing\n",
      "17:49:57 - cmdstanpy - INFO - Chain [1] start processing\n",
      "17:49:57 - cmdstanpy - INFO - Chain [1] done processing\n"
     ]
    },
    {
     "data": {
      "application/vnd.jupyter.widget-view+json": {
       "model_id": "c4290836cf67494bb6c05e2a88cbbe5b",
       "version_major": 2,
       "version_minor": 0
      },
      "text/plain": [
       "  0%|          | 0/6 [00:00<?, ?it/s]"
      ]
     },
     "metadata": {},
     "output_type": "display_data"
    },
    {
     "name": "stderr",
     "output_type": "stream",
     "text": [
      "17:49:57 - cmdstanpy - INFO - Chain [1] start processing\n",
      "17:49:57 - cmdstanpy - INFO - Chain [1] done processing\n",
      "17:49:58 - cmdstanpy - INFO - Chain [1] start processing\n",
      "17:49:58 - cmdstanpy - INFO - Chain [1] done processing\n",
      "17:49:58 - cmdstanpy - INFO - Chain [1] start processing\n",
      "17:49:58 - cmdstanpy - INFO - Chain [1] done processing\n",
      "17:49:58 - cmdstanpy - INFO - Chain [1] start processing\n",
      "17:49:58 - cmdstanpy - INFO - Chain [1] done processing\n",
      "17:49:59 - cmdstanpy - INFO - Chain [1] start processing\n",
      "17:49:59 - cmdstanpy - INFO - Chain [1] done processing\n",
      "17:49:59 - cmdstanpy - INFO - Chain [1] start processing\n",
      "17:49:59 - cmdstanpy - INFO - Chain [1] done processing\n"
     ]
    },
    {
     "name": "stdout",
     "output_type": "stream",
     "text": [
      "    changepoint_prior_scale  seasonality_prior_scale  holidays_prior_scale  \\\n",
      "0                     0.001                     0.01                  0.01   \n",
      "1                     0.001                     0.01                  0.10   \n",
      "2                     0.001                     0.01                  1.00   \n",
      "3                     0.001                     0.01                 10.00   \n",
      "4                     0.001                     0.10                  0.01   \n",
      "..                      ...                      ...                   ...   \n",
      "59                    0.500                     1.00                 10.00   \n",
      "60                    0.500                    10.00                  0.01   \n",
      "61                    0.500                    10.00                  0.10   \n",
      "62                    0.500                    10.00                  1.00   \n",
      "63                    0.500                    10.00                 10.00   \n",
      "\n",
      "             mse  \n",
      "0   8.243614e+09  \n",
      "1   8.606435e+09  \n",
      "2   8.830822e+09  \n",
      "3   8.840679e+09  \n",
      "4   7.421866e+09  \n",
      "..           ...  \n",
      "59  8.608080e+09  \n",
      "60  7.451585e+09  \n",
      "61  8.060249e+09  \n",
      "62  8.598172e+09  \n",
      "63  8.607681e+09  \n",
      "\n",
      "[64 rows x 4 columns]\n"
     ]
    }
   ],
   "source": [
    "param_grid = {  \n",
    "    'changepoint_prior_scale': [0.001, 0.01, 0.1, 0.5],\n",
    "    'seasonality_prior_scale': [0.01, 0.1, 1.0, 10.0],\n",
    "    'holidays_prior_scale': [0.01, 0.1, 1.0, 10.0]\n",
    "}\n",
    "\n",
    "# Generate all combinations of parameters\n",
    "all_params = [dict(zip(param_grid.keys(), v)) for v in itertools.product(*param_grid.values())]\n",
    "\n",
    "# Store the RMSEs for each params here\n",
    "mse = []\n",
    "\n",
    "# Use cross validation to evaluate all parameters\n",
    "for params in all_params:\n",
    "    m = modeling(df_train,params) # Fit model with given params\n",
    "    df_cv = cross_validation(m, initial = '200 days',period = '15 days',horizon = '15 days')\n",
    "    df_p = performance_metrics(df_cv, rolling_window=1)\n",
    "    mse.append(df_p['mse'].values[0])\n",
    "\n",
    "# Find the best parameters\n",
    "tuning_results = pd.DataFrame(all_params)\n",
    "tuning_results['mse'] = mse\n",
    "print(tuning_results)\n",
    "best_params = all_params[np.argmin(mse)]"
   ]
  },
  {
   "cell_type": "code",
   "execution_count": 310,
   "id": "6cc9caa7",
   "metadata": {},
   "outputs": [
    {
     "data": {
      "text/plain": [
       "{'changepoint_prior_scale': 0.001,\n",
       " 'seasonality_prior_scale': 0.1,\n",
       " 'holidays_prior_scale': 0.01}"
      ]
     },
     "execution_count": 310,
     "metadata": {},
     "output_type": "execute_result"
    }
   ],
   "source": [
    "best_params"
   ]
  },
  {
   "cell_type": "code",
   "execution_count": 311,
   "id": "dd029705",
   "metadata": {},
   "outputs": [
    {
     "name": "stderr",
     "output_type": "stream",
     "text": [
      "18:11:51 - cmdstanpy - INFO - Chain [1] start processing\n",
      "18:11:51 - cmdstanpy - INFO - Chain [1] done processing\n"
     ]
    }
   ],
   "source": [
    "#rebuild the model with best_params\n",
    "m = modeling(df_train,best_params)"
   ]
  },
  {
   "cell_type": "code",
   "execution_count": 312,
   "id": "890880a4",
   "metadata": {},
   "outputs": [
    {
     "data": {
      "text/html": [
       "<div>\n",
       "<style scoped>\n",
       "    .dataframe tbody tr th:only-of-type {\n",
       "        vertical-align: middle;\n",
       "    }\n",
       "\n",
       "    .dataframe tbody tr th {\n",
       "        vertical-align: top;\n",
       "    }\n",
       "\n",
       "    .dataframe thead th {\n",
       "        text-align: right;\n",
       "    }\n",
       "</style>\n",
       "<table border=\"1\" class=\"dataframe\">\n",
       "  <thead>\n",
       "    <tr style=\"text-align: right;\">\n",
       "      <th></th>\n",
       "      <th>regressor</th>\n",
       "      <th>regressor_mode</th>\n",
       "      <th>center</th>\n",
       "      <th>coef_lower</th>\n",
       "      <th>coef</th>\n",
       "      <th>coef_upper</th>\n",
       "    </tr>\n",
       "  </thead>\n",
       "  <tbody>\n",
       "    <tr>\n",
       "      <th>0</th>\n",
       "      <td>nsku_1</td>\n",
       "      <td>additive</td>\n",
       "      <td>6806.754529</td>\n",
       "      <td>16.589340</td>\n",
       "      <td>16.589340</td>\n",
       "      <td>16.589340</td>\n",
       "    </tr>\n",
       "    <tr>\n",
       "      <th>1</th>\n",
       "      <td>avgdiscounttrnsact_1</td>\n",
       "      <td>additive</td>\n",
       "      <td>-173.887636</td>\n",
       "      <td>25.500418</td>\n",
       "      <td>25.500418</td>\n",
       "      <td>25.500418</td>\n",
       "    </tr>\n",
       "    <tr>\n",
       "      <th>2</th>\n",
       "      <td>nstore_1</td>\n",
       "      <td>additive</td>\n",
       "      <td>11.956665</td>\n",
       "      <td>227.519892</td>\n",
       "      <td>227.519892</td>\n",
       "      <td>227.519892</td>\n",
       "    </tr>\n",
       "    <tr>\n",
       "      <th>3</th>\n",
       "      <td>ncities_1</td>\n",
       "      <td>additive</td>\n",
       "      <td>9.959996</td>\n",
       "      <td>7957.397673</td>\n",
       "      <td>7957.397673</td>\n",
       "      <td>7957.397673</td>\n",
       "    </tr>\n",
       "    <tr>\n",
       "      <th>4</th>\n",
       "      <td>ndept_1</td>\n",
       "      <td>additive</td>\n",
       "      <td>56.184398</td>\n",
       "      <td>-8269.330096</td>\n",
       "      <td>-8269.330096</td>\n",
       "      <td>-8269.330096</td>\n",
       "    </tr>\n",
       "    <tr>\n",
       "      <th>5</th>\n",
       "      <td>nvendors_1</td>\n",
       "      <td>additive</td>\n",
       "      <td>459.770089</td>\n",
       "      <td>663.999911</td>\n",
       "      <td>663.999911</td>\n",
       "      <td>663.999911</td>\n",
       "    </tr>\n",
       "    <tr>\n",
       "      <th>6</th>\n",
       "      <td>avgvendorsstore_1</td>\n",
       "      <td>additive</td>\n",
       "      <td>37.977829</td>\n",
       "      <td>8349.258298</td>\n",
       "      <td>8349.258298</td>\n",
       "      <td>8349.258298</td>\n",
       "    </tr>\n",
       "  </tbody>\n",
       "</table>\n",
       "</div>"
      ],
      "text/plain": [
       "              regressor regressor_mode       center   coef_lower         coef  \\\n",
       "0                nsku_1       additive  6806.754529    16.589340    16.589340   \n",
       "1  avgdiscounttrnsact_1       additive  -173.887636    25.500418    25.500418   \n",
       "2              nstore_1       additive    11.956665   227.519892   227.519892   \n",
       "3             ncities_1       additive     9.959996  7957.397673  7957.397673   \n",
       "4               ndept_1       additive    56.184398 -8269.330096 -8269.330096   \n",
       "5            nvendors_1       additive   459.770089   663.999911   663.999911   \n",
       "6     avgvendorsstore_1       additive    37.977829  8349.258298  8349.258298   \n",
       "\n",
       "    coef_upper  \n",
       "0    16.589340  \n",
       "1    25.500418  \n",
       "2   227.519892  \n",
       "3  7957.397673  \n",
       "4 -8269.330096  \n",
       "5   663.999911  \n",
       "6  8349.258298  "
      ]
     },
     "execution_count": 312,
     "metadata": {},
     "output_type": "execute_result"
    }
   ],
   "source": [
    "regressor_coefficients(m)"
   ]
  },
  {
   "cell_type": "markdown",
   "id": "f16af778",
   "metadata": {},
   "source": [
    "### Model Prediction"
   ]
  },
  {
   "cell_type": "code",
   "execution_count": 313,
   "id": "a05cb07e",
   "metadata": {
    "scrolled": true
   },
   "outputs": [
    {
     "name": "stderr",
     "output_type": "stream",
     "text": [
      "/opt/anaconda3/lib/python3.7/site-packages/ipykernel_launcher.py:6: SettingWithCopyWarning: \n",
      "A value is trying to be set on a copy of a slice from a DataFrame.\n",
      "Try using .loc[row_indexer,col_indexer] = value instead\n",
      "\n",
      "See the caveats in the documentation: https://pandas.pydata.org/pandas-docs/stable/user_guide/indexing.html#returning-a-view-versus-a-copy\n",
      "  \n"
     ]
    },
    {
     "data": {
      "text/html": [
       "<div>\n",
       "<style scoped>\n",
       "    .dataframe tbody tr th:only-of-type {\n",
       "        vertical-align: middle;\n",
       "    }\n",
       "\n",
       "    .dataframe tbody tr th {\n",
       "        vertical-align: top;\n",
       "    }\n",
       "\n",
       "    .dataframe thead th {\n",
       "        text-align: right;\n",
       "    }\n",
       "</style>\n",
       "<table border=\"1\" class=\"dataframe\">\n",
       "  <thead>\n",
       "    <tr style=\"text-align: right;\">\n",
       "      <th></th>\n",
       "      <th>ds</th>\n",
       "      <th>yhat</th>\n",
       "      <th>y</th>\n",
       "    </tr>\n",
       "  </thead>\n",
       "  <tbody>\n",
       "    <tr>\n",
       "      <th>0</th>\n",
       "      <td>2004-08-01</td>\n",
       "      <td>121770.789108</td>\n",
       "      <td>154686.64</td>\n",
       "    </tr>\n",
       "    <tr>\n",
       "      <th>1</th>\n",
       "      <td>2004-08-02</td>\n",
       "      <td>195781.080623</td>\n",
       "      <td>177630.18</td>\n",
       "    </tr>\n",
       "    <tr>\n",
       "      <th>2</th>\n",
       "      <td>2004-08-03</td>\n",
       "      <td>218220.637525</td>\n",
       "      <td>203399.34</td>\n",
       "    </tr>\n",
       "    <tr>\n",
       "      <th>3</th>\n",
       "      <td>2004-08-04</td>\n",
       "      <td>299602.299941</td>\n",
       "      <td>199944.96</td>\n",
       "    </tr>\n",
       "    <tr>\n",
       "      <th>4</th>\n",
       "      <td>2004-08-05</td>\n",
       "      <td>290370.415707</td>\n",
       "      <td>213268.97</td>\n",
       "    </tr>\n",
       "    <tr>\n",
       "      <th>...</th>\n",
       "      <td>...</td>\n",
       "      <td>...</td>\n",
       "      <td>...</td>\n",
       "    </tr>\n",
       "    <tr>\n",
       "      <th>384</th>\n",
       "      <td>2005-08-23</td>\n",
       "      <td>313672.266476</td>\n",
       "      <td>233697.92</td>\n",
       "    </tr>\n",
       "    <tr>\n",
       "      <th>385</th>\n",
       "      <td>2005-08-24</td>\n",
       "      <td>357181.460415</td>\n",
       "      <td>633511.33</td>\n",
       "    </tr>\n",
       "    <tr>\n",
       "      <th>386</th>\n",
       "      <td>2005-08-25</td>\n",
       "      <td>594326.930475</td>\n",
       "      <td>576269.54</td>\n",
       "    </tr>\n",
       "    <tr>\n",
       "      <th>387</th>\n",
       "      <td>2005-08-26</td>\n",
       "      <td>574280.523546</td>\n",
       "      <td>647460.36</td>\n",
       "    </tr>\n",
       "    <tr>\n",
       "      <th>388</th>\n",
       "      <td>2005-08-27</td>\n",
       "      <td>735569.144247</td>\n",
       "      <td>882432.14</td>\n",
       "    </tr>\n",
       "  </tbody>\n",
       "</table>\n",
       "<p>389 rows × 3 columns</p>\n",
       "</div>"
      ],
      "text/plain": [
       "            ds           yhat          y\n",
       "0   2004-08-01  121770.789108  154686.64\n",
       "1   2004-08-02  195781.080623  177630.18\n",
       "2   2004-08-03  218220.637525  203399.34\n",
       "3   2004-08-04  299602.299941  199944.96\n",
       "4   2004-08-05  290370.415707  213268.97\n",
       "..         ...            ...        ...\n",
       "384 2005-08-23  313672.266476  233697.92\n",
       "385 2005-08-24  357181.460415  633511.33\n",
       "386 2005-08-25  594326.930475  576269.54\n",
       "387 2005-08-26  574280.523546  647460.36\n",
       "388 2005-08-27  735569.144247  882432.14\n",
       "\n",
       "[389 rows x 3 columns]"
      ]
     },
     "execution_count": 313,
     "metadata": {},
     "output_type": "execute_result"
    }
   ],
   "source": [
    "#model prediction\n",
    "df_future = df_state.copy()\n",
    "future = df_future.drop(columns = 'y')\n",
    "forecast = m.predict(future)\n",
    "df_result = forecast[['ds','yhat']]\n",
    "df_result['y'] = df_state['y'].tolist()\n",
    "df_result"
   ]
  },
  {
   "cell_type": "code",
   "execution_count": 314,
   "id": "12b68207",
   "metadata": {},
   "outputs": [
    {
     "data": {
      "image/png": "[encoded data removed]",
      "text/plain": [
       "<Figure size 720x432 with 1 Axes>"
      ]
     },
     "metadata": {},
     "output_type": "display_data"
    }
   ],
   "source": [
    "future = df_state.drop(columns = 'y')\n",
    "forecast = m.predict(future)\n",
    "fig1 = m.plot(forecast)"
   ]
  },
  {
   "cell_type": "code",
   "execution_count": 315,
   "id": "4ae2c162",
   "metadata": {},
   "outputs": [
    {
     "data": {
      "image/png": "[encoded data removed]",
      "text/plain": [
       "<Figure size 648x1080 with 5 Axes>"
      ]
     },
     "execution_count": 315,
     "metadata": {},
     "output_type": "execute_result"
    },
    {
     "data": {
      "image/png": "[encoded data removed]",
      "text/plain": [
       "<Figure size 648x1080 with 5 Axes>"
      ]
     },
     "metadata": {},
     "output_type": "display_data"
    }
   ],
   "source": [
    "fig = m.plot_components(forecast)\n",
    "fig"
   ]
  },
  {
   "cell_type": "code",
   "execution_count": 316,
   "id": "e18dddb4",
   "metadata": {},
   "outputs": [
    {
     "data": {
      "image/png": "[encoded data removed]",
      "text/plain": [
       "<Figure size 1080x360 with 1 Axes>"
      ]
     },
     "metadata": {
      "needs_background": "light"
     },
     "output_type": "display_data"
    }
   ],
   "source": [
    "# graph the distribution of prediction vs actual\n",
    "test_ts_draw = df_result['y']\n",
    "test_prediction = df_result[df_result['ds']>='2005-06-01']['yhat']\n",
    "fig, ax = plt.subplots(figsize=(15, 5))\n",
    "test_prediction.plot(ax=ax, label='prediction Set', title='Train_Test_comparison')\n",
    "test_ts_draw.plot(ax=ax, label='Test Set')\n",
    "ax.legend(['prediction Set', 'Test Set'])\n",
    "plt.show()"
   ]
  },
  {
   "cell_type": "code",
   "execution_count": 317,
   "id": "2f49d6f9",
   "metadata": {},
   "outputs": [
    {
     "data": {
      "text/html": [
       "<div>\n",
       "<style scoped>\n",
       "    .dataframe tbody tr th:only-of-type {\n",
       "        vertical-align: middle;\n",
       "    }\n",
       "\n",
       "    .dataframe tbody tr th {\n",
       "        vertical-align: top;\n",
       "    }\n",
       "\n",
       "    .dataframe thead th {\n",
       "        text-align: right;\n",
       "    }\n",
       "</style>\n",
       "<table border=\"1\" class=\"dataframe\">\n",
       "  <thead>\n",
       "    <tr style=\"text-align: right;\">\n",
       "      <th></th>\n",
       "      <th>ds</th>\n",
       "      <th>yhat</th>\n",
       "      <th>y</th>\n",
       "    </tr>\n",
       "  </thead>\n",
       "  <tbody>\n",
       "    <tr>\n",
       "      <th>301</th>\n",
       "      <td>2005-06-01</td>\n",
       "      <td>259057.673238</td>\n",
       "      <td>252582.92</td>\n",
       "    </tr>\n",
       "    <tr>\n",
       "      <th>302</th>\n",
       "      <td>2005-06-02</td>\n",
       "      <td>304209.858380</td>\n",
       "      <td>269173.14</td>\n",
       "    </tr>\n",
       "    <tr>\n",
       "      <th>303</th>\n",
       "      <td>2005-06-03</td>\n",
       "      <td>380360.560113</td>\n",
       "      <td>327236.06</td>\n",
       "    </tr>\n",
       "    <tr>\n",
       "      <th>304</th>\n",
       "      <td>2005-06-04</td>\n",
       "      <td>498768.209551</td>\n",
       "      <td>398969.14</td>\n",
       "    </tr>\n",
       "    <tr>\n",
       "      <th>305</th>\n",
       "      <td>2005-06-05</td>\n",
       "      <td>147481.061545</td>\n",
       "      <td>170574.17</td>\n",
       "    </tr>\n",
       "    <tr>\n",
       "      <th>...</th>\n",
       "      <td>...</td>\n",
       "      <td>...</td>\n",
       "      <td>...</td>\n",
       "    </tr>\n",
       "    <tr>\n",
       "      <th>384</th>\n",
       "      <td>2005-08-23</td>\n",
       "      <td>313672.266476</td>\n",
       "      <td>233697.92</td>\n",
       "    </tr>\n",
       "    <tr>\n",
       "      <th>385</th>\n",
       "      <td>2005-08-24</td>\n",
       "      <td>357181.460415</td>\n",
       "      <td>633511.33</td>\n",
       "    </tr>\n",
       "    <tr>\n",
       "      <th>386</th>\n",
       "      <td>2005-08-25</td>\n",
       "      <td>594326.930475</td>\n",
       "      <td>576269.54</td>\n",
       "    </tr>\n",
       "    <tr>\n",
       "      <th>387</th>\n",
       "      <td>2005-08-26</td>\n",
       "      <td>574280.523546</td>\n",
       "      <td>647460.36</td>\n",
       "    </tr>\n",
       "    <tr>\n",
       "      <th>388</th>\n",
       "      <td>2005-08-27</td>\n",
       "      <td>735569.144247</td>\n",
       "      <td>882432.14</td>\n",
       "    </tr>\n",
       "  </tbody>\n",
       "</table>\n",
       "<p>88 rows × 3 columns</p>\n",
       "</div>"
      ],
      "text/plain": [
       "            ds           yhat          y\n",
       "301 2005-06-01  259057.673238  252582.92\n",
       "302 2005-06-02  304209.858380  269173.14\n",
       "303 2005-06-03  380360.560113  327236.06\n",
       "304 2005-06-04  498768.209551  398969.14\n",
       "305 2005-06-05  147481.061545  170574.17\n",
       "..         ...            ...        ...\n",
       "384 2005-08-23  313672.266476  233697.92\n",
       "385 2005-08-24  357181.460415  633511.33\n",
       "386 2005-08-25  594326.930475  576269.54\n",
       "387 2005-08-26  574280.523546  647460.36\n",
       "388 2005-08-27  735569.144247  882432.14\n",
       "\n",
       "[88 rows x 3 columns]"
      ]
     },
     "execution_count": 317,
     "metadata": {},
     "output_type": "execute_result"
    }
   ],
   "source": [
    "df_result[df_result['ds']>='2005-06-01']"
   ]
  },
  {
   "cell_type": "code",
   "execution_count": 318,
   "id": "bdcee061",
   "metadata": {},
   "outputs": [],
   "source": [
    "import sklearn.metrics as metrics\n",
    "def show_results(y_true, y_pred):\n",
    "    # Regression metrics\n",
    "    explained_variance=metrics.explained_variance_score(y_true, y_pred)\n",
    "    mean_absolute_error=metrics.mean_absolute_error(y_true, y_pred) \n",
    "    mse=metrics.mean_squared_error(y_true, y_pred) \n",
    "    r2=metrics.r2_score(y_true, y_pred)\n",
    "    print('explained_variance: ', round(explained_variance,4))    \n",
    "    print('r2: ', round(r2,4))\n",
    "    print('MAE: ', round(mean_absolute_error,4))\n",
    "    print('MSE: ', round(mse,4))\n",
    "    print('RMSE: ', round(np.sqrt(mse),4))"
   ]
  },
  {
   "cell_type": "code",
   "execution_count": 319,
   "id": "3587a025",
   "metadata": {},
   "outputs": [
    {
     "name": "stdout",
     "output_type": "stream",
     "text": [
      "explained_variance:  0.7281\n",
      "r2:  0.72\n",
      "MAE:  59379.3818\n",
      "MSE:  6742974085.5723\n",
      "RMSE:  82115.6141\n"
     ]
    }
   ],
   "source": [
    "show_results(df_result[df_result['ds']>='2005-06-01']['y'],df_result[df_result['ds']>='2005-06-01']['yhat'])"
   ]
  },
  {
   "cell_type": "code",
   "execution_count": null,
   "id": "6dd486e9",
   "metadata": {},
   "outputs": [],
   "source": []
  }
 ],
 "metadata": {
  "kernelspec": {
   "display_name": "Python 3",
   "language": "python",
   "name": "python3"
  },
  "language_info": {
   "codemirror_mode": {
    "name": "ipython",
    "version": 3
   },
   "file_extension": ".py",
   "mimetype": "text/x-python",
   "name": "python",
   "nbconvert_exporter": "python",
   "pygments_lexer": "ipython3",
   "version": "3.7.6"
  }
 },
 "nbformat": 4,
 "nbformat_minor": 5
}
