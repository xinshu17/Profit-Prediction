{
 "cells": [
  {
   "cell_type": "markdown",
   "id": "6bb6019a",
   "metadata": {},
   "source": [
    "# MSiA 400 - Final Project\n",
    "## INITITAL EDA: SKSTINFO Table\n",
    "### Team 12: Alejandra Lelo de Larrea Ibarra, Xin Shu, Yi Chen, Yiqing Cheng"
   ]
  },
  {
   "cell_type": "markdown",
   "id": "00ba6e34",
   "metadata": {},
   "source": [
    "This file shows our EDA for the SKSTINFO table on the original dataset (i.e. before cleaning)."
   ]
  },
  {
   "cell_type": "code",
   "execution_count": 1,
   "id": "4a1d099c",
   "metadata": {},
   "outputs": [],
   "source": [
    "# Import libraries\n",
    "import pandas as pd\n",
    "import numpy as np\n",
    "import seaborn as sns\n",
    "import matplotlib.pyplot as plt\n",
    "import psycopg2\n",
    "from psycopg2 import Error"
   ]
  },
  {
   "cell_type": "code",
   "execution_count": 2,
   "id": "dcf2fc3f",
   "metadata": {},
   "outputs": [],
   "source": [
    "# --- Variables on File---\n",
    "\n",
    "# Connection to db \n",
    "USER = \"YOUR USER HERE\"\n",
    "PSWD = \"YOUR PASSWORD HERE\"\n",
    "HOST = \"pg.analytics.northwestern.edu\"\n",
    "PORT = \"5432\"\n",
    "DB_NAME = \"2022-everything-team12\""
   ]
  },
  {
   "cell_type": "markdown",
   "id": "ad04c22c",
   "metadata": {},
   "source": [
    "### Connect to database"
   ]
  },
  {
   "cell_type": "code",
   "execution_count": 3,
   "id": "1a3b11fd",
   "metadata": {},
   "outputs": [
    {
     "name": "stdout",
     "output_type": "stream",
     "text": [
      "You are connected to -  ('PostgreSQL 10.12 on x86_64-pc-linux-gnu, compiled by gcc (GCC) 4.8.5 20150623 (Red Hat 4.8.5-39), 64-bit',) \n",
      "\n"
     ]
    }
   ],
   "source": [
    "# Connect to postgress database\n",
    "try:\n",
    "    # Connect to an existing database\n",
    "    connection = psycopg2.connect(user = USER,\n",
    "                                  password = PSWD,\n",
    "                                  host = HOST,\n",
    "                                  port = PORT,\n",
    "                                  database = DB_NAME)\n",
    "\n",
    "    # Create a cursor to perform database operations\n",
    "    cursor = connection.cursor()\n",
    "    \n",
    "    # Print PostgreSQL details\n",
    "    cursor.execute(\"SELECT version();\")\n",
    "    \n",
    "    # Fetch result\n",
    "    record = cursor.fetchone()\n",
    "    \n",
    "    # Print succesfull connection\n",
    "    print(\"You are connected to - \", record, \"\\n\")\n",
    "    \n",
    "except (Exception, Error) as error:\n",
    "    # Print error conecting to ostgres\n",
    "    print(\"Error while connecting to PostgreSQL\", error)"
   ]
  },
  {
   "cell_type": "code",
   "execution_count": 4,
   "id": "65f2dea9",
   "metadata": {},
   "outputs": [
    {
     "name": "stderr",
     "output_type": "stream",
     "text": [
      "/Users/alelli/opt/anaconda3/lib/python3.9/site-packages/pandas/io/sql.py:761: UserWarning: pandas only support SQLAlchemy connectable(engine/connection) ordatabase string URI or sqlite3 DBAPI2 connectionother DBAPI2 objects are not tested, please consider using SQLAlchemy\n",
      "  warnings.warn(\n"
     ]
    }
   ],
   "source": [
    "# Read SKSTINFO table\n",
    "skst = pd.read_sql(\"select * from \\\"SKSTINFO\\\"\", connection);"
   ]
  },
  {
   "cell_type": "code",
   "execution_count": 5,
   "id": "df12520f",
   "metadata": {},
   "outputs": [
    {
     "name": "stdout",
     "output_type": "stream",
     "text": [
      "PostgreSQL connection is closed\n"
     ]
    }
   ],
   "source": [
    "# Close connection to db\n",
    "if (connection):\n",
    "    cursor.close()\n",
    "    connection.close()\n",
    "    print(\"PostgreSQL connection is closed\") "
   ]
  },
  {
   "cell_type": "markdown",
   "id": "06c3e4c5",
   "metadata": {},
   "source": [
    "### Analyzing SKSTINFO Table"
   ]
  },
  {
   "cell_type": "code",
   "execution_count": 6,
   "id": "a737a8ba",
   "metadata": {},
   "outputs": [
    {
     "data": {
      "text/html": [
       "<div>\n",
       "<style scoped>\n",
       "    .dataframe tbody tr th:only-of-type {\n",
       "        vertical-align: middle;\n",
       "    }\n",
       "\n",
       "    .dataframe tbody tr th {\n",
       "        vertical-align: top;\n",
       "    }\n",
       "\n",
       "    .dataframe thead th {\n",
       "        text-align: right;\n",
       "    }\n",
       "</style>\n",
       "<table border=\"1\" class=\"dataframe\">\n",
       "  <thead>\n",
       "    <tr style=\"text-align: right;\">\n",
       "      <th></th>\n",
       "      <th>SKU</th>\n",
       "      <th>STORE</th>\n",
       "      <th>COST</th>\n",
       "      <th>RETAIL</th>\n",
       "      <th>EXTRA_COL</th>\n",
       "    </tr>\n",
       "  </thead>\n",
       "  <tbody>\n",
       "    <tr>\n",
       "      <th>0</th>\n",
       "      <td>5859233</td>\n",
       "      <td>3302</td>\n",
       "      <td>2.5</td>\n",
       "      <td>7.0</td>\n",
       "      <td>0</td>\n",
       "    </tr>\n",
       "    <tr>\n",
       "      <th>1</th>\n",
       "      <td>5859233</td>\n",
       "      <td>3303</td>\n",
       "      <td>2.5</td>\n",
       "      <td>7.0</td>\n",
       "      <td>0</td>\n",
       "    </tr>\n",
       "    <tr>\n",
       "      <th>2</th>\n",
       "      <td>5859233</td>\n",
       "      <td>3304</td>\n",
       "      <td>2.5</td>\n",
       "      <td>7.0</td>\n",
       "      <td>0</td>\n",
       "    </tr>\n",
       "    <tr>\n",
       "      <th>3</th>\n",
       "      <td>5859233</td>\n",
       "      <td>3307</td>\n",
       "      <td>2.5</td>\n",
       "      <td>7.0</td>\n",
       "      <td>0</td>\n",
       "    </tr>\n",
       "    <tr>\n",
       "      <th>4</th>\n",
       "      <td>5859233</td>\n",
       "      <td>3309</td>\n",
       "      <td>2.5</td>\n",
       "      <td>7.0</td>\n",
       "      <td>0</td>\n",
       "    </tr>\n",
       "    <tr>\n",
       "      <th>...</th>\n",
       "      <td>...</td>\n",
       "      <td>...</td>\n",
       "      <td>...</td>\n",
       "      <td>...</td>\n",
       "      <td>...</td>\n",
       "    </tr>\n",
       "    <tr>\n",
       "      <th>39230141</th>\n",
       "      <td>5859233</td>\n",
       "      <td>3107</td>\n",
       "      <td>2.5</td>\n",
       "      <td>7.0</td>\n",
       "      <td>0</td>\n",
       "    </tr>\n",
       "    <tr>\n",
       "      <th>39230142</th>\n",
       "      <td>5859233</td>\n",
       "      <td>3109</td>\n",
       "      <td>2.5</td>\n",
       "      <td>7.0</td>\n",
       "      <td>0</td>\n",
       "    </tr>\n",
       "    <tr>\n",
       "      <th>39230143</th>\n",
       "      <td>5859233</td>\n",
       "      <td>3202</td>\n",
       "      <td>2.5</td>\n",
       "      <td>7.0</td>\n",
       "      <td>0</td>\n",
       "    </tr>\n",
       "    <tr>\n",
       "      <th>39230144</th>\n",
       "      <td>5859233</td>\n",
       "      <td>3204</td>\n",
       "      <td>2.5</td>\n",
       "      <td>7.0</td>\n",
       "      <td>0</td>\n",
       "    </tr>\n",
       "    <tr>\n",
       "      <th>39230145</th>\n",
       "      <td>5859233</td>\n",
       "      <td>3209</td>\n",
       "      <td>2.5</td>\n",
       "      <td>7.0</td>\n",
       "      <td>0</td>\n",
       "    </tr>\n",
       "  </tbody>\n",
       "</table>\n",
       "<p>39230146 rows × 5 columns</p>\n",
       "</div>"
      ],
      "text/plain": [
       "              SKU  STORE  COST  RETAIL  EXTRA_COL\n",
       "0         5859233   3302   2.5     7.0          0\n",
       "1         5859233   3303   2.5     7.0          0\n",
       "2         5859233   3304   2.5     7.0          0\n",
       "3         5859233   3307   2.5     7.0          0\n",
       "4         5859233   3309   2.5     7.0          0\n",
       "...           ...    ...   ...     ...        ...\n",
       "39230141  5859233   3107   2.5     7.0          0\n",
       "39230142  5859233   3109   2.5     7.0          0\n",
       "39230143  5859233   3202   2.5     7.0          0\n",
       "39230144  5859233   3204   2.5     7.0          0\n",
       "39230145  5859233   3209   2.5     7.0          0\n",
       "\n",
       "[39230146 rows x 5 columns]"
      ]
     },
     "execution_count": 6,
     "metadata": {},
     "output_type": "execute_result"
    }
   ],
   "source": [
    "# Print head and tail of table\n",
    "skst"
   ]
  },
  {
   "cell_type": "code",
   "execution_count": 7,
   "id": "9cc0490b",
   "metadata": {},
   "outputs": [
    {
     "name": "stdout",
     "output_type": "stream",
     "text": [
      "The dimension of the skst dataframe is\n",
      "(39230146, 5)\n"
     ]
    }
   ],
   "source": [
    "# Check dimensions of the table\n",
    "print('The dimension of the skst dataframe is')\n",
    "print(skst.shape)"
   ]
  },
  {
   "cell_type": "code",
   "execution_count": 8,
   "id": "85bdb733",
   "metadata": {},
   "outputs": [
    {
     "name": "stdout",
     "output_type": "stream",
     "text": [
      "<class 'pandas.core.frame.DataFrame'>\n",
      "RangeIndex: 39230146 entries, 0 to 39230145\n",
      "Data columns (total 5 columns):\n",
      " #   Column     Dtype  \n",
      "---  ------     -----  \n",
      " 0   SKU        int64  \n",
      " 1   STORE      int64  \n",
      " 2   COST       float64\n",
      " 3   RETAIL     float64\n",
      " 4   EXTRA_COL  int64  \n",
      "dtypes: float64(2), int64(3)\n",
      "memory usage: 1.5 GB\n"
     ]
    }
   ],
   "source": [
    "# Check data types\n",
    "skst.info()"
   ]
  },
  {
   "cell_type": "code",
   "execution_count": 9,
   "id": "64fe703b",
   "metadata": {},
   "outputs": [
    {
     "data": {
      "text/plain": [
       "SKU          0.0\n",
       "STORE        0.0\n",
       "COST         0.0\n",
       "RETAIL       0.0\n",
       "EXTRA_COL    0.0\n",
       "dtype: float64"
      ]
     },
     "execution_count": 9,
     "metadata": {},
     "output_type": "execute_result"
    }
   ],
   "source": [
    "# Check percentage of missing values per column\n",
    "skst.isnull().sum()/skst.shape[0]*100"
   ]
  },
  {
   "cell_type": "markdown",
   "id": "77220363",
   "metadata": {},
   "source": [
    "There are no missing values in the SKSTINFO table. \n",
    "\n",
    "SKU and STORE form a composite key. Lets check the number of different sku's, of stores and of (sku,store) pairs in this table."
   ]
  },
  {
   "cell_type": "code",
   "execution_count": 10,
   "id": "4379491e",
   "metadata": {},
   "outputs": [
    {
     "name": "stdout",
     "output_type": "stream",
     "text": [
      "Number of different SKU's: 760212\n",
      "Number of different Stores's: 357\n",
      "Number of different (SKU, STORE)'s: 39230146\n"
     ]
    }
   ],
   "source": [
    "# Number of SKUs\n",
    "print(\"Number of different SKU's: \" + str(len(skst.SKU.unique())))\n",
    "\n",
    "# Number of Stores\n",
    "print(\"Number of different Stores's: \" + str(len(skst.STORE.unique())))\n",
    "\n",
    "# Number of (sku,store) pairs\n",
    "sku_store = skst['SKU'].map(str) + \"_\" + skst['STORE'].map(str)\n",
    "print(\"Number of different (SKU, STORE)'s: \" + str(len(sku_store.unique())))"
   ]
  },
  {
   "cell_type": "markdown",
   "id": "f17e1c78",
   "metadata": {},
   "source": [
    "From the EDA on STRINFO table, we found taht there are 453 different stores, thus, this table does not contain all the Dillards stores. We can also guarantee that the (SKU, STORE) composite key has unique values. "
   ]
  },
  {
   "cell_type": "markdown",
   "id": "f8f0cb33",
   "metadata": {},
   "source": [
    "### Analyzing numerical columns "
   ]
  },
  {
   "cell_type": "markdown",
   "id": "f09734dd",
   "metadata": {},
   "source": [
    " As in all tables of this dataset, there is an extra column not mentioned in the schema. Let see if it contains useful information."
   ]
  },
  {
   "cell_type": "code",
   "execution_count": 11,
   "id": "4f268967",
   "metadata": {},
   "outputs": [
    {
     "data": {
      "text/plain": [
       "0    36786488\n",
       "1     2443658\n",
       "Name: EXTRA_COL, dtype: int64"
      ]
     },
     "execution_count": 11,
     "metadata": {},
     "output_type": "execute_result"
    }
   ],
   "source": [
    "# Frequency table for extra_col variable.\n",
    "skst['EXTRA_COL'].value_counts()"
   ]
  },
  {
   "cell_type": "markdown",
   "id": "69eae8a6",
   "metadata": {},
   "source": [
    "As can be seen, the extra column only contains zeros and ones. Without more information, we consdier this an irrelevant variable that should not be taken into account. \n",
    "\n",
    "Lets take a look at the summary statistics of the cost and retail variables.  "
   ]
  },
  {
   "cell_type": "markdown",
   "id": "b2a1b98f",
   "metadata": {},
   "source": [
    "#### COST vs RETAIL"
   ]
  },
  {
   "cell_type": "code",
   "execution_count": 12,
   "id": "39bb5ba1",
   "metadata": {
    "scrolled": true
   },
   "outputs": [
    {
     "data": {
      "text/html": [
       "<div>\n",
       "<style scoped>\n",
       "    .dataframe tbody tr th:only-of-type {\n",
       "        vertical-align: middle;\n",
       "    }\n",
       "\n",
       "    .dataframe tbody tr th {\n",
       "        vertical-align: top;\n",
       "    }\n",
       "\n",
       "    .dataframe thead th {\n",
       "        text-align: right;\n",
       "    }\n",
       "</style>\n",
       "<table border=\"1\" class=\"dataframe\">\n",
       "  <thead>\n",
       "    <tr style=\"text-align: right;\">\n",
       "      <th></th>\n",
       "      <th>COST</th>\n",
       "      <th>RETAIL</th>\n",
       "    </tr>\n",
       "  </thead>\n",
       "  <tbody>\n",
       "    <tr>\n",
       "      <th>count</th>\n",
       "      <td>3.923015e+07</td>\n",
       "      <td>3.923015e+07</td>\n",
       "    </tr>\n",
       "    <tr>\n",
       "      <th>mean</th>\n",
       "      <td>2.415759e+01</td>\n",
       "      <td>4.333249e+01</td>\n",
       "    </tr>\n",
       "    <tr>\n",
       "      <th>std</th>\n",
       "      <td>4.056547e+01</td>\n",
       "      <td>8.392405e+01</td>\n",
       "    </tr>\n",
       "    <tr>\n",
       "      <th>min</th>\n",
       "      <td>0.000000e+00</td>\n",
       "      <td>0.000000e+00</td>\n",
       "    </tr>\n",
       "    <tr>\n",
       "      <th>25%</th>\n",
       "      <td>9.000000e+00</td>\n",
       "      <td>1.299000e+01</td>\n",
       "    </tr>\n",
       "    <tr>\n",
       "      <th>50%</th>\n",
       "      <td>1.536000e+01</td>\n",
       "      <td>2.450000e+01</td>\n",
       "    </tr>\n",
       "    <tr>\n",
       "      <th>75%</th>\n",
       "      <td>2.676000e+01</td>\n",
       "      <td>4.500000e+01</td>\n",
       "    </tr>\n",
       "    <tr>\n",
       "      <th>max</th>\n",
       "      <td>2.700000e+03</td>\n",
       "      <td>6.017000e+03</td>\n",
       "    </tr>\n",
       "  </tbody>\n",
       "</table>\n",
       "</div>"
      ],
      "text/plain": [
       "               COST        RETAIL\n",
       "count  3.923015e+07  3.923015e+07\n",
       "mean   2.415759e+01  4.333249e+01\n",
       "std    4.056547e+01  8.392405e+01\n",
       "min    0.000000e+00  0.000000e+00\n",
       "25%    9.000000e+00  1.299000e+01\n",
       "50%    1.536000e+01  2.450000e+01\n",
       "75%    2.676000e+01  4.500000e+01\n",
       "max    2.700000e+03  6.017000e+03"
      ]
     },
     "execution_count": 12,
     "metadata": {},
     "output_type": "execute_result"
    }
   ],
   "source": [
    "skst[['COST','RETAIL']].describe()"
   ]
  },
  {
   "cell_type": "markdown",
   "id": "2f4b5e2f",
   "metadata": {},
   "source": [
    "We can see that there are SKU's that have a cost or retail price equal to zero. SKU's with cost zero could be items bought by Dillard's in promotion (such as take 2 pay 1), and SKU's with a retail price of zero could be some kind of donations that Dillard's does. However, it would be rare to have both, retail and cost, equal to zero.  Lets see how many SKUs have cost, retail price or both equal to 0."
   ]
  },
  {
   "cell_type": "code",
   "execution_count": 13,
   "id": "4b86e646",
   "metadata": {},
   "outputs": [
    {
     "data": {
      "text/html": [
       "<div>\n",
       "<style scoped>\n",
       "    .dataframe tbody tr th:only-of-type {\n",
       "        vertical-align: middle;\n",
       "    }\n",
       "\n",
       "    .dataframe tbody tr th {\n",
       "        vertical-align: top;\n",
       "    }\n",
       "\n",
       "    .dataframe thead th {\n",
       "        text-align: right;\n",
       "    }\n",
       "</style>\n",
       "<table border=\"1\" class=\"dataframe\">\n",
       "  <thead>\n",
       "    <tr style=\"text-align: right;\">\n",
       "      <th></th>\n",
       "      <th>SKU</th>\n",
       "      <th>STORE</th>\n",
       "      <th>COST</th>\n",
       "      <th>RETAIL</th>\n",
       "      <th>EXTRA_COL</th>\n",
       "    </tr>\n",
       "  </thead>\n",
       "  <tbody>\n",
       "    <tr>\n",
       "      <th>13566</th>\n",
       "      <td>5861179</td>\n",
       "      <td>2704</td>\n",
       "      <td>0.0</td>\n",
       "      <td>0.0</td>\n",
       "      <td>0</td>\n",
       "    </tr>\n",
       "    <tr>\n",
       "      <th>46768</th>\n",
       "      <td>5869746</td>\n",
       "      <td>102</td>\n",
       "      <td>0.0</td>\n",
       "      <td>0.0</td>\n",
       "      <td>0</td>\n",
       "    </tr>\n",
       "    <tr>\n",
       "      <th>46769</th>\n",
       "      <td>5869746</td>\n",
       "      <td>103</td>\n",
       "      <td>0.0</td>\n",
       "      <td>0.0</td>\n",
       "      <td>0</td>\n",
       "    </tr>\n",
       "    <tr>\n",
       "      <th>46770</th>\n",
       "      <td>5869746</td>\n",
       "      <td>104</td>\n",
       "      <td>0.0</td>\n",
       "      <td>0.0</td>\n",
       "      <td>0</td>\n",
       "    </tr>\n",
       "    <tr>\n",
       "      <th>46771</th>\n",
       "      <td>5869746</td>\n",
       "      <td>107</td>\n",
       "      <td>0.0</td>\n",
       "      <td>0.0</td>\n",
       "      <td>0</td>\n",
       "    </tr>\n",
       "    <tr>\n",
       "      <th>...</th>\n",
       "      <td>...</td>\n",
       "      <td>...</td>\n",
       "      <td>...</td>\n",
       "      <td>...</td>\n",
       "      <td>...</td>\n",
       "    </tr>\n",
       "    <tr>\n",
       "      <th>39209100</th>\n",
       "      <td>5851924</td>\n",
       "      <td>9804</td>\n",
       "      <td>0.0</td>\n",
       "      <td>0.0</td>\n",
       "      <td>0</td>\n",
       "    </tr>\n",
       "    <tr>\n",
       "      <th>39230033</th>\n",
       "      <td>5859219</td>\n",
       "      <td>3002</td>\n",
       "      <td>0.0</td>\n",
       "      <td>0.0</td>\n",
       "      <td>0</td>\n",
       "    </tr>\n",
       "    <tr>\n",
       "      <th>39230034</th>\n",
       "      <td>5859219</td>\n",
       "      <td>5503</td>\n",
       "      <td>0.0</td>\n",
       "      <td>0.0</td>\n",
       "      <td>0</td>\n",
       "    </tr>\n",
       "    <tr>\n",
       "      <th>39230035</th>\n",
       "      <td>5859219</td>\n",
       "      <td>6209</td>\n",
       "      <td>0.0</td>\n",
       "      <td>0.0</td>\n",
       "      <td>0</td>\n",
       "    </tr>\n",
       "    <tr>\n",
       "      <th>39230036</th>\n",
       "      <td>5859219</td>\n",
       "      <td>6402</td>\n",
       "      <td>0.0</td>\n",
       "      <td>0.0</td>\n",
       "      <td>0</td>\n",
       "    </tr>\n",
       "  </tbody>\n",
       "</table>\n",
       "<p>350340 rows × 5 columns</p>\n",
       "</div>"
      ],
      "text/plain": [
       "              SKU  STORE  COST  RETAIL  EXTRA_COL\n",
       "13566     5861179   2704   0.0     0.0          0\n",
       "46768     5869746    102   0.0     0.0          0\n",
       "46769     5869746    103   0.0     0.0          0\n",
       "46770     5869746    104   0.0     0.0          0\n",
       "46771     5869746    107   0.0     0.0          0\n",
       "...           ...    ...   ...     ...        ...\n",
       "39209100  5851924   9804   0.0     0.0          0\n",
       "39230033  5859219   3002   0.0     0.0          0\n",
       "39230034  5859219   5503   0.0     0.0          0\n",
       "39230035  5859219   6209   0.0     0.0          0\n",
       "39230036  5859219   6402   0.0     0.0          0\n",
       "\n",
       "[350340 rows x 5 columns]"
      ]
     },
     "execution_count": 13,
     "metadata": {},
     "output_type": "execute_result"
    }
   ],
   "source": [
    "# Cost and retail price = 0\n",
    "cost_retail_zero = skst[(skst['COST']==0) & (skst['RETAIL']==0)]\n",
    "cost_retail_zero"
   ]
  },
  {
   "cell_type": "code",
   "execution_count": 14,
   "id": "0cd4d9ec",
   "metadata": {},
   "outputs": [
    {
     "name": "stdout",
     "output_type": "stream",
     "text": [
      "0.89% of the SKSTINFO table with cost=0 and retail=0.\n"
     ]
    }
   ],
   "source": [
    "print(str(round(cost_retail_zero.shape[0]/skst.shape[0]*100,2)) \n",
    "      + \"% of the SKSTINFO table with cost=0 and retail=0.\")"
   ]
  },
  {
   "cell_type": "markdown",
   "id": "466e90a2",
   "metadata": {},
   "source": [
    "There is 0.89\\% of data in this table that has zero cost and zero retail price. It might be worth it to remove this observations depending on the business question.  "
   ]
  },
  {
   "cell_type": "code",
   "execution_count": 15,
   "id": "0dbb52bf",
   "metadata": {},
   "outputs": [
    {
     "data": {
      "text/html": [
       "<div>\n",
       "<style scoped>\n",
       "    .dataframe tbody tr th:only-of-type {\n",
       "        vertical-align: middle;\n",
       "    }\n",
       "\n",
       "    .dataframe tbody tr th {\n",
       "        vertical-align: top;\n",
       "    }\n",
       "\n",
       "    .dataframe thead th {\n",
       "        text-align: right;\n",
       "    }\n",
       "</style>\n",
       "<table border=\"1\" class=\"dataframe\">\n",
       "  <thead>\n",
       "    <tr style=\"text-align: right;\">\n",
       "      <th></th>\n",
       "      <th>SKU</th>\n",
       "      <th>STORE</th>\n",
       "      <th>COST</th>\n",
       "      <th>RETAIL</th>\n",
       "      <th>EXTRA_COL</th>\n",
       "    </tr>\n",
       "  </thead>\n",
       "  <tbody>\n",
       "    <tr>\n",
       "      <th>106216</th>\n",
       "      <td>5882770</td>\n",
       "      <td>4302</td>\n",
       "      <td>0.0</td>\n",
       "      <td>12.25</td>\n",
       "      <td>1</td>\n",
       "    </tr>\n",
       "    <tr>\n",
       "      <th>191636</th>\n",
       "      <td>5901187</td>\n",
       "      <td>2603</td>\n",
       "      <td>0.0</td>\n",
       "      <td>18.13</td>\n",
       "      <td>0</td>\n",
       "    </tr>\n",
       "    <tr>\n",
       "      <th>409681</th>\n",
       "      <td>5959903</td>\n",
       "      <td>309</td>\n",
       "      <td>0.0</td>\n",
       "      <td>22.00</td>\n",
       "      <td>0</td>\n",
       "    </tr>\n",
       "    <tr>\n",
       "      <th>409682</th>\n",
       "      <td>5959903</td>\n",
       "      <td>409</td>\n",
       "      <td>0.0</td>\n",
       "      <td>22.00</td>\n",
       "      <td>0</td>\n",
       "    </tr>\n",
       "    <tr>\n",
       "      <th>409683</th>\n",
       "      <td>5959903</td>\n",
       "      <td>609</td>\n",
       "      <td>0.0</td>\n",
       "      <td>22.00</td>\n",
       "      <td>0</td>\n",
       "    </tr>\n",
       "    <tr>\n",
       "      <th>...</th>\n",
       "      <td>...</td>\n",
       "      <td>...</td>\n",
       "      <td>...</td>\n",
       "      <td>...</td>\n",
       "      <td>...</td>\n",
       "    </tr>\n",
       "    <tr>\n",
       "      <th>37870572</th>\n",
       "      <td>5510557</td>\n",
       "      <td>504</td>\n",
       "      <td>0.0</td>\n",
       "      <td>79.00</td>\n",
       "      <td>1</td>\n",
       "    </tr>\n",
       "    <tr>\n",
       "      <th>38592392</th>\n",
       "      <td>5693059</td>\n",
       "      <td>9002</td>\n",
       "      <td>0.0</td>\n",
       "      <td>29.25</td>\n",
       "      <td>0</td>\n",
       "    </tr>\n",
       "    <tr>\n",
       "      <th>38593751</th>\n",
       "      <td>5694050</td>\n",
       "      <td>2409</td>\n",
       "      <td>0.0</td>\n",
       "      <td>14.75</td>\n",
       "      <td>1</td>\n",
       "    </tr>\n",
       "    <tr>\n",
       "      <th>38593761</th>\n",
       "      <td>5694050</td>\n",
       "      <td>4603</td>\n",
       "      <td>0.0</td>\n",
       "      <td>14.75</td>\n",
       "      <td>1</td>\n",
       "    </tr>\n",
       "    <tr>\n",
       "      <th>38710254</th>\n",
       "      <td>5723059</td>\n",
       "      <td>9002</td>\n",
       "      <td>0.0</td>\n",
       "      <td>29.25</td>\n",
       "      <td>0</td>\n",
       "    </tr>\n",
       "  </tbody>\n",
       "</table>\n",
       "<p>978 rows × 5 columns</p>\n",
       "</div>"
      ],
      "text/plain": [
       "              SKU  STORE  COST  RETAIL  EXTRA_COL\n",
       "106216    5882770   4302   0.0   12.25          1\n",
       "191636    5901187   2603   0.0   18.13          0\n",
       "409681    5959903    309   0.0   22.00          0\n",
       "409682    5959903    409   0.0   22.00          0\n",
       "409683    5959903    609   0.0   22.00          0\n",
       "...           ...    ...   ...     ...        ...\n",
       "37870572  5510557    504   0.0   79.00          1\n",
       "38592392  5693059   9002   0.0   29.25          0\n",
       "38593751  5694050   2409   0.0   14.75          1\n",
       "38593761  5694050   4603   0.0   14.75          1\n",
       "38710254  5723059   9002   0.0   29.25          0\n",
       "\n",
       "[978 rows x 5 columns]"
      ]
     },
     "execution_count": 15,
     "metadata": {},
     "output_type": "execute_result"
    }
   ],
   "source": [
    "cost_zero = skst[(skst['COST']==0) & (skst['RETAIL']!=0) ]\n",
    "cost_zero"
   ]
  },
  {
   "cell_type": "code",
   "execution_count": 16,
   "id": "77622c64",
   "metadata": {},
   "outputs": [
    {
     "name": "stdout",
     "output_type": "stream",
     "text": [
      "0.002% of the SKSTINFO table with cost=0 and retail >0.\n"
     ]
    }
   ],
   "source": [
    "print(str(round(cost_zero.shape[0]/skst.shape[0]*100,3)) \n",
    "      + \"% of the SKSTINFO table with cost=0 and retail >0.\")"
   ]
  },
  {
   "cell_type": "markdown",
   "id": "b3ce2e6b",
   "metadata": {},
   "source": [
    "There is only 0.002% of the data in this table that has cost zero. It might be worth it to remove this observations depending on the business question. "
   ]
  },
  {
   "cell_type": "code",
   "execution_count": 17,
   "id": "ea6f1bfa",
   "metadata": {},
   "outputs": [
    {
     "data": {
      "text/html": [
       "<div>\n",
       "<style scoped>\n",
       "    .dataframe tbody tr th:only-of-type {\n",
       "        vertical-align: middle;\n",
       "    }\n",
       "\n",
       "    .dataframe tbody tr th {\n",
       "        vertical-align: top;\n",
       "    }\n",
       "\n",
       "    .dataframe thead th {\n",
       "        text-align: right;\n",
       "    }\n",
       "</style>\n",
       "<table border=\"1\" class=\"dataframe\">\n",
       "  <thead>\n",
       "    <tr style=\"text-align: right;\">\n",
       "      <th></th>\n",
       "      <th>SKU</th>\n",
       "      <th>STORE</th>\n",
       "      <th>COST</th>\n",
       "      <th>RETAIL</th>\n",
       "      <th>EXTRA_COL</th>\n",
       "    </tr>\n",
       "  </thead>\n",
       "  <tbody>\n",
       "    <tr>\n",
       "      <th>144866</th>\n",
       "      <td>5890899</td>\n",
       "      <td>8709</td>\n",
       "      <td>0.01</td>\n",
       "      <td>0.0</td>\n",
       "      <td>0</td>\n",
       "    </tr>\n",
       "    <tr>\n",
       "      <th>1087920</th>\n",
       "      <td>6136148</td>\n",
       "      <td>704</td>\n",
       "      <td>5.00</td>\n",
       "      <td>0.0</td>\n",
       "      <td>0</td>\n",
       "    </tr>\n",
       "    <tr>\n",
       "      <th>1087921</th>\n",
       "      <td>6136148</td>\n",
       "      <td>7602</td>\n",
       "      <td>5.00</td>\n",
       "      <td>0.0</td>\n",
       "      <td>0</td>\n",
       "    </tr>\n",
       "    <tr>\n",
       "      <th>1087922</th>\n",
       "      <td>6136148</td>\n",
       "      <td>8602</td>\n",
       "      <td>5.00</td>\n",
       "      <td>0.0</td>\n",
       "      <td>0</td>\n",
       "    </tr>\n",
       "    <tr>\n",
       "      <th>1317531</th>\n",
       "      <td>6190975</td>\n",
       "      <td>102</td>\n",
       "      <td>0.01</td>\n",
       "      <td>0.0</td>\n",
       "      <td>0</td>\n",
       "    </tr>\n",
       "    <tr>\n",
       "      <th>...</th>\n",
       "      <td>...</td>\n",
       "      <td>...</td>\n",
       "      <td>...</td>\n",
       "      <td>...</td>\n",
       "      <td>...</td>\n",
       "    </tr>\n",
       "    <tr>\n",
       "      <th>38887895</th>\n",
       "      <td>5773937</td>\n",
       "      <td>4407</td>\n",
       "      <td>5.47</td>\n",
       "      <td>0.0</td>\n",
       "      <td>0</td>\n",
       "    </tr>\n",
       "    <tr>\n",
       "      <th>38887896</th>\n",
       "      <td>5773937</td>\n",
       "      <td>7402</td>\n",
       "      <td>5.47</td>\n",
       "      <td>0.0</td>\n",
       "      <td>0</td>\n",
       "    </tr>\n",
       "    <tr>\n",
       "      <th>38887897</th>\n",
       "      <td>5773937</td>\n",
       "      <td>8007</td>\n",
       "      <td>5.47</td>\n",
       "      <td>0.0</td>\n",
       "      <td>0</td>\n",
       "    </tr>\n",
       "    <tr>\n",
       "      <th>38887898</th>\n",
       "      <td>5773937</td>\n",
       "      <td>8109</td>\n",
       "      <td>5.47</td>\n",
       "      <td>0.0</td>\n",
       "      <td>0</td>\n",
       "    </tr>\n",
       "    <tr>\n",
       "      <th>38887899</th>\n",
       "      <td>5773937</td>\n",
       "      <td>8602</td>\n",
       "      <td>5.47</td>\n",
       "      <td>0.0</td>\n",
       "      <td>0</td>\n",
       "    </tr>\n",
       "  </tbody>\n",
       "</table>\n",
       "<p>5084 rows × 5 columns</p>\n",
       "</div>"
      ],
      "text/plain": [
       "              SKU  STORE  COST  RETAIL  EXTRA_COL\n",
       "144866    5890899   8709  0.01     0.0          0\n",
       "1087920   6136148    704  5.00     0.0          0\n",
       "1087921   6136148   7602  5.00     0.0          0\n",
       "1087922   6136148   8602  5.00     0.0          0\n",
       "1317531   6190975    102  0.01     0.0          0\n",
       "...           ...    ...   ...     ...        ...\n",
       "38887895  5773937   4407  5.47     0.0          0\n",
       "38887896  5773937   7402  5.47     0.0          0\n",
       "38887897  5773937   8007  5.47     0.0          0\n",
       "38887898  5773937   8109  5.47     0.0          0\n",
       "38887899  5773937   8602  5.47     0.0          0\n",
       "\n",
       "[5084 rows x 5 columns]"
      ]
     },
     "execution_count": 17,
     "metadata": {},
     "output_type": "execute_result"
    }
   ],
   "source": [
    "retail_zero = skst[(skst['COST']!=0) & (skst['RETAIL']==0)]\n",
    "retail_zero"
   ]
  },
  {
   "cell_type": "code",
   "execution_count": 18,
   "id": "60a64dd1",
   "metadata": {},
   "outputs": [
    {
     "name": "stdout",
     "output_type": "stream",
     "text": [
      "0.013% of the SKSTINFO table with retail=0 and cost>0.\n"
     ]
    }
   ],
   "source": [
    "print(str(round(retail_zero.shape[0]/skst.shape[0]*100,3)) \n",
    "      + \"% of the SKSTINFO table with retail=0 and cost>0.\")"
   ]
  },
  {
   "cell_type": "markdown",
   "id": "4babc057",
   "metadata": {},
   "source": [
    "There is only 0.013% of the data in this table that has cost zero. It might be worth it to remove this observations depending on the business question. "
   ]
  },
  {
   "cell_type": "code",
   "execution_count": 19,
   "id": "fd9c1d2e",
   "metadata": {},
   "outputs": [
    {
     "data": {
      "text/html": [
       "<div>\n",
       "<style scoped>\n",
       "    .dataframe tbody tr th:only-of-type {\n",
       "        vertical-align: middle;\n",
       "    }\n",
       "\n",
       "    .dataframe tbody tr th {\n",
       "        vertical-align: top;\n",
       "    }\n",
       "\n",
       "    .dataframe thead tr th {\n",
       "        text-align: left;\n",
       "    }\n",
       "\n",
       "    .dataframe thead tr:last-of-type th {\n",
       "        text-align: right;\n",
       "    }\n",
       "</style>\n",
       "<table border=\"1\" class=\"dataframe\">\n",
       "  <thead>\n",
       "    <tr>\n",
       "      <th></th>\n",
       "      <th colspan=\"4\" halign=\"left\">COST</th>\n",
       "      <th colspan=\"4\" halign=\"left\">RETAIL</th>\n",
       "      <th>STORE</th>\n",
       "    </tr>\n",
       "    <tr>\n",
       "      <th></th>\n",
       "      <th>max</th>\n",
       "      <th>mean</th>\n",
       "      <th>min</th>\n",
       "      <th>std</th>\n",
       "      <th>max</th>\n",
       "      <th>mean</th>\n",
       "      <th>min</th>\n",
       "      <th>std</th>\n",
       "      <th>count</th>\n",
       "    </tr>\n",
       "    <tr>\n",
       "      <th>SKU</th>\n",
       "      <th></th>\n",
       "      <th></th>\n",
       "      <th></th>\n",
       "      <th></th>\n",
       "      <th></th>\n",
       "      <th></th>\n",
       "      <th></th>\n",
       "      <th></th>\n",
       "      <th></th>\n",
       "    </tr>\n",
       "  </thead>\n",
       "  <tbody>\n",
       "    <tr>\n",
       "      <th>3</th>\n",
       "      <td>123.36</td>\n",
       "      <td>123.36</td>\n",
       "      <td>123.36</td>\n",
       "      <td>0.0</td>\n",
       "      <td>440.00</td>\n",
       "      <td>440.000000</td>\n",
       "      <td>440.00</td>\n",
       "      <td>0.000000</td>\n",
       "      <td>260</td>\n",
       "    </tr>\n",
       "    <tr>\n",
       "      <th>4</th>\n",
       "      <td>9.72</td>\n",
       "      <td>9.72</td>\n",
       "      <td>9.72</td>\n",
       "      <td>0.0</td>\n",
       "      <td>12.00</td>\n",
       "      <td>12.000000</td>\n",
       "      <td>12.00</td>\n",
       "      <td>0.000000</td>\n",
       "      <td>1</td>\n",
       "    </tr>\n",
       "    <tr>\n",
       "      <th>8</th>\n",
       "      <td>16.56</td>\n",
       "      <td>16.56</td>\n",
       "      <td>16.56</td>\n",
       "      <td>0.0</td>\n",
       "      <td>40.00</td>\n",
       "      <td>40.000000</td>\n",
       "      <td>40.00</td>\n",
       "      <td>0.000000</td>\n",
       "      <td>6</td>\n",
       "    </tr>\n",
       "    <tr>\n",
       "      <th>15</th>\n",
       "      <td>47.60</td>\n",
       "      <td>47.60</td>\n",
       "      <td>47.60</td>\n",
       "      <td>0.0</td>\n",
       "      <td>119.00</td>\n",
       "      <td>119.000000</td>\n",
       "      <td>119.00</td>\n",
       "      <td>0.000000</td>\n",
       "      <td>117</td>\n",
       "    </tr>\n",
       "    <tr>\n",
       "      <th>39</th>\n",
       "      <td>47.97</td>\n",
       "      <td>47.97</td>\n",
       "      <td>47.97</td>\n",
       "      <td>0.0</td>\n",
       "      <td>119.00</td>\n",
       "      <td>119.000000</td>\n",
       "      <td>119.00</td>\n",
       "      <td>0.000000</td>\n",
       "      <td>3</td>\n",
       "    </tr>\n",
       "    <tr>\n",
       "      <th>...</th>\n",
       "      <td>...</td>\n",
       "      <td>...</td>\n",
       "      <td>...</td>\n",
       "      <td>...</td>\n",
       "      <td>...</td>\n",
       "      <td>...</td>\n",
       "      <td>...</td>\n",
       "      <td>...</td>\n",
       "      <td>...</td>\n",
       "    </tr>\n",
       "    <tr>\n",
       "      <th>9999973</th>\n",
       "      <td>33.00</td>\n",
       "      <td>33.00</td>\n",
       "      <td>33.00</td>\n",
       "      <td>0.0</td>\n",
       "      <td>17.00</td>\n",
       "      <td>17.000000</td>\n",
       "      <td>17.00</td>\n",
       "      <td>0.000000</td>\n",
       "      <td>6</td>\n",
       "    </tr>\n",
       "    <tr>\n",
       "      <th>9999974</th>\n",
       "      <td>18.00</td>\n",
       "      <td>18.00</td>\n",
       "      <td>18.00</td>\n",
       "      <td>0.0</td>\n",
       "      <td>62.25</td>\n",
       "      <td>34.315104</td>\n",
       "      <td>20.50</td>\n",
       "      <td>11.930624</td>\n",
       "      <td>96</td>\n",
       "    </tr>\n",
       "    <tr>\n",
       "      <th>9999991</th>\n",
       "      <td>51.60</td>\n",
       "      <td>51.60</td>\n",
       "      <td>51.60</td>\n",
       "      <td>0.0</td>\n",
       "      <td>129.00</td>\n",
       "      <td>129.000000</td>\n",
       "      <td>129.00</td>\n",
       "      <td>0.000000</td>\n",
       "      <td>103</td>\n",
       "    </tr>\n",
       "    <tr>\n",
       "      <th>9999992</th>\n",
       "      <td>4.20</td>\n",
       "      <td>4.20</td>\n",
       "      <td>4.20</td>\n",
       "      <td>0.0</td>\n",
       "      <td>14.00</td>\n",
       "      <td>14.000000</td>\n",
       "      <td>14.00</td>\n",
       "      <td>0.000000</td>\n",
       "      <td>219</td>\n",
       "    </tr>\n",
       "    <tr>\n",
       "      <th>9999997</th>\n",
       "      <td>15.00</td>\n",
       "      <td>15.00</td>\n",
       "      <td>15.00</td>\n",
       "      <td>0.0</td>\n",
       "      <td>19.50</td>\n",
       "      <td>14.625000</td>\n",
       "      <td>9.75</td>\n",
       "      <td>5.211594</td>\n",
       "      <td>8</td>\n",
       "    </tr>\n",
       "  </tbody>\n",
       "</table>\n",
       "<p>760212 rows × 9 columns</p>\n",
       "</div>"
      ],
      "text/plain": [
       "           COST                       RETAIL                                 \\\n",
       "            max    mean     min  std     max        mean     min        std   \n",
       "SKU                                                                           \n",
       "3        123.36  123.36  123.36  0.0  440.00  440.000000  440.00   0.000000   \n",
       "4          9.72    9.72    9.72  0.0   12.00   12.000000   12.00   0.000000   \n",
       "8         16.56   16.56   16.56  0.0   40.00   40.000000   40.00   0.000000   \n",
       "15        47.60   47.60   47.60  0.0  119.00  119.000000  119.00   0.000000   \n",
       "39        47.97   47.97   47.97  0.0  119.00  119.000000  119.00   0.000000   \n",
       "...         ...     ...     ...  ...     ...         ...     ...        ...   \n",
       "9999973   33.00   33.00   33.00  0.0   17.00   17.000000   17.00   0.000000   \n",
       "9999974   18.00   18.00   18.00  0.0   62.25   34.315104   20.50  11.930624   \n",
       "9999991   51.60   51.60   51.60  0.0  129.00  129.000000  129.00   0.000000   \n",
       "9999992    4.20    4.20    4.20  0.0   14.00   14.000000   14.00   0.000000   \n",
       "9999997   15.00   15.00   15.00  0.0   19.50   14.625000    9.75   5.211594   \n",
       "\n",
       "        STORE  \n",
       "        count  \n",
       "SKU            \n",
       "3         260  \n",
       "4           1  \n",
       "8           6  \n",
       "15        117  \n",
       "39          3  \n",
       "...       ...  \n",
       "9999973     6  \n",
       "9999974    96  \n",
       "9999991   103  \n",
       "9999992   219  \n",
       "9999997     8  \n",
       "\n",
       "[760212 rows x 9 columns]"
      ]
     },
     "execution_count": 19,
     "metadata": {},
     "output_type": "execute_result"
    }
   ],
   "source": [
    "# Aggregate values (min, max, mean and std) by SKU and number of stores that sell it. \n",
    "df_sku = pd.pivot_table(skst,\n",
    "                           values = ['COST','RETAIL','STORE'],\n",
    "                           index = 'SKU',\n",
    "                          aggfunc = {'COST':[min,max,np.mean,'std'],\n",
    "                                    'RETAIL':[min,max,np.mean,'std'],\n",
    "                                    'STORE':'count'})\n",
    "df_sku = df_sku.fillna(0)\n",
    "df_sku"
   ]
  },
  {
   "cell_type": "markdown",
   "id": "7adc372e",
   "metadata": {},
   "source": [
    "From the above table, we can se that some SKU are acquired/sold at the same price in every store but others don't. Lets see the percentaje of SKU's that have different prices in every store. "
   ]
  },
  {
   "cell_type": "code",
   "execution_count": 20,
   "id": "9caa2c68",
   "metadata": {},
   "outputs": [
    {
     "name": "stdout",
     "output_type": "stream",
     "text": [
      "11.345% of the SKU's have different cost per store.\n"
     ]
    }
   ],
   "source": [
    "dif_cost = df_sku[df_sku[('COST', 'max')] != df_sku[('COST','min')]]\n",
    "print(str(round(dif_cost.shape[0]/df_sku.shape[0]*100,3)) \n",
    "      + \"% of the SKU's have different cost per store.\")"
   ]
  },
  {
   "cell_type": "code",
   "execution_count": 21,
   "id": "779d67ef",
   "metadata": {},
   "outputs": [
    {
     "name": "stdout",
     "output_type": "stream",
     "text": [
      "41.127% of the SKU's have different retail price per store.\n"
     ]
    }
   ],
   "source": [
    "dif_retail = df_sku[df_sku[('RETAIL', 'max')] != df_sku[('RETAIL','min')]]\n",
    "print(str(round(dif_retail.shape[0]/df_sku.shape[0]*100,3)) \n",
    "      + \"% of the SKU's have different retail price per store.\")"
   ]
  },
  {
   "cell_type": "markdown",
   "id": "f432b41f",
   "metadata": {},
   "source": [
    "#### COST"
   ]
  },
  {
   "cell_type": "code",
   "execution_count": 22,
   "id": "fa567fe8",
   "metadata": {},
   "outputs": [
    {
     "data": {
      "text/plain": [
       "Text(0.5, 1.0, 'Distribution of mean cost per sku')"
      ]
     },
     "execution_count": 22,
     "metadata": {},
     "output_type": "execute_result"
    },
    {
     "data": {
      "image/png": "[encoded data removed]",
      "text/plain": [
       "<Figure size 720x288 with 1 Axes>"
      ]
     },
     "metadata": {
      "needs_background": "light"
     },
     "output_type": "display_data"
    }
   ],
   "source": [
    "# Mean cost distribution \n",
    "ax = df_sku[('COST', 'mean')].plot.hist(bins = 100, log = True,\n",
    "                                       figsize = (10,4))\n",
    "\n",
    "# Customize axis \n",
    "plt.xlabel(\"Mean Cost\")\n",
    "plt.title(\"Distribution of mean cost per sku\")"
   ]
  },
  {
   "cell_type": "code",
   "execution_count": 23,
   "id": "67f89773",
   "metadata": {},
   "outputs": [
    {
     "data": {
      "text/plain": [
       "mean          35.253168\n",
       "median        18.679437\n",
       "std           64.433440\n",
       "max         2700.000000\n",
       "min            0.000000\n",
       "skew           6.211542\n",
       "kurtosis      58.274973\n",
       "Name: (COST, mean), dtype: float64"
      ]
     },
     "execution_count": 23,
     "metadata": {},
     "output_type": "execute_result"
    }
   ],
   "source": [
    "# Statistics for mean cost\n",
    "df_sku[('COST', 'mean')].agg([np.mean,'median','std','max','min','skew', 'kurtosis']).transpose()"
   ]
  },
  {
   "cell_type": "code",
   "execution_count": 24,
   "id": "318c5943",
   "metadata": {},
   "outputs": [
    {
     "name": "stderr",
     "output_type": "stream",
     "text": [
      "/Users/alelli/opt/anaconda3/lib/python3.9/site-packages/pandas/core/arraylike.py:397: RuntimeWarning: divide by zero encountered in log\n",
      "  result = getattr(ufunc, method)(*inputs, **kwargs)\n"
     ]
    },
    {
     "data": {
      "text/plain": [
       "Text(0.5, 1.0, 'Distribution of log mean cost per sku')"
      ]
     },
     "execution_count": 24,
     "metadata": {},
     "output_type": "execute_result"
    },
    {
     "data": {
      "image/png": "[encoded data removed]",
      "text/plain": [
       "<Figure size 432x288 with 1 Axes>"
      ]
     },
     "metadata": {
      "needs_background": "light"
     },
     "output_type": "display_data"
    }
   ],
   "source": [
    "# Box plot \n",
    "ax = sns.boxplot(x = np.log(df_sku[('COST', 'mean')]))\n",
    "plt.xlabel(\"Log Mean Cost\")\n",
    "plt.title(\"Distribution of log mean cost per sku\")"
   ]
  },
  {
   "cell_type": "markdown",
   "id": "ef12ab49",
   "metadata": {},
   "source": [
    "From the above histogram, we can see that there is one SKU whose price is much more higher than the others. Additionally, from the summary statistics and box plot, we see that there are many other outliers in the sample and that the is skewed. This items might correspond to luxury products or electronics in the store. Lets find out which item have the highest mean cost, even though without an SKU dictionary it is impossible to know which are products."
   ]
  },
  {
   "cell_type": "code",
   "execution_count": 25,
   "id": "4b732a01",
   "metadata": {},
   "outputs": [
    {
     "data": {
      "text/plain": [
       "SKU\n",
       "6200173    2700.00\n",
       "1811281    1872.54\n",
       "3678048    1854.96\n",
       "4338048    1747.20\n",
       "860149     1710.96\n",
       "5168032    1651.20\n",
       "159502     1638.24\n",
       "5240674    1536.72\n",
       "5480674    1536.72\n",
       "920147     1464.00\n",
       "1220149    1462.56\n",
       "9779838    1450.00\n",
       "9849838    1450.00\n",
       "1099502    1420.56\n",
       "969502     1420.56\n",
       "9700146    1405.92\n",
       "120147     1405.92\n",
       "3728048    1391.22\n",
       "5589975    1318.80\n",
       "4348048    1310.40\n",
       "Name: (COST, mean), dtype: float64"
      ]
     },
     "execution_count": 25,
     "metadata": {},
     "output_type": "execute_result"
    }
   ],
   "source": [
    "# Get 20 most expensive items\n",
    "df_sku[('COST', 'mean')].sort_values(ascending = False).head(20)"
   ]
  },
  {
   "cell_type": "markdown",
   "id": "4b06efcb",
   "metadata": {},
   "source": [
    "#### Retail price"
   ]
  },
  {
   "cell_type": "code",
   "execution_count": 26,
   "id": "a04ad7d8",
   "metadata": {},
   "outputs": [
    {
     "data": {
      "text/plain": [
       "Text(0.5, 1.0, 'Distribution of mean retail price per sku')"
      ]
     },
     "execution_count": 26,
     "metadata": {},
     "output_type": "execute_result"
    },
    {
     "data": {
      "image/png": "[encoded data removed]",
      "text/plain": [
       "<Figure size 720x288 with 1 Axes>"
      ]
     },
     "metadata": {
      "needs_background": "light"
     },
     "output_type": "display_data"
    }
   ],
   "source": [
    "# Mean retail price distribution \n",
    "ax = df_sku[('RETAIL', 'mean')].plot.hist(bins = 100, log = True,\n",
    "                                       figsize = (10,4))\n",
    "\n",
    "# Customize axis \n",
    "plt.xlabel(\";ean retail price\")\n",
    "plt.title(\"Distribution of mean retail price per sku\")"
   ]
  },
  {
   "cell_type": "code",
   "execution_count": 27,
   "id": "e145a2db",
   "metadata": {},
   "outputs": [
    {
     "name": "stderr",
     "output_type": "stream",
     "text": [
      "/Users/alelli/opt/anaconda3/lib/python3.9/site-packages/pandas/core/arraylike.py:397: RuntimeWarning: divide by zero encountered in log\n",
      "  result = getattr(ufunc, method)(*inputs, **kwargs)\n"
     ]
    },
    {
     "data": {
      "image/png": "[encoded data removed]",
      "text/plain": [
       "<Figure size 432x288 with 1 Axes>"
      ]
     },
     "metadata": {
      "needs_background": "light"
     },
     "output_type": "display_data"
    }
   ],
   "source": [
    "# Box plot \n",
    "ax = sns.boxplot(x = np.log(df_sku[('RETAIL', 'mean')]))"
   ]
  },
  {
   "cell_type": "code",
   "execution_count": 28,
   "id": "0423a5b0",
   "metadata": {},
   "outputs": [
    {
     "data": {
      "text/plain": [
       "mean          55.272804\n",
       "median        23.333333\n",
       "std          127.715931\n",
       "max         6017.000000\n",
       "min            0.000000\n",
       "skew           8.791540\n",
       "kurtosis     141.580510\n",
       "Name: (RETAIL, mean), dtype: float64"
      ]
     },
     "execution_count": 28,
     "metadata": {},
     "output_type": "execute_result"
    }
   ],
   "source": [
    "# Statistics for mean retail price\n",
    "df_sku[('RETAIL', 'mean')].agg([np.mean,'median','std','max','min','skew', 'kurtosis']).transpose()"
   ]
  },
  {
   "cell_type": "code",
   "execution_count": 34,
   "id": "36194f5d",
   "metadata": {},
   "outputs": [
    {
     "data": {
      "text/plain": [
       "[<matplotlib.lines.Line2D at 0x7faa34a186a0>]"
      ]
     },
     "execution_count": 34,
     "metadata": {},
     "output_type": "execute_result"
    },
    {
     "data": {
      "image/png": "[encoded data removed]",
      "text/plain": [
       "<Figure size 432x288 with 1 Axes>"
      ]
     },
     "metadata": {
      "needs_background": "light"
     },
     "output_type": "display_data"
    }
   ],
   "source": [
    "ax = df_sku.plot.scatter(x=('COST', 'mean'),\n",
    "                      y=('RETAIL', 'mean'),\n",
    "                      c='DarkBlue')"
   ]
  },
  {
   "cell_type": "markdown",
   "id": "b9186828",
   "metadata": {},
   "source": [
    "#### Profit"
   ]
  },
  {
   "cell_type": "markdown",
   "id": "76d1561e",
   "metadata": {},
   "source": [
    "From the above histogram, we can see that there are 4 SKU whose retail price is much more higher than the others. Additionally, from the summary statistics and box plot, we see that there are many other outliers in the sample and that the distribution is skewed. This items might also correspond to luxury products or electronics in the store. However, given that the histogram for retail price has a heavier right tail, we can assume that many products have an inflated retail price. \n",
    "\n",
    "Lastly, lets calculate the profit for every SKU. "
   ]
  },
  {
   "cell_type": "code",
   "execution_count": 29,
   "id": "8e02ecf6",
   "metadata": {},
   "outputs": [
    {
     "data": {
      "text/plain": [
       "Text(0.5, 1.0, 'Distribution of mean profit per sku')"
      ]
     },
     "execution_count": 29,
     "metadata": {},
     "output_type": "execute_result"
    },
    {
     "data": {
      "image/png": "[encoded data removed]",
      "text/plain": [
       "<Figure size 720x288 with 1 Axes>"
      ]
     },
     "metadata": {
      "needs_background": "light"
     },
     "output_type": "display_data"
    }
   ],
   "source": [
    "df_sku['Profit'] = df_sku[('RETAIL', 'mean')]-df_sku[('COST', 'mean')]\n",
    "# Mean retail price distribution \n",
    "ax = df_sku['Profit'].plot.hist(bins = 100, log = True,\n",
    "                                       figsize = (10,4))\n",
    "# Customize axis \n",
    "plt.xlabel(\"Mean profit)\")\n",
    "plt.title(\"Distribution of mean profit per sku\")"
   ]
  },
  {
   "cell_type": "code",
   "execution_count": 30,
   "id": "2905b37a",
   "metadata": {},
   "outputs": [
    {
     "name": "stderr",
     "output_type": "stream",
     "text": [
      "/Users/alelli/opt/anaconda3/lib/python3.9/site-packages/pandas/core/arraylike.py:397: RuntimeWarning: divide by zero encountered in log\n",
      "  result = getattr(ufunc, method)(*inputs, **kwargs)\n",
      "/Users/alelli/opt/anaconda3/lib/python3.9/site-packages/pandas/core/arraylike.py:397: RuntimeWarning: invalid value encountered in log\n",
      "  result = getattr(ufunc, method)(*inputs, **kwargs)\n"
     ]
    },
    {
     "data": {
      "image/png": "[encoded data removed]",
      "text/plain": [
       "<Figure size 432x288 with 1 Axes>"
      ]
     },
     "metadata": {
      "needs_background": "light"
     },
     "output_type": "display_data"
    }
   ],
   "source": [
    "# Box plot \n",
    "ax = sns.boxplot(x = np.log(df_sku['Profit']))"
   ]
  },
  {
   "cell_type": "code",
   "execution_count": 31,
   "id": "34e89bf6",
   "metadata": {},
   "outputs": [
    {
     "data": {
      "text/plain": [
       "mean          20.019637\n",
       "median         4.294452\n",
       "std           77.545588\n",
       "max         3977.460000\n",
       "min         -710.320000\n",
       "skew           9.704653\n",
       "kurtosis     198.638493\n",
       "Name: Profit, dtype: float64"
      ]
     },
     "execution_count": 31,
     "metadata": {},
     "output_type": "execute_result"
    }
   ],
   "source": [
    "# Statistics for mean profit\n",
    "df_sku[('Profit')].agg([np.mean,'median','std','max','min','skew', 'kurtosis']).transpose()"
   ]
  },
  {
   "cell_type": "markdown",
   "id": "d0182246",
   "metadata": {},
   "source": [
    "From the above histogram, we can see that there SKU's for which the profit is huge, but also some for which the profit is negative; this is, the retail price was less than the cost and represent a loss for the company. This negative profits might be associated to those sku's with a zero retail price that we assume were donations/promotions. \n",
    "\n",
    "Additionally, from the summary statistics and box plot, we see that there are many other outliers in the sample and that the distribution is skewed. The mean revenue per sku is 20 dollars and 50 percent of the skus have a revenue of 4 dollars. "
   ]
  }
 ],
 "metadata": {
  "kernelspec": {
   "display_name": "Python 3 (ipykernel)",
   "language": "python",
   "name": "python3"
  },
  "language_info": {
   "codemirror_mode": {
    "name": "ipython",
    "version": 3
   },
   "file_extension": ".py",
   "mimetype": "text/x-python",
   "name": "python",
   "nbconvert_exporter": "python",
   "pygments_lexer": "ipython3",
   "version": "3.9.12"
  }
 },
 "nbformat": 4,
 "nbformat_minor": 5
}
